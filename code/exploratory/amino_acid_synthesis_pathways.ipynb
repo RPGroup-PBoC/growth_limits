{
 "cells": [
  {
   "cell_type": "markdown",
   "metadata": {},
   "source": [
    "# Exploring Rates of Amino Acid Biosynthesis"
   ]
  },
  {
   "cell_type": "code",
   "execution_count": 3,
   "metadata": {},
   "outputs": [],
   "source": [
    "import numpy as np\n",
    "import altair as alt \n",
    "import prot.viz\n",
    "import pythoncyc\n",
    "prot.viz.altair_theme()\n",
    "ecocyc = pythoncyc.select_organism('ECOLI')"
   ]
  },
  {
   "cell_type": "code",
   "execution_count": 38,
   "metadata": {},
   "outputs": [],
   "source": [
    "proteinogenic_aa = ecocyc['IND-AMINO-ACID-SYN'].instances"
   ]
  },
  {
   "cell_type": "code",
   "execution_count": 39,
   "metadata": {},
   "outputs": [
    {
     "output_type": "execute_result",
     "data": {
      "text/plain": "[{'frameid': '|ASPARAGINESYN-PWY|', '_isclass': False, '_gotframe': False, 'pgdb': <PGDB ECOLI, currently has 35 PFrames>},\n {'frameid': '|METSYN-PWY|', '_isclass': False, '_gotframe': False, 'pgdb': <PGDB ECOLI, currently has 35 PFrames>},\n {'frameid': '|ASPARAGINE-BIOSYNTHESIS|', '_isclass': False, '_gotframe': False, 'pgdb': <PGDB ECOLI, currently has 35 PFrames>},\n {'frameid': '|HOMOSER-METSYN-PWY|', '_isclass': False, '_gotframe': False, 'pgdb': <PGDB ECOLI, currently has 35 PFrames>},\n {'frameid': '|ILEUSYN-PWY|', '_isclass': False, '_gotframe': False, 'pgdb': <PGDB ECOLI, currently has 35 PFrames>},\n {'frameid': '|GLNSYN-PWY|', '_isclass': False, '_gotframe': False, 'pgdb': <PGDB ECOLI, currently has 35 PFrames>},\n {'frameid': '|TRPSYN-PWY|', '_isclass': False, '_gotframe': False, 'pgdb': <PGDB ECOLI, currently has 35 PFrames>},\n {'frameid': '|ASPARTATESYN-PWY|', '_isclass': False, '_gotframe': False, 'pgdb': <PGDB ECOLI, currently has 35 PFrames>},\n {'frameid': '|SERSYN-PWY|', '_isclass': False, '_gotframe': False, 'pgdb': <PGDB ECOLI, currently has 35 PFrames>},\n {'frameid': '|ALANINE-SYN2-PWY|', '_isclass': False, '_gotframe': False, 'pgdb': <PGDB ECOLI, currently has 35 PFrames>},\n {'frameid': '|ALANINE-VALINESYN-PWY|', '_isclass': False, '_gotframe': False, 'pgdb': <PGDB ECOLI, currently has 35 PFrames>},\n {'frameid': '|PWY0-1021|', '_isclass': False, '_gotframe': False, 'pgdb': <PGDB ECOLI, currently has 35 PFrames>},\n {'frameid': '|PHESYN|', '_isclass': False, '_gotframe': False, 'pgdb': <PGDB ECOLI, currently has 35 PFrames>},\n {'frameid': '|LEUSYN-PWY|', '_isclass': False, '_gotframe': False, 'pgdb': <PGDB ECOLI, currently has 35 PFrames>},\n {'frameid': '|GLYSYN-PWY|', '_isclass': False, '_gotframe': False, 'pgdb': <PGDB ECOLI, currently has 35 PFrames>},\n {'frameid': '|TYRSYN|', '_isclass': False, '_gotframe': False, 'pgdb': <PGDB ECOLI, currently has 35 PFrames>},\n {'frameid': '|CYSTSYN-PWY|', '_isclass': False, '_gotframe': False, 'pgdb': <PGDB ECOLI, currently has 35 PFrames>},\n {'frameid': '|PWY-7870|', '_isclass': False, '_gotframe': False, 'pgdb': <PGDB ECOLI, currently has 35 PFrames>},\n {'frameid': '|PWY0-901|', '_isclass': False, '_gotframe': False, 'pgdb': <PGDB ECOLI, currently has 35 PFrames>},\n {'frameid': '|PROSYN-PWY|', '_isclass': False, '_gotframe': False, 'pgdb': <PGDB ECOLI, currently has 35 PFrames>},\n {'frameid': '|THRESYN-PWY|', '_isclass': False, '_gotframe': False, 'pgdb': <PGDB ECOLI, currently has 35 PFrames>},\n {'frameid': '|PWY0-1061|', '_isclass': False, '_gotframe': False, 'pgdb': <PGDB ECOLI, currently has 35 PFrames>},\n {'frameid': '|PWY-6151|', '_isclass': False, '_gotframe': False, 'pgdb': <PGDB ECOLI, currently has 35 PFrames>},\n {'frameid': '|ARGSYN-PWY|', '_isclass': False, '_gotframe': False, 'pgdb': <PGDB ECOLI, currently has 35 PFrames>},\n {'frameid': '|DAPLYSINESYN-PWY|', '_isclass': False, '_gotframe': False, 'pgdb': <PGDB ECOLI, currently has 35 PFrames>},\n {'frameid': '|HISTSYN-PWY|', '_isclass': False, '_gotframe': False, 'pgdb': <PGDB ECOLI, currently has 35 PFrames>},\n {'frameid': '|VALSYN-PWY|', '_isclass': False, '_gotframe': False, 'pgdb': <PGDB ECOLI, currently has 35 PFrames>},\n {'frameid': '|GLUTSYN-PWY|', '_isclass': False, '_gotframe': False, 'pgdb': <PGDB ECOLI, currently has 35 PFrames>},\n {'frameid': '|GLUTSYNIII-PWY|', '_isclass': False, '_gotframe': False, 'pgdb': <PGDB ECOLI, currently has 35 PFrames>},\n {'frameid': '|PWY0-1325|', '_isclass': False, '_gotframe': False, 'pgdb': <PGDB ECOLI, currently has 35 PFrames>},\n {'frameid': '|HOMOSER-THRESYN-PWY|', '_isclass': False, '_gotframe': False, 'pgdb': <PGDB ECOLI, currently has 35 PFrames>}]"
     },
     "metadata": {},
     "execution_count": 39
    }
   ],
   "source": [
    "proteinogenic_aa"
   ]
  },
  {
   "cell_type": "code",
   "execution_count": 29,
   "metadata": {},
   "outputs": [
    {
     "output_type": "execute_result",
     "data": {
      "text/plain": "['|CPLX0-238|',\n '|ARGSUCCINLYA-MONOMER|',\n '|ORNCARBAMTRANSFERI-CPLX|',\n '|ORNCARBAMTRANSFERF-CPLX|',\n '|CARBPSYN-CPLX|',\n '|N-ACETYLTRANSFER-CPLX|',\n '|ACETYLGLUTKIN-CPLX|',\n '|N-ACETYLGLUTPREDUCT-MONOMER|',\n '|ACETYLORNTRANSAM-CPLX|',\n '|GABATRANSAM-CPLX|',\n '|ACETYLORNDEACET-CPLX|']"
     },
     "metadata": {},
     "execution_count": 29
    }
   ],
   "source": [
    "ecocyc.enzymes_of_pathway('ARGSYN-PWY')"
   ]
  },
  {
   "cell_type": "code",
   "execution_count": 27,
   "metadata": {},
   "outputs": [
    {
     "output_type": "execute_result",
     "data": {
      "text/plain": "[{'frameid': '|ASPARAGINESYN-PWY|', '_isclass': False, '_gotframe': False, 'pgdb': <PGDB ECOLI, currently has 33 PFrames>},\n {'frameid': '|METSYN-PWY|', '_isclass': False, '_gotframe': False, 'pgdb': <PGDB ECOLI, currently has 33 PFrames>},\n {'frameid': '|ASPARAGINE-BIOSYNTHESIS|', '_isclass': False, '_gotframe': False, 'pgdb': <PGDB ECOLI, currently has 33 PFrames>},\n {'frameid': '|HOMOSER-METSYN-PWY|', '_isclass': False, '_gotframe': False, 'pgdb': <PGDB ECOLI, currently has 33 PFrames>},\n {'frameid': '|ILEUSYN-PWY|', '_isclass': False, '_gotframe': False, 'pgdb': <PGDB ECOLI, currently has 33 PFrames>},\n {'frameid': '|GLNSYN-PWY|', '_isclass': False, '_gotframe': False, 'pgdb': <PGDB ECOLI, currently has 33 PFrames>},\n {'frameid': '|TRPSYN-PWY|', '_isclass': False, '_gotframe': False, 'pgdb': <PGDB ECOLI, currently has 33 PFrames>},\n {'frameid': '|ASPARTATESYN-PWY|', '_isclass': False, '_gotframe': False, 'pgdb': <PGDB ECOLI, currently has 33 PFrames>},\n {'frameid': '|SERSYN-PWY|', '_isclass': False, '_gotframe': False, 'pgdb': <PGDB ECOLI, currently has 33 PFrames>},\n {'frameid': '|ALANINE-SYN2-PWY|', '_isclass': False, '_gotframe': False, 'pgdb': <PGDB ECOLI, currently has 33 PFrames>},\n {'frameid': '|ALANINE-VALINESYN-PWY|', '_isclass': False, '_gotframe': False, 'pgdb': <PGDB ECOLI, currently has 33 PFrames>},\n {'frameid': '|PWY0-1021|', '_isclass': False, '_gotframe': False, 'pgdb': <PGDB ECOLI, currently has 33 PFrames>},\n {'frameid': '|PHESYN|', '_isclass': False, '_gotframe': False, 'pgdb': <PGDB ECOLI, currently has 33 PFrames>},\n {'frameid': '|LEUSYN-PWY|', '_isclass': False, '_gotframe': False, 'pgdb': <PGDB ECOLI, currently has 33 PFrames>},\n {'frameid': '|GLYSYN-PWY|', '_isclass': False, '_gotframe': False, 'pgdb': <PGDB ECOLI, currently has 33 PFrames>},\n {'frameid': '|TYRSYN|', '_isclass': False, '_gotframe': False, 'pgdb': <PGDB ECOLI, currently has 33 PFrames>},\n {'frameid': '|CYSTSYN-PWY|', '_isclass': False, '_gotframe': False, 'pgdb': <PGDB ECOLI, currently has 33 PFrames>},\n {'frameid': '|PWY-7870|', '_isclass': False, '_gotframe': False, 'pgdb': <PGDB ECOLI, currently has 33 PFrames>},\n {'frameid': '|PWY0-901|', '_isclass': False, '_gotframe': False, 'pgdb': <PGDB ECOLI, currently has 33 PFrames>},\n {'frameid': '|PROSYN-PWY|', '_isclass': False, '_gotframe': False, 'pgdb': <PGDB ECOLI, currently has 33 PFrames>},\n {'frameid': '|THRESYN-PWY|', '_isclass': False, '_gotframe': False, 'pgdb': <PGDB ECOLI, currently has 33 PFrames>},\n {'frameid': '|PWY0-1061|', '_isclass': False, '_gotframe': False, 'pgdb': <PGDB ECOLI, currently has 33 PFrames>},\n {'frameid': '|PWY-6151|', '_isclass': False, '_gotframe': False, 'pgdb': <PGDB ECOLI, currently has 33 PFrames>},\n {'frameid': '|ARGSYN-PWY|', '_isclass': False, '_gotframe': False, 'pgdb': <PGDB ECOLI, currently has 33 PFrames>},\n {'frameid': '|DAPLYSINESYN-PWY|', '_isclass': False, '_gotframe': False, 'pgdb': <PGDB ECOLI, currently has 33 PFrames>},\n {'frameid': '|HISTSYN-PWY|', '_isclass': False, '_gotframe': False, 'pgdb': <PGDB ECOLI, currently has 33 PFrames>},\n {'frameid': '|VALSYN-PWY|', '_isclass': False, '_gotframe': False, 'pgdb': <PGDB ECOLI, currently has 33 PFrames>},\n {'frameid': '|GLUTSYN-PWY|', '_isclass': False, '_gotframe': False, 'pgdb': <PGDB ECOLI, currently has 33 PFrames>},\n {'frameid': '|GLUTSYNIII-PWY|', '_isclass': False, '_gotframe': False, 'pgdb': <PGDB ECOLI, currently has 33 PFrames>},\n {'frameid': '|PWY0-1325|', '_isclass': False, '_gotframe': False, 'pgdb': <PGDB ECOLI, currently has 33 PFrames>},\n {'frameid': '|HOMOSER-THRESYN-PWY|', '_isclass': False, '_gotframe': False, 'pgdb': <PGDB ECOLI, currently has 33 PFrames>}]"
     },
     "metadata": {},
     "execution_count": 27
    }
   ],
   "source": [
    "ecocyc.reaction_reactants_and_products()"
   ]
  },
  {
   "cell_type": "code",
   "execution_count": 51,
   "metadata": {},
   "outputs": [],
   "source": [
    "tyr = ecocyc.pathway_components('SERSYN-PWY')[0][0]"
   ]
  },
  {
   "cell_type": "code",
   "execution_count": 56,
   "metadata": {},
   "outputs": [
    {
     "output_type": "display_data",
     "data": {
      "text/plain": "<IPython.core.display.HTML object>",
      "text/html": "<table><tr><td>comment</td><td>['The second step in serine biosynthesis.']</td></tr><tr><td>creation_date</td><td>2982703660</td></tr><tr><td>creator</td><td>|mriley|</td></tr><tr><td>ec_number</td><td>['|EC-2.6.1.52|']</td></tr><tr><td>enzymatic_reaction</td><td>['|PSERTRANSAM-ENZRXN|']</td></tr><tr><td>frameid</td><td>|PSERTRANSAM-RXN|</td></tr><tr><td>gibbs_0</td><td>0.07583618</td></tr><tr><td>in_pathway</td><td>['|SERSYN-PWY|']</td></tr><tr><td>key_slots</td><td>|COMMON-NAME|</td></tr><tr><td>left</td><td>['|3-P-SERINE|', '|2-KETOGLUTARATE|']</td></tr><tr><td>pgdb</td><td><PGDB ECOLI, currently has 39 PFrames></td></tr><tr><td>physiologically_relevant_p</td><td>[True]</td></tr><tr><td>reaction_balance_status</td><td>|BALANCED|</td></tr><tr><td>reaction_direction</td><td>|REVERSIBLE|</td></tr><tr><td>right</td><td>['|3-P-HYDROXYPYRUVATE|', '|GLT|']</td></tr><tr><td>schema_p</td><td>True</td></tr><tr><td>substrates</td><td>['|2-KETOGLUTARATE|', '|3-P-SERINE|', '|3-P-HYDROXYPYRUVATE|', '|GLT|']</td></tr><tr><td>synonym_slots</td><td>['|ABBREV-NAME|', '|SYNONYMS|']</td></tr></table>"
     },
     "metadata": {}
    }
   ],
   "source": [
    "ecocyc['PSERTRANSAM-RXN']"
   ]
  },
  {
   "cell_type": "code",
   "execution_count": null,
   "metadata": {},
   "outputs": [],
   "source": []
  }
 ],
 "metadata": {
  "language_info": {
   "codemirror_mode": {
    "name": "ipython",
    "version": 3
   },
   "file_extension": ".py",
   "mimetype": "text/x-python",
   "name": "python",
   "nbconvert_exporter": "python",
   "pygments_lexer": "ipython3",
   "version": 3
  },
  "orig_nbformat": 2,
  "kernelspec": {
   "name": "python3",
   "display_name": "Python 3"
  }
 },
 "nbformat": 4,
 "nbformat_minor": 2
}