{
 "cells": [
  {
   "cell_type": "code",
   "execution_count": 179,
   "metadata": {},
   "outputs": [],
   "source": [
    "import numpy as np\n",
    "import pandas as pd\n",
    "import glob\n",
    "\n",
    "\n",
    "import matplotlib.pyplot as plt\n",
    "import matplotlib as mpl\n",
    "import seaborn as sns\n",
    "\n",
    "%matplotlib inline\n",
    "\n",
    "\n",
    "rc = {'axes.facecolor': '#E3DCD1',\n",
    "      'font.family': 'Lucida Sans Unicode',\n",
    "      'grid.linestyle': '-',\n",
    "      'grid.linewidth': '0.75',\n",
    "      'grid.color': '#ffffff',\n",
    "      'mathtext.fontset': 'stixsans',\n",
    "      'mathtext.sf': 'sans',\n",
    "      'legend.frameon': True}\n",
    "plt.rc('text.latex', preamble=r'\\usepackage{sfmath}')\n",
    "plt.rc('mathtext', fontset='stixsans', sf='sans')\n",
    "sns.set_style('darkgrid', rc=rc)\n",
    "sns.set_palette(\"colorblind\", color_codes=True)\n",
    "sns.set(rc=rc)\n"
   ]
  },
  {
   "cell_type": "markdown",
   "metadata": {},
   "source": [
    "## Outline for notebook\n",
    "\n",
    "In this notebook we'll consider cell volume as a function of copy number. There seems to be some weirdness that needs to be figured out. Additional data from Radziikoski et al. 2017, Taheri-Araghi et al. 2015, and others (?). \n"
   ]
  }
 ],
 "metadata": {
  "kernelspec": {
   "display_name": "Python 3",
   "language": "python",
   "name": "python3"
  },
  "language_info": {
   "codemirror_mode": {
    "name": "ipython",
    "version": 3
   },
   "file_extension": ".py",
   "mimetype": "text/x-python",
   "name": "python",
   "nbconvert_exporter": "python",
   "pygments_lexer": "ipython3",
   "version": "3.6.9"
  }
 },
 "nbformat": 4,
 "nbformat_minor": 2
}
