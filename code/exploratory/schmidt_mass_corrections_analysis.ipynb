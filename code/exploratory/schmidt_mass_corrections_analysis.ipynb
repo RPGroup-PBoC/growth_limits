{
 "cells": [
  {
   "cell_type": "code",
   "execution_count": 1,
   "metadata": {},
   "outputs": [
    {
     "ename": "SyntaxError",
     "evalue": "invalid syntax (<ipython-input-1-28f9c4688346>, line 1)",
     "output_type": "error",
     "traceback": [
      "\u001b[0;36m  File \u001b[0;32m\"<ipython-input-1-28f9c4688346>\"\u001b[0;36m, line \u001b[0;32m1\u001b[0m\n\u001b[0;31m    (c) 2020 The Authors. All creative work is published under a [CC-BY 4.0](https://creativecommons.org/licenses/by/4.0/) permissive license. All software is released under a standard [MIT](https://opensource.org/licenses/MIT) license. **This software is provided as-is and may be subject to change.**\u001b[0m\n\u001b[0m           ^\u001b[0m\n\u001b[0;31mSyntaxError\u001b[0m\u001b[0;31m:\u001b[0m invalid syntax\n"
     ]
    }
   ],
   "source": []
  },
  {
   "cell_type": "markdown",
   "metadata": {},
   "source": [
    "# Schmidt et al. reported mass corrections\n",
    "(c) 2020 The Authors. All creative work is published under a [CC-BY 4.0](https://creativecommons.org/licenses/by/4.0/) permissive license. All software is released under a standard [MIT](https://opensource.org/licenses/MIT) license. **This software is provided as-is and may be subject to change.**\n",
    "\n",
    "In this notebook we look into one of the corrections that was applied by Schmidt *et al* in order to arrive at reasonable values of protein mass and copy numbers per cell. Specifically, in their work there was concern over the quality of using BCA as a reliable measure of total protein mass per cell. Indeed, their BCA measurements are rather noisy [provided to us by Alexander Schmidt via personal communication], and do not show a clear trend in total protein mass as a function of growth rate that might otherwise have been expected. We will show this below. To enable them to report somewhat more reasonable estimates of each protein across the growth conditions they invoked an assumption that the cellular protein concentration is relatively constant as a function of growth rate. There are two aspects to this that we want to consider more closely: 1) there is an apparent discrepency in the reported cell volumes that were used and the expected volumes based on work from the labs of people like Suckjoon Jun and Terence Hwa. 2) Whether the assumption that protein concentration is constant is indeed valid at high growth rates where ribosomal content and hence rRNA abundance is much higher. \n",
    "\n",
    "\n",
    "- I have been using the cell volumes predicted from the work using a mother machine. However, there does appear to be a notable difference in the volume predictions between this study and the later one using a turbidostat. Whether it is real or an experimental uncertainty is unclear and I’m tempted to either assume the ‘bulk’ measurement using a turbidostat is the correct one to consider for all the Schmidt data (or alternatively take an average). \n",
    "- First , it would be useful to plot the ‘raw’ total mass as a function of growth rate\n",
    "- Then plot the corrected mass using the volumes from Heinamann, mother machine predictions, and turbidostat.\n",
    "- Then, we can relax assumption that protein concentration is constant. Here I need to take care with my predictions on how protein mass and fraction of mass that is protein might increase with cell size. \n",
    "\n",
    "## Load in the data"
   ]
  },
  {
   "cell_type": "code",
   "execution_count": null,
   "metadata": {},
   "outputs": [],
   "source": []
  },
  {
   "cell_type": "code",
   "execution_count": null,
   "metadata": {},
   "outputs": [],
   "source": []
  }
 ],
 "metadata": {
  "kernelspec": {
   "display_name": "Python 3",
   "language": "python",
   "name": "python3"
  },
  "language_info": {
   "codemirror_mode": {
    "name": "ipython",
    "version": 3
   },
   "file_extension": ".py",
   "mimetype": "text/x-python",
   "name": "python",
   "nbconvert_exporter": "python",
   "pygments_lexer": "ipython3",
   "version": "3.7.6"
  }
 },
 "nbformat": 4,
 "nbformat_minor": 4
}
