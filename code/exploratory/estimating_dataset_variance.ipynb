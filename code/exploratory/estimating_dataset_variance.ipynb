{
 "cells": [
  {
   "cell_type": "markdown",
   "metadata": {},
   "source": [
    "# Exploring Variance in Measurement Between Data Sets"
   ]
  },
  {
   "cell_type": "code",
   "execution_count": 1,
   "metadata": {},
   "outputs": [],
   "source": [
    "import numpy as np\n",
    "import pandas as pd \n",
    "import altair as alt\n",
    "import prot.viz\n",
    "colors = prot.viz.plotting_style()\n",
    "prot.viz.altair_theme()\n"
   ]
  },
  {
   "cell_type": "markdown",
   "metadata": {},
   "source": [
    "In this notebook, I will compare and contrast the variance in observed copy numbers across the different data sets to assess a measure of uncertainty in the direct protein abundance measurements. "
   ]
  },
  {
   "cell_type": "markdown",
   "metadata": {},
   "source": []
  },
  {
   "cell_type": "code",
   "execution_count": 4,
   "metadata": {},
   "outputs": [],
   "source": [
    "# Load the compiled complex number data sets and restrict to moderate growth rates. \n",
    "data = pd.read_csv('../../data/compiled_annotated_complexes.csv', comment='#')\n",
    "glucose = data[(data['growth_rate_hr'] >= 0.45) & (data['growth_rate_hr'] <= 0.55)]\n",
    "# Group by complex and compute mean for each dataset.\n",
    "glucose = glucose.groupby(['complex', 'dataset', 'complex_annotation'])['n_units'].mean().reset_index()\n",
    "\n",
    "# Summarize\n",
    "glucose = glucose.groupby(['complex_annotation'])['n_units'].agg(('mean', 'std')).reset_index()\n",
    "glucose.dropna(inplace=True)\n",
    "glucose['noise'] = glucose['std'].values / glucose['mean'].values"
   ]
  },
  {
   "cell_type": "code",
   "execution_count": 5,
   "metadata": {},
   "outputs": [
    {
     "output_type": "execute_result",
     "data": {
      "application/vnd.vegalite.v3+json": {
       "config": {
        "background": "white",
        "group": {
         "fill": "#E3DCD0"
        },
        "view": {
         "strokeWidth": 0,
         "height": 300,
         "width": 400,
         "fill": "#E3DCD0"
        },
        "mark": {
         "strokeWidth": 0.5,
         "stroke": "black"
        },
        "axis": {
         "domainColor": null,
         "labelFont": "Lucida Sans",
         "titleFont": "Lucida Sans",
         "titleFontWeight": 400,
         "grid": false,
         "ticks": true,
         "tickColor": "white",
         "tickOffset": 8,
         "tickWidth": 1.5
        },
        "range": {
         "category": [
          "#D56C55",
          "#738FC1",
          "#7AA974",
          "#AB85AC",
          "#7E9D90",
          "#905426",
          "#EAC264"
         ]
        },
        "legend": {
         "labelFont": "Lucida Sans",
         "titleFont": "Lucida Sans",
         "titleFontWeight": 400
        },
        "title": {
         "font": "Lucida Sans",
         "fontWeight": 400,
         "anchor": "middle"
        }
       },
       "data": {
        "name": "data-c7907fce954221f2649b6a296e876ab3"
       },
       "mark": {
        "type": "point",
        "size": 10
       },
       "encoding": {
        "x": {
         "type": "quantitative",
         "field": "mean",
         "scale": {
          "type": "log"
         }
        },
        "y": {
         "type": "quantitative",
         "field": "noise",
         "scale": {
          "type": "log"
         }
        }
       },
       "$schema": "https://vega.github.io/schema/vega-lite/v3.4.0.json",
       "datasets": {
        "data-c7907fce954221f2649b6a296e876ab3": [
         {
          "complex_annotation": "&alpha;-ketoglutarate:H+ symporter",
          "mean": 203.6289547529925,
          "std": 44.14950738459189,
          "noise": 0.21681350492687276
         },
         {
          "complex_annotation": "&alpha;2-macroglobulin",
          "mean": 37.22341034626715,
          "std": 18.174129954296298,
          "noise": 0.48824462308083066
         },
         {
          "complex_annotation": "&beta; sliding clamp",
          "mean": 234.21847982461,
          "std": 111.49513437865738,
          "noise": 0.47603047574276963
         },
         {
          "complex_annotation": "&beta;-1,6-galactofuranosyltransferase WbbI",
          "mean": 567.1386463607463,
          "std": 229.5492698666165,
          "noise": 0.40474982852888586
         },
         {
          "complex_annotation": "&beta;-D-glucoside glucohydrolase, periplasmic",
          "mean": 216.7175653848088,
          "std": 112.78779500105209,
          "noise": 0.5204367943169877
         },
         {
          "complex_annotation": "&beta;-N-acetylhexosaminidase",
          "mean": 115.76736713925101,
          "std": 73.22085098689718,
          "noise": 0.6324826485759439
         },
         {
          "complex_annotation": "&beta;-barrel assembly-enhancing protease",
          "mean": 208.4390383122571,
          "std": 79.17634598148358,
          "noise": 0.37985372904509157
         },
         {
          "complex_annotation": "&beta;-hydroxyacyl-acyl carrier protein dehydratase/isomerase",
          "mean": 4506.321093015192,
          "std": 3699.535942914704,
          "noise": 0.8209658980246644
         },
         {
          "complex_annotation": "&beta;-ketoacyl-[acyl carrier protein] synthase I",
          "mean": 4779.9629260625115,
          "std": 2322.1952766939908,
          "noise": 0.48581867947810553
         },
         {
          "complex_annotation": "&beta;-ketoacyl-[acyl carrier protein] synthase II",
          "mean": 769.2555911587712,
          "std": 327.4693204887827,
          "noise": 0.4256963800490524
         },
         {
          "complex_annotation": "&beta;-ketoacyl-[acyl carrier protein] synthase III",
          "mean": 900.1907429100196,
          "std": 500.38477878895225,
          "noise": 0.5558652793644304
         },
         {
          "complex_annotation": "&gamma;-aminobutyraldehyde dehydrogenase",
          "mean": 149.24753457491244,
          "std": 81.74059401946047,
          "noise": 0.547684718895186
         },
         {
          "complex_annotation": "&gamma;-glutamyl-&gamma;-aminobutyraldehyde dehydrogenase",
          "mean": 177.22676558988252,
          "std": 8.00552339196784,
          "noise": 0.0451710742749393
         },
         {
          "complex_annotation": "&gamma;-glutamylamine cyclotransferase family protein YtfP",
          "mean": 601.1474498569148,
          "std": 224.3029383813629,
          "noise": 0.37312466090432805
         },
         {
          "complex_annotation": "(<em>E</em>)-4-hydroxy-3-methylbut-2-enyl-diphosphate synthase (flavodoxin)",
          "mean": 507.5022017323541,
          "std": 153.9518314232276,
          "noise": 0.30335204635115753
         },
         {
          "complex_annotation": "1,4-dihydroxy-2-naphthoyl-CoA hydrolase",
          "mean": 105.77194736878494,
          "std": 93.61830080695671,
          "noise": 0.8850957473681252
         },
         {
          "complex_annotation": "1,4-dihydroxy-2-naphthoyl-CoA synthase",
          "mean": 150.5960832622423,
          "std": 128.30211567157954,
          "noise": 0.8519618365383322
         },
         {
          "complex_annotation": "1-deoxy-D-xylulose 5-phosphate:thiol sulfurtransferase",
          "mean": 1448.6616690857318,
          "std": 503.0570326190576,
          "noise": 0.34725639764910954
         },
         {
          "complex_annotation": "1-deoxy-D-xylulose-5-phosphate synthase",
          "mean": 87.83154764067392,
          "std": 33.782227555686426,
          "noise": 0.3846252111358927
         },
         {
          "complex_annotation": "1-deoxyxylulose-5-phosphate synthase YajO",
          "mean": 424.47782523390725,
          "std": 292.4868468665017,
          "noise": 0.6890509456067055
         },
         {
          "complex_annotation": "1-hydroxy-2-methyl-2-(E)-butenyl 4-diphosphate reductase",
          "mean": 108.24914506504008,
          "std": 56.62203054235509,
          "noise": 0.5230713878463842
         },
         {
          "complex_annotation": "1-phosphofructokinase",
          "mean": 73.97804585457267,
          "std": 46.34595252172941,
          "noise": 0.6264825190548705
         },
         {
          "complex_annotation": "10-formyltetrahydrofolate:L-methionyl-tRNAfMet N-formyltransferase",
          "mean": 540.1746068269644,
          "std": 185.495865788149,
          "noise": 0.3433998256189214
         },
         {
          "complex_annotation": "16S rRNA 2'-<i>O</i>-ribose C1402 methyltransferase",
          "mean": 84.51529548558625,
          "std": 49.80033198037244,
          "noise": 0.589246380720111
         },
         {
          "complex_annotation": "16S rRNA m2G1207 methyltransferase",
          "mean": 322.18941153397543,
          "std": 101.04320115211767,
          "noise": 0.31361428257695084
         },
         {
          "complex_annotation": "16S rRNA m5C967 methyltransferase",
          "mean": 107.06109829587776,
          "std": 85.8218864413445,
          "noise": 0.8016159726305456
         },
         {
          "complex_annotation": "16S rRNA m62A1518,m62A1519 dimethyltransferase",
          "mean": 315.9568399309634,
          "std": 253.614363245434,
          "noise": 0.8026867318360595
         },
         {
          "complex_annotation": "16S rRNA m7G527 methyltransferase",
          "mean": 219.6043470769768,
          "std": 101.27591977068946,
          "noise": 0.46117447636494063
         },
         {
          "complex_annotation": "16S rRNA m<sup>4</sup>C1402 methyltransferase",
          "mean": 129.80613600071672,
          "std": 52.17091205778914,
          "noise": 0.4019140671246934
         },
         {
          "complex_annotation": "16S rRNA pseudouridine516 synthase",
          "mean": 731.507416081139,
          "std": 446.24478099905355,
          "noise": 0.6100345275919334
         },
         {
          "complex_annotation": "2'-<i>O</i>-acetyl-ADP-ribose deacetylase, regulator of RNase III activity",
          "mean": 104.64170979062578,
          "std": 78.3183921256376,
          "noise": 0.7484433528689692
         },
         {
          "complex_annotation": "2'3' cyclic nucleotide phosphodiesterase/3' nucleotidase",
          "mean": 219.95613898140573,
          "std": 37.86528622581635,
          "noise": 0.17214925848929064
         },
         {
          "complex_annotation": "2,3-bisphosphoglycerate-dependent phosphoglycerate mutase",
          "mean": 5029.409306575239,
          "std": 1673.1542321761963,
          "noise": 0.33267410349537163
         },
         {
          "complex_annotation": "2,3-bisphosphoglycerate-independent phosphoglycerate mutase",
          "mean": 2547.4931339681402,
          "std": 2465.0452733335746,
          "noise": 0.9676356887737163
         },
         {
          "complex_annotation": "2-<i>C</i>-methyl-D-erythritol 2,4-cyclodiphosphate synthase",
          "mean": 402.6085432162148,
          "std": 117.81142722156822,
          "noise": 0.29262028639640514
         },
         {
          "complex_annotation": "2-amino-3-ketobutyrate CoA ligase",
          "mean": 34.53626295940024,
          "std": 24.329317505688497,
          "noise": 0.7044571537542811
         },
         {
          "complex_annotation": "2-amino-6-<i>N</i>-hydroxylaminopurine resistance protein",
          "mean": 147.85929051069652,
          "std": 168.03126680220322,
          "noise": 1.1364268435337002
         },
         {
          "complex_annotation": "2-dehydro-3-deoxygluconokinase",
          "mean": 238.1056665232048,
          "std": 223.26954683474793,
          "noise": 0.9376910264039809
         },
         {
          "complex_annotation": "2-hydroxycyclohepta-1,4,6-triene-1-carboxyl-CoA thioesterase",
          "mean": 12.00624689577346,
          "std": 10.073049012947648,
          "noise": 0.8389839972800865
         },
         {
          "complex_annotation": "2-isopropylmalate synthase",
          "mean": 3879.9496249712597,
          "std": 971.8216429074095,
          "noise": 0.2504727475462025
         },
         {
          "complex_annotation": "2-methylcitrate synthase",
          "mean": 116.67779934540334,
          "std": 90.13400881328859,
          "noise": 0.7725035038282072
         },
         {
          "complex_annotation": "2-oxoglutarate decarboxylase, thiamine-requiring",
          "mean": 339.6330862771078,
          "std": 111.78985878313988,
          "noise": 0.32914890598123336
         },
         {
          "complex_annotation": "2-oxoglutarate dehydrogenase complex",
          "mean": 2768.16616258188,
          "std": 534.6253270454962,
          "noise": 0.1931333943287743
         },
         {
          "complex_annotation": "23S rRNA 2'-<i>O</i>-ribose G2251 methyltransferase",
          "mean": 93.68499241595323,
          "std": 77.5105845530444,
          "noise": 0.8273532670943082
         },
         {
          "complex_annotation": "23S rRNA 2'-O-ribose C2498 methyltransferase",
          "mean": 78.38167253777377,
          "std": 17.130455784689477,
          "noise": 0.21855180209932307
         },
         {
          "complex_annotation": "23S rRNA 2'-O-ribose U2552 methyltransferase",
          "mean": 220.45628580087003,
          "std": 51.15140139810562,
          "noise": 0.23202514372535868
         },
         {
          "complex_annotation": "23S rRNA m2A2503 methyltransferase/tRNA m2A37 methyltransferase",
          "mean": 220.34384607673428,
          "std": 67.15661714694178,
          "noise": 0.304780997258052
         },
         {
          "complex_annotation": "23S rRNA m6A1618 methyltransferase",
          "mean": 20.51049890965642,
          "std": 4.060131405800821,
          "noise": 0.1979538100796415
         },
         {
          "complex_annotation": "23S rRNA m<sup>5</sup>C1962 methyltransferase",
          "mean": 71.5171106305108,
          "std": 18.363785730888825,
          "noise": 0.2567747154350839
         },
         {
          "complex_annotation": "23S rRNA pseudouridine1911/1915/1917 synthase",
          "mean": 302.58233499553677,
          "std": 120.08409466641653,
          "noise": 0.3968641945610864
         },
         {
          "complex_annotation": "23S rRNA pseudouridine2605 synthase",
          "mean": 246.26811660262976,
          "std": 137.40300162897566,
          "noise": 0.557940684829635
         },
         {
          "complex_annotation": "23S rRNA pseudouridine955/2504/2580 synthase",
          "mean": 97.51426460348375,
          "std": 20.305534497572665,
          "noise": 0.20823142727004926
         },
         {
          "complex_annotation": "3,4-dihydroxy-2-butanone-4-phosphate synthase",
          "mean": 135.45572307295774,
          "std": 79.56056002847686,
          "noise": 0.5873547327758517
         },
         {
          "complex_annotation": "3-dehydroquinate dehydratase",
          "mean": 201.56666149106061,
          "std": 104.58501757756082,
          "noise": 0.5188606925565372
         },
         {
          "complex_annotation": "3-deoxy-7-phosphoheptulonate synthase",
          "mean": 784.6527953907498,
          "std": 597.9723967204707,
          "noise": 0.7620853455606259
         },
         {
          "complex_annotation": "3-deoxy-7-phosphoheptulonate synthase, Trp-sensitive",
          "mean": 180.61250056092638,
          "std": 7.7912877554521565,
          "noise": 0.04313814232821557
         },
         {
          "complex_annotation": "3-deoxy-D-<i>manno</i>-octulosonate 8-phosphate phosphatase KdsC",
          "mean": 78.65479945070082,
          "std": 42.055648499698975,
          "noise": 0.5346863610790664
         },
         {
          "complex_annotation": "3-deoxy-D-<i>manno</i>-octulosonate 8-phosphate synthase",
          "mean": 906.0417894691712,
          "std": 229.142199292152,
          "noise": 0.25290466947048995
         },
         {
          "complex_annotation": "3-deoxy-manno-octulosonate cytidylyltransferase",
          "mean": 536.773957645015,
          "std": 269.6766143870714,
          "noise": 0.5024025673119872
         },
         {
          "complex_annotation": "3-hydroxy acid dehydrogenase",
          "mean": 686.7552459764498,
          "std": 383.93111462502003,
          "noise": 0.5590508654639178
         },
         {
          "complex_annotation": "3-hydroxy-2,4-pentadione 5-phosphate thiolase",
          "mean": 9.706288309497598,
          "std": 0.7728047496498522,
          "noise": 0.07961897741010467
         },
         {
          "complex_annotation": "3-hydroxy-acyl-[acyl-carrier-protein] dehydratase",
          "mean": 829.6716490579784,
          "std": 417.31701743858747,
          "noise": 0.5029905721286433
         },
         {
          "complex_annotation": "3-isopropylmalate dehydratase",
          "mean": 5619.931150281623,
          "std": 3303.2380823713543,
          "noise": 0.5877719840403782
         },
         {
          "complex_annotation": "3-isopropylmalate dehydrogenase",
          "mean": 2485.668587277625,
          "std": 930.8490227508128,
          "noise": 0.3744863766292775
         },
         {
          "complex_annotation": "3-mercaptopyruvate sulfurtransferase",
          "mean": 789.907680448904,
          "std": 433.00451524150094,
          "noise": 0.5481710406910144
         },
         {
          "complex_annotation": "3-methyl-2-oxobutanoate hydroxymethyltransferase",
          "mean": 244.3775070562207,
          "std": 117.80416735585088,
          "noise": 0.4820581434638714
         },
         {
          "complex_annotation": "3-octaprenyl-4-hydroxybenzoate decarboxylase",
          "mean": 36.94435935177728,
          "std": 16.28543686860211,
          "noise": 0.4408098327957246
         },
         {
          "complex_annotation": "3-oxoacyl-[acyl-carrier-protein] reductase FabG",
          "mean": 881.1036780366067,
          "std": 328.70194806635266,
          "noise": 0.3730570604344887
         },
         {
          "complex_annotation": "30S ribosomal subunit",
          "mean": 22964.040365810546,
          "std": 5294.864024054731,
          "noise": 0.2305719699020326
         },
         {
          "complex_annotation": "30S ribosomal subunit biogenesis factor LepA",
          "mean": 870.8569468790912,
          "std": 482.06218038091674,
          "noise": 0.5535492162156981
         },
         {
          "complex_annotation": "30S ribosomal subunit maturation GTPase Era",
          "mean": 87.98741201421755,
          "std": 59.73173855325384,
          "noise": 0.6788668649965749
         },
         {
          "complex_annotation": "30S ribosome binding factor",
          "mean": 1727.146190048983,
          "std": 546.8820904260343,
          "noise": 0.31663914356347816
         },
         {
          "complex_annotation": "4-&alpha;-glucanotransferase",
          "mean": 57.83806984986293,
          "std": 4.183884844299306,
          "noise": 0.07233790572818054
         },
         {
          "complex_annotation": "4-aminobutyrate aminotransferase GabT",
          "mean": 579.3137006058187,
          "std": 199.72693856435504,
          "noise": 0.3447647420654649
         },
         {
          "complex_annotation": "4-hydroxy-tetrahydrodipicolinate reductase",
          "mean": 363.5858016720255,
          "std": 196.32672345547613,
          "noise": 0.5399735703446794
         },
         {
          "complex_annotation": "4-hydroxy-tetrahydrodipicolinate synthase",
          "mean": 569.6651797470178,
          "std": 324.38694215562106,
          "noise": 0.5694343865280266
         },
         {
          "complex_annotation": "5'-methylthioadenosine/<i>S</i>-adenosylhomocysteine nucleosidase",
          "mean": 718.6451564161598,
          "std": 516.9455151219545,
          "noise": 0.7193334714728068
         },
         {
          "complex_annotation": "5'-nucleotidase / UDP-sugar hydrolase",
          "mean": 437.4056507754028,
          "std": 285.39482569164306,
          "noise": 0.6524717391869873
         },
         {
          "complex_annotation": "5,10-methylenetetrahydrofolate reductase",
          "mean": 629.4634266644385,
          "std": 287.9379749902158,
          "noise": 0.45743400298253234
         },
         {
          "complex_annotation": "5-(carboxyamino)imidazole ribonucleotide synthase",
          "mean": 68.86665099776262,
          "std": 45.98588560555779,
          "noise": 0.6677526050606383
         },
         {
          "complex_annotation": "5-amino-6-(5-phospho-D-ribitylamino)uracil phosphatase",
          "mean": 73.77678849941579,
          "std": 46.11209163577238,
          "noise": 0.6250216710929011
         },
         {
          "complex_annotation": "5-carboxymethylaminomethyluridine-tRNA synthase",
          "mean": 58.21785640310575,
          "std": 31.799440504076443,
          "noise": 0.5462145545843223
         },
         {
          "complex_annotation": "5-carboxymethylaminomethyluridine-tRNA synthase GTPase subunit",
          "mean": 71.28791920359245,
          "std": 50.93831589802402,
          "noise": 0.7145434523421615
         },
         {
          "complex_annotation": "5-carboxymethylaminomethyluridine-tRNA synthase subunit MnmG",
          "mean": 31.560719862513675,
          "std": 12.008027009184966,
          "noise": 0.3804737997578924
         },
         {
          "complex_annotation": "5-oxoprolinase",
          "mean": 87.87375989578331,
          "std": 55.210312769471535,
          "noise": 0.6282912309084073
         },
         {
          "complex_annotation": "50S ribosomal protein complex L8",
          "mean": 21427.12411455058,
          "std": 3207.288421493245,
          "noise": 0.14968356949569644
         },
         {
          "complex_annotation": "50S ribosomal subunit",
          "mean": 20587.962057160064,
          "std": 5713.325057415985,
          "noise": 0.2775080428822244
         },
         {
          "complex_annotation": "50S ribosomal subunit protein L3 N5-glutamine methyltransferase",
          "mean": 685.0085691510085,
          "std": 334.61221590636944,
          "noise": 0.48847887599579065
         },
         {
          "complex_annotation": "50S ribosomal subunit protein L7/L12 dimer",
          "mean": 27038.79870176545,
          "std": 6398.221055003506,
          "noise": 0.2366311138884194
         },
         {
          "complex_annotation": "50S ribosomal subunit stability factor",
          "mean": 471.516550331764,
          "std": 360.85727565119464,
          "noise": 0.7653120031466375
         },
         {
          "complex_annotation": "6-N-hydroxylaminopurine resistance protein",
          "mean": 137.66676865230303,
          "std": 86.87103545274284,
          "noise": 0.6310240031285108
         },
         {
          "complex_annotation": "6-carboxy-5,6,7,8-tetrahydropterin synthase",
          "mean": 19.756270299100557,
          "std": 11.23722939783259,
          "noise": 0.5687930579864655
         },
         {
          "complex_annotation": "6-phospho-&beta;-glucosidase A",
          "mean": 619.8061403035855,
          "std": 545.3364853027722,
          "noise": 0.8798500851180056
         },
         {
          "complex_annotation": "6-phosphofructokinase 1",
          "mean": 566.238141097455,
          "std": 296.5858861646785,
          "noise": 0.5237829539173223
         },
         {
          "complex_annotation": "6-phosphofructokinase 2",
          "mean": 420.8043869849514,
          "std": 279.01518452852446,
          "noise": 0.6630519860490486
         },
         {
          "complex_annotation": "6-phosphogluconate dehydrogenase, decarboxylating",
          "mean": 6609.62140318349,
          "std": 2745.577211359914,
          "noise": 0.4153909950178873
         },
         {
          "complex_annotation": "6PGLUCONOLACT-MONOMER",
          "mean": 2142.9373559881055,
          "std": 1301.230983886425,
          "noise": 0.6072183959322643
         },
         {
          "complex_annotation": "7-&alpha;-hydroxysteroid dehydrogenase",
          "mean": 207.1064324623354,
          "std": 171.64868630676125,
          "noise": 0.8287945684061623
         },
         {
          "complex_annotation": "7-cyano-7-deazaguanine reductase",
          "mean": 48.05043874854916,
          "std": 20.66976052325545,
          "noise": 0.4301679872565067
         },
         {
          "complex_annotation": "7-cyano-7-deazaguanine synthase",
          "mean": 324.80448034447255,
          "std": 247.21635102882522,
          "noise": 0.76112358661629
         },
         {
          "complex_annotation": "<I>Eco</I>KI restriction-modification system",
          "mean": 44.66852269720951,
          "std": 17.73713998101466,
          "noise": 0.39708364884256
         },
         {
          "complex_annotation": "<I>N,N'</I>-diacetylchitobiose-specific PTS enzyme II",
          "mean": 416.8004545372266,
          "std": 296.135216231092,
          "noise": 0.7104963850384732
         },
         {
          "complex_annotation": "<i>N</i>-acetyl-&beta;-neuraminate lyase",
          "mean": 25.902281579504542,
          "std": 5.063734741265059,
          "noise": 0.19549377245870855
         },
         {
          "complex_annotation": "<i>N</i>-acetylglucosamine-6-phosphate deacetylase",
          "mean": 65.71798652984432,
          "std": 67.24393877891723,
          "noise": 1.0232197048273828
         },
         {
          "complex_annotation": "<i>N</i>-acetylmuramic acid 6-phosphate etherase",
          "mean": 38.17814738927883,
          "std": 0.14728108695551553,
          "noise": 0.0038577326828822226
         },
         {
          "complex_annotation": "<i>N</i>-acetylornithine aminotransferase / <i>N</i>-succinyldiaminopimelate aminotransferase",
          "mean": 1302.337086374409,
          "std": 732.0295666823673,
          "noise": 0.5620891659626102
         },
         {
          "complex_annotation": "<i>O</i>-succinylhomoserine(thiol)-lyase",
          "mean": 228.85014752387497,
          "std": 131.10867578717546,
          "noise": 0.5729018626631973
         },
         {
          "complex_annotation": "<i>S</i>-(hydroxymethyl)glutathione dehydrogenase",
          "mean": 3777.326349084167,
          "std": 1668.4730811685945,
          "noise": 0.44170742132808427
         },
         {
          "complex_annotation": "<i>S</i>-formylglutathione hydrolase",
          "mean": 74.73836671658312,
          "std": 56.65605303902129,
          "noise": 0.7580584849260603
         },
         {
          "complex_annotation": "<i>all-trans</i>-octaprenyl-diphosphate synthase",
          "mean": 121.43827974350806,
          "std": 151.1694656390021,
          "noise": 1.244825486315269
         },
         {
          "complex_annotation": "<i>sn</i>-glycerol 3-phosphate / glycerophosphodiester ABC transporter",
          "mean": 283.4314753452599,
          "std": 215.22745143374016,
          "noise": 0.7593632682169913
         },
         {
          "complex_annotation": "ABC family protein ModF",
          "mean": 113.78748551476876,
          "std": 61.15624096465096,
          "noise": 0.5374601669769155
         },
         {
          "complex_annotation": "ABC-type tripartite efflux pump",
          "mean": 546.6805573498159,
          "std": 398.5337683537253,
          "noise": 0.7290066621094541
         },
         {
          "complex_annotation": "ADP-L-glycero-D-mannoheptose 6-epimerase",
          "mean": 607.4722758093725,
          "std": 239.32444527633533,
          "noise": 0.39396768347570876
         },
         {
          "complex_annotation": "ADP-sugar pyrophosphatase",
          "mean": 93.6558809254221,
          "std": 50.15459489078334,
          "noise": 0.5355199737080184
         },
         {
          "complex_annotation": "ALPHA-AMYL-CYTO-MONOMER",
          "mean": 138.66725229514873,
          "std": 36.78638864470607,
          "noise": 0.26528533619752875
         },
         {
          "complex_annotation": "AMP nucleosidase",
          "mean": 52.52455151472697,
          "std": 24.79638218313665,
          "noise": 0.47209126909316257
         },
         {
          "complex_annotation": "ARGSUCCINLYA-MONOMER",
          "mean": 1421.890339931081,
          "std": 520.7830117421684,
          "noise": 0.3662610238757306
         },
         {
          "complex_annotation": "AROA-MONOMER",
          "mean": 982.6072173902448,
          "std": 491.5527186874524,
          "noise": 0.5002535194001441
         },
         {
          "complex_annotation": "AROB-MONOMER",
          "mean": 422.48118948085215,
          "std": 200.9535567053062,
          "noise": 0.475650896912687
         },
         {
          "complex_annotation": "AROE-MONOMER",
          "mean": 154.35460606376077,
          "std": 90.25290689394481,
          "noise": 0.5847114588641634
         },
         {
          "complex_annotation": "ATP phosphoribosyltransferase",
          "mean": 1423.456264579612,
          "std": 714.2089980202157,
          "noise": 0.5017428464731527
         },
         {
          "complex_annotation": "ATP synthase",
          "mean": 4994.232171959219,
          "std": 395.1578579842436,
          "noise": 0.07912284498964825
         },
         {
          "complex_annotation": "ATP synthase F<sub>0</sub> complex",
          "mean": 2107.654109157615,
          "std": 149.25331157575116,
          "noise": 0.0708148983873851
         },
         {
          "complex_annotation": "ATP synthase F<sub>0</sub> complex - subunit b",
          "mean": 3842.78889491934,
          "std": 1698.1072510460533,
          "noise": 0.44189449316124785
         },
         {
          "complex_annotation": "ATP synthase F<sub>0</sub> complex - subunit c",
          "mean": 324.849957450008,
          "std": 417.2156073625984,
          "noise": 1.2843332676957633
         },
         {
          "complex_annotation": "ATP synthase F<sub>1</sub> complex",
          "mean": 6268.984408455833,
          "std": 184.20999370761072,
          "noise": 0.029384343891355292
         },
         {
          "complex_annotation": "ATP synthase F<sub>1</sub> complex subunit &alpha;",
          "mean": 5866.177708515312,
          "std": 1861.8981563512964,
          "noise": 0.3173954572921606
         },
         {
          "complex_annotation": "ATP synthase F<sub>1</sub> complex subunit &beta;",
          "mean": 7582.17120882239,
          "std": 691.3051993588587,
          "noise": 0.09117509751751271
         },
         {
          "complex_annotation": "ATP-binding protein Uup",
          "mean": 75.65307462804225,
          "std": 56.11922579627768,
          "noise": 0.7417970263891432
         },
         {
          "complex_annotation": "ATP-dependent Lipid A-core flippase",
          "mean": 47.781757359828106,
          "std": 13.375375267992329,
          "noise": 0.27992639884018794
         },
         {
          "complex_annotation": "ATP-dependent RNA helicase DeaD",
          "mean": 406.5030650320766,
          "std": 154.27442343376583,
          "noise": 0.37951601526446604
         },
         {
          "complex_annotation": "ATP-dependent RNA helicase HrpA",
          "mean": 35.587870511959004,
          "std": 14.700990517210812,
          "noise": 0.41308991815822943
         },
         {
          "complex_annotation": "ATP-dependent RNA helicase RhlB",
          "mean": 463.94310013289004,
          "std": 422.1218942527277,
          "noise": 0.909857036631899
         },
         {
          "complex_annotation": "ATP-dependent RNA helicase RhlE",
          "mean": 6.35583743603456,
          "std": 6.544162805096986,
          "noise": 1.0296302998554858
         },
         {
          "complex_annotation": "ATP-dependent RNA helicase SrmB",
          "mean": 289.2095844444269,
          "std": 160.24098121308597,
          "noise": 0.5540652517478275
         },
         {
          "complex_annotation": "ATP-independent periplasmic chaperone",
          "mean": 157.0314601172625,
          "std": 134.881017223604,
          "noise": 0.8589426419577468
         },
         {
          "complex_annotation": "AcnB",
          "mean": 12089.75818855181,
          "std": 4503.242326885985,
          "noise": 0.3724840692967915
         },
         {
          "complex_annotation": "AsmA family protein YhjG",
          "mean": 52.40787406520985,
          "std": 36.69505529703184,
          "noise": 0.7001820995710124
         },
         {
          "complex_annotation": "AsmA famly protein YicH",
          "mean": 53.29488924693677,
          "std": 28.500457086059594,
          "noise": 0.5347690461275837
         },
         {
          "complex_annotation": "Autoinducer-2 ABC transporter",
          "mean": 89.1714341132411,
          "std": 65.86086869443939,
          "noise": 0.7385870749908651
         },
         {
          "complex_annotation": "BOF family protein YdeI",
          "mean": 325.34751343103306,
          "std": 315.56600504782006,
          "noise": 0.9699351985817882
         },
         {
          "complex_annotation": "BOF family protein YgiW",
          "mean": 1679.3715312465035,
          "std": 979.1493653544927,
          "noise": 0.5830451136847157
         },
         {
          "complex_annotation": "C4-dicarboxylate transporter DcuA",
          "mean": 212.4264010002446,
          "std": 37.957478925008004,
          "noise": 0.17868531757954276
         },
         {
          "complex_annotation": "CODB-MONOMER",
          "mean": 113.21066954596648,
          "std": 101.77828292530083,
          "noise": 0.89901670340335
         },
         {
          "complex_annotation": "CP4-44 prophage; self recognizing antigen 43 (Ag43) autotransporter",
          "mean": 45.21599847167411,
          "std": 45.160466116288866,
          "noise": 0.9987718427710928
         },
         {
          "complex_annotation": "CP4-6 prophage; IS5 transposase and trans-activator",
          "mean": 51.78942776825359,
          "std": 10.481327828011464,
          "noise": 0.2023835419636827
         },
         {
          "complex_annotation": "CPS-53 (KpLE1) prophage; bactoprenol glucosyl transferase",
          "mean": 53.12453594878101,
          "std": 72.91088995224537,
          "noise": 1.3724522699368327
         },
         {
          "complex_annotation": "CPS-53 (KpLE1) prophage; serotype-specific glucosyl transferase YfdI",
          "mean": 54.918348064177955,
          "std": 30.33691107995457,
          "noise": 0.5524002842274617
         },
         {
          "complex_annotation": "CPZ-55 prophage; uncharacterized protein YffS",
          "mean": 158.75183387703225,
          "std": 148.46205549399502,
          "noise": 0.935183247136486
         },
         {
          "complex_annotation": "CTP synthetase",
          "mean": 297.1864232679256,
          "std": 120.60670266923776,
          "noise": 0.4058284404214049
         },
         {
          "complex_annotation": "CheA(L) - phosphorylated",
          "mean": 41.50923952031109,
          "std": 54.702631235659155,
          "noise": 1.3178422892785675
         },
         {
          "complex_annotation": "CheY-acetylated // \"CheY-Pasp\" // \"chemotaxis protein CheY\"",
          "mean": 222.74219186113908,
          "std": 224.90912525493846,
          "noise": 1.0097284370585267
         },
         {
          "complex_annotation": "ClpA ATP-dependent protease specificity component and chaperone",
          "mean": 182.92231142290328,
          "std": 207.54839983458035,
          "noise": 1.1346259415820705
         },
         {
          "complex_annotation": "ClpAP",
          "mean": 236.23637281549293,
          "std": 148.85090896605772,
          "noise": 0.6300931020572109
         },
         {
          "complex_annotation": "ClpAXP",
          "mean": 312.28713194479025,
          "std": 152.0816047219357,
          "noise": 0.48699286382643026
         },
         {
          "complex_annotation": "ClpB80 // \"chaperone protein ClpB\"",
          "mean": 1343.0777686466133,
          "std": 1075.5281809319417,
          "noise": 0.8007936740816768
         },
         {
          "complex_annotation": "ClpP serine protease",
          "mean": 381.0115899195343,
          "std": 223.66876636465648,
          "noise": 0.5870392719861698
         },
         {
          "complex_annotation": "ClpX ATP-dependent protease specificity component and chaperone",
          "mean": 372.92749449193303,
          "std": 73.52790155248891,
          "noise": 0.19716406711353224
         },
         {
          "complex_annotation": "ClpXP",
          "mean": 283.73766858275036,
          "std": 130.0752324756634,
          "noise": 0.4584348392139119
         },
         {
          "complex_annotation": "ClpXP protease specificity-enhancing factor",
          "mean": 253.676545723034,
          "std": 164.87532145394772,
          "noise": 0.6499431036638281
         },
         {
          "complex_annotation": "CorC-HlyC family protein YbeX",
          "mean": 292.78817925351274,
          "std": 63.22240866080862,
          "noise": 0.21593224433445124
         },
         {
          "complex_annotation": "CpxR-P<sup>asp</sup> DNA-binding transcriptional dual regulator",
          "mean": 654.4269017931227,
          "std": 424.7251742213572,
          "noise": 0.6490032317705992
         },
         {
          "complex_annotation": "CsrA complex with CsrB RNA",
          "mean": 230.67368427563937,
          "std": 188.03279701401655,
          "noise": 0.8151462859947654
         },
         {
          "complex_annotation": "CsrA complex with CsrC RNA",
          "mean": 461.34736855127875,
          "std": 376.0655940280331,
          "noise": 0.8151462859947654
         },
         {
          "complex_annotation": "CsrA complex with McaS RNA",
          "mean": 2076.0631584807543,
          "std": 1692.295173126149,
          "noise": 0.8151462859947655
         },
         {
          "complex_annotation": "Cys-tRNAPro and Cys-tRNACys deacylase",
          "mean": 603.9922340013719,
          "std": 336.31457053862016,
          "noise": 0.5568193622467276
         },
         {
          "complex_annotation": "D-alanine&mdash;D-alanine ligase A",
          "mean": 130.65957378958527,
          "std": 54.70596053517819,
          "noise": 0.4186907927870399
         },
         {
          "complex_annotation": "D-alanine&mdash;D-alanine ligase B",
          "mean": 177.66900842239315,
          "std": 87.38652603707106,
          "noise": 0.4918501364588974
         },
         {
          "complex_annotation": "D-alanyl-D-alanine carboxypeptidase DacA",
          "mean": 731.4890215011588,
          "std": 226.65818924844444,
          "noise": 0.30985863435557437
         },
         {
          "complex_annotation": "D-alanyl-D-alanine carboxypeptidase DacC",
          "mean": 605.3852602658811,
          "std": 241.88046028615244,
          "noise": 0.39954798400595376
         },
         {
          "complex_annotation": "D-allose ABC transporter",
          "mean": 46.55763749953924,
          "std": 5.950587932423514,
          "noise": 0.12781120890170608
         },
         {
          "complex_annotation": "D-amino acid dehydrogenase",
          "mean": 154.9742849535423,
          "std": 67.48585188212837,
          "noise": 0.4354648379397851
         },
         {
          "complex_annotation": "D-aminoacyl-tRNA deacylase",
          "mean": 80.50515159025923,
          "std": 98.26273076134888,
          "noise": 1.2205769298028157
         },
         {
          "complex_annotation": "D-arabinose 5-phosphate isomerase GutQ",
          "mean": 13.044064719081707,
          "std": 0.10865614252851795,
          "noise": 0.008329929731916208
         },
         {
          "complex_annotation": "D-arabinose 5-phosphate isomerase KdsD",
          "mean": 34.793966784179474,
          "std": 15.85516065487939,
          "noise": 0.4556870664740819
         },
         {
          "complex_annotation": "D-cysteine desulfhydrase, PLP-dependent",
          "mean": 478.5147707634057,
          "std": 317.85015173531906,
          "noise": 0.6642431355425708
         },
         {
          "complex_annotation": "D-galactose / methyl-&beta;-D-galactoside ABC transporter",
          "mean": 6465.13305204169,
          "std": 6904.125130472532,
          "noise": 1.06790147625689
         },
         {
          "complex_annotation": "D-glucoronate/D-galacturonate isomerase",
          "mean": 116.74026552419225,
          "std": 102.77814278564863,
          "noise": 0.8804001115137927
         },
         {
          "complex_annotation": "D-glycero-&beta;-D-manno-heptose-1,7-bisphosphate 7-phosphatase",
          "mean": 234.14003495495504,
          "std": 106.90559215664167,
          "noise": 0.45658826427188615
         },
         {
          "complex_annotation": "D-lactate dehydrogenase",
          "mean": 164.21079382238017,
          "std": 98.21575128485556,
          "noise": 0.5981077674534072
         },
         {
          "complex_annotation": "D-ribose pyranase",
          "mean": 309.4370017420441,
          "std": 229.21194279219634,
          "noise": 0.7407386366265086
         },
         {
          "complex_annotation": "D-sedoheptulose 7-phosphate isomerase",
          "mean": 821.9251149113447,
          "std": 127.30307475540114,
          "noise": 0.1548840307296516
         },
         {
          "complex_annotation": "D-serine/alanine/glycine/:H+symporter",
          "mean": 395.694581677581,
          "std": 39.50962578436519,
          "noise": 0.0998487915019224
         },
         {
          "complex_annotation": "DEOXYRIBOSE-P-ALD-MONOMER",
          "mean": 1054.269881829305,
          "std": 440.81743408046646,
          "noise": 0.4181257965138745
         },
         {
          "complex_annotation": "DIENOYLCOAREDUCT-MONOMER",
          "mean": 60.25218044985524,
          "std": 46.19149949586563,
          "noise": 0.7666361474554172
         },
         {
          "complex_annotation": "DLP12 prophage; prophage lipoprotein BorD",
          "mean": 1565.0613847788723,
          "std": 641.4936051651307,
          "noise": 0.409883990113121
         },
         {
          "complex_annotation": "DNA gyrase",
          "mean": 550.2809427528092,
          "std": 231.71109599049845,
          "noise": 0.4210778131464113
         },
         {
          "complex_annotation": "DNA helicase II",
          "mean": 17.86484061465306,
          "std": 8.241123865665658,
          "noise": 0.46130408008824564
         },
         {
          "complex_annotation": "DNA helicase IV",
          "mean": 226.8479639358104,
          "std": 215.9785313023758,
          "noise": 0.9520849451551161
         },
         {
          "complex_annotation": "DNA ligase",
          "mean": 179.78889991611481,
          "std": 119.59631689616386,
          "noise": 0.665204119675712
         },
         {
          "complex_annotation": "DNA polymerase I",
          "mean": 677.04529292425,
          "std": 640.0529438053197,
          "noise": 0.9453620762074051
         },
         {
          "complex_annotation": "DNA polymerase III, &tau; subunit dimer",
          "mean": 16.477140182937767,
          "std": 14.935397117860003,
          "noise": 0.9064313923435419
         },
         {
          "complex_annotation": "DNA polymerase III, holoenzyme",
          "mean": 56.01132225113893,
          "std": 34.19728529900917,
          "noise": 0.6105423675891494
         },
         {
          "complex_annotation": "DNA polymerase III, preinitiation complex",
          "mean": 12.363541515151315,
          "std": 8.007040066105727,
          "noise": 0.6476332090035232
         },
         {
          "complex_annotation": "DNA recombination protein",
          "mean": 205.09550759435842,
          "std": 233.36603901430038,
          "noise": 1.137840812563559
         },
         {
          "complex_annotation": "DNA recombination/repair protein RecA",
          "mean": 2005.75229440754,
          "std": 273.36693553323954,
          "noise": 0.13629147342642667
         },
         {
          "complex_annotation": "DNA replication inhibitor",
          "mean": 882.8853099924778,
          "std": 568.4669854901427,
          "noise": 0.6438741012634881
         },
         {
          "complex_annotation": "DNA topoisomerase 1",
          "mean": 428.8928268518651,
          "std": 240.712673313699,
          "noise": 0.5612420125572269
         },
         {
          "complex_annotation": "DNA topoisomerase IV",
          "mean": 29.55324924299095,
          "std": 3.372951149276423,
          "noise": 0.11413131333017044
         },
         {
          "complex_annotation": "DNA-binding transcriptional  repressor CRP-Sxy",
          "mean": 5079.610372458825,
          "std": 2536.6182611259915,
          "noise": 0.4993726044185003
         },
         {
          "complex_annotation": "DNA-binding transcriptional activator MalT",
          "mean": 178.7160165341243,
          "std": 160.56671200394823,
          "noise": 0.8984461220535843
         },
         {
          "complex_annotation": "DNA-binding transcriptional activator MhpR",
          "mean": 43.97578231535224,
          "std": 24.82424467437892,
          "noise": 0.5644980797922635
         },
         {
          "complex_annotation": "DNA-binding transcriptional dual regulator ArgP",
          "mean": 220.34082623602885,
          "std": 116.99687387980512,
          "noise": 0.5309813704450677
         },
         {
          "complex_annotation": "DNA-binding transcriptional dual regulator ArgR",
          "mean": 79.69825146566926,
          "std": 25.550293370299986,
          "noise": 0.3205878786601235
         },
         {
          "complex_annotation": "DNA-binding transcriptional dual regulator CRP",
          "mean": 2539.8051862294124,
          "std": 1268.3091305629957,
          "noise": 0.4993726044185003
         },
         {
          "complex_annotation": "DNA-binding transcriptional dual regulator Cra",
          "mean": 56.11567006305315,
          "std": 24.546290476355356,
          "noise": 0.4374231021170103
         },
         {
          "complex_annotation": "DNA-binding transcriptional dual regulator CysB",
          "mean": 78.11266489490987,
          "std": 13.285085591088118,
          "noise": 0.17007594874610182
         },
         {
          "complex_annotation": "DNA-binding transcriptional dual regulator FNR",
          "mean": 521.368366732404,
          "std": 457.8893859924985,
          "noise": 0.8782454310802357
         },
         {
          "complex_annotation": "DNA-binding transcriptional dual regulator FadR",
          "mean": 234.756937724601,
          "std": 143.16571464325574,
          "noise": 0.6098465759133682
         },
         {
          "complex_annotation": "DNA-binding transcriptional dual regulator Fis",
          "mean": 838.5974973259221,
          "std": 18.489864003407387,
          "noise": 0.022048556145668148
         },
         {
          "complex_annotation": "DNA-binding transcriptional dual regulator Fur",
          "mean": 4452.497109462158,
          "std": 1366.2637411541757,
          "noise": 0.30685336959583437
         },
         {
          "complex_annotation": "DNA-binding transcriptional dual regulator H-NS",
          "mean": 32099.600475302268,
          "std": 5285.746462299335,
          "noise": 0.16466704831314763
         },
         {
          "complex_annotation": "DNA-binding transcriptional dual regulator HU",
          "mean": 53085.33970224584,
          "std": 20482.32412056153,
          "noise": 0.38583767638007604
         },
         {
          "complex_annotation": "DNA-binding transcriptional dual regulator IHF",
          "mean": 6838.307151337886,
          "std": 2242.6595553590596,
          "noise": 0.3279553704925776
         },
         {
          "complex_annotation": "DNA-binding transcriptional dual regulator IscR",
          "mean": 3930.045138179424,
          "std": 2580.6655481810376,
          "noise": 0.656650358315355
         },
         {
          "complex_annotation": "DNA-binding transcriptional dual regulator LrhA",
          "mean": 21.714394788930242,
          "std": 7.298020853906382,
          "noise": 0.3360913773948161
         },
         {
          "complex_annotation": "DNA-binding transcriptional dual regulator Lrp",
          "mean": 7475.301316191836,
          "std": 651.4598899884487,
          "noise": 0.08714831181150619
         },
         {
          "complex_annotation": "DNA-binding transcriptional dual regulator NagC",
          "mean": 76.22041365438864,
          "std": 47.20950092626783,
          "noise": 0.6193813266395148
         },
         {
          "complex_annotation": "DNA-binding transcriptional dual regulator NtrC",
          "mean": 23.36721679666226,
          "std": 8.52137493160717,
          "noise": 0.36467222458535803
         },
         {
          "complex_annotation": "DNA-binding transcriptional dual regulator OxyR",
          "mean": 249.9200548373374,
          "std": 95.39580746361366,
          "noise": 0.38170529182102986
         },
         {
          "complex_annotation": "DNA-binding transcriptional dual regulator PdhR",
          "mean": 199.1034884215579,
          "std": 197.5655878173706,
          "noise": 0.9922758731332164
         },
         {
          "complex_annotation": "DNA-binding transcriptional dual regulator Rob",
          "mean": 238.2949421529955,
          "std": 224.65461251216735,
          "noise": 0.9427586271131576
         },
         {
          "complex_annotation": "DNA-binding transcriptional dual regulator SlyA",
          "mean": 983.8764036024689,
          "std": 148.51612909516624,
          "noise": 0.15094998574147483
         },
         {
          "complex_annotation": "DNA-binding transcriptional dual regulator TyrR",
          "mean": 97.7843101339666,
          "std": 47.043603955264295,
          "noise": 0.48109562659708444
         },
         {
          "complex_annotation": "DNA-binding transcriptional regulator YheO",
          "mean": 376.64249667353397,
          "std": 136.8871514832293,
          "noise": 0.36344053762441014
         },
         {
          "complex_annotation": "DNA-binding transcriptional regulator YieP",
          "mean": 103.90187537949348,
          "std": 10.848134602846246,
          "noise": 0.10440749566092318
         },
         {
          "complex_annotation": "DNA-binding transcriptional repressor AllR",
          "mean": 139.93422025529983,
          "std": 24.702649444922546,
          "noise": 0.17653043980131775
         },
         {
          "complex_annotation": "DNA-binding transcriptional repressor ExuR",
          "mean": 101.25694931925868,
          "std": 72.18013993714557,
          "noise": 0.7128413449388523
         },
         {
          "complex_annotation": "DNA-binding transcriptional repressor FrmR",
          "mean": 81.52391431047981,
          "std": 4.102705576521764,
          "noise": 0.05032517895174675
         },
         {
          "complex_annotation": "DNA-binding transcriptional repressor GlpR",
          "mean": 208.3570866126688,
          "std": 254.63116084407088,
          "noise": 1.2220902345281135
         },
         {
          "complex_annotation": "DNA-binding transcriptional repressor GntR",
          "mean": 484.87929355764237,
          "std": 169.12519839565508,
          "noise": 0.3487985579972998
         },
         {
          "complex_annotation": "DNA-binding transcriptional repressor KdgR",
          "mean": 568.3467105669364,
          "std": 204.2984002995737,
          "noise": 0.3594608651746788
         },
         {
          "complex_annotation": "DNA-binding transcriptional repressor LexA",
          "mean": 184.1210576125776,
          "std": 151.4892843741178,
          "noise": 0.8227700097882195
         },
         {
          "complex_annotation": "DNA-binding transcriptional repressor MprA",
          "mean": 317.9262288144434,
          "std": 117.74263706161209,
          "noise": 0.37034577958754133
         },
         {
          "complex_annotation": "DNA-binding transcriptional repressor PurR",
          "mean": 575.1732288502832,
          "std": 345.97381922822365,
          "noise": 0.6015123824865641
         },
         {
          "complex_annotation": "DNA-binding transcriptional repressor RcnR",
          "mean": 558.56506589558,
          "std": 179.55755258772678,
          "noise": 0.3214621958138962
         },
         {
          "complex_annotation": "DNA-binding transcriptional repressor StpA with RNA chaperone activity",
          "mean": 4814.293018203182,
          "std": 2502.0064149073282,
          "noise": 0.5197038081078706
         },
         {
          "complex_annotation": "DNA-binding transcriptional repressor TrpR",
          "mean": 233.02600803293353,
          "std": 160.12227006403563,
          "noise": 0.6871433425637432
         },
         {
          "complex_annotation": "DNA-binding transcriptional repressor YdcI",
          "mean": 228.56360756416134,
          "std": 171.74863487423542,
          "noise": 0.7514259890478099
         },
         {
          "complex_annotation": "DNA-binding transcriptional repressor Zur",
          "mean": 64.4363662231496,
          "std": 22.02527562790729,
          "noise": 0.3418143653791952
         },
         {
          "complex_annotation": "DNA-binding transcriptional repressor/NMN adenylyltransferase NadR",
          "mean": 8.372811309552752,
          "std": 6.107314269920189,
          "noise": 0.7294221790179601
         },
         {
          "complex_annotation": "DTDPDEHYDRHAMEPIM-MONOMER",
          "mean": 446.01773318001347,
          "std": 55.35802162966217,
          "noise": 0.12411618980925043
         },
         {
          "complex_annotation": "DUF1040 domain-containing protein YihD",
          "mean": 2407.8904885225975,
          "std": 1733.526599212657,
          "noise": 0.7199358141392435
         },
         {
          "complex_annotation": "DUF1043 domain-containing protein YhcB",
          "mean": 3355.3015803454705,
          "std": 995.2954304645215,
          "noise": 0.2966336726018063
         },
         {
          "complex_annotation": "DUF1131 domain-containing lipoprotein YfeY",
          "mean": 18.882588141467174,
          "std": 18.215321820490484,
          "noise": 0.9646623484038537
         },
         {
          "complex_annotation": "DUF1190 domain-containing protein YgiB",
          "mean": 160.3046835974638,
          "std": 18.444264795541578,
          "noise": 0.11505755403788706
         },
         {
          "complex_annotation": "DUF1283 domain-containing protein YnfB",
          "mean": 354.03658923797275,
          "std": 205.96682704738714,
          "noise": 0.5817670639374012
         },
         {
          "complex_annotation": "DUF1338 domain-containing protein YdcJ",
          "mean": 38.01351460600447,
          "std": 24.10558495253753,
          "noise": 0.6341319712839681
         },
         {
          "complex_annotation": "DUF1414 domain-containing protein YejL",
          "mean": 400.84493923419757,
          "std": 195.61388572307786,
          "noise": 0.48800388024554436
         },
         {
          "complex_annotation": "DUF1451 domain-containing protein YbeL",
          "mean": 621.6426919327247,
          "std": 314.7973359285887,
          "noise": 0.5063959409703102
         },
         {
          "complex_annotation": "DUF1471 domain-containing protein YahO",
          "mean": 3822.3980194997034,
          "std": 3395.8495960724754,
          "noise": 0.8884081612508116
         },
         {
          "complex_annotation": "DUF1471 domain-containing protein YdgH",
          "mean": 3082.2493260643314,
          "std": 1388.0593266174124,
          "noise": 0.4503397291321012
         },
         {
          "complex_annotation": "DUF1479 domain-containing protein YbiU",
          "mean": 32.18984688545518,
          "std": 8.717192006129254,
          "noise": 0.2708056374778245
         },
         {
          "complex_annotation": "DUF1480 domain-containing protein YebV",
          "mean": 2210.890199230395,
          "std": 18.17596679559996,
          "noise": 0.008221107860502059
         },
         {
          "complex_annotation": "DUF1508 domain-containing protein YegP",
          "mean": 598.5555083466652,
          "std": 157.01824472530234,
          "noise": 0.2623286270625416
         },
         {
          "complex_annotation": "DUF177 domain-containing protein YceD",
          "mean": 746.7307219304731,
          "std": 92.82361580117882,
          "noise": 0.12430667853226678
         },
         {
          "complex_annotation": "DUF179 domain-containing protein YqgE",
          "mean": 366.89311480799034,
          "std": 214.70547525724595,
          "noise": 0.5851989764637852
         },
         {
          "complex_annotation": "DUF2058 domain-containing protein YaiL",
          "mean": 223.13062936966608,
          "std": 195.45664497479837,
          "noise": 0.875974067419406
         },
         {
          "complex_annotation": "DUF218 domain-containing protein YdcF",
          "mean": 365.02943895543785,
          "std": 385.57353070922744,
          "noise": 1.0562806435902217
         },
         {
          "complex_annotation": "DUF2501 domain-containing protein YjjA",
          "mean": 157.056880218271,
          "std": 52.212027954866194,
          "noise": 0.33244024637637093
         },
         {
          "complex_annotation": "DUF2526 domain-containing protein YdcY",
          "mean": 289.44661419948943,
          "std": 77.76046702107246,
          "noise": 0.2686521907887276
         },
         {
          "complex_annotation": "DUF2756 domain-containing protein YhhA",
          "mean": 138.441485382112,
          "std": 80.72208817067173,
          "noise": 0.5830773048112774
         },
         {
          "complex_annotation": "DUF2766 domain-containing protein YecJ",
          "mean": 373.00835194778637,
          "std": 84.35409832295036,
          "noise": 0.22614533396495698
         },
         {
          "complex_annotation": "DUF2810 domain-containing protein YibL",
          "mean": 1559.35106046745,
          "std": 941.909040770579,
          "noise": 0.6040391189962194
         },
         {
          "complex_annotation": "DUF3053 domain-containing protein YiaF",
          "mean": 946.9888563335074,
          "std": 339.59387761390207,
          "noise": 0.35860387938324906
         },
         {
          "complex_annotation": "DUF3313 domain-containing lipoprotein YdcL",
          "mean": 1266.248274749215,
          "std": 410.9361798087828,
          "noise": 0.3245304953249948
         },
         {
          "complex_annotation": "DUF3461 domain-containing protein YaeH",
          "mean": 3169.0310701302983,
          "std": 699.8342331235316,
          "noise": 0.22083539657273132
         },
         {
          "complex_annotation": "DUF3828 domain-containing lipoprotein YbjP",
          "mean": 1336.158328232197,
          "std": 890.1202326963214,
          "noise": 0.6661787109271655
         },
         {
          "complex_annotation": "DUF386 domain-containing toxin-antitoxin biofilm protein TabA",
          "mean": 15603.881915954058,
          "std": 246.9590545475936,
          "noise": 0.015826770279201638
         },
         {
          "complex_annotation": "DUF406 domain-containing protein YiiS",
          "mean": 424.338734730517,
          "std": 35.125659467688344,
          "noise": 0.08277740539052003
         },
         {
          "complex_annotation": "DUF4156 domain-containing lipoprotein YjeI",
          "mean": 1228.0463945055792,
          "std": 853.9287493035815,
          "noise": 0.695355446768263
         },
         {
          "complex_annotation": "DUF416 domain-containing protein YjaG",
          "mean": 182.6639690433311,
          "std": 78.62363572201606,
          "noise": 0.43042772000298074
         },
         {
          "complex_annotation": "DUF463 domain-containing protein YcjX",
          "mean": 380.24322637549784,
          "std": 511.0574020977127,
          "noise": 1.3440276292865063
         },
         {
          "complex_annotation": "DUF480 domain-containing protein YceH",
          "mean": 690.3028275168621,
          "std": 279.0949565910511,
          "noise": 0.40430800145351226
         },
         {
          "complex_annotation": "DUF488 domain-containing protein YeaO",
          "mean": 342.07197930830745,
          "std": 153.01013209915283,
          "noise": 0.44730390489320293
         },
         {
          "complex_annotation": "DUF493 domain-containing protein YbeD",
          "mean": 3259.353072802831,
          "std": 1280.4512830114306,
          "noise": 0.39285442675602067
         },
         {
          "complex_annotation": "DUF496 domain-containing protein YeeX",
          "mean": 9883.961245801296,
          "std": 6353.176841719489,
          "noise": 0.6427763812224898
         },
         {
          "complex_annotation": "DUF533 domain-containing inner membrane protein YebE",
          "mean": 237.957371531003,
          "std": 272.53310202124993,
          "noise": 1.1453022037846057
         },
         {
          "complex_annotation": "DUF615 domain-containing protein YjgA",
          "mean": 492.48912149573465,
          "std": 545.0112132496432,
          "noise": 1.1066461967614516
         },
         {
          "complex_annotation": "DUF853 domain-containing protein YjgR",
          "mean": 189.11941766398877,
          "std": 118.63693224560622,
          "noise": 0.6273122755506269
         },
         {
          "complex_annotation": "DUF883 domain-containing protein YgaM",
          "mean": 556.1923898628579,
          "std": 249.49555316105477,
          "noise": 0.4485777901825907
         },
         {
          "complex_annotation": "DUF892 domain-containing protein YciE",
          "mean": 308.0187778313948,
          "std": 10.761029326737116,
          "noise": 0.034936276945516466
         },
         {
          "complex_annotation": "DUF892 domain-containing protein YciF",
          "mean": 281.56312586042594,
          "std": 113.25177989624513,
          "noise": 0.40222518325210427
         },
         {
          "complex_annotation": "DUF903 domain-containing lipoprotein YgdI",
          "mean": 1312.5965680972809,
          "std": 334.04916256719036,
          "noise": 0.25449492302987103
         },
         {
          "complex_annotation": "DUF937 domain-containing protein YidB",
          "mean": 475.8419765972988,
          "std": 162.98757466088446,
          "noise": 0.3425245831113793
         },
         {
          "complex_annotation": "DUF945 domain-containing protein YdgA",
          "mean": 838.1692268065522,
          "std": 357.1926932168101,
          "noise": 0.4261582050413901
         },
         {
          "complex_annotation": "DcuS-DctA sensor complex",
          "mean": 455.5000833551446,
          "std": 459.058267242038,
          "noise": 1.0078115987612655
         },
         {
          "complex_annotation": "Der GTPase-activating protein YihI",
          "mean": 319.6642633407495,
          "std": 141.5535583082247,
          "noise": 0.44281946573844627
         },
         {
          "complex_annotation": "DosC-DosP complex",
          "mean": 35.3780132424168,
          "std": 32.6859905315651,
          "noise": 0.9239068996779031
         },
         {
          "complex_annotation": "DsrE/F sulfur relay family protein YchN",
          "mean": 1268.2138474825613,
          "std": 351.51118493682515,
          "noise": 0.27717027821024376
         },
         {
          "complex_annotation": "EG10043-MONOMER",
          "mean": 696.2420489538846,
          "std": 339.02826242740235,
          "noise": 0.4869402285265563
         },
         {
          "complex_annotation": "EG10108-MONOMER",
          "mean": 5228.549814294113,
          "std": 1085.8382564019473,
          "noise": 0.20767484196735003
         },
         {
          "complex_annotation": "EG10155-MONOMER",
          "mean": 843.4952884918376,
          "std": 1042.240762484683,
          "noise": 1.2356213208353548
         },
         {
          "complex_annotation": "EG10812-MONOMER",
          "mean": 125.67167351110255,
          "std": 42.4407281828239,
          "noise": 0.337711172272043
         },
         {
          "complex_annotation": "EG12069-MONOMER",
          "mean": 67.03319018276335,
          "std": 26.575830132460162,
          "noise": 0.39645778546421867
         },
         {
          "complex_annotation": "Enterobacterial Common Antigen Biosynthesis Protein Complex",
          "mean": 1155.317208393323,
          "std": 586.0949281894658,
          "noise": 0.5073021711539608
         },
         {
          "complex_annotation": "FAD/NAD(P) binding domain-containing protein YdhS",
          "mean": 81.09257679184506,
          "std": 47.63245533009314,
          "noise": 0.5873836695602848
         },
         {
          "complex_annotation": "FKBP-type peptidyl-prolyl <i>cis-trans</I> isomerase SlyD",
          "mean": 3426.973860139146,
          "std": 3149.1308032687575,
          "noise": 0.9189246640885942
         },
         {
          "complex_annotation": "FKBP-type peptidyl-prolyl <i>cis-trans</i> isomerase FklB",
          "mean": 1639.4678148506803,
          "std": 402.88765030553293,
          "noise": 0.2457429457633038
         },
         {
          "complex_annotation": "FMN dependent NADH:quinone oxidoreductase",
          "mean": 438.40790630956434,
          "std": 171.51087228194984,
          "noise": 0.3912130000704053
         },
         {
          "complex_annotation": "FicT-FicA complex",
          "mean": 97.91893084813032,
          "std": 101.87229973614443,
          "noise": 1.040373897608683
         },
         {
          "complex_annotation": "FtsH/HflKC protease complex",
          "mean": 219.74825361858265,
          "std": 21.776879290662478,
          "noise": 0.0990992143603591
         },
         {
          "complex_annotation": "G7166-MONOMER",
          "mean": 153.63706535281466,
          "std": 200.58716116370377,
          "noise": 1.3055909438459536
         },
         {
          "complex_annotation": "GALACTOKIN-MONOMER",
          "mean": 509.67516561181816,
          "std": 82.45233022514165,
          "noise": 0.16177427465229782
         },
         {
          "complex_annotation": "GALPMUT-MONOMER",
          "mean": 1194.1265025699786,
          "std": 731.3453916493486,
          "noise": 0.6124521900111585
         },
         {
          "complex_annotation": "GDP/GTP pyrophosphokinase",
          "mean": 88.55925336293156,
          "std": 51.384271342740675,
          "noise": 0.5802247579048436
         },
         {
          "complex_annotation": "GLU6PDEHYDROG-MONOMER",
          "mean": 1427.4431486340718,
          "std": 506.5914333495874,
          "noise": 0.3548942974256786
         },
         {
          "complex_annotation": "GLYCOGEN-BRANCH-MONOMER",
          "mean": 190.44897950492566,
          "std": 223.30903883806016,
          "noise": 1.1725399601434179
         },
         {
          "complex_annotation": "GLYCRIBONUCSYN-MONOMER",
          "mean": 1440.6004046191972,
          "std": 727.0724508713563,
          "noise": 0.5047009903232311
         },
         {
          "complex_annotation": "GMP reductase",
          "mean": 252.54631525495202,
          "std": 13.399576341115436,
          "noise": 0.053057896836024784
         },
         {
          "complex_annotation": "GMP synthetase",
          "mean": 1872.0489644880702,
          "std": 1004.6111751569499,
          "noise": 0.5366372323662327
         },
         {
          "complex_annotation": "GPH-MONOMER",
          "mean": 358.79265889874875,
          "std": 238.37265965655575,
          "noise": 0.6643744060656059
         },
         {
          "complex_annotation": "GTP cyclohydrolase 1",
          "mean": 442.6087718184604,
          "std": 222.28630067290035,
          "noise": 0.5022184710882163
         },
         {
          "complex_annotation": "GTP cyclohydrolase 2",
          "mean": 91.00328197983679,
          "std": 47.19369303146549,
          "noise": 0.5185933078976427
         },
         {
          "complex_annotation": "GTP-binding protein YihA",
          "mean": 880.5125052182851,
          "std": 52.56071148983726,
          "noise": 0.059693316311058064
         },
         {
          "complex_annotation": "GTPase ObgE",
          "mean": 638.5876007686746,
          "std": 600.9296774777029,
          "noise": 0.9410293540844787
         },
         {
          "complex_annotation": "GadE-RcsB DNA-binding transcriptional activator",
          "mean": 2164.578278576106,
          "std": 866.2640443486971,
          "noise": 0.40019991557826184
         },
         {
          "complex_annotation": "GroEL-GroES chaperonin complex",
          "mean": 1555.9800950830343,
          "std": 438.52655109860956,
          "noise": 0.2818330083298448
         },
         {
          "complex_annotation": "Grx4-BolA complex",
          "mean": 3335.6129455923638,
          "std": 1889.0582336764369,
          "noise": 0.5663301661461094
         },
         {
          "complex_annotation": "Grx4-IbaG complex",
          "mean": 3746.9118520977645,
          "std": 1494.5268277598711,
          "noise": 0.3988689584258936
         },
         {
          "complex_annotation": "HNH nuclease family protein YajD",
          "mean": 274.9376882855891,
          "std": 219.5569464933075,
          "noise": 0.7985698427246709
         },
         {
          "complex_annotation": "HOMOCYSMET-MONOMER",
          "mean": 32799.193822477544,
          "std": 9701.481036090761,
          "noise": 0.2957841308112354
         },
         {
          "complex_annotation": "HU&alpha;&alpha;",
          "mean": 36940.23678211961,
          "std": 17727.336094256476,
          "noise": 0.4798923244270361
         },
         {
          "complex_annotation": "HflK-HflC complex; regulator of FtsH protease",
          "mean": 1114.4497614274187,
          "std": 15.721863071996044,
          "noise": 0.014107287395224561
         },
         {
          "complex_annotation": "HlyD_D23 family protein YbhG",
          "mean": 45.01386652041567,
          "std": 34.409012411932174,
          "noise": 0.7644091714788875
         },
         {
          "complex_annotation": "HslU hexamer",
          "mean": 240.59855681005806,
          "std": 32.52704990998095,
          "noise": 0.1351922070574165
         },
         {
          "complex_annotation": "HslV hexamer",
          "mean": 128.87004553431382,
          "std": 92.80705963384125,
          "noise": 0.7201600592988835
         },
         {
          "complex_annotation": "HslVU protease",
          "mean": 94.15922082109262,
          "std": 25.03168411256395,
          "noise": 0.26584421466406827
         },
         {
          "complex_annotation": "K+ binding protein",
          "mean": 3783.0089355367454,
          "std": 626.6691315305427,
          "noise": 0.1656536218150986
         },
         {
          "complex_annotation": "KHG/KDPG aldolase",
          "mean": 1248.9232922885747,
          "std": 556.1729481229032,
          "noise": 0.44532194375504897
         },
         {
          "complex_annotation": "KpLE2 phage-like element; putative DNA-binding transcriptional regulator YjhU",
          "mean": 81.92521103295827,
          "std": 80.18023893657617,
          "noise": 0.9787004259814467
         },
         {
          "complex_annotation": "KpLE2 phage-like element; putative nucleoside triphosphatase",
          "mean": 764.7888805455942,
          "std": 1078.4589744713662,
          "noise": 1.4101394540438432
         },
         {
          "complex_annotation": "L,D-transpeptidase LdtA",
          "mean": 92.3688379574345,
          "std": 2.650383250950681,
          "noise": 0.028693478337055982
         },
         {
          "complex_annotation": "L,D-transpeptidase LdtB",
          "mean": 2679.506329660288,
          "std": 1539.7571088556535,
          "noise": 0.5746420867947217
         },
         {
          "complex_annotation": "L,D-transpeptidase LdtE",
          "mean": 406.880559374317,
          "std": 277.419163054048,
          "noise": 0.68181965606971
         },
         {
          "complex_annotation": "L-1,2-propanediol oxidoreductase",
          "mean": 42.66031388368774,
          "std": 11.401704778918957,
          "noise": 0.2672672500724072
         },
         {
          "complex_annotation": "L-arginine ABC transporter",
          "mean": 3498.0892269155215,
          "std": 2835.3738493715236,
          "noise": 0.8105493214853314
         },
         {
          "complex_annotation": "L-asparaginase 1",
          "mean": 77.52393466912427,
          "std": 54.29691763785715,
          "noise": 0.7003890846046308
         },
         {
          "complex_annotation": "L-cysteine desulfurase",
          "mean": 210.0483264790365,
          "std": 166.26781121463435,
          "noise": 0.7915693212210783
         },
         {
          "complex_annotation": "L-fucose mutarotase",
          "mean": 58.77606953778891,
          "std": 0.20951133905592667,
          "noise": 0.003564568721649982
         },
         {
          "complex_annotation": "L-glutamine ABC transporter",
          "mean": 4088.615496221462,
          "std": 1152.6979601688734,
          "noise": 0.2819286776255071
         },
         {
          "complex_annotation": "L-glutamine&mdash;D-fructose-6-phosphate aminotransferase",
          "mean": 1224.1684912793028,
          "std": 478.65655951417733,
          "noise": 0.3910054562946339
         },
         {
          "complex_annotation": "L-glyceraldehyde 3-phosphate reductase",
          "mean": 480.3649158675132,
          "std": 217.1971671218907,
          "noise": 0.45215035475612175
         },
         {
          "complex_annotation": "L-lactate dehydrogenase",
          "mean": 159.00126295876126,
          "std": 98.66830901201271,
          "noise": 0.6205504734739336
         },
         {
          "complex_annotation": "L-leucine/L-phenylalanine ABC transporter periplasmic binding protein",
          "mean": 3037.0245726066546,
          "std": 1718.7650767828206,
          "noise": 0.565937165041644
         },
         {
          "complex_annotation": "L-methionine/D-methionine ABC transporter",
          "mean": 9691.571535236419,
          "std": 3532.781599057244,
          "noise": 0.3645210259463936
         },
         {
          "complex_annotation": "Lon protease",
          "mean": 265.95343114002054,
          "std": 139.69116669322602,
          "noise": 0.5252467174212944
         },
         {
          "complex_annotation": "LysR family transcriptional regulator YafC",
          "mean": 22.22824865347794,
          "std": 21.628922998514156,
          "noise": 0.9730376574283097
         },
         {
          "complex_annotation": "MALATE-SYNTHASE",
          "mean": 8318.4491874512,
          "std": 1020.8146875728074,
          "noise": 0.12271694694159553
         },
         {
          "complex_annotation": "MALSYNG-MONOMER",
          "mean": 1065.2699440226236,
          "std": 303.29143804149874,
          "noise": 0.28470852833435206
         },
         {
          "complex_annotation": "MANNONDEHYDRAT-MONOMER",
          "mean": 328.80917892595585,
          "std": 55.0785659444318,
          "noise": 0.16750921043124187
         },
         {
          "complex_annotation": "MANNONOXIDOREDUCT-MONOMER",
          "mean": 41.780471389324646,
          "std": 8.024366884133643,
          "noise": 0.19206022855414587
         },
         {
          "complex_annotation": "MANNPISOM-MONOMER",
          "mean": 1278.004485248042,
          "std": 414.15154744635515,
          "noise": 0.3240611063786481
         },
         {
          "complex_annotation": "MMUM-MONOMER",
          "mean": 85.78813546640185,
          "std": 5.82960894102852,
          "noise": 0.06795355685649135
         },
         {
          "complex_annotation": "MetJ-S-adenosylmethionine DNA-binding transcriptional repressor",
          "mean": 912.2562237626057,
          "std": 517.9261335761943,
          "noise": 0.5677419567936792
         },
         {
          "complex_annotation": "Mg2+ importing P-type ATPase",
          "mean": 36.20497239437689,
          "std": 39.92757850616165,
          "noise": 1.102820299687977
         },
         {
          "complex_annotation": "Mlc titration factor",
          "mean": 278.92494697171395,
          "std": 272.7444995604512,
          "noise": 0.9778418980504833
         },
         {
          "complex_annotation": "Mlc-PtsG",
          "mean": 3297.0268405465827,
          "std": 2389.247284667197,
          "noise": 0.7246672229914594
         },
         {
          "complex_annotation": "MltA-interacting protein",
          "mean": 1521.701806593348,
          "std": 1003.8885423621209,
          "noise": 0.6597143658582743
         },
         {
          "complex_annotation": "MukEF complex",
          "mean": 55.69852367273401,
          "std": 26.384163422995194,
          "noise": 0.47369592016513323
         },
         {
          "complex_annotation": "MutHLS complex, methyl-directed mismatch repair",
          "mean": 15.601606148022302,
          "std": 1.3467677459858245,
          "noise": 0.08632237817107978
         },
         {
          "complex_annotation": "N-ACETYLGLUTPREDUCT-MONOMER",
          "mean": 735.9508745138095,
          "std": 349.82718324785156,
          "noise": 0.4753404002392925
         },
         {
          "complex_annotation": "N-acetylglucosamine-specific PTS enzyme II",
          "mean": 340.81231639486145,
          "std": 111.77112348284825,
          "noise": 0.32795505944495107
         },
         {
          "complex_annotation": "N-acetylglutamate synthase",
          "mean": 50.609253816504555,
          "std": 51.64980399022329,
          "noise": 1.0205604725470068
         },
         {
          "complex_annotation": "N-acetylmuramic acid-specific PTS enzyme II",
          "mean": 24385.469169928638,
          "std": 4126.238291019901,
          "noise": 0.1692088949474978
         },
         {
          "complex_annotation": "N5-carboxyaminoimidazole ribonucleotide mutase",
          "mean": 3077.7327066813837,
          "std": 2539.7919011745084,
          "noise": 0.8252152292695623
         },
         {
          "complex_annotation": "N<sup>6</sup>-L-threonylcarbamoyladenine synthase",
          "mean": 275.274527323249,
          "std": 187.13025135853766,
          "noise": 0.6797950147373956
         },
         {
          "complex_annotation": "N<sup>6</sup>-L-threonylcarbamoyladenine synthase, TsaB-TsaD dimer subunit",
          "mean": 70.02776818655141,
          "std": 2.412259007885006,
          "noise": 0.034447178174504094
         },
         {
          "complex_annotation": "NACGLCTRANS-MONOMER",
          "mean": 71.50188267250866,
          "std": 12.791109995201376,
          "noise": 0.17889193287101174
         },
         {
          "complex_annotation": "NAD kinase",
          "mean": 10.220932208108579,
          "std": 12.857984932406366,
          "noise": 1.2580051085952544
         },
         {
          "complex_annotation": "NAD synthetase, NH<sub>3</sub>-dependent",
          "mean": 1150.0498096211095,
          "std": 532.149009185956,
          "noise": 0.46271822727510864
         },
         {
          "complex_annotation": "NAD(P)H nitroreductase NfsB",
          "mean": 1263.9573338337332,
          "std": 725.4536388937374,
          "noise": 0.573954214651653
         },
         {
          "complex_annotation": "NAD(P)H:quinone oxidoreductase",
          "mean": 761.0240515283209,
          "std": 818.9602162601793,
          "noise": 1.0761292164360752
         },
         {
          "complex_annotation": "NAD-binding component of Trk potassium transporters",
          "mean": 72.87571022470243,
          "std": 49.88855116742736,
          "noise": 0.6845703597756061
         },
         {
          "complex_annotation": "NAD<sup>+</sup>-dependent malate dehydrogenase",
          "mean": 270.6577623399603,
          "std": 190.28299275590862,
          "noise": 0.7030391114994264
         },
         {
          "complex_annotation": "NADH:quinone oxidoreductase I",
          "mean": 1057.957164992598,
          "std": 464.0193173653109,
          "noise": 0.4385993428841302
         },
         {
          "complex_annotation": "NADH:quinone oxidoreductase I, peripheral arm",
          "mean": 1283.3471355289605,
          "std": 436.13556391233215,
          "noise": 0.3398422389687799
         },
         {
          "complex_annotation": "NADH:quinone oxidoreductase II",
          "mean": 565.1008610154882,
          "std": 296.9384605089144,
          "noise": 0.5254609946537949
         },
         {
          "complex_annotation": "NADP+-dependent aldehyde reductase",
          "mean": 135.24502550856013,
          "std": 136.98237670955587,
          "noise": 1.0128459527029758
         },
         {
          "complex_annotation": "NADP<sup>+</sup>-dependent malate dehydrogenase",
          "mean": 428.5347008499695,
          "std": 288.0839966485905,
          "noise": 0.6722536029805648
         },
         {
          "complex_annotation": "NADPH-dependent aldehyde reductase YqhD",
          "mean": 353.56454930635664,
          "std": 187.5291223010624,
          "noise": 0.5303957160551528
         },
         {
          "complex_annotation": "NADPH-dependent curcumin/dihydrocurcumin reductase",
          "mean": 212.85326779462875,
          "std": 139.90347853731816,
          "noise": 0.6572766299848584
         },
         {
          "complex_annotation": "NADPH-dependent ferric-chelate reductase",
          "mean": 266.0595394697837,
          "std": 267.13911893388484,
          "noise": 1.0040576611770906
         },
         {
          "complex_annotation": "NADPH-dependent nitroreductase NfsA",
          "mean": 107.2101362534835,
          "std": 49.293395711010795,
          "noise": 0.4597829779309617
         },
         {
          "complex_annotation": "NADPH:quinone oxidoreductase MdaB",
          "mean": 284.2847401301328,
          "std": 85.67842930627599,
          "noise": 0.3013824423606285
         },
         {
          "complex_annotation": "NICOTINATEPRIBOSYLTRANS-MONOMER",
          "mean": 561.3910117877613,
          "std": 235.45276983516422,
          "noise": 0.4194095824323229
         },
         {
          "complex_annotation": "Na+:H+ antiporter NhaB",
          "mean": 40.59135109702086,
          "std": 49.581790264669,
          "noise": 1.2214865710224654
         },
         {
          "complex_annotation": "Ni2+/Co2+/Mg2+ transporter",
          "mean": 230.39473250022283,
          "std": 83.70547118347379,
          "noise": 0.36331330267454287
         },
         {
          "complex_annotation": "NikR-Ni DNA-binding transcriptional repressor",
          "mean": 129.5679218803432,
          "std": 84.64898764423283,
          "noise": 0.6533174756202906
         },
         {
          "complex_annotation": "NrdR transcriptional repressor",
          "mean": 297.45536631558963,
          "std": 77.69851915668865,
          "noise": 0.26121068219106613
         },
         {
          "complex_annotation": "NusB-S10 complex",
          "mean": 17233.29618293139,
          "std": 3604.290210262602,
          "noise": 0.20914688472843918
         },
         {
          "complex_annotation": "OmpR dimer",
          "mean": 588.6056112548094,
          "std": 182.29802036291528,
          "noise": 0.30971165900760983
         },
         {
          "complex_annotation": "OsmC family protein YhfA",
          "mean": 385.8591977667959,
          "std": 177.6395426987227,
          "noise": 0.46037400100044734
         },
         {
          "complex_annotation": "Outer Membrane Protein Assembly Complex",
          "mean": 1317.777345698971,
          "std": 197.659167477433,
          "noise": 0.14999435839640368
         },
         {
          "complex_annotation": "P-loop NTPase family protein Mrp",
          "mean": 934.5456090239971,
          "std": 424.47106381528334,
          "noise": 0.454200479587705
         },
         {
          "complex_annotation": "P-loop guanosine triphosphatase YjiA",
          "mean": 146.00298657563786,
          "std": 87.60870116512933,
          "noise": 0.600047322454894
         },
         {
          "complex_annotation": "PBP1B&gamma; // \"peptidoglycan glycosyltransferase / peptidoglycan DD-transpeptidase MrcB\"",
          "mean": 260.60832447614047,
          "std": 147.35838619874983,
          "noise": 0.5654400583517851
         },
         {
          "complex_annotation": "PEPCARBOXYKIN-MONOMER",
          "mean": 4373.8031995665,
          "std": 2034.6149487067578,
          "noise": 0.46518209802133176
         },
         {
          "complex_annotation": "PF04237 family protein YjbR",
          "mean": 489.5810226232995,
          "std": 166.94235656853243,
          "noise": 0.3409902525919262
         },
         {
          "complex_annotation": "PF04293 family protein YcgB",
          "mean": 40.67005189122855,
          "std": 47.05197040678054,
          "noise": 1.1569193600396757
         },
         {
          "complex_annotation": "PF04375 family protein HemX",
          "mean": 454.95626733053905,
          "std": 92.42335088197423,
          "noise": 0.20314776939829682
         },
         {
          "complex_annotation": "PF05166 family protein YcgL",
          "mean": 531.0133276961684,
          "std": 414.4679507802582,
          "noise": 0.7805226896628961
         },
         {
          "complex_annotation": "PF05981 family protein CreA",
          "mean": 335.27905907409655,
          "std": 118.15442090735756,
          "noise": 0.35240620524780664
         },
         {
          "complex_annotation": "PF06983 family protein YjdN",
          "mean": 152.8035288866954,
          "std": 169.40053550760894,
          "noise": 1.1086166447976493
         },
         {
          "complex_annotation": "PF08891 family protein YfcL",
          "mean": 675.2466164468536,
          "std": 649.4752328390797,
          "noise": 0.9618341166322567
         },
         {
          "complex_annotation": "PF09619 family lipoprotein YbaY",
          "mean": 3012.911081752927,
          "std": 1652.8331118773062,
          "noise": 0.5485834354313833
         },
         {
          "complex_annotation": "PF13993 family protein YccJ",
          "mean": 2044.7072330536885,
          "std": 1441.1685066083483,
          "noise": 0.7048287810162537
         },
         {
          "complex_annotation": "PGK",
          "mean": 23761.247079653254,
          "std": 7811.957174094882,
          "noise": 0.32876882042038347
         },
         {
          "complex_annotation": "PHOSPHOGLUCMUT-MONOMER",
          "mean": 1673.9451874522813,
          "std": 476.24639505669796,
          "noise": 0.2845053700841529
         },
         {
          "complex_annotation": "PII uridylyltransferase / uridylyl removing enzyme",
          "mean": 53.749354028298825,
          "std": 68.87590408510718,
          "noise": 1.2814275693219361
         },
         {
          "complex_annotation": "PLP homeostasis protein",
          "mean": 224.36740201666294,
          "std": 112.93836623285358,
          "noise": 0.5033635243700244
         },
         {
          "complex_annotation": "PQQ-like domain-containing protein YncE",
          "mean": 2710.003682813473,
          "std": 2051.9439058336184,
          "noise": 0.7571738440234628
         },
         {
          "complex_annotation": "PRIBFAICARPISOM-MONOMER",
          "mean": 675.5775142254286,
          "std": 548.3198271049145,
          "noise": 0.811631257049135
         },
         {
          "complex_annotation": "PSERPHOSPHA-MONOMER",
          "mean": 117.10656106572264,
          "std": 80.6812311704364,
          "noise": 0.6889556864807636
         },
         {
          "complex_annotation": "PTS enzyme I",
          "mean": 6574.920552012452,
          "std": 1711.7017842869511,
          "noise": 0.26033801788875355
         },
         {
          "complex_annotation": "PUA-like domain-containing protein YqfB",
          "mean": 578.3022019956876,
          "std": 289.40307301130815,
          "noise": 0.500435709932618
         },
         {
          "complex_annotation": "Pasp DNA-binding transcriptional activator CusR // \"DNA-binding transcriptional activator CusR\"",
          "mean": 378.11222300280974,
          "std": 241.31644040290593,
          "noise": 0.6382138045855045
         },
         {
          "complex_annotation": "PhoH-like protein",
          "mean": 950.0420992096251,
          "std": 410.8142963209868,
          "noise": 0.43241693885224486
         },
         {
          "complex_annotation": "Phosphorylated DNA-binding transcriptional activator BaeR // \"DNA-binding transcriptional activator BaeR\"",
          "mean": 159.68767313033115,
          "std": 65.0785138981687,
          "noise": 0.40753624010197725
         },
         {
          "complex_annotation": "Phosphorylated DNA-binding transcriptional activator BtsR // \"DNA-binding transcriptional activator BtsR\"",
          "mean": 352.0353542674967,
          "std": 488.5206353843405,
          "noise": 1.387703335651721
         },
         {
          "complex_annotation": "Phosphorylated DNA-binding transcriptional activator EvgA // \"DNA-binding transcriptional activator EvgA\"",
          "mean": 112.79799049463016,
          "std": 92.641557632222,
          "noise": 0.8213050358962936
         },
         {
          "complex_annotation": "Phosphorylated DNA-binding transcriptional activator UvrY // \"DNA-binding transcriptional activator UvrY\"",
          "mean": 120.26116147951922,
          "std": 34.379099005405564,
          "noise": 0.28587033903926173
         },
         {
          "complex_annotation": "Phosphorylated DNA-binding transcriptional dual regulator ArcA // \"DNA-binding transcriptional dual regulator ArcA\"",
          "mean": 3888.850500419551,
          "std": 1042.5696594592598,
          "noise": 0.26809198742579116
         },
         {
          "complex_annotation": "Phosphorylated DNA-binding transcriptional dual regulator BasR // \"DNA-binding transcriptional dual regulator BasR\"",
          "mean": 427.46449072365687,
          "std": 575.3767658539466,
          "noise": 1.3460223675652878
         },
         {
          "complex_annotation": "Phosphorylated DNA-binding transcriptional dual regulator NarP // \"DNA-binding transcriptional dual regulator NarP\"",
          "mean": 255.03766805974976,
          "std": 54.47327230827873,
          "noise": 0.21358912478574274
         },
         {
          "complex_annotation": "Phosphorylated DNA-binding transcriptional dual regulator PhoP // \"DNA-binding transcriptional dual regulator PhoP\"",
          "mean": 2095.766165956616,
          "std": 967.47543701077,
          "noise": 0.4616332932205555
         },
         {
          "complex_annotation": "Phosphorylated DNA-binding transcriptional regulator RstA // \"DNA-binding transcriptional regulator RstA\"",
          "mean": 122.4798573311997,
          "std": 46.79451327656327,
          "noise": 0.3820588486646053
         },
         {
          "complex_annotation": "PsiF family protein",
          "mean": 185.10416399402217,
          "std": 204.04855690277475,
          "noise": 1.1023444989025983
         },
         {
          "complex_annotation": "Qin prophage; protein GnsB",
          "mean": 3767.677737454904,
          "std": 2119.9956824021883,
          "noise": 0.5626796743593739
         },
         {
          "complex_annotation": "RIBULP3EPIM-MONOMER",
          "mean": 2015.9108032396653,
          "std": 1934.233143911929,
          "noise": 0.9594834954024373
         },
         {
          "complex_annotation": "RNA chaperone ProQ",
          "mean": 1779.539685658263,
          "std": 505.79982475046666,
          "noise": 0.2842307079897283
         },
         {
          "complex_annotation": "RNA polymerase holoenzyme assembly factor Crl",
          "mean": 2681.547916040799,
          "std": 1031.126675839839,
          "noise": 0.3845266644954297
         },
         {
          "complex_annotation": "RNA polymerase sigma 19",
          "mean": 5246.693637731533,
          "std": 952.9083184516065,
          "noise": 0.18162072807125196
         },
         {
          "complex_annotation": "RNA polymerase sigma 24",
          "mean": 4200.191437431524,
          "std": 664.5135165369039,
          "noise": 0.15821029265829448
         },
         {
          "complex_annotation": "RNA polymerase sigma 28",
          "mean": 4864.2025601557325,
          "std": 1447.8492193367463,
          "noise": 0.29765397337613997
         },
         {
          "complex_annotation": "RNA polymerase sigma 32",
          "mean": 5246.693637731533,
          "std": 952.9083184516065,
          "noise": 0.18162072807125196
         },
         {
          "complex_annotation": "RNA polymerase sigma 54",
          "mean": 4368.018476945985,
          "std": 751.5767910539703,
          "noise": 0.17206355582530755
         },
         {
          "complex_annotation": "RNA polymerase sigma 70",
          "mean": 4189.247357278085,
          "std": 894.0551372192685,
          "noise": 0.21341665004956178
         },
         {
          "complex_annotation": "RNA polymerase sigma S",
          "mean": 4014.5835138277853,
          "std": 793.0935761238737,
          "noise": 0.1975531392963059
         },
         {
          "complex_annotation": "RNA polymerase subunit &omega;",
          "mean": 6166.227892625056,
          "std": 2053.062312353423,
          "noise": 0.3329527140586112
         },
         {
          "complex_annotation": "RNA polymerase, core enzyme",
          "mean": 5246.693637731533,
          "std": 952.9083184516065,
          "noise": 0.18162072807125196
         },
         {
          "complex_annotation": "RNA polymerase-binding ATPase and RNAP recycling factor",
          "mean": 122.78103897056805,
          "std": 72.43704007610052,
          "noise": 0.5899692711792777
         },
         {
          "complex_annotation": "RNA polymerase-binding transcription factor DksA",
          "mean": 5262.368590288527,
          "std": 2642.8895219223928,
          "noise": 0.5022243266653215
         },
         {
          "complex_annotation": "RNA-binding protein Hfq",
          "mean": 1017.8189195524502,
          "std": 1085.6052044397034,
          "noise": 1.0665995528134413
         },
         {
          "complex_annotation": "RNase G",
          "mean": 23.302653300065323,
          "std": 13.4721353968648,
          "noise": 0.5781374002087151
         },
         {
          "complex_annotation": "RNase II",
          "mean": 785.8503762307913,
          "std": 155.4736219717219,
          "noise": 0.19784125155914142
         },
         {
          "complex_annotation": "RNase III",
          "mean": 228.70374380541224,
          "std": 47.497708725255194,
          "noise": 0.20768225274732546
         },
         {
          "complex_annotation": "RNase P",
          "mean": 159.1187269427861,
          "std": 114.87236714593091,
          "noise": 0.7219286463197714
         },
         {
          "complex_annotation": "RNase R",
          "mean": 236.88721769597342,
          "std": 128.7286462625529,
          "noise": 0.5434174436029142
         },
         {
          "complex_annotation": "RNase adaptor protein",
          "mean": 40.17035928744488,
          "std": 17.401336138245153,
          "noise": 0.43318846151530155
         },
         {
          "complex_annotation": "RcsAB DNA-binding transcriptional dual regulator",
          "mean": 2164.578278576106,
          "std": 866.2640443486971,
          "noise": 0.40019991557826184
         },
         {
          "complex_annotation": "RcsB-BglJ DNA-binding transcriptional activator",
          "mean": 2164.578278576106,
          "std": 866.2640443486971,
          "noise": 0.40019991557826184
         },
         {
          "complex_annotation": "RcsD-N-phospho-L-histidine // \"RcsD phosphotransferase\"",
          "mean": 41.2312142218746,
          "std": 18.60448270757631,
          "noise": 0.4512232554554743
         },
         {
          "complex_annotation": "RutC family protein YoaB",
          "mean": 1670.1143100958527,
          "std": 434.7502791735647,
          "noise": 0.26031169037083046
         },
         {
          "complex_annotation": "S-(hydroxymethyl)glutathione dehydrogenase",
          "mean": 559.1260260596063,
          "std": 256.14356500723375,
          "noise": 0.4581141872654078
         },
         {
          "complex_annotation": "S-adenosylmethionine decarboxylase proenzyme // \"&beta; cleavage product of SpeD\" // \"&alpha; cleavage product of SpeD\"",
          "mean": 639.346020226199,
          "std": 311.8684131800864,
          "noise": 0.4877928434898964
         },
         {
          "complex_annotation": "S-ribosylhomocysteine lyase",
          "mean": 6626.827824224968,
          "std": 2490.193223203373,
          "noise": 0.37577454692579254
         },
         {
          "complex_annotation": "S49 peptidase family protein",
          "mean": 282.0466491900492,
          "std": 140.1478832385482,
          "noise": 0.4968961114801739
         },
         {
          "complex_annotation": "S6:S18 ribosomal subunit complex",
          "mean": 21631.395931938485,
          "std": 5693.249723967057,
          "noise": 0.26319381984780027
         },
         {
          "complex_annotation": "SARCOX-MONOMER",
          "mean": 430.9029846060492,
          "std": 169.6265683468352,
          "noise": 0.39365373275823423
         },
         {
          "complex_annotation": "Sec Holo-Translocon",
          "mean": 1409.149340715896,
          "std": 376.9780937230401,
          "noise": 0.2675217472205766
         },
         {
          "complex_annotation": "Sec translocon accessory complex",
          "mean": 1725.2454903990113,
          "std": 599.7711009620518,
          "noise": 0.3476439175176966
         },
         {
          "complex_annotation": "SecB chaperone",
          "mean": 2622.744704913598,
          "std": 1019.3886304462009,
          "noise": 0.3886724577258399
         },
         {
          "complex_annotation": "SecYEG translocon",
          "mean": 856.696100621576,
          "std": 71.50629829377242,
          "noise": 0.08346751927771238
         },
         {
          "complex_annotation": "Signal Recognition Particle",
          "mean": 876.6345718452527,
          "std": 403.97136253438777,
          "noise": 0.46082070626539073
         },
         {
          "complex_annotation": "Slp family lipoprotein YeaY",
          "mean": 48.66583109554092,
          "std": 26.175297353987773,
          "noise": 0.5378578103926828
         },
         {
          "complex_annotation": "SsrA-binding protein",
          "mean": 453.0595092486184,
          "std": 176.70687470697104,
          "noise": 0.39003016402863394
         },
         {
          "complex_annotation": "SufBC<sub>2</sub>D Fe-S cluster scaffold complex",
          "mean": 178.760384305455,
          "std": 181.12950835138764,
          "noise": 1.0132530708922869
         },
         {
          "complex_annotation": "THRESYN-MONOMER",
          "mean": 9422.593663664718,
          "std": 2633.1251222325327,
          "noise": 0.2794480178410277
         },
         {
          "complex_annotation": "TREHALOSE6PSYN-MONOMER",
          "mean": 268.595907399149,
          "std": 219.43920194648786,
          "noise": 0.8169863944367126
         },
         {
          "complex_annotation": "TREHALOSEPHOSPHASYN-MONOMER",
          "mean": 103.00640878742625,
          "std": 2.5951544651833114,
          "noise": 0.025194106810760845
         },
         {
          "complex_annotation": "TSA-REDUCT-MONOMER",
          "mean": 46.091017508965926,
          "std": 26.899822906179477,
          "noise": 0.5836239762106954
         },
         {
          "complex_annotation": "Tap<SUP>gln</SUP>",
          "mean": 48.90953694215916,
          "std": 61.006886648573015,
          "noise": 1.247341325695238
         },
         {
          "complex_annotation": "Tap<SUP>glu-Me</SUP>",
          "mean": 48.90953694215916,
          "std": 61.006886648573015,
          "noise": 1.247341325695238
         },
         {
          "complex_annotation": "Tap<SUP>glu</SUP>",
          "mean": 48.90953694215916,
          "std": 61.006886648573015,
          "noise": 1.247341325695238
         },
         {
          "complex_annotation": "Tar<SUP>gln</SUP>",
          "mean": 49.82605762705724,
          "std": 64.65864857666328,
          "noise": 1.2976874281450566
         },
         {
          "complex_annotation": "Tar<SUP>glu-Me</SUP>",
          "mean": 49.82605762705724,
          "std": 64.65864857666328,
          "noise": 1.2976874281450566
         },
         {
          "complex_annotation": "Tar<SUP>glu</SUP>",
          "mean": 49.82605762705724,
          "std": 64.65864857666328,
          "noise": 1.2976874281450566
         },
         {
          "complex_annotation": "The Tol-Pal Cell Envelope Complex",
          "mean": 4076.6504302780245,
          "std": 2392.462706334068,
          "noise": 0.5868697223987646
         },
         {
          "complex_annotation": "ThiS adenylyltransferase",
          "mean": 795.3360590364873,
          "std": 307.9641288919634,
          "noise": 0.38721258189280094
         },
         {
          "complex_annotation": "Trg<SUP>gln</SUP>",
          "mean": 60.30256842869476,
          "std": 79.82728059075937,
          "noise": 1.323779113739604
         },
         {
          "complex_annotation": "Trg<SUP>glu-Me</SUP>",
          "mean": 60.30256842869476,
          "std": 79.82728059075937,
          "noise": 1.323779113739604
         },
         {
          "complex_annotation": "Trg<SUP>glu</SUP>",
          "mean": 60.30256842869476,
          "std": 79.82728059075937,
          "noise": 1.323779113739604
         },
         {
          "complex_annotation": "Tsr<SUP>gln</SUP>",
          "mean": 48.899007521812976,
          "std": 63.625901477430034,
          "noise": 1.3011695881362757
         },
         {
          "complex_annotation": "Tsr<SUP>glu-Me</SUP>",
          "mean": 48.899007521812976,
          "std": 63.625901477430034,
          "noise": 1.3011695881362757
         },
         {
          "complex_annotation": "Tsr<SUP>glu</SUP>",
          "mean": 48.899007521812976,
          "std": 63.625901477430034,
          "noise": 1.3011695881362757
         },
         {
          "complex_annotation": "UDP-3-<i>O</i>-(3-hydroxymyristoyl)glucosamine <i>N</i>-acyltransferase",
          "mean": 187.33521639760045,
          "std": 239.17078041048876,
          "noise": 1.2766995176329925
         },
         {
          "complex_annotation": "UDP-4-amino-4-deoxy-L-arabinose formyltransferase/UDP-glucuronate dehydrogenase",
          "mean": 2.6846893843047757,
          "std": 3.1310225472306414,
          "noise": 1.1662513233505587
         },
         {
          "complex_annotation": "UDP-<i>N</i>-acetylmuramate&mdash;L-alanine ligase",
          "mean": 112.3082414563886,
          "std": 72.52082522504635,
          "noise": 0.6457302178772655
         },
         {
          "complex_annotation": "UDP-N-acetylenolpyruvoylglucosamine reductase",
          "mean": 31.470712948290622,
          "std": 24.913163347965472,
          "noise": 0.7916300907736082
         },
         {
          "complex_annotation": "UDP-N-acetylmuramate&mdash;L-alanyl-&gamma;-D-glutamyl-meso-2,6-diaminoheptanedioate ligase",
          "mean": 319.06214094548915,
          "std": 112.71824254228528,
          "noise": 0.35327990405963855
         },
         {
          "complex_annotation": "UDP-N-acetylmuramoyl-L-alanine&mdash;D-glutamate ligase",
          "mean": 135.90368471469654,
          "std": 71.09191104823543,
          "noise": 0.5231051034229066
         },
         {
          "complex_annotation": "UDP-NACMURALGLDAPAALIG-MONOMER",
          "mean": 239.24325303112064,
          "std": 175.1573932692753,
          "noise": 0.7321309631519302
         },
         {
          "complex_annotation": "UDP-NACMURALGLDAPLIG-MONOMER",
          "mean": 243.90180924195138,
          "std": 136.91101317889482,
          "noise": 0.5613366034652029
         },
         {
          "complex_annotation": "UDP-glucose 4-epimerase",
          "mean": 324.80010227736943,
          "std": 34.90910183393338,
          "noise": 0.10747872795964228
         },
         {
          "complex_annotation": "UDPACYLGLCNACDEACETYL-MONOMER",
          "mean": 90.01378693932583,
          "std": 32.965508214611106,
          "noise": 0.3662273228970096
         },
         {
          "complex_annotation": "UDPNACETYLGLUCOSAMENOLPYRTRANS-MONOMER",
          "mean": 583.1202455430034,
          "std": 230.05156060178152,
          "noise": 0.39451821877245363
         },
         {
          "complex_annotation": "UMP kinase",
          "mean": 198.91865346429208,
          "std": 144.67013468832172,
          "noise": 0.7272828976508806
         },
         {
          "complex_annotation": "UMP phosphatase",
          "mean": 680.5211524405169,
          "std": 415.1668854672019,
          "noise": 0.6100719778926944
         },
         {
          "complex_annotation": "UPF0149 family protein YecA",
          "mean": 708.7522306253386,
          "std": 699.4807259162735,
          "noise": 0.9869185530451385
         },
         {
          "complex_annotation": "UPF0149 family protein YgfB",
          "mean": 753.3635717289611,
          "std": 632.6370072600096,
          "noise": 0.8397499308442995
         },
         {
          "complex_annotation": "UPF0227 protein YcfP",
          "mean": 1080.909406848768,
          "std": 453.7909401527754,
          "noise": 0.4198232870187854
         },
         {
          "complex_annotation": "UPF0253 family protein YaeP",
          "mean": 1096.2688888464174,
          "std": 701.4946515688982,
          "noise": 0.6398928754669555
         },
         {
          "complex_annotation": "UPF0304 family protein YfbU",
          "mean": 2023.3589982389683,
          "std": 711.6107231937885,
          "noise": 0.3516977085199114
         },
         {
          "complex_annotation": "UPF0434 family protein YcaR",
          "mean": 1361.9913414980608,
          "std": 285.99286663700127,
          "noise": 0.2099814131875731
         },
         {
          "complex_annotation": "UPF0701 family protein YicC",
          "mean": 691.1067719903168,
          "std": 178.90356574782712,
          "noise": 0.2588653056207265
         },
         {
          "complex_annotation": "UROGENIIISYN-MONOMER",
          "mean": 19.224724104041343,
          "std": 11.83008569805449,
          "noise": 0.6153578919537065
         },
         {
          "complex_annotation": "UTP&mdash;glucose-1-phosphate uridylyltransferase",
          "mean": 525.5395729532025,
          "std": 161.33139999772393,
          "noise": 0.3069824011370689
         },
         {
          "complex_annotation": "UTP:glucose-1-phosphate uridylyltransferase, low activity",
          "mean": 3624.6505028365195,
          "std": 1643.9819051903387,
          "noise": 0.45355597840504025
         },
         {
          "complex_annotation": "Ubi complex",
          "mean": 669.7727190141017,
          "std": 166.32126488416688,
          "noise": 0.24832493196944483
         },
         {
          "complex_annotation": "VOC domain-containing protein YaeR",
          "mean": 310.2222151124353,
          "std": 179.32388397908224,
          "noise": 0.5780497825215033
         },
         {
          "complex_annotation": "XASA-MONOMER",
          "mean": 163.21898755179188,
          "std": 165.59587895757693,
          "noise": 1.0145625912857157
         },
         {
          "complex_annotation": "Xaa-Pro aminopeptidase",
          "mean": 187.77124824965563,
          "std": 129.76617163368147,
          "noise": 0.6910864833850805
         },
         {
          "complex_annotation": "Xaa-Pro dipeptidase",
          "mean": 692.4234493355007,
          "std": 178.30566853840398,
          "noise": 0.2575095755487757
         },
         {
          "complex_annotation": "YGJU-MONOMER",
          "mean": 208.6664374720868,
          "std": 65.88698178341448,
          "noise": 0.31575265568152594
         },
         {
          "complex_annotation": "Z-ring inhibitor complex MinCD",
          "mean": 78.26044112895275,
          "std": 28.276541666435545,
          "noise": 0.36131334373445706
         },
         {
          "complex_annotation": "Z-ring positioning protein MinC",
          "mean": 78.26044112895275,
          "std": 28.276541666435545,
          "noise": 0.36131334373445706
         },
         {
          "complex_annotation": "Z-ring positioning protein MinD",
          "mean": 3014.6562663615573,
          "std": 240.8727341858079,
          "noise": 0.07990056341531816
         },
         {
          "complex_annotation": "Z-ring positioning protein MinE",
          "mean": 2179.8106733103505,
          "std": 819.2833070026559,
          "noise": 0.3758506722780921
         },
         {
          "complex_annotation": "Zn2+/Cd2+/Pb2+ exporting P-type ATPase",
          "mean": 266.6084337854293,
          "std": 358.9709643198227,
          "noise": 1.3464351416907097
         },
         {
          "complex_annotation": "Zn<sup>2+</sup> ABC transporter",
          "mean": 99.24677848974467,
          "std": 65.70256633263037,
          "noise": 0.6620120807187663
         },
         {
          "complex_annotation": "[Fe-S] cluster biosynthesis co-chaperone HscB",
          "mean": 547.3826344250753,
          "std": 352.32608559539307,
          "noise": 0.6436559427308958
         },
         {
          "complex_annotation": "[acyl-carrier-protein] S-malonyltransferase",
          "mean": 3965.5672534787955,
          "std": 2201.7495996088783,
          "noise": 0.555216809821443
         },
         {
          "complex_annotation": "acetate kinase",
          "mean": 1980.5742698272197,
          "std": 916.9094512709295,
          "noise": 0.46295130924371664
         },
         {
          "complex_annotation": "acetohydroxybutanoate synthase",
          "mean": 1266.4203584432437,
          "std": 348.7762539629524,
          "noise": 0.27540322740206746
         },
         {
          "complex_annotation": "acetolactate synthase",
          "mean": 541.2345491696433,
          "std": 235.82152160279767,
          "noise": 0.43571039942773926
         },
         {
          "complex_annotation": "acetyl-CoA carboxylase complex",
          "mean": 1189.1061918403639,
          "std": 341.47059672577086,
          "noise": 0.2871657712901834
         },
         {
          "complex_annotation": "acetyl-CoA carboxyltransferase",
          "mean": 807.0387490184645,
          "std": 143.42511162705995,
          "noise": 0.1777177512250759
         },
         {
          "complex_annotation": "acetyl-CoA synthetase (AMP-forming)",
          "mean": 4877.697684994231,
          "std": 3142.3557589600355,
          "noise": 0.6442292987175469
         },
         {
          "complex_annotation": "acetylglutamate kinase",
          "mean": 1047.056979398843,
          "std": 496.9536042011407,
          "noise": 0.4746194466765902
         },
         {
          "complex_annotation": "acetylornithine deacetylase",
          "mean": 460.4232419277774,
          "std": 306.9608462566663,
          "noise": 0.6666927693993705
         },
         {
          "complex_annotation": "acidic protein that suppresses heat sensitivity of a secY mutant",
          "mean": 2195.8199743072587,
          "std": 3033.0825314443678,
          "noise": 1.3812983609465754
         },
         {
          "complex_annotation": "aconitate hydratase A",
          "mean": 521.9847664321569,
          "std": 195.35909278479,
          "noise": 0.374262057722677
         },
         {
          "complex_annotation": "acrylyl-CoA reductase",
          "mean": 423.9042202761214,
          "std": 199.30428447256332,
          "noise": 0.47016348254976353
         },
         {
          "complex_annotation": "activated pyruvate-formate lyase",
          "mean": 3775.609861285262,
          "std": 783.7668572888019,
          "noise": 0.2075868233435534
         },
         {
          "complex_annotation": "acyl-CoA dehydrogenase",
          "mean": 162.0693048743861,
          "std": 50.85229409424921,
          "noise": 0.313768817196217
         },
         {
          "complex_annotation": "acyl-CoA thioesterase II",
          "mean": 50.22727482504572,
          "std": 23.858861152371343,
          "noise": 0.47501803025304046
         },
         {
          "complex_annotation": "acyl-CoA thioesterase YciA",
          "mean": 87.2442926995233,
          "std": 49.69412902689488,
          "noise": 0.569597477259007
         },
         {
          "complex_annotation": "acyl-[acyl-carrier-protein]&mdash;UDP-<i>N</i>-acetylglucosamine <i>O</i>-acyltransferase",
          "mean": 283.96786793868114,
          "std": 87.02682140413924,
          "noise": 0.3064671437506847
         },
         {
          "complex_annotation": "acylphosphatase",
          "mean": 225.7093670823414,
          "std": 122.55077373778623,
          "noise": 0.5429582977523404
         },
         {
          "complex_annotation": "adenine phosphoribosyltransferase",
          "mean": 760.2353925865282,
          "std": 343.13713009873703,
          "noise": 0.45135642650270585
         },
         {
          "complex_annotation": "adenine:H+ symporter",
          "mean": 153.91397862517545,
          "std": 115.89599290068458,
          "noise": 0.7529919890052642
         },
         {
          "complex_annotation": "adenosine deaminase",
          "mean": 265.89409763935106,
          "std": 26.634217955019388,
          "noise": 0.10016851893848752
         },
         {
          "complex_annotation": "adenosylmethionine-8-amino-7-oxononanoate aminotransferase",
          "mean": 46.408256076455515,
          "std": 30.481216478172957,
          "noise": 0.6568059016903485
         },
         {
          "complex_annotation": "adenylate kinase",
          "mean": 5604.431423320927,
          "std": 1673.5198256452018,
          "noise": 0.29860653101783363
         },
         {
          "complex_annotation": "adenylosuccinate lyase",
          "mean": 2126.388206343988,
          "std": 1768.0858811418284,
          "noise": 0.8314972194949258
         },
         {
          "complex_annotation": "adenylosuccinate synthetase",
          "mean": 4323.35549263655,
          "std": 1162.3926074095418,
          "noise": 0.26886352727396695
         },
         {
          "complex_annotation": "adenylyl-sulfate kinase",
          "mean": 177.91862586309674,
          "std": 68.00331533052284,
          "noise": 0.38221583041479557
         },
         {
          "complex_annotation": "aerobic fatty acid oxidation complex",
          "mean": 357.7506270143394,
          "std": 274.33322226602246,
          "noise": 0.766828068354515
         },
         {
          "complex_annotation": "agmatinase",
          "mean": 566.0303793056241,
          "std": 416.6435272157543,
          "noise": 0.7360797979198048
         },
         {
          "complex_annotation": "alanine racemase 2",
          "mean": 21.005955639538794,
          "std": 7.2039059164917,
          "noise": 0.3429458787836357
         },
         {
          "complex_annotation": "alanine&mdash;tRNA ligase/DNA-binding transcriptional repressor",
          "mean": 1035.640167721134,
          "std": 390.8622027807631,
          "noise": 0.37741120416450497
         },
         {
          "complex_annotation": "alcohol dehydrogenase/aldehyde-dehydrogenase",
          "mean": 188.86631745420834,
          "std": 83.42365405842975,
          "noise": 0.44170742132808444
         },
         {
          "complex_annotation": "aldehyde dehydrogenase A, NAD-linked",
          "mean": 3526.088295453446,
          "std": 62.9592055588339,
          "noise": 0.017855254969086787
         },
         {
          "complex_annotation": "aldehyde dehydrogenase B",
          "mean": 141.39157380065313,
          "std": 151.9658012257491,
          "noise": 1.0747868288106368
         },
         {
          "complex_annotation": "aldehyde reductase, NADPH-dependent",
          "mean": 1016.5863893846035,
          "std": 305.93517022515914,
          "noise": 0.30094360245208357
         },
         {
          "complex_annotation": "alkyl hydroperoxide reductase",
          "mean": 2537.8767235489604,
          "std": 716.1813545358095,
          "noise": 0.2821970617762329
         },
         {
          "complex_annotation": "amidophosphoribosyltransferase",
          "mean": 378.0765869398971,
          "std": 263.1386530805304,
          "noise": 0.6959929870567775
         },
         {
          "complex_annotation": "aminopeptidase A/I and DNA-binding transcriptional repressor",
          "mean": 165.1584292876743,
          "std": 59.05809126012297,
          "noise": 0.35758448124530845
         },
         {
          "complex_annotation": "aminopeptidase B",
          "mean": 500.07455907622915,
          "std": 136.7560060908511,
          "noise": 0.2734712326567379
         },
         {
          "complex_annotation": "aminopeptidase N",
          "mean": 1260.0790413401633,
          "std": 495.87391204488193,
          "noise": 0.3935260374757863
         },
         {
          "complex_annotation": "anaerobic fatty acid &beta;-oxidation complex",
          "mean": 59.01604657454817,
          "std": 31.957597801658935,
          "noise": 0.5415069232279154
         },
         {
          "complex_annotation": "ancillary SecYEG translocon subunit",
          "mean": 943.0274869258919,
          "std": 368.43288781006277,
          "noise": 0.3906915682925541
         },
         {
          "complex_annotation": "anhydro-N-acetylmuramic acid kinase",
          "mean": 105.3871151073887,
          "std": 46.049868810109935,
          "noise": 0.43695919338132994
         },
         {
          "complex_annotation": "anthranilate synthase",
          "mean": 272.065021536629,
          "std": 167.74934241449077,
          "noise": 0.6165781307241884
         },
         {
          "complex_annotation": "anti-adaptor protein for &sigma;S stabilization",
          "mean": 2069.833719962322,
          "std": 1360.2759910394968,
          "noise": 0.6571909510993272
         },
         {
          "complex_annotation": "anti-sigma factor stabilizing protein RseB",
          "mean": 104.017225812092,
          "std": 91.68729024040344,
          "noise": 0.8814625608842647
         },
         {
          "complex_annotation": "apolipoprotein N-acyltransferase",
          "mean": 28.826624476431682,
          "std": 3.980319946822275,
          "noise": 0.13807790607174764
         },
         {
          "complex_annotation": "arabinose ABC transporter",
          "mean": 100.69132568246562,
          "std": 5.055849962244305,
          "noise": 0.05021137548817406
         },
         {
          "complex_annotation": "arginine decarboxylase, biosynthetic",
          "mean": 283.5906610259653,
          "std": 149.24843949196315,
          "noise": 0.5262812215043221
         },
         {
          "complex_annotation": "arginine&mdash;tRNA ligase",
          "mean": 722.4663556934273,
          "std": 293.7345415276358,
          "noise": 0.4065719312918146
         },
         {
          "complex_annotation": "argininosuccinate synthetase",
          "mean": 1805.9529992408413,
          "std": 964.867928026144,
          "noise": 0.5342707858021445
         },
         {
          "complex_annotation": "aromatic amino acid:H+ symporter AroP",
          "mean": 336.65123500295726,
          "std": 365.1418003229698,
          "noise": 1.084629320667017
         },
         {
          "complex_annotation": "asparagine synthetase A",
          "mean": 318.293806926547,
          "std": 136.52524637079927,
          "noise": 0.42892837812048706
         },
         {
          "complex_annotation": "asparagine synthetase B",
          "mean": 459.0848678258298,
          "std": 257.0386951120363,
          "noise": 0.5598936343280935
         },
         {
          "complex_annotation": "asparagine&mdash;tRNA ligase",
          "mean": 2014.775481342375,
          "std": 733.8300803305651,
          "noise": 0.3642242458904848
         },
         {
          "complex_annotation": "aspartate 1-decarboxylase",
          "mean": 145.21854369326095,
          "std": 79.63119542470162,
          "noise": 0.5483541798415446
         },
         {
          "complex_annotation": "aspartate aminotransferase",
          "mean": 4913.808638425072,
          "std": 710.084214596892,
          "noise": 0.14450790961702603
         },
         {
          "complex_annotation": "aspartate ammonia-lyase",
          "mean": 217.30667974476128,
          "std": 186.35198592089546,
          "noise": 0.8575529575978804
         },
         {
          "complex_annotation": "aspartate carbamoyltransferase",
          "mean": 3269.7300922511326,
          "std": 809.2713474013,
          "noise": 0.24750402160691362
         },
         {
          "complex_annotation": "aspartate carbamoyltransferase catalytic subunit",
          "mean": 5979.839100530509,
          "std": 2217.3462964224263,
          "noise": 0.3708036719960762
         },
         {
          "complex_annotation": "aspartate carbamoyltransferase, regulatory subunit",
          "mean": 10648.621902711033,
          "std": 1542.9660687215992,
          "noise": 0.14489819272564983
         },
         {
          "complex_annotation": "aspartate kinase III",
          "mean": 674.2485074120692,
          "std": 399.43538427901717,
          "noise": 0.5924156744701563
         },
         {
          "complex_annotation": "aspartate&mdash;tRNA ligase",
          "mean": 1141.4268687644087,
          "std": 367.9264678626784,
          "noise": 0.32233906343991864
         },
         {
          "complex_annotation": "aspartate-semialdehyde dehydrogenase",
          "mean": 5828.838780603531,
          "std": 4226.273936070287,
          "noise": 0.7250627603792963
         },
         {
          "complex_annotation": "assimilatory sulfite reductase (NADPH)",
          "mean": 439.06119174135443,
          "std": 223.81948972838313,
          "noise": 0.5097683282840275
         },
         {
          "complex_annotation": "bacterial condensin MukBEF",
          "mean": 64.32657574489387,
          "std": 22.430109656131222,
          "noise": 0.3486911808438938
         },
         {
          "complex_annotation": "bacterioferritin",
          "mean": 245.67511448247248,
          "std": 150.1016154867614,
          "noise": 0.6109760681416933
         },
         {
          "complex_annotation": "bifunctional 5,10-methylene-tetrahydrofolate dehydrogenase/ 5,10-methylene-tetrahydrofolate cyclohydrolase",
          "mean": 505.94122703549834,
          "std": 320.74083421719644,
          "noise": 0.6339488009240495
         },
         {
          "complex_annotation": "bifunctional AICAR transformylase/IMP cyclohydrolase",
          "mean": 2336.5511043678384,
          "std": 293.2987255664648,
          "noise": 0.12552634736650356
         },
         {
          "complex_annotation": "bifunctional folylpolyglutamate synthetase / dihydrofolate synthetase",
          "mean": 167.1929814442408,
          "std": 93.04386631388847,
          "noise": 0.5565058144795318
         },
         {
          "complex_annotation": "bifunctional hydroxymethylpyrimidine kinase/phosphomethylpyrimidine kinase",
          "mean": 1210.6338228883503,
          "std": 1069.1047943360109,
          "noise": 0.883095097892873
         },
         {
          "complex_annotation": "bifunctional riboflavin kinase / FMN adenylyltransferase",
          "mean": 418.40197277051226,
          "std": 402.7791617207921,
          "noise": 0.9626607615010242
         },
         {
          "complex_annotation": "biotin carboxyl carrier protein",
          "mean": 2724.1366878087697,
          "std": 1550.4825716106536,
          "noise": 0.569164748064762
         },
         {
          "complex_annotation": "biotin carboxylase",
          "mean": 1762.2073560732133,
          "std": 657.4038961327053,
          "noise": 0.3730570604344887
         },
         {
          "complex_annotation": "biotin synthase",
          "mean": 63.53369901562284,
          "std": 8.0711938333616,
          "noise": 0.12703799650287803
         },
         {
          "complex_annotation": "branched chain amino acid / phenylalanine ABC transporter",
          "mean": 7086.653138127022,
          "std": 2936.9001261745766,
          "noise": 0.41442696134988044
         },
         {
          "complex_annotation": "branched-chain-amino-acid aminotransferase",
          "mean": 450.08442637161676,
          "std": 159.3253652214613,
          "noise": 0.3539899536313054
         },
         {
          "complex_annotation": "cAMP phosphodiesterase",
          "mean": 151.2744338721593,
          "std": 95.31978419535265,
          "noise": 0.6301116570425017
         },
         {
          "complex_annotation": "carbamoyl phosphate synthetase",
          "mean": 1732.6721846857351,
          "std": 361.94615981806567,
          "noise": 0.20889477133478307
         },
         {
          "complex_annotation": "carbon starvation protein A",
          "mean": 983.0153631961899,
          "std": 882.2336072490216,
          "noise": 0.8974769268920832
         },
         {
          "complex_annotation": "carbon storage regulator",
          "mean": 2076.0631584807543,
          "std": 1692.295173126149,
          "noise": 0.8151462859947655
         },
         {
          "complex_annotation": "carbonic anhydrase 2",
          "mean": 854.3546533526975,
          "std": 368.6922617164009,
          "noise": 0.4315447458143546
         },
         {
          "complex_annotation": "carboxy-<i>S</i>-adenosyl-L-methionine synthase",
          "mean": 164.48277244591262,
          "std": 99.68042226021892,
          "noise": 0.6060234806231586
         },
         {
          "complex_annotation": "catalase HPII",
          "mean": 561.121355615735,
          "std": 562.8822153608514,
          "noise": 1.0031381085882647
         },
         {
          "complex_annotation": "catalase/hydroperoxidase HPI",
          "mean": 817.8440590355425,
          "std": 555.5340295746221,
          "noise": 0.6792664487038589
         },
         {
          "complex_annotation": "cell division coordinator CpoB",
          "mean": 948.7146811899347,
          "std": 367.95348677826127,
          "noise": 0.3878442002359993
         },
         {
          "complex_annotation": "cell division factor ZapB",
          "mean": 3804.955711536602,
          "std": 148.38778277589756,
          "noise": 0.03899855715166059
         },
         {
          "complex_annotation": "cell division factor ZapD",
          "mean": 106.15597841018409,
          "std": 53.27561886305166,
          "noise": 0.5018616912671275
         },
         {
          "complex_annotation": "cell division protein DamX",
          "mean": 465.0852668864054,
          "std": 255.81171918094552,
          "noise": 0.5500318702708469
         },
         {
          "complex_annotation": "cell division protein DedD",
          "mean": 67.09504501229465,
          "std": 52.12936674775973,
          "noise": 0.7769480851858349
         },
         {
          "complex_annotation": "cell division protein FtsA",
          "mean": 448.17516969690513,
          "std": 217.24497241122089,
          "noise": 0.48473228125989387
         },
         {
          "complex_annotation": "cell division protein FtsN",
          "mean": 95.50826183976513,
          "std": 79.58010319844745,
          "noise": 0.8332274262509304
         },
         {
          "complex_annotation": "cell division protein FtsZ",
          "mean": 3726.261315926798,
          "std": 951.8724837107023,
          "noise": 0.25544973983499386
         },
         {
          "complex_annotation": "cell division protein YtfB",
          "mean": 154.48777609389242,
          "std": 51.48187678487405,
          "noise": 0.33324239681970125
         },
         {
          "complex_annotation": "cell division protein ZapA",
          "mean": 140.20151171046493,
          "std": 67.10997650878014,
          "noise": 0.47866799501685336
         },
         {
          "complex_annotation": "cell division protein ZapE",
          "mean": 27.716082323575073,
          "std": 2.0427042937665165,
          "noise": 0.07370104728073379
         },
         {
          "complex_annotation": "cell division protein ZipA",
          "mean": 783.6537267534733,
          "std": 500.2215923386641,
          "noise": 0.6383196752103585
         },
         {
          "complex_annotation": "cell division protein required during stress conditions",
          "mean": 206.46627152164436,
          "std": 252.70319821531973,
          "noise": 1.2239442130325304
         },
         {
          "complex_annotation": "chaperedoxin",
          "mean": 1997.8654015904401,
          "std": 1078.56598975579,
          "noise": 0.5398591861579746
         },
         {
          "complex_annotation": "chaperone protein DnaJ",
          "mean": 328.81476414187745,
          "std": 14.85748990583098,
          "noise": 0.045184984149374295
         },
         {
          "complex_annotation": "chaperone protein DnaK",
          "mean": 14905.865165843117,
          "std": 2200.83696740421,
          "noise": 0.14764905913998483
         },
         {
          "complex_annotation": "chaperone protein HtpG",
          "mean": 1112.3622214375523,
          "std": 147.60902683604982,
          "noise": 0.1326987055037598
         },
         {
          "complex_annotation": "chaperone protein YcdY",
          "mean": 662.7050836763984,
          "std": 480.72893230663306,
          "noise": 0.7254040208047883
         },
         {
          "complex_annotation": "chemotaxis protein CheA(L)",
          "mean": 41.50923952031109,
          "std": 54.702631235659155,
          "noise": 1.3178422892785675
         },
         {
          "complex_annotation": "chemotaxis signaling complex - aspartate sensing",
          "mean": 49.82605762705724,
          "std": 64.65864857666328,
          "noise": 1.2976874281450566
         },
         {
          "complex_annotation": "chemotaxis signaling complex - dipeptide sensing",
          "mean": 48.90953694215916,
          "std": 61.006886648573015,
          "noise": 1.247341325695238
         },
         {
          "complex_annotation": "chemotaxis signaling complex - ribose/galactose/glucose sensing",
          "mean": 60.30256842869476,
          "std": 79.82728059075937,
          "noise": 1.323779113739604
         },
         {
          "complex_annotation": "chemotaxis signaling complex - serine sensing",
          "mean": 48.899007521812976,
          "std": 63.625901477430034,
          "noise": 1.3011695881362757
         },
         {
          "complex_annotation": "chorismate synthase",
          "mean": 144.50684336948908,
          "std": 67.68724353636826,
          "noise": 0.4684016476873622
         },
         {
          "complex_annotation": "chromate reductase",
          "mean": 681.0289001941486,
          "std": 474.33264632226616,
          "noise": 0.6964941519912632
         },
         {
          "complex_annotation": "chromosomal replication initiator protein DnaA",
          "mean": 55.152271562838756,
          "std": 16.389680134878382,
          "noise": 0.29717144317808375
         },
         {
          "complex_annotation": "chromosome partitioning protein MukB",
          "mean": 77.69801589681913,
          "std": 48.423441838308264,
          "noise": 0.6232262340213847
         },
         {
          "complex_annotation": "citrate synthase",
          "mean": 2925.996680525897,
          "std": 1321.4587159153887,
          "noise": 0.45162686776455246
         },
         {
          "complex_annotation": "cobalamin-dependent methionine synthase",
          "mean": 389.8402148879791,
          "std": 227.52303886144202,
          "noise": 0.5836315243331706
         },
         {
          "complex_annotation": "cold shock protein CspA",
          "mean": 1038.3914469522092,
          "std": 14.031063583964055,
          "noise": 0.013512306582596322
         },
         {
          "complex_annotation": "copper/silver export system",
          "mean": 1696.5584319721493,
          "std": 2217.9017086516506,
          "noise": 1.307294618832238
         },
         {
          "complex_annotation": "coproporphyrinogen III dehydrogenase",
          "mean": 53.24007940564159,
          "std": 17.36445171153758,
          "noise": 0.32615375306329003
         },
         {
          "complex_annotation": "curved DNA-binding protein",
          "mean": 198.98132416143824,
          "std": 197.73835417086906,
          "noise": 0.9937533334054972
         },
         {
          "complex_annotation": "cyclic pyranopterin monophosphate synthase",
          "mean": 52.61710120946004,
          "std": 20.359553732921796,
          "noise": 0.3869379586662092
         },
         {
          "complex_annotation": "cyclopropane fatty acyl phospholipid synthase",
          "mean": 85.0749001907649,
          "std": 89.60250010540726,
          "noise": 1.0532189859111212
         },
         {
          "complex_annotation": "cystathionine &beta;-lyase",
          "mean": 285.45325809219315,
          "std": 214.65829100348444,
          "noise": 0.7519910350231701
         },
         {
          "complex_annotation": "cysteine desulfurase",
          "mean": 4165.648475494641,
          "std": 1536.696668011549,
          "noise": 0.3688973462478917
         },
         {
          "complex_annotation": "cysteine synthase A",
          "mean": 23785.998781783437,
          "std": 7684.927097966047,
          "noise": 0.32308616377511823
         },
         {
          "complex_annotation": "cysteine synthase B",
          "mean": 561.9448662075816,
          "std": 273.9187765957207,
          "noise": 0.4874477783636082
         },
         {
          "complex_annotation": "cysteine synthase complex",
          "mean": 11925.478819595373,
          "std": 3850.072638457132,
          "noise": 0.3228442812820964
         },
         {
          "complex_annotation": "cysteine&mdash;tRNA ligase",
          "mean": 647.9509062162325,
          "std": 284.9169532090967,
          "noise": 0.43971997025653503
         },
         {
          "complex_annotation": "cystine ABC transporter",
          "mean": 5131.664325100778,
          "std": 4135.646750892446,
          "noise": 0.8059074968453297
         },
         {
          "complex_annotation": "cystine/sulfocysteine:cation symporter",
          "mean": 1686.4107275180656,
          "std": 122.69814723975658,
          "noise": 0.07275697743000878
         },
         {
          "complex_annotation": "cytidine/deoxycytidine deaminase",
          "mean": 204.42827053970765,
          "std": 172.0618115247005,
          "noise": 0.8416732728327788
         },
         {
          "complex_annotation": "cytidylate kinase",
          "mean": 529.7151975762946,
          "std": 252.6792630809298,
          "noise": 0.47700965393679595
         },
         {
          "complex_annotation": "cytochrome <i>bd</i>-I ubiquinol oxidase",
          "mean": 633.8940234966122,
          "std": 324.8367376291305,
          "noise": 0.5124464430778255
         },
         {
          "complex_annotation": "cytochrome <i>bo<sub>3</sub></i> ubiquinol oxidase",
          "mean": 2115.43643009975,
          "std": 1346.4228931851048,
          "noise": 0.6364752322628842
         },
         {
          "complex_annotation": "cytosine/isoguanine deaminase",
          "mean": 384.5168520994237,
          "std": 127.0586586131505,
          "noise": 0.3304371652878746
         },
         {
          "complex_annotation": "dCMP phosphohydrolase",
          "mean": 30.65212588551382,
          "std": 19.080069871332075,
          "noise": 0.6224713399193401
         },
         {
          "complex_annotation": "dCTP deaminase",
          "mean": 110.40555497269543,
          "std": 98.83305051006516,
          "noise": 0.8951818641236641
         },
         {
          "complex_annotation": "dITP/XTP pyrophosphatase",
          "mean": 206.4871904970539,
          "std": 41.93315100254209,
          "noise": 0.20307870382468293
         },
         {
          "complex_annotation": "dTDP-4-dehydro-6-deoxy-D-glucose transaminase",
          "mean": 97.87261864423527,
          "std": 70.72343407589965,
          "noise": 0.7226069462080882
         },
         {
          "complex_annotation": "dTDP-glucose 4,6-dehydratase 1",
          "mean": 469.23241454747176,
          "std": 173.1739649967491,
          "noise": 0.36905797559565073
         },
         {
          "complex_annotation": "dTDP-glucose pyrophosphorylase",
          "mean": 333.44632038733573,
          "std": 221.17046782954245,
          "noise": 0.6632865751003876
         },
         {
          "complex_annotation": "dTMP kinase",
          "mean": 55.757095404370205,
          "std": 2.304898099060146,
          "noise": 0.041338202471707115
         },
         {
          "complex_annotation": "dUTP diphosphatase",
          "mean": 383.57062775694015,
          "std": 336.37102072056257,
          "noise": 0.8769467638531309
         },
         {
          "complex_annotation": "degradosome",
          "mean": 4051.11203848261,
          "std": 889.93436078672,
          "noise": 0.21967656098695681
         },
         {
          "complex_annotation": "dethiobiotin synthetase",
          "mean": 107.952535412413,
          "std": 37.79168970119577,
          "noise": 0.350076907011211
         },
         {
          "complex_annotation": "diadenosine tetraphosphatase",
          "mean": 88.8324776496345,
          "std": 44.939119346976796,
          "noise": 0.5058861413752507
         },
         {
          "complex_annotation": "diaminopimelate decarboxylase",
          "mean": 261.7258718437062,
          "std": 66.5766167912778,
          "noise": 0.25437537497643753
         },
         {
          "complex_annotation": "diguanylate cyclase DgcM",
          "mean": 5.772375149583428,
          "std": 2.761655128837491,
          "noise": 0.478426134350743
         },
         {
          "complex_annotation": "diguanylate cyclase DosC",
          "mean": 17.6890066212084,
          "std": 16.34299526578255,
          "noise": 0.9239068996779031
         },
         {
          "complex_annotation": "dihydrofolate reductase",
          "mean": 260.6261443152186,
          "std": 173.55074204055254,
          "noise": 0.6658992039979256
         },
         {
          "complex_annotation": "dihydrolipoyltranssuccinylase",
          "mean": 357.59455062031134,
          "std": 130.28055088792792,
          "noise": 0.36432476574917916
         },
         {
          "complex_annotation": "dihydroneopterin triphosphate 2'-epimerase",
          "mean": 174.2103794834388,
          "std": 30.589314236266198,
          "noise": 0.17558835660061317
         },
         {
          "complex_annotation": "dihydroorotase",
          "mean": 1512.5401718318399,
          "std": 297.98938363390806,
          "noise": 0.1970125416722074
         },
         {
          "complex_annotation": "dihydroorotate dehydrogenase, type 2",
          "mean": 873.4578107038064,
          "std": 140.19035019633722,
          "noise": 0.16050042541078885
         },
         {
          "complex_annotation": "dihydropteroate synthase",
          "mean": 74.58610802049462,
          "std": 20.90695984694985,
          "noise": 0.28030635197113485
         },
         {
          "complex_annotation": "dihydroxy-acid dehydratase",
          "mean": 250.50968817592477,
          "std": 251.396755298944,
          "noise": 1.0035410491685106
         },
         {
          "complex_annotation": "dihydroxyacetone kinase",
          "mean": 240.58783345705675,
          "std": 117.52096797206917,
          "noise": 0.48847427687171824
         },
         {
          "complex_annotation": "dihydroxyacetone kinase, phosphotransferase component",
          "mean": 96.3115232211102,
          "std": 66.25818713144278,
          "noise": 0.6879570057191232
         },
         {
          "complex_annotation": "dimer of DNA topoisomerase IV subunit A",
          "mean": 40.302800328194394,
          "std": 8.367071916914567,
          "noise": 0.20760522466874995
         },
         {
          "complex_annotation": "dipeptide ABC transporter",
          "mean": 3630.042376942107,
          "std": 1505.4651723669595,
          "noise": 0.4147238560986554
         },
         {
          "complex_annotation": "disulfide reductase",
          "mean": 19.38793241707254,
          "std": 10.038556237918911,
          "noise": 0.5177734284383622
         },
         {
          "complex_annotation": "disulfide reductase / organic hydroperoxide reductase",
          "mean": 455.97299854194506,
          "std": 150.86448408722114,
          "noise": 0.33086275847393865
         },
         {
          "complex_annotation": "divisome protein complex FtsEX",
          "mean": 164.91307355319873,
          "std": 66.79197605668526,
          "noise": 0.4050132267720974
         },
         {
          "complex_annotation": "divisome-associated lipoprotein YraP",
          "mean": 620.2227869983395,
          "std": 155.94072448509664,
          "noise": 0.2514269513375911
         },
         {
          "complex_annotation": "dynamic cytoskeletal protein MreB",
          "mean": 3383.744158142051,
          "std": 680.2728638490662,
          "noise": 0.20104145941772114
         },
         {
          "complex_annotation": "elongation factor G",
          "mean": 23887.403780927718,
          "std": 3775.469579214381,
          "noise": 0.15805273833185704
         },
         {
          "complex_annotation": "elongation factor P family protein",
          "mean": 1526.8131584677,
          "std": 533.7839376720927,
          "noise": 0.34960658723153454
         },
         {
          "complex_annotation": "enamine/imine deaminase, redox-regulated chaperone",
          "mean": 3387.4789739976427,
          "std": 553.6789563282975,
          "noise": 0.1634486769005353
         },
         {
          "complex_annotation": "endonuclease IV",
          "mean": 170.6182974172035,
          "std": 145.66265830207055,
          "noise": 0.853734098318246
         },
         {
          "complex_annotation": "energy transducing Ton complex",
          "mean": 359.25572751404513,
          "std": 141.59198111141143,
          "noise": 0.3941258837853208
         },
         {
          "complex_annotation": "energy-dependent translational throttle protein EttA",
          "mean": 3010.9039968409234,
          "std": 662.2043903599299,
          "noise": 0.21993540513238638
         },
         {
          "complex_annotation": "enolase",
          "mean": 15095.988528572443,
          "std": 3100.9749739198323,
          "noise": 0.20541715224879525
         },
         {
          "complex_annotation": "enoyl-[acyl-carrier-protein] reductase",
          "mean": 2423.7149661248686,
          "std": 1676.4952274450477,
          "noise": 0.6917047800078137
         },
         {
          "complex_annotation": "enterobacterial common antigen polysaccharide co-polymerase",
          "mean": 131.71920727786403,
          "std": 21.57200392617821,
          "noise": 0.1637726522349294
         },
         {
          "complex_annotation": "erythronate-4-phosphate dehydrogenase",
          "mean": 359.05507763356553,
          "std": 155.0782320213888,
          "noise": 0.4319065282225426
         },
         {
          "complex_annotation": "esterase",
          "mean": 414.1547876732532,
          "std": 452.2896848322932,
          "noise": 1.0920788514199826
         },
         {
          "complex_annotation": "esterase YpfH",
          "mean": 103.89647364471256,
          "std": 105.90452204639087,
          "noise": 1.0193273970832262
         },
         {
          "complex_annotation": "excision nuclease UvrABC",
          "mean": 106.39926658773862,
          "std": 53.007218897565,
          "noise": 0.49819158155431786
         },
         {
          "complex_annotation": "exodeoxyribonuclease III",
          "mean": 602.8850397254388,
          "std": 317.62348129009933,
          "noise": 0.5268392153747071
         },
         {
          "complex_annotation": "exodeoxyribonuclease VII",
          "mean": 132.1992852874999,
          "std": 21.00765802016854,
          "noise": 0.15890901357357734
         },
         {
          "complex_annotation": "exopolyphosphatase",
          "mean": 20.401286843988327,
          "std": 9.68135478304837,
          "noise": 0.4745462801970841
         },
         {
          "complex_annotation": "fatty acid oxidation complex, &alpha; component",
          "mean": 312.8991827752863,
          "std": 191.56072512594616,
          "noise": 0.6122122896802791
         },
         {
          "complex_annotation": "fatty acid oxidation complex, &beta; component",
          "mean": 414.3624211954771,
          "std": 377.4909342383756,
          "noise": 0.9110163348048707
         },
         {
          "complex_annotation": "fermentation-respiration switch protein",
          "mean": 165.2665097093047,
          "std": 14.705745983011766,
          "noise": 0.08898200856833256
         },
         {
          "complex_annotation": "ferric citrate outer membrane transport complex",
          "mean": 302.38758783929825,
          "std": 61.168286716457004,
          "noise": 0.2022843832762225
         },
         {
          "complex_annotation": "ferric coprogen outer membrane transport complex",
          "mean": 307.24970693507703,
          "std": 68.04436148358057,
          "noise": 0.2214627384427696
         },
         {
          "complex_annotation": "ferric enterobactin ABC transporter",
          "mean": 105.00253642660154,
          "std": 104.06710605619385,
          "noise": 0.9910913545306445
         },
         {
          "complex_annotation": "ferric enterobactin outer membrane transport complex",
          "mean": 334.3590267863689,
          "std": 220.80059352676935,
          "noise": 0.6603697697321176
         },
         {
          "complex_annotation": "ferrichrome outer membrane transport complex",
          "mean": 462.08965183632847,
          "std": 147.46176827344527,
          "noise": 0.31911939098276115
         },
         {
          "complex_annotation": "ferritin iron-storage complex",
          "mean": 41.19622524390703,
          "std": 23.259421463466868,
          "noise": 0.5646007935376789
         },
         {
          "complex_annotation": "ferrous iron transport system protein EfeO",
          "mean": 1011.0493185800309,
          "std": 458.44496567696666,
          "noise": 0.45343481989664963
         },
         {
          "complex_annotation": "flagellar export apparatus",
          "mean": 4.367057950533515,
          "std": 4.745670178241568,
          "noise": 1.0866973216285802
         },
         {
          "complex_annotation": "flagellar motor complex",
          "mean": 20.961257894268275,
          "std": 26.590318443180895,
          "noise": 1.2685459325631336
         },
         {
          "complex_annotation": "flagellar motor switch complex",
          "mean": 17.478344808632105,
          "std": 24.213987383774082,
          "noise": 1.3853707344081814
         },
         {
          "complex_annotation": "flagellum",
          "mean": 207.59753253890358,
          "std": 271.4593163916702,
          "noise": 1.3076230390204613
         },
         {
          "complex_annotation": "flavin reductase",
          "mean": 483.4579933236468,
          "std": 256.2835776008946,
          "noise": 0.5301051614412501
         },
         {
          "complex_annotation": "flavodoxin/ferredoxin-NADP+ reductase",
          "mean": 199.66709144276822,
          "std": 163.86818854924252,
          "noise": 0.8207070447370794
         },
         {
          "complex_annotation": "flavoprotein MioC",
          "mean": 2154.4056923700946,
          "std": 1509.48246940408,
          "noise": 0.7006491278545942
         },
         {
          "complex_annotation": "folate-binding protein",
          "mean": 1759.683261858753,
          "std": 381.0763297337866,
          "noise": 0.2165596150134745
         },
         {
          "complex_annotation": "formate dehydrogenase formation protein",
          "mean": 112.43898075804613,
          "std": 46.3023192521447,
          "noise": 0.4117995284196073
         },
         {
          "complex_annotation": "formyltetrahydrofolate deformylase",
          "mean": 226.55115169309695,
          "std": 75.22287286730418,
          "noise": 0.3320348288019594
         },
         {
          "complex_annotation": "frataxin CyaY",
          "mean": 318.6045857360877,
          "std": 309.4947643405646,
          "noise": 0.9714071240548021
         },
         {
          "complex_annotation": "free methionine-(<i>R</i>)-sulfoxide reductase",
          "mean": 473.8026347779282,
          "std": 237.774406996101,
          "noise": 0.5018427284760586
         },
         {
          "complex_annotation": "fructokinase",
          "mean": 195.17173042132018,
          "std": 105.68568472504784,
          "noise": 0.5415009873453627
         },
         {
          "complex_annotation": "fructose-1,6-bisphosphatase 1",
          "mean": 279.5793637070428,
          "std": 50.7232176760874,
          "noise": 0.18142690148346471
         },
         {
          "complex_annotation": "fructose-1,6-bisphosphatase 2",
          "mean": 49.93108048639449,
          "std": 27.916620653841537,
          "noise": 0.5591030753169545
         },
         {
          "complex_annotation": "fructose-bisphosphate aldolase class I",
          "mean": 401.5165024933335,
          "std": 240.00573060375586,
          "noise": 0.5977481102604014
         },
         {
          "complex_annotation": "fructose-bisphosphate aldolase class II",
          "mean": 7907.49507248674,
          "std": 2992.638808360691,
          "noise": 0.378455981436302
         },
         {
          "complex_annotation": "fructose-specific PTS enzyme II",
          "mean": 172.92434461245966,
          "std": 76.179829446705,
          "noise": 0.44053848876762514
         },
         {
          "complex_annotation": "fumarase A",
          "mean": 2332.2395100678746,
          "std": 1870.2019984807478,
          "noise": 0.8018910538164752
         },
         {
          "complex_annotation": "fumarase C",
          "mean": 299.6086297775516,
          "std": 101.06924597811847,
          "noise": 0.33733756618812577
         },
         {
          "complex_annotation": "fumarase D",
          "mean": 306.82104025664574,
          "std": 366.7378834796572,
          "noise": 1.195282706729933
         },
         {
          "complex_annotation": "fumarate reductase",
          "mean": 181.74097965095825,
          "std": 71.2306424370045,
          "noise": 0.391934953656606
         },
         {
          "complex_annotation": "fused 23S rRNA m2G2445 methyltransferase and 23S rRNA m7G2069 methyltransferase",
          "mean": 50.32522419585109,
          "std": 35.2740994290782,
          "noise": 0.7009228471949115
         },
         {
          "complex_annotation": "fused 4'-phosphopantothenoylcysteine decarboxylase and phosphopantothenoylcysteine synthetase",
          "mean": 16.189998781106798,
          "std": 9.289481032017253,
          "noise": 0.573778982791387
         },
         {
          "complex_annotation": "fused CCA tRNA nucleotidyltransferase/phosphohydrolase",
          "mean": 39.898345912917264,
          "std": 1.7996501438817558,
          "noise": 0.04510588353235744
         },
         {
          "complex_annotation": "fused DNA-binding transcriptional repressor / proline dehydrogenase / 1-pyrroline-5-carboxylate dehydrogenase PutA",
          "mean": 38.525738021462416,
          "std": 46.954045367637654,
          "noise": 1.2187708212488984
         },
         {
          "complex_annotation": "fused N-acetylglucosamine-1-phosphate uridyltransferase and glucosamine-1-phosphate acetyltransferase",
          "mean": 128.68988039378624,
          "std": 68.93305313006051,
          "noise": 0.5356524764738917
         },
         {
          "complex_annotation": "fused aspartate kinase/homoserine dehydrogenase 1",
          "mean": 1333.4170531406303,
          "std": 210.86964073110184,
          "noise": 0.15814230081611402
         },
         {
          "complex_annotation": "fused aspartate kinase/homoserine dehydrogenase 2",
          "mean": 109.22554590516904,
          "std": 47.89607570242144,
          "noise": 0.43850616909715795
         },
         {
          "complex_annotation": "fused chorismate mutase/prephenate dehydratase",
          "mean": 576.7618352852522,
          "std": 126.82385057082146,
          "noise": 0.21988946357398545
         },
         {
          "complex_annotation": "fused chorismate mutase/prephenate dehydrogenase",
          "mean": 249.50500771518523,
          "std": 102.6539750352232,
          "noise": 0.411430519873191
         },
         {
          "complex_annotation": "fused diaminohydroxyphosphoribosylaminopyrimidine deaminase / 5-amino-6-(5-phosphoribosylamino)uracil reductase",
          "mean": 55.761769367654665,
          "std": 28.916072890303337,
          "noise": 0.5185644791801832
         },
         {
          "complex_annotation": "fused glutamine synthetase deadenylase/glutamine synthetase adenylyltransferase",
          "mean": 69.76806504994128,
          "std": 42.841252090580994,
          "noise": 0.6140524616802032
         },
         {
          "complex_annotation": "fused glutathionylspermidine amidase / glutathionylspermidine synthetase",
          "mean": 56.50979608370277,
          "std": 0.02630103688849137,
          "noise": 0.0004654243814565188
         },
         {
          "complex_annotation": "fused heptose 7-phosphate kinase/heptose 1-phosphate adenyltransferase",
          "mean": 423.14705827220496,
          "std": 154.5875373942385,
          "noise": 0.3653281628033778
         },
         {
          "complex_annotation": "fused indole-3-glycerol phosphate synthase/phosphoribosylanthranilate isomerase",
          "mean": 798.1523603333599,
          "std": 515.2510145368814,
          "noise": 0.6455547087797615
         },
         {
          "complex_annotation": "galactitol-1-phosphate 5-dehydrogenase",
          "mean": 819.8955019768355,
          "std": 796.0693856803597,
          "noise": 0.9709400573133661
         },
         {
          "complex_annotation": "galactitol-specific PTS enzyme II",
          "mean": 17285.346469814816,
          "std": 10499.499277312561,
          "noise": 0.6074219741934421
         },
         {
          "complex_annotation": "galactitol-specific PTS enzyme IIC component",
          "mean": 3032.509270321158,
          "std": 1159.8790630143349,
          "noise": 0.3824816215290573
         },
         {
          "complex_annotation": "galactofuranose ABC transporter",
          "mean": 968.7020497981093,
          "std": 1431.7222473074014,
          "noise": 1.4779799914801375
         },
         {
          "complex_annotation": "galactose-1-epimerase",
          "mean": 1142.0197074386822,
          "std": 359.6667338263854,
          "noise": 0.3149391656585723
         },
         {
          "complex_annotation": "galactose-1-phosphate uridylyltransferase",
          "mean": 47.0315656532745,
          "std": 23.93575682724206,
          "noise": 0.5089296198153584
         },
         {
          "complex_annotation": "geranyl diphosphate/farnesyl diphosphate synthase",
          "mean": 106.88301968093594,
          "std": 126.37101344286793,
          "noise": 1.182330119602786
         },
         {
          "complex_annotation": "glucan biosynthesis protein D",
          "mean": 93.49043900961699,
          "std": 77.99042344220148,
          "noise": 0.8342074790576062
         },
         {
          "complex_annotation": "glucokinase",
          "mean": 890.2730187277144,
          "std": 195.37497636988869,
          "noise": 0.21945512473139786
         },
         {
          "complex_annotation": "glucosamine-6-phosphate deaminase",
          "mean": 153.68442130691207,
          "std": 76.88417077432995,
          "noise": 0.5002730278093062
         },
         {
          "complex_annotation": "glucose-1-phosphatase",
          "mean": 403.16001782994164,
          "std": 22.512179223432764,
          "noise": 0.0558393149812011
         },
         {
          "complex_annotation": "glucose-1-phosphate adenylyltransferase",
          "mean": 132.53796841452186,
          "std": 132.56427779942263,
          "noise": 1.000198504513201
         },
         {
          "complex_annotation": "glucose-6-phosphate isomerase",
          "mean": 2230.7223515996543,
          "std": 865.1944833050894,
          "noise": 0.38785395353422497
         },
         {
          "complex_annotation": "glucose-specific PTS enzyme II",
          "mean": 13123.256276348047,
          "std": 1600.795536402591,
          "noise": 0.1219815800814386
         },
         {
          "complex_annotation": "glutamate / aspartate ABC transporter",
          "mean": 2366.5735022045646,
          "std": 1184.5692904582118,
          "noise": 0.500541939371304
         },
         {
          "complex_annotation": "glutamate 5-kinase",
          "mean": 131.27667024586228,
          "std": 21.563263829558807,
          "noise": 0.16425815637442603
         },
         {
          "complex_annotation": "glutamate decarboxylase A",
          "mean": 221.67784389586495,
          "std": 310.52728715171423,
          "noise": 1.4008043460472623
         },
         {
          "complex_annotation": "glutamate decarboxylase B",
          "mean": 91.28466152369238,
          "std": 127.61090190167012,
          "noise": 1.3979446247774001
         },
         {
          "complex_annotation": "glutamate dehydrogenase",
          "mean": 955.5380486556093,
          "std": 375.8451343506008,
          "noise": 0.39333350972197784
         },
         {
          "complex_annotation": "glutamate synthase",
          "mean": 1644.8216521730567,
          "std": 1721.878912022974,
          "noise": 1.0468483982735228
         },
         {
          "complex_annotation": "glutamate synthase subunit GltD",
          "mean": 2305.666647567794,
          "std": 1502.833309299165,
          "noise": 0.6517999082323876
         },
         {
          "complex_annotation": "glutamate&mdash;cysteine ligase",
          "mean": 237.11421069462085,
          "std": 130.90285747446734,
          "noise": 0.5520666901025894
         },
         {
          "complex_annotation": "glutamate&mdash;pyruvate aminotransferase AlaA",
          "mean": 67.29034379039416,
          "std": 33.20481429752825,
          "noise": 0.49345585751440774
         },
         {
          "complex_annotation": "glutamate&mdash;pyruvate aminotransferase AlaC",
          "mean": 33.28762660502099,
          "std": 13.56930044723962,
          "noise": 0.40763796735189506
         },
         {
          "complex_annotation": "glutamate&mdash;tRNA ligase",
          "mean": 2556.3399534847413,
          "std": 1173.5555545496845,
          "noise": 0.4590764827463271
         },
         {
          "complex_annotation": "glutamate-1-semialdehyde aminotransferase",
          "mean": 1033.0423157637922,
          "std": 443.6578188812813,
          "noise": 0.42946722715153984
         },
         {
          "complex_annotation": "glutamate-5-semialdehyde dehydrogenase",
          "mean": 185.0571707667965,
          "std": 38.63899375652919,
          "noise": 0.20879490157785288
         },
         {
          "complex_annotation": "glutamine synthetase",
          "mean": 749.0385415310125,
          "std": 10.557933041550204,
          "noise": 0.014095313466741114
         },
         {
          "complex_annotation": "glutamine&mdash;tRNA ligase",
          "mean": 1545.4387580622897,
          "std": 1017.7888073730109,
          "noise": 0.6585759558982074
         },
         {
          "complex_annotation": "glutaredoxin 4",
          "mean": 2746.0376477722457,
          "std": 1284.7104851740153,
          "noise": 0.4678415411442925
         },
         {
          "complex_annotation": "glutathione / L-cysteine ABC exporter CydDC",
          "mean": 53.77128363570063,
          "std": 20.61234062101702,
          "noise": 0.3833336165203943
         },
         {
          "complex_annotation": "glutathione <i>S</i>-transferase GstA",
          "mean": 740.7312351779951,
          "std": 478.15625724787975,
          "noise": 0.6455192309164342
         },
         {
          "complex_annotation": "glutathione ABC transporter",
          "mean": 447.97729685583164,
          "std": 549.6412579369917,
          "noise": 1.2269399851168743
         },
         {
          "complex_annotation": "glutathione S-transferase GstB",
          "mean": 1183.5270837250114,
          "std": 854.8806722110193,
          "noise": 0.7223161040982549
         },
         {
          "complex_annotation": "glutathione S-transferase YfcF",
          "mean": 206.59049534900254,
          "std": 121.42720296409432,
          "noise": 0.5877676161188439
         },
         {
          "complex_annotation": "glutathione hydrolase, small subunit // \"glutathione hydrolase, large subunit\" // \"glutathione hydrolase proenzyme\"",
          "mean": 222.0164256015336,
          "std": 176.64432059203259,
          "noise": 0.7956362693139962
         },
         {
          "complex_annotation": "glutathione reductase",
          "mean": 401.0194993100186,
          "std": 158.9069179565872,
          "noise": 0.3962573346931942
         },
         {
          "complex_annotation": "glutathione synthetase",
          "mean": 242.790143531278,
          "std": 125.3509212478909,
          "noise": 0.5162932869708621
         },
         {
          "complex_annotation": "glutathione transferase-like protein YibF",
          "mean": 581.5226939498344,
          "std": 358.63283838548494,
          "noise": 0.6167134010705053
         },
         {
          "complex_annotation": "glutathionyl-hydroquinone reductase YqjG",
          "mean": 136.3538367554106,
          "std": 129.45483217716338,
          "noise": 0.9494036637148497
         },
         {
          "complex_annotation": "glyceraldehyde-3-phosphate dehydrogenase",
          "mean": 8867.198844286802,
          "std": 1552.5237123418942,
          "noise": 0.1750861506102568
         },
         {
          "complex_annotation": "glycerol kinase",
          "mean": 451.5861349325917,
          "std": 651.3859337613726,
          "noise": 1.4424400648585127
         },
         {
          "complex_annotation": "glycerol-3-phosphate 1-O-acyltransferase",
          "mean": 273.72824918700024,
          "std": 147.15239986155527,
          "noise": 0.5375857270800961
         },
         {
          "complex_annotation": "glycerol-3-phosphate dehydrogenase, biosynthetic",
          "mean": 167.05282384315387,
          "std": 20.627417801380346,
          "noise": 0.12347841435321953
         },
         {
          "complex_annotation": "glycerophosphodiester phosphodiesterase UgpQ",
          "mean": 240.51261965871723,
          "std": 21.7497263708548,
          "noise": 0.090430707551717
         },
         {
          "complex_annotation": "glycine betaine ABC transporter periplasmic binding protein ProX",
          "mean": 330.6139573094223,
          "std": 352.0129479810883,
          "noise": 1.0647250069108203
         },
         {
          "complex_annotation": "glycine betaine ABC transporter, non-osmoregulatory",
          "mean": 581.5006018383714,
          "std": 669.8412156290794,
          "noise": 1.1519183531563437
         },
         {
          "complex_annotation": "glycine cleavage system",
          "mean": 2509.9790816946042,
          "std": 661.4751944523837,
          "noise": 0.26353813036791957
         },
         {
          "complex_annotation": "glycine decarboxylase",
          "mean": 373.2809686919425,
          "std": 189.55272648007045,
          "noise": 0.5078017428649103
         },
         {
          "complex_annotation": "glycine&mdash;tRNA ligase",
          "mean": 1183.5254254600077,
          "std": 492.64340098036206,
          "noise": 0.41625079646166746
         },
         {
          "complex_annotation": "glycogen phosphorylase",
          "mean": 146.33095870888224,
          "std": 152.60500238626915,
          "noise": 1.0428757095063443
         },
         {
          "complex_annotation": "glycogen synthase",
          "mean": 536.178136035851,
          "std": 387.2506906424,
          "noise": 0.7222425992702299
         },
         {
          "complex_annotation": "glyoxalase I",
          "mean": 599.2777796462559,
          "std": 355.21540795478325,
          "noise": 0.5927391604014773
         },
         {
          "complex_annotation": "glyoxylate reductase",
          "mean": 827.6266110704537,
          "std": 658.5678228256066,
          "noise": 0.795730603652067
         },
         {
          "complex_annotation": "glyoxylate/hydroxypyruvate reductase A",
          "mean": 671.3698273614813,
          "std": 242.59152547737187,
          "noise": 0.3613381412012055
         },
         {
          "complex_annotation": "guanine/hypoxanthine transporter GhxP",
          "mean": 130.5056166319336,
          "std": 65.64179693558623,
          "noise": 0.5029806274217032
         },
         {
          "complex_annotation": "guanylate kinase",
          "mean": 146.15528326058794,
          "std": 62.21294890336478,
          "noise": 0.42566335965044827
         },
         {
          "complex_annotation": "hexapeptide repeats-containing protein YrdA",
          "mean": 419.21263494478166,
          "std": 204.6027890188474,
          "noise": 0.48806446171594403
         },
         {
          "complex_annotation": "hexitol phosphatase A",
          "mean": 656.7981061112603,
          "std": 402.8908064339303,
          "noise": 0.6134165167121864
         },
         {
          "complex_annotation": "hexitol phosphatase B",
          "mean": 477.435478225935,
          "std": 168.79323723749437,
          "noise": 0.35354146253374363
         },
         {
          "complex_annotation": "histidinal dehydrogenase",
          "mean": 734.7651652027079,
          "std": 246.07138475314673,
          "noise": 0.3348980006220903
         },
         {
          "complex_annotation": "histidine ABC transporter",
          "mean": 3202.9424429032783,
          "std": 1556.0825394653045,
          "noise": 0.48582906724193503
         },
         {
          "complex_annotation": "histidine&mdash;tRNA ligase",
          "mean": 702.7783834318321,
          "std": 253.02630315328318,
          "noise": 0.36003711713171405
         },
         {
          "complex_annotation": "histidinol-phosphate aminotransferase",
          "mean": 858.5377321975926,
          "std": 288.3144469299176,
          "noise": 0.3358203560744165
         },
         {
          "complex_annotation": "holo EntB // \"enterobactin synthase component B\"",
          "mean": 372.5533049296961,
          "std": 418.299054051244,
          "noise": 1.1227898089111854
         },
         {
          "complex_annotation": "homoserine <i>O</i>-succinyltransferase",
          "mean": 476.2735873096014,
          "std": 250.54369347481705,
          "noise": 0.5260499430382043
         },
         {
          "complex_annotation": "homoserine kinase",
          "mean": 370.0582770301699,
          "std": 27.49639992736465,
          "noise": 0.07430289128520949
         },
         {
          "complex_annotation": "hydroxyacylglutathione hydrolase GloB",
          "mean": 289.17603314046164,
          "std": 185.61472458929674,
          "noise": 0.6418745100467507
         },
         {
          "complex_annotation": "hydroxyacylglutathione hydrolase GloC",
          "mean": 611.3892371120347,
          "std": 470.30087643221685,
          "noise": 0.7692331625818857
         },
         {
          "complex_annotation": "hydroxycarboxylate dehydrogenase A",
          "mean": 277.190428545813,
          "std": 197.18943412975204,
          "noise": 0.7113861584768296
         },
         {
          "complex_annotation": "hydroxycarboxylate dehydrogenase B",
          "mean": 1472.2701831984216,
          "std": 1176.5339109078957,
          "noise": 0.7991290758547756
         },
         {
          "complex_annotation": "hydroxyethylthiazole kinase",
          "mean": 619.3448690879084,
          "std": 606.7962341867777,
          "noise": 0.9797388570932852
         },
         {
          "complex_annotation": "hydroxymethylpyrimidine kinase",
          "mean": 42.07095683795153,
          "std": 0.5580172386659227,
          "noise": 0.013263716364124725
         },
         {
          "complex_annotation": "hypoxanthine phosphoribosyltransferase",
          "mean": 300.41585152626,
          "std": 166.51057442356046,
          "noise": 0.55426693890354
         },
         {
          "complex_annotation": "imidazole glycerol phosphate synthase",
          "mean": 810.2276437473635,
          "std": 341.46053854635704,
          "noise": 0.4214377788532079
         },
         {
          "complex_annotation": "imidazoleglycerol-phosphate dehydratase",
          "mean": 852.546850986098,
          "std": 344.217505985532,
          "noise": 0.4037520115022335
         },
         {
          "complex_annotation": "inner membrane protein IgaA",
          "mean": 39.16627624425655,
          "std": 1.1384214004285806,
          "noise": 0.029066368049107602
         },
         {
          "complex_annotation": "inner membrane protein YqjE",
          "mean": 23.928200842381983,
          "std": 14.500593248318602,
          "noise": 0.6060043270213169
         },
         {
          "complex_annotation": "inner membrane protein that contributes to acid resistance",
          "mean": 496.1360837021903,
          "std": 421.2613486339769,
          "noise": 0.8490842784312428
         },
         {
          "complex_annotation": "inorganic pyrophosphatase",
          "mean": 2172.9691661974925,
          "std": 763.2681665937445,
          "noise": 0.3512558661517492
         },
         {
          "complex_annotation": "inorganic triphosphatase",
          "mean": 196.37193895246438,
          "std": 97.4580546761231,
          "noise": 0.4962931832114501
         },
         {
          "complex_annotation": "inosine 5'-monophosphate dehydrogenase",
          "mean": 1819.7639196075597,
          "std": 740.1750485035973,
          "noise": 0.40674234747066496
         },
         {
          "complex_annotation": "inositol-phosphate phosphatase",
          "mean": 1129.0991213828331,
          "std": 295.00024806026335,
          "noise": 0.26127046109022733
         },
         {
          "complex_annotation": "intermembrane phospholipid transport system",
          "mean": 109.75212529935227,
          "std": 41.66265642457033,
          "noise": 0.3796068304912926
         },
         {
          "complex_annotation": "intermembrane phospholipid transport system - outer membrane lipoprotein MlaA",
          "mean": 321.51486264306055,
          "std": 100.04194467602878,
          "noise": 0.31115807167861276
         },
         {
          "complex_annotation": "intermembrane phospholipid transport system - periplasmic binding protein",
          "mean": 1940.1479318856152,
          "std": 1390.0307768122664,
          "noise": 0.7164560773782368
         },
         {
          "complex_annotation": "intramembrane zinc metalloprotease RseP",
          "mean": 12.11699347951961,
          "std": 8.668797610414103,
          "noise": 0.7154247978317626
         },
         {
          "complex_annotation": "iron-sulfur cluster biosynthesis chaperone HscA",
          "mean": 309.3572359968477,
          "std": 101.69626799079023,
          "noise": 0.32873408524967074
         },
         {
          "complex_annotation": "iron-sulfur cluster carrier protein NfuA",
          "mean": 2087.2328543297044,
          "std": 891.9853581920595,
          "noise": 0.42735306525179834
         },
         {
          "complex_annotation": "iron-sulfur cluster insertion protein ErpA",
          "mean": 1090.5593320915302,
          "std": 368.8077929531794,
          "noise": 0.33818223557434607
         },
         {
          "complex_annotation": "iron-sulfur cluster insertion protein IscA",
          "mean": 209.74106632453837,
          "std": 95.7185360664438,
          "noise": 0.4563652590491543
         },
         {
          "complex_annotation": "isochorismatase family protein YecD",
          "mean": 213.33436890497737,
          "std": 221.14018904314338,
          "noise": 1.0365896042828564
         },
         {
          "complex_annotation": "isocitrate dehydrogenase",
          "mean": 14409.801796007914,
          "std": 1370.2741745554845,
          "noise": 0.09509320072224066
         },
         {
          "complex_annotation": "isocitrate dehydrogenase kinase",
          "mean": 13.421509651948874,
          "std": 8.331684903901998,
          "noise": 0.6207710697203271
         },
         {
          "complex_annotation": "isocitrate dehydrogenase-P",
          "mean": 14409.801796007914,
          "std": 1370.2741745554845,
          "noise": 0.09509320072224066
         },
         {
          "complex_annotation": "isocitrate lyase",
          "mean": 12433.778473271164,
          "std": 7750.56517820078,
          "noise": 0.6233475362989724
         },
         {
          "complex_annotation": "isoleucine&mdash;tRNA ligase",
          "mean": 2031.0405254749896,
          "std": 402.76062687845103,
          "noise": 0.19830260490950044
         },
         {
          "complex_annotation": "isopentenyl-adenosine A37 tRNA methylthiolase",
          "mean": 373.356844399642,
          "std": 80.0891269866976,
          "noise": 0.21451093822983466
         },
         {
          "complex_annotation": "ketol-acid reductoisomerase (NADP<sup>+</sup>)",
          "mean": 5768.040039772506,
          "std": 1766.6820583445788,
          "noise": 0.3062881058665913
         },
         {
          "complex_annotation": "large conductance mechanosensitive channel",
          "mean": 204.97386489005325,
          "std": 120.6849820100719,
          "noise": 0.588782292195186
         },
         {
          "complex_annotation": "leucine / L-phenylalanine ABC transporter",
          "mean": 372.2814661141817,
          "std": 199.61085419213367,
          "noise": 0.5361826262146272
         },
         {
          "complex_annotation": "leucine&mdash;tRNA ligase",
          "mean": 2178.3746433537676,
          "std": 1011.9154717809768,
          "noise": 0.4645277500214833
         },
         {
          "complex_annotation": "lipid A disaccharide synthase",
          "mean": 151.10759686827552,
          "std": 196.7704343745985,
          "noise": 1.3021875700010535
         },
         {
          "complex_annotation": "lipoamide dehydrogenase",
          "mean": 7607.270850848224,
          "std": 1471.6844499109764,
          "noise": 0.19345761164095807
         },
         {
          "complex_annotation": "lipopolysaccharide transport system",
          "mean": 349.71741400023376,
          "std": 136.47526112075843,
          "noise": 0.39024439635330027
         },
         {
          "complex_annotation": "lipopolysaccharide transport system - outer membrane assembly complex",
          "mean": 239.72588869263276,
          "std": 156.9955671190909,
          "noise": 0.6548961731888062
         },
         {
          "complex_annotation": "lipoprotein NlpI",
          "mean": 70.52131531752217,
          "std": 40.002454413022214,
          "noise": 0.5672391989983623
         },
         {
          "complex_annotation": "lipoprotein YedD",
          "mean": 842.8755378579964,
          "std": 625.5765719082644,
          "noise": 0.7421932940396457
         },
         {
          "complex_annotation": "lipoprotein release complex",
          "mean": 87.55407835168735,
          "std": 28.425689076451786,
          "noise": 0.3246643630039875
         },
         {
          "complex_annotation": "lipoprotein-28",
          "mean": 1783.4775265629369,
          "std": 769.4044841825535,
          "noise": 0.4314068849890843
         },
         {
          "complex_annotation": "lipoyl synthase",
          "mean": 309.93459099303595,
          "std": 88.60537935352428,
          "noise": 0.28588412500079796
         },
         {
          "complex_annotation": "long-chain fatty acid outer membrane channel / bacteriophage T2 receptor",
          "mean": 622.2420878702488,
          "std": 630.5648210404826,
          "noise": 1.013375394131117
         },
         {
          "complex_annotation": "long-chain-fatty-acid&mdash;CoA ligase",
          "mean": 56.074302955262986,
          "std": 38.481243925093644,
          "noise": 0.6862545211804884
         },
         {
          "complex_annotation": "low activity glyoxalase ElbB",
          "mean": 1666.0570622730563,
          "std": 161.7085836140119,
          "noise": 0.09706065132810492
         },
         {
          "complex_annotation": "low-specificity L-threonine aldolase",
          "mean": 135.52822808175682,
          "std": 125.84610082180599,
          "noise": 0.9285600690203806
         },
         {
          "complex_annotation": "lysine / arginine / ornithine ABC transporter",
          "mean": 3029.961665552389,
          "std": 838.1238617602162,
          "noise": 0.2766120348283082
         },
         {
          "complex_annotation": "lysine&mdash;tRNA ligase",
          "mean": 126.30429155216663,
          "std": 83.41744102735507,
          "noise": 0.660448192236617
         },
         {
          "complex_annotation": "lysine&mdash;tRNA ligase, constitutive",
          "mean": 1937.6987155761763,
          "std": 955.24570781608,
          "noise": 0.49297948134936803
         },
         {
          "complex_annotation": "lysogenization regulator",
          "mean": 85.30984072166146,
          "std": 78.0020601055802,
          "noise": 0.9143383629102744
         },
         {
          "complex_annotation": "lytic murein transglycosylase E",
          "mean": 164.22063650399483,
          "std": 65.51083040525549,
          "noise": 0.39891959865629845
         },
         {
          "complex_annotation": "m7GTP pyrophosphatase",
          "mean": 1258.4532438550284,
          "std": 1419.1197497881844,
          "noise": 1.1276698254128101
         },
         {
          "complex_annotation": "macrodomain Ori protein",
          "mean": 6045.442906579781,
          "std": 587.0678285489431,
          "noise": 0.0971091510780767
         },
         {
          "complex_annotation": "macrodomain Ter protein",
          "mean": 66.32021738298748,
          "std": 45.675021406567915,
          "noise": 0.6887043379668492
         },
         {
          "complex_annotation": "malate dehydrogenase",
          "mean": 31470.9004657272,
          "std": 13138.564744866206,
          "noise": 0.417482962051706
         },
         {
          "complex_annotation": "maltodextrin phosphorylase",
          "mean": 364.2809203683528,
          "std": 186.37433947528422,
          "noise": 0.5116225666906371
         },
         {
          "complex_annotation": "maltose ABC transporter",
          "mean": 3428.7767217452197,
          "std": 4084.5572951917115,
          "noise": 1.1912578819400945
         },
         {
          "complex_annotation": "maltose outer membrane channel / phage lambda receptor protein",
          "mean": 1593.339241595578,
          "std": 2258.423980789325,
          "noise": 1.4174156525058204
         },
         {
          "complex_annotation": "maltose regulon periplasmic protein",
          "mean": 2337.359480827078,
          "std": 1531.5317189524267,
          "noise": 0.6552401252418785
         },
         {
          "complex_annotation": "mannitol-1-phosphate 5-dehydrogenase",
          "mean": 649.749566713244,
          "std": 281.46082279080144,
          "noise": 0.4331835482624022
         },
         {
          "complex_annotation": "mannitol-specific PTS enzyme II",
          "mean": 331.1589683148104,
          "std": 190.7362287751678,
          "noise": 0.5759657657643377
         },
         {
          "complex_annotation": "mannose-specific PTS enzyme II",
          "mean": 2265.910271599601,
          "std": 1964.5005010308928,
          "noise": 0.8669807121903682
         },
         {
          "complex_annotation": "mannose-specific PTS enzyme IIAB component",
          "mean": 4912.378101882073,
          "std": 2821.2884491739587,
          "noise": 0.5743223324143234
         },
         {
          "complex_annotation": "membrane-bound lytic murein transglycosylase B",
          "mean": 117.00487185810216,
          "std": 98.29147386451186,
          "noise": 0.8400630871483282
         },
         {
          "complex_annotation": "membrane-bound lytic murein transglycosylase C",
          "mean": 17.61243478320731,
          "std": 0.5024172458206055,
          "noise": 0.028526279983710063
         },
         {
          "complex_annotation": "metal phosphate:H+ symporter PitA",
          "mean": 152.13839159766155,
          "std": 10.88957287301033,
          "noise": 0.0715767582308114
         },
         {
          "complex_annotation": "metalloprotease LoiP",
          "mean": 288.4392797442823,
          "std": 197.8444235713431,
          "noise": 0.6859135959108736
         },
         {
          "complex_annotation": "metalloprotease PmbA",
          "mean": 936.4158752599293,
          "std": 450.27561837409826,
          "noise": 0.48085004779432133
         },
         {
          "complex_annotation": "metalloprotease TldD",
          "mean": 276.1177989335461,
          "std": 237.61389976244035,
          "noise": 0.8605526361581183
         },
         {
          "complex_annotation": "methionine adenosyltransferase",
          "mean": 1778.6691242488396,
          "std": 371.6271973773291,
          "noise": 0.20893554192338792
         },
         {
          "complex_annotation": "methionine aminopeptidase",
          "mean": 1554.9429643682186,
          "std": 873.8465561428641,
          "noise": 0.5619798128723728
         },
         {
          "complex_annotation": "methionine sulfoxide reductase A",
          "mean": 726.5102597489108,
          "std": 664.2095924312245,
          "noise": 0.914246679270272
         },
         {
          "complex_annotation": "methionine sulfoxide reductase B",
          "mean": 1455.3670735188853,
          "std": 388.71031024655406,
          "noise": 0.26708747045286924
         },
         {
          "complex_annotation": "methionine&mdash;tRNA ligase",
          "mean": 787.7012007576072,
          "std": 308.91280095285975,
          "noise": 0.3921700267255514
         },
         {
          "complex_annotation": "methyl-accepting chemotaxis protein - serine-sensing",
          "mean": 75.14823047625244,
          "std": 104.71608598381816,
          "noise": 1.3934604357305453
         },
         {
          "complex_annotation": "methyl-accepting chemotaxis protein Tar",
          "mean": 91.83513237064905,
          "std": 123.30553377001662,
          "noise": 1.3426836831067244
         },
         {
          "complex_annotation": "methyl-accepting chemotaxis protein Trg - ribose/galactose/glucose-sensing",
          "mean": 0.7599123820258236,
          "std": 0.8526728032898384,
          "noise": 1.1220672586183267
         },
         {
          "complex_annotation": "methylglyoxal reductase DkgA",
          "mean": 582.4216954276704,
          "std": 441.286690273237,
          "noise": 0.7576755703600663
         },
         {
          "complex_annotation": "methylglyoxal reductase DkgB",
          "mean": 165.96294637785385,
          "std": 68.60128047196376,
          "noise": 0.4133529921539037
         },
         {
          "complex_annotation": "methylglyoxal synthase",
          "mean": 144.42196455587896,
          "std": 61.94282299655848,
          "noise": 0.42890167840496246
         },
         {
          "complex_annotation": "methyltransferase for 50S ribosomal subunit protein L11",
          "mean": 279.7115656624487,
          "std": 67.96137124293645,
          "noise": 0.24296947136233582
         },
         {
          "complex_annotation": "mischarged aminoacyl-tRNA deacylase",
          "mean": 352.09782393608685,
          "std": 117.43026281433828,
          "noise": 0.33351601410537074
         },
         {
          "complex_annotation": "modulator of Rho-dependent transcription termination",
          "mean": 1120.2837320167341,
          "std": 586.638360519554,
          "noise": 0.5236515926759804
         },
         {
          "complex_annotation": "molecular chaperone Hsp33",
          "mean": 1134.565306881677,
          "std": 715.8585669170941,
          "noise": 0.6309540425527487
         },
         {
          "complex_annotation": "molybdate ABC transporter",
          "mean": 574.3063927984143,
          "std": 551.1614456577287,
          "noise": 0.9596993043592853
         },
         {
          "complex_annotation": "molybdenum cofactor guanylyltransferase",
          "mean": 62.35963145016489,
          "std": 60.07837824229769,
          "noise": 0.9634177888031573
         },
         {
          "complex_annotation": "molybdopterin adenylyltransferase",
          "mean": 37.60674555484942,
          "std": 33.74816381338067,
          "noise": 0.8973965525455797
         },
         {
          "complex_annotation": "molybdopterin molybdotransferase",
          "mean": 174.5827072997602,
          "std": 64.46454586553298,
          "noise": 0.3692493194921461
         },
         {
          "complex_annotation": "molybdopterin synthase",
          "mean": 261.2179511158091,
          "std": 143.55231184045803,
          "noise": 0.5495499494857271
         },
         {
          "complex_annotation": "multicopper oxidase CueO",
          "mean": 666.5164889067773,
          "std": 347.8811862300377,
          "noise": 0.5219393548697252
         },
         {
          "complex_annotation": "multidrug efflux pump AcrAB-TolC",
          "mean": 413.3334354272383,
          "std": 237.65172503199773,
          "noise": 0.5749637088670342
         },
         {
          "complex_annotation": "multidrug efflux pump AcrAD-TolC",
          "mean": 475.25381138904817,
          "std": 261.3504470163663,
          "noise": 0.5499176245478268
         },
         {
          "complex_annotation": "multidrug efflux pump AcrEF-TolC",
          "mean": 546.5421203469749,
          "std": 398.39114608632764,
          "noise": 0.7289303628298713
         },
         {
          "complex_annotation": "multidrug efflux pump EmrAB-TolC",
          "mean": 493.7031437971354,
          "std": 353.37468277410295,
          "noise": 0.715763485029186
         },
         {
          "complex_annotation": "multidrug efflux pump MdtABC-TolC",
          "mean": 529.9505772464008,
          "std": 446.45202077840594,
          "noise": 0.8424408613689043
         },
         {
          "complex_annotation": "multidrug efflux pump MdtEF-TolC",
          "mean": 519.8090335867352,
          "std": 447.19088454476787,
          "noise": 0.8602984089351148
         },
         {
          "complex_annotation": "multifunctional acyl-CoA thioesterase I and protease I and lysophospholipase L1",
          "mean": 58.72423502395483,
          "std": 14.886448048903452,
          "noise": 0.25349752181243335
         },
         {
          "complex_annotation": "murein L,D-carboxypeptidase",
          "mean": 105.91060029663029,
          "std": 12.534469898331606,
          "noise": 0.11834953123885192
         },
         {
          "complex_annotation": "murein hydrolase activator NlpD",
          "mean": 184.16790224260228,
          "std": 148.09728834780134,
          "noise": 0.8041427770226457
         },
         {
          "complex_annotation": "murein lipoprotein",
          "mean": 32255.29727323379,
          "std": 37120.93995782207,
          "noise": 1.1508478636352828
         },
         {
          "complex_annotation": "murein tripeptide ABC transporter",
          "mean": 212.34418209746968,
          "std": 136.5809214921002,
          "noise": 0.6432053854407331
         },
         {
          "complex_annotation": "murein tripeptide amidase A",
          "mean": 30.21257606603232,
          "std": 16.580251086671797,
          "noise": 0.5487864077010235
         },
         {
          "complex_annotation": "negative modulator of initiation of replication",
          "mean": 805.9018024651342,
          "std": 265.63524746284725,
          "noise": 0.329612425050184
         },
         {
          "complex_annotation": "nicotinamidase",
          "mean": 166.11632302860892,
          "std": 191.15207078825927,
          "noise": 1.1507121473868565
         },
         {
          "complex_annotation": "nitric oxide dioxygenase",
          "mean": 146.55949641012276,
          "std": 164.793950781236,
          "noise": 1.1244167373507281
         },
         {
          "complex_annotation": "nitrogen regulator GlnK",
          "mean": 16.996971650514595,
          "std": 13.671755999725864,
          "noise": 0.8043642291603129
         },
         {
          "complex_annotation": "nitrogen regulatory protein PII-1",
          "mean": 604.3257996163221,
          "std": 166.03467544671705,
          "noise": 0.2747436491245783
         },
         {
          "complex_annotation": "nonspecific DNA-binding protein YbiB",
          "mean": 499.29775447826995,
          "std": 432.8727649372092,
          "noise": 0.8669631718843397
         },
         {
          "complex_annotation": "nucleoid-associated protein RdgC",
          "mean": 482.6431687804675,
          "std": 188.2389355835698,
          "noise": 0.39001678208604496
         },
         {
          "complex_annotation": "nucleoid-associated protein YejK",
          "mean": 543.0558166973623,
          "std": 73.37995979384644,
          "noise": 0.13512415766046404
         },
         {
          "complex_annotation": "nucleoside diphosphate kinase",
          "mean": 5081.174050914974,
          "std": 2276.613326077799,
          "noise": 0.44804867994392866
         },
         {
          "complex_annotation": "nucleoside diphosphate kinase regulator",
          "mean": 491.45621900835727,
          "std": 47.37034987326606,
          "noise": 0.09638773107571667
         },
         {
          "complex_annotation": "nucleoside phosphorylase PpnP",
          "mean": 912.5909990852726,
          "std": 712.8889091735873,
          "noise": 0.7811702174228599
         },
         {
          "complex_annotation": "nucleoside-specific channel-forming protein Tsx",
          "mean": 948.0795841735775,
          "std": 624.8814859776562,
          "noise": 0.6591023542842696
         },
         {
          "complex_annotation": "nucleoside:H+ symporter NupC",
          "mean": 90.88941716838988,
          "std": 1.543010038945238,
          "noise": 0.016976784393792726
         },
         {
          "complex_annotation": "nucleotide 5'-monophosphate nucleosidase",
          "mean": 27.68584470866736,
          "std": 22.194772018116705,
          "noise": 0.8016649754294253
         },
         {
          "complex_annotation": "nucleotide binding filament protein",
          "mean": 2413.732461483188,
          "std": 963.372260861377,
          "noise": 0.3991213923805809
         },
         {
          "complex_annotation": "nucleotide binding protein",
          "mean": 7472.968765445509,
          "std": 1033.270664585164,
          "noise": 0.13826776171779764
         },
         {
          "complex_annotation": "nucleotide exchange factor GrpE",
          "mean": 2501.735592840116,
          "std": 261.5630924281638,
          "noise": 0.10455265263713266
         },
         {
          "complex_annotation": "octanoyl-ACP // \"lipoyl-ACP\" // \"cis-&Delta;5-dodecenoyl-ACP\" // \"trans-&Delta;2-cis-&Delta;5-dodecenoyl-ACP\" // \"succinyl-ACP\" // \"cis-&Delta;3-decenoyl-ACP\" // \"3-oxo-cis-&Delta;5-dodecenoyl-ACP\" // \"(3R)-hydroxy cis &Delta;5-dodecenoyl-ACP\" // \"(3R)-3-hydroxypalmitoyl-ACP\" // \"(3R)-3-hydroxybutanoyl-ACP\" // \"trans oct-2-enoyl-ACP\" // \"trans-but-2-enoyl-ACP\" // \"(3R)-3-hydroxyoctanoyl-ACP\" // \"trans-hexadec-2-enoyl-ACP\" // \"holo-[acyl-carrier protein]\" // \"acyl carrier protein\"",
          "mean": 26774.55816023344,
          "std": 9298.687028923168,
          "noise": 0.3472956294283101
         },
         {
          "complex_annotation": "oligopeptidase A",
          "mean": 1012.8854421116372,
          "std": 475.507113961061,
          "noise": 0.4694579408405122
         },
         {
          "complex_annotation": "oligopeptide ABC transporter",
          "mean": 8160.491995314788,
          "std": 8406.780332304184,
          "noise": 1.0301805745451131
         },
         {
          "complex_annotation": "oligoribonuclease",
          "mean": 332.4892143495179,
          "std": 178.98664464419332,
          "noise": 0.5383231603297656
         },
         {
          "complex_annotation": "ornithine carbamoyltransferase",
          "mean": 331.0529561738948,
          "std": 385.71375497594016,
          "noise": 1.1651119489575958
         },
         {
          "complex_annotation": "ornithine decarboxylase, biosynthetic",
          "mean": 21.488451687316836,
          "std": 6.577215013403015,
          "noise": 0.306081383112637
         },
         {
          "complex_annotation": "orotidine-5'-phosphate decarboxylase",
          "mean": 399.91873948864463,
          "std": 183.70176298454587,
          "noise": 0.45934772453882955
         },
         {
          "complex_annotation": "osmolyte:H<sup>+</sup> symporter ProP",
          "mean": 70.60177876838321,
          "std": 59.054724022673994,
          "noise": 0.8364481044650365
         },
         {
          "complex_annotation": "osmoregulated periplasmic glucans (OPGs) biosynthesis protein G",
          "mean": 1548.360299707659,
          "std": 973.3494650942065,
          "noise": 0.6286324089283235
         },
         {
          "complex_annotation": "osmoregulated periplasmic glucans (OPGs) biosynthesis protein H",
          "mean": 71.47198117030062,
          "std": 6.611526499444485,
          "noise": 0.09250515224547645
         },
         {
          "complex_annotation": "osmotically inducible peroxiredoxin OsmC",
          "mean": 3689.2228222380472,
          "std": 1737.9953832189358,
          "noise": 0.47110068081075956
         },
         {
          "complex_annotation": "osmotically-inducible lipoprotein OsmE",
          "mean": 6617.465907207338,
          "std": 1891.2591394594258,
          "noise": 0.2857980934060548
         },
         {
          "complex_annotation": "outer membrane channel TolC",
          "mean": 841.7499290865027,
          "std": 692.9373214947958,
          "noise": 0.823210430497804
         },
         {
          "complex_annotation": "outer membrane lipoprotein - activator of MrcA activity",
          "mean": 323.4021140121681,
          "std": 107.87601192639217,
          "noise": 0.33356619283673977
         },
         {
          "complex_annotation": "outer membrane lipoprotein - activator of MrcB activity",
          "mean": 458.0764099504673,
          "std": 173.6647678793743,
          "noise": 0.3791174662282937
         },
         {
          "complex_annotation": "outer membrane lipoprotein Blc",
          "mean": 63.20082824424966,
          "std": 12.904283988843845,
          "noise": 0.20417903289136002
         },
         {
          "complex_annotation": "outer membrane lipoprotein LolB",
          "mean": 280.32801667270536,
          "std": 108.03923025095797,
          "noise": 0.3854028988372513
         },
         {
          "complex_annotation": "outer membrane lipoprotein SlyB",
          "mean": 5634.313108264497,
          "std": 5259.059874995147,
          "noise": 0.9333985836323291
         },
         {
          "complex_annotation": "outer membrane lipoprotein YhbC",
          "mean": 540.2086307824337,
          "std": 441.7591773324044,
          "noise": 0.8177566076509442
         },
         {
          "complex_annotation": "outer membrane lipoprotein carrier protein",
          "mean": 823.7467205466097,
          "std": 1100.6867821040066,
          "noise": 1.3361956468532332
         },
         {
          "complex_annotation": "outer membrane porin C",
          "mean": 7964.827193605895,
          "std": 7583.4177464324275,
          "noise": 0.9521132803132677
         },
         {
          "complex_annotation": "outer membrane porin F",
          "mean": 10715.961308183267,
          "std": 10703.491707642283,
          "noise": 0.9988363525975535
         },
         {
          "complex_annotation": "outer membrane protein A",
          "mean": 71323.07078895874,
          "std": 54421.86537503945,
          "noise": 0.7630331220043922
         },
         {
          "complex_annotation": "outer membrane protein W",
          "mean": 327.68694163194834,
          "std": 373.978141438842,
          "noise": 1.1412665380449827
         },
         {
          "complex_annotation": "outer membrane protein X",
          "mean": 8631.578133053836,
          "std": 6339.09728980199,
          "noise": 0.7344076821279065
         },
         {
          "complex_annotation": "oxidized ferredoxin // \"reduced ferredoxin\"",
          "mean": 1314.759386931063,
          "std": 945.9324320373216,
          "noise": 0.719471898386925
         },
         {
          "complex_annotation": "oxidized flavodoxin 1 // \"flavodoxin 1\"",
          "mean": 3614.7265837119794,
          "std": 4286.4790903587855,
          "noise": 1.1858377089082572
         },
         {
          "complex_annotation": "oxidized glutaredoxin 2 // \"reduced glutaredoxin 2\"",
          "mean": 2614.160589435887,
          "std": 654.0399104084669,
          "noise": 0.25019117534382346
         },
         {
          "complex_annotation": "oxidized glutaredoxin 3 // \"glutaredoxin 3\"",
          "mean": 4208.569286563606,
          "std": 1875.3706674084556,
          "noise": 0.445607649467912
         },
         {
          "complex_annotation": "oxidized thioredoxin // \"thioredoxin 1\"",
          "mean": 14295.073217874295,
          "std": 6328.670072506371,
          "noise": 0.44271687007472754
         },
         {
          "complex_annotation": "oxidized thioredoxin 2 // \"reduced thioredoxin 2\"",
          "mean": 218.24144665456524,
          "std": 16.6379067619025,
          "noise": 0.0762362375110038
         },
         {
          "complex_annotation": "oxidoreductase UcpA",
          "mean": 304.6862744815288,
          "std": 62.49436246752078,
          "noise": 0.20511052745603547
         },
         {
          "complex_annotation": "pantothenate kinase",
          "mean": 65.0277046807775,
          "std": 30.764415366374728,
          "noise": 0.47309705174737365
         },
         {
          "complex_annotation": "pantothenate synthetase",
          "mean": 704.9942158660424,
          "std": 109.11062838864632,
          "noise": 0.1547681185647893
         },
         {
          "complex_annotation": "peptidase D",
          "mean": 1540.7735261410114,
          "std": 332.41513232132144,
          "noise": 0.215745615226062
         },
         {
          "complex_annotation": "peptidase E",
          "mean": 197.2561602510526,
          "std": 72.02452894354019,
          "noise": 0.3651319626817883
         },
         {
          "complex_annotation": "peptidase M16 family protein YhjJ",
          "mean": 153.3984694274448,
          "std": 113.93403076365655,
          "noise": 0.7427325134919006
         },
         {
          "complex_annotation": "peptidase T",
          "mean": 143.71469206717893,
          "std": 85.3043695226284,
          "noise": 0.5935674933134406
         },
         {
          "complex_annotation": "peptide chain release factor RF1",
          "mean": 76.48618635432996,
          "std": 55.54347094814589,
          "noise": 0.7261895722037331
         },
         {
          "complex_annotation": "peptide chain release factor RF2",
          "mean": 1455.0656788324454,
          "std": 39.31856103757106,
          "noise": 0.027021846236604617
         },
         {
          "complex_annotation": "peptide chain release factor RF3",
          "mean": 615.1406621582056,
          "std": 199.80029979387885,
          "noise": 0.3248042473617083
         },
         {
          "complex_annotation": "peptide deformylase",
          "mean": 798.2806906800109,
          "std": 751.0011350256382,
          "noise": 0.9407732690939851
         },
         {
          "complex_annotation": "peptidoglycan DD-endopeptidase PbpG",
          "mean": 17.871134768299363,
          "std": 25.27360116432632,
          "noise": 1.4142135623730951
         },
         {
          "complex_annotation": "peptidoglycan glycosyltransferase / peptidoglycan DD-transpeptidase MrcA",
          "mean": 19.955410632267196,
          "std": 4.277077661737674,
          "noise": 0.2143317289007218
         },
         {
          "complex_annotation": "peptidyl-dipeptidase Dcp",
          "mean": 631.9001655855185,
          "std": 345.02287971904235,
          "noise": 0.5460085287354598
         },
         {
          "complex_annotation": "peptidyl-lysine <i>N</i>-acetyltransferase",
          "mean": 7.302842315445819,
          "std": 0.20706819351947742,
          "noise": 0.028354465915486012
         },
         {
          "complex_annotation": "peptidyl-prolyl cis-trans isomerase A",
          "mean": 1880.259547606803,
          "std": 1267.5175633725771,
          "noise": 0.6741184029544619
         },
         {
          "complex_annotation": "peptidyl-prolyl cis-trans isomerase B",
          "mean": 4923.2391146683585,
          "std": 2874.6763830429727,
          "noise": 0.5838994036422336
         },
         {
          "complex_annotation": "peptidyl-prolyl cis-trans isomerase C",
          "mean": 1767.7093156541287,
          "std": 1143.6016228816657,
          "noise": 0.6469398632198099
         },
         {
          "complex_annotation": "peptidyl-prolyl cis-trans isomerase FkpA",
          "mean": 3572.6196077949735,
          "std": 632.8714298911362,
          "noise": 0.17714492427637588
         },
         {
          "complex_annotation": "peptidyl-prolyl cis-trans isomerase FkpB",
          "mean": 1381.818696885086,
          "std": 902.4338450353034,
          "noise": 0.6530768812649458
         },
         {
          "complex_annotation": "peptidyl-prolyl cis-trans isomerase SurA",
          "mean": 1708.520603328524,
          "std": 845.5376510446822,
          "noise": 0.49489461783335453
         },
         {
          "complex_annotation": "peptidyl-tRNA hydrolase",
          "mean": 333.30958717716857,
          "std": 161.5045010672392,
          "noise": 0.48454802166069266
         },
         {
          "complex_annotation": "periplasmic acid stress chaperone HdeA",
          "mean": 2518.0480172412226,
          "std": 1748.3372393779339,
          "noise": 0.6943224384153781
         },
         {
          "complex_annotation": "periplasmic acid stress chaperone HdeB",
          "mean": 1148.116111366343,
          "std": 1619.3598280811677,
          "noise": 1.4104495286230327
         },
         {
          "complex_annotation": "periplasmic bacteriophage sensitivity protein DcrB",
          "mean": 1813.6107300914225,
          "std": 204.75977531158813,
          "noise": 0.1129017224667977
         },
         {
          "complex_annotation": "periplasmic chaperone OsmY",
          "mean": 10399.868233863523,
          "std": 8995.638035601118,
          "noise": 0.8649761548237677
         },
         {
          "complex_annotation": "periplasmic chaperone Skp",
          "mean": 5237.620477154534,
          "std": 5904.3336253468115,
          "noise": 1.1272931383822766
         },
         {
          "complex_annotation": "periplasmic chaperone, inhibitor of vertebrate C-type lysozyme",
          "mean": 784.5725157189617,
          "std": 394.0700381631098,
          "noise": 0.5022735697056561
         },
         {
          "complex_annotation": "periplasmic folding chaperone",
          "mean": 1364.3402100442202,
          "std": 126.95421089740712,
          "noise": 0.09305172563468782
         },
         {
          "complex_annotation": "periplasmic protein involved in nickel/cobalt export",
          "mean": 406.55001120671795,
          "std": 206.68543608597727,
          "noise": 0.5083887108316526
         },
         {
          "complex_annotation": "periplasmic serine endoprotease",
          "mean": 72.01307537371285,
          "std": 37.43153135237206,
          "noise": 0.5197879851418734
         },
         {
          "complex_annotation": "periplasmic serine endoprotease DegP",
          "mean": 162.01197518775268,
          "std": 43.38285576039382,
          "noise": 0.2677756117109135
         },
         {
          "complex_annotation": "periplasmic trehalase",
          "mean": 206.08723672334995,
          "std": 202.56965451548442,
          "noise": 0.9829315863330852
         },
         {
          "complex_annotation": "peroxide stress resistance protein YaaA",
          "mean": 314.0124912721239,
          "std": 237.35466097325397,
          "noise": 0.7558764939945077
         },
         {
          "complex_annotation": "phage shock protein A",
          "mean": 1633.41070444999,
          "std": 683.4956745222225,
          "noise": 0.41844691764302633
         },
         {
          "complex_annotation": "phage shock protein B",
          "mean": 153.44577091968375,
          "std": 117.11913510070285,
          "noise": 0.7632607558927452
         },
         {
          "complex_annotation": "phenylalanine&mdash;tRNA ligase",
          "mean": 1616.3301723121742,
          "std": 390.8589771588017,
          "noise": 0.24181877184144535
         },
         {
          "complex_annotation": "phosphate ABC transporter",
          "mean": 624.7110629256076,
          "std": 709.1873080204081,
          "noise": 1.1352245063488817
         },
         {
          "complex_annotation": "phosphate acetyltransferase",
          "mean": 215.06252269854613,
          "std": 36.216728313689664,
          "noise": 0.1684009275965519
         },
         {
          "complex_annotation": "phosphate signaling protein PhoU",
          "mean": 115.04414582117947,
          "std": 71.00472350410111,
          "noise": 0.6171954513397694
         },
         {
          "complex_annotation": "phosphatidylserine decarboxylase proenzyme // \"phosphatidylserine decarboxylase, &beta; subunit\" // \"phosphatidylserine decarboxylase, &alpha; subunit\"",
          "mean": 905.3187357329656,
          "std": 523.511902052593,
          "noise": 0.5782625294159481
         },
         {
          "complex_annotation": "phosphatidylserine synthase",
          "mean": 467.5935529892112,
          "std": 277.4870808309416,
          "noise": 0.5934364985510056
         },
         {
          "complex_annotation": "phosphoadenosine phosphosulfate reductase",
          "mean": 530.1863521155509,
          "std": 233.1278403839881,
          "noise": 0.4397092445962835
         },
         {
          "complex_annotation": "phosphodiesterase YfcE",
          "mean": 141.2409900294448,
          "std": 76.3378955077111,
          "noise": 0.5404797537301089
         },
         {
          "complex_annotation": "phosphoenolpyruvate carboxylase",
          "mean": 1242.6356707311315,
          "std": 855.6369351755174,
          "noise": 0.6885662107800953
         },
         {
          "complex_annotation": "phosphoenolpyruvate synthetase",
          "mean": 724.3207308772024,
          "std": 132.09041663637547,
          "noise": 0.18236453963757857
         },
         {
          "complex_annotation": "phosphoenolpyruvate synthetase regulatory protein",
          "mean": 53.85773167443974,
          "std": 23.54477762121276,
          "noise": 0.4371661577493959
         },
         {
          "complex_annotation": "phosphoethanolamine transferase EptC",
          "mean": 136.66720429108767,
          "std": 141.11474580958233,
          "noise": 1.0325428587023835
         },
         {
          "complex_annotation": "phosphoglucosamine mutase",
          "mean": 1314.043365296406,
          "std": 277.88030701722784,
          "noise": 0.21146966253624894
         },
         {
          "complex_annotation": "phosphoglycerate dehydrogenase",
          "mean": 2837.9313655271812,
          "std": 1273.7087362951816,
          "noise": 0.44881590575696473
         },
         {
          "complex_annotation": "phosphoglycerol transferase II // \"phosphoglycerol transferase I\"",
          "mean": 43.30664541834317,
          "std": 41.978861754097345,
          "noise": 0.9693399557638462
         },
         {
          "complex_annotation": "phosphomethylpyrimidine synthase",
          "mean": 1579.953305849822,
          "std": 849.5874744521152,
          "noise": 0.5377294830844009
         },
         {
          "complex_annotation": "phosphopentomutase",
          "mean": 1359.8148925092025,
          "std": 230.60777020099204,
          "noise": 0.16958761922033547
         },
         {
          "complex_annotation": "phosphoribosylaminoimidazole-succinocarboxamide synthase",
          "mean": 5640.070568901102,
          "std": 3854.5128792767578,
          "noise": 0.6834157183298794
         },
         {
          "complex_annotation": "phosphoribosylformylglycinamide cyclo-ligase",
          "mean": 1604.187846414904,
          "std": 819.9914724051633,
          "noise": 0.5111567664832454
         },
         {
          "complex_annotation": "phosphoribosylglycinamide formyltransferase 1",
          "mean": 270.3028583661401,
          "std": 127.45353632905542,
          "noise": 0.4715212302949923
         },
         {
          "complex_annotation": "phosphoribosylglycinamide formyltransferase 2",
          "mean": 1048.0338394432877,
          "std": 399.0222420223086,
          "noise": 0.3807341204118638
         },
         {
          "complex_annotation": "phosphoserine/phosphohydroxythreonine aminotransferase",
          "mean": 5469.138035493081,
          "std": 2059.268634672365,
          "noise": 0.37652526253832386
         },
         {
          "complex_annotation": "phosphosugar phosphatase YigL",
          "mean": 367.89446926229357,
          "std": 329.8709183482651,
          "noise": 0.8966454945890495
         },
         {
          "complex_annotation": "poly(A) polymerase I",
          "mean": 53.635036134164466,
          "std": 22.098795174820825,
          "noise": 0.4120216330150718
         },
         {
          "complex_annotation": "polynucleotide phosphorylase",
          "mean": 1422.0203154655649,
          "std": 410.8246959244853,
          "noise": 0.2889021285114219
         },
         {
          "complex_annotation": "polyphenol oxidase YfiH",
          "mean": 56.840148236179004,
          "std": 70.41489734397987,
          "noise": 1.238823253088571
         },
         {
          "complex_annotation": "polyphosphate kinase",
          "mean": 38.40666370255959,
          "std": 22.98329836717212,
          "noise": 0.5984195488878252
         },
         {
          "complex_annotation": "porphobilinogen synthase",
          "mean": 156.9205515072249,
          "std": 181.79407710106327,
          "noise": 1.1585103120969669
         },
         {
          "complex_annotation": "porphyrinogen peroxidase",
          "mean": 524.9439778132104,
          "std": 141.500496462068,
          "noise": 0.26955351893267704
         },
         {
          "complex_annotation": "potassium dependent, small conductance mechanosensitive channel",
          "mean": 9.93965114926858,
          "std": 6.252613329878387,
          "noise": 0.6290576234497418
         },
         {
          "complex_annotation": "predicted structural protein, ethanolamine utilization microcompartment",
          "mean": 46.7287375994012,
          "std": 15.593163502922598,
          "noise": 0.3336953725692435
         },
         {
          "complex_annotation": "primosome",
          "mean": 11.787107477533882,
          "std": 1.9404237720885746,
          "noise": 0.16462255695784606
         },
         {
          "complex_annotation": "proline&mdash;tRNA ligase",
          "mean": 1910.4350529960473,
          "std": 788.5666570768028,
          "noise": 0.412768105275356
         },
         {
          "complex_annotation": "proline:Na+ symporter",
          "mean": 123.73715650024752,
          "std": 55.72175195875594,
          "noise": 0.4503235207174368
         },
         {
          "complex_annotation": "protease 7",
          "mean": 6549.0941250389105,
          "std": 5075.063034926869,
          "noise": 0.7749259573966981
         },
         {
          "complex_annotation": "protease HtpX",
          "mean": 337.6055872562705,
          "std": 18.081752672163887,
          "noise": 0.05355880753963454
         },
         {
          "complex_annotation": "protease IV, a signal peptide peptidase",
          "mean": 10.078266735403565,
          "std": 6.992930383846021,
          "noise": 0.6938624038676033
         },
         {
          "complex_annotation": "protein HemY",
          "mean": 289.9437886095688,
          "std": 215.11172511577468,
          "noise": 0.7419083752314448
         },
         {
          "complex_annotation": "protein MoaB",
          "mean": 493.66663045827045,
          "std": 262.2869995093031,
          "noise": 0.5313038867257894
         },
         {
          "complex_annotation": "protein SlyX",
          "mean": 391.49466595484955,
          "std": 315.66288785756694,
          "noise": 0.8063018868665042
         },
         {
          "complex_annotation": "protein YaiA",
          "mean": 902.2698465828953,
          "std": 518.8235039502301,
          "noise": 0.5750203289128356
         },
         {
          "complex_annotation": "protein YceI",
          "mean": 862.8238846159016,
          "std": 564.352698816436,
          "noise": 0.6540763519401942
         },
         {
          "complex_annotation": "protein YciI",
          "mean": 3021.2250400547964,
          "std": 2531.7656842010897,
          "noise": 0.8379930824865568
         },
         {
          "complex_annotation": "protein YciN",
          "mean": 791.6743215065338,
          "std": 370.069157363891,
          "noise": 0.46745125780972646
         },
         {
          "complex_annotation": "protein YdcH",
          "mean": 34.20532272978994,
          "std": 39.02657951005275,
          "noise": 1.1409504835942945
         },
         {
          "complex_annotation": "protein YggL",
          "mean": 2259.914169865366,
          "std": 1068.6353612833761,
          "noise": 0.47286546344679975
         },
         {
          "complex_annotation": "protein YibT",
          "mean": 444.6478059251406,
          "std": 113.58833629124712,
          "noise": 0.2554568689592735
         },
         {
          "complex_annotation": "protein YtfJ",
          "mean": 384.335971610424,
          "std": 425.67276571104617,
          "noise": 1.1075537996805631
         },
         {
          "complex_annotation": "protein chain elongation factor EF-P, &beta;-lysyl-Lys34 // \"protein chain elongation factor EF-P\"",
          "mean": 7947.27960301236,
          "std": 4763.054535897656,
          "noise": 0.5993314409237915
         },
         {
          "complex_annotation": "protein chain elongation factor EF-Ts",
          "mean": 20804.707393621295,
          "std": 5477.0763545288255,
          "noise": 0.2632613980530239
         },
         {
          "complex_annotation": "protein disulfide isomerase DsbC",
          "mean": 245.5587520558165,
          "std": 104.31631739261282,
          "noise": 0.42481205218416035
         },
         {
          "complex_annotation": "protein kinase YeaG",
          "mean": 946.4139249873407,
          "std": 902.8321409752431,
          "noise": 0.9539506099166064
         },
         {
          "complex_annotation": "protein sulfenic acid reductase DsbG<sub>oxidized</sub>",
          "mean": 43.29985575911318,
          "std": 24.685762662488333,
          "noise": 0.5701118913610422
         },
         {
          "complex_annotation": "protein sulfenic acid reductase DsbG<sub>reduced</sub>",
          "mean": 43.29985575911318,
          "std": 24.685762662488333,
          "noise": 0.5701118913610422
         },
         {
          "complex_annotation": "protein sulfenic acid reductase and chaperone DsbG",
          "mean": 43.29985575911318,
          "std": 24.685762662488333,
          "noise": 0.5701118913610422
         },
         {
          "complex_annotation": "protein translocation ATPase",
          "mean": 437.6904404931609,
          "std": 142.72235306429337,
          "noise": 0.3260805808403838
         },
         {
          "complex_annotation": "protein-lysine deacetylase/desuccinylase",
          "mean": 501.4392950594658,
          "std": 204.0819655333485,
          "noise": 0.4069923668609704
         },
         {
          "complex_annotation": "protein/nucleic acid deglycase 1",
          "mean": 625.9629534361596,
          "std": 520.0810263418149,
          "noise": 0.830849531089473
         },
         {
          "complex_annotation": "protein/nucleic acid deglycase 2",
          "mean": 400.09652308189203,
          "std": 14.76518553126435,
          "noise": 0.036904058594486214
         },
         {
          "complex_annotation": "protein/nucleic acid deglycase 3",
          "mean": 257.3238475782037,
          "std": 168.71442439020962,
          "noise": 0.6556501699242444
         },
         {
          "complex_annotation": "protoporphyrinogen oxidase",
          "mean": 32.72921270383036,
          "std": 4.0013862983001465,
          "noise": 0.12225733428142793
         },
         {
          "complex_annotation": "purine nucleoside phosphoramidase",
          "mean": 1675.746919081098,
          "std": 1303.2371037129174,
          "noise": 0.7777052064804345
         },
         {
          "complex_annotation": "purine nucleoside phosphorylase",
          "mean": 579.6160287052529,
          "std": 190.53105669599205,
          "noise": 0.32871944056067703
         },
         {
          "complex_annotation": "putative ABC transporter ArtPQMI",
          "mean": 1778.5946118778504,
          "std": 779.4938628729502,
          "noise": 0.43826392909734285
         },
         {
          "complex_annotation": "putative ADP-heptose:LPS heptosyltransferase 4",
          "mean": 16.23591120623631,
          "std": 17.61762348388082,
          "noise": 1.0851022317191403
         },
         {
          "complex_annotation": "putative ATP-binding protein YbiT",
          "mean": 308.0921431318866,
          "std": 178.17618747550205,
          "noise": 0.5783211011623534
         },
         {
          "complex_annotation": "putative ATP-binding protein YheS",
          "mean": 37.33516530383615,
          "std": 14.220746909413862,
          "noise": 0.3808941729247599
         },
         {
          "complex_annotation": "putative CoA-binding protein with NAD(P)-binding Rossmann-fold domain",
          "mean": 1650.9248769857068,
          "std": 929.8673883854108,
          "noise": 0.5632402790387302
         },
         {
          "complex_annotation": "putative DNA-binding transcriptional regulator YciT",
          "mean": 146.03065289177025,
          "std": 153.73150174886004,
          "noise": 1.0527344684461366
         },
         {
          "complex_annotation": "putative DNA-binding transcriptional regulator YjdC",
          "mean": 408.95792661610085,
          "std": 189.2433753130255,
          "noise": 0.4627453412601855
         },
         {
          "complex_annotation": "putative EcfF",
          "mean": 289.8560829901014,
          "std": 289.13888095738196,
          "noise": 0.997525661613443
         },
         {
          "complex_annotation": "putative FAD-linked oxidoreductase",
          "mean": 346.175838374599,
          "std": 222.40445313819424,
          "noise": 0.6424609359868988
         },
         {
          "complex_annotation": "putative Fe2+-trafficking protein",
          "mean": 3060.3072001684363,
          "std": 1295.9358009703635,
          "noise": 0.4234659190093846
         },
         {
          "complex_annotation": "putative N-acetyltransferase YhbS",
          "mean": 645.4128777709332,
          "std": 452.12109051988165,
          "noise": 0.700514517282914
         },
         {
          "complex_annotation": "putative NAD-dependent epimerase YfcH",
          "mean": 134.4929855976858,
          "std": 76.88450018581435,
          "noise": 0.5716617847699657
         },
         {
          "complex_annotation": "putative NADP(H)-dependent aldo-keto reductase Tas",
          "mean": 495.40365354220563,
          "std": 571.0249844765722,
          "noise": 1.1526458886479003
         },
         {
          "complex_annotation": "putative Nudix hydrolase YfcD",
          "mean": 733.7874833515784,
          "std": 560.02502327698,
          "noise": 0.7631978413137583
         },
         {
          "complex_annotation": "putative RNA-binding protein YbcJ",
          "mean": 1193.0228358066556,
          "std": 864.5721016502087,
          "noise": 0.7246903208400308
         },
         {
          "complex_annotation": "putative RNA-binding protein YciO",
          "mean": 618.7708388846493,
          "std": 270.50647092269986,
          "noise": 0.43716745186359285
         },
         {
          "complex_annotation": "putative RNA-binding protein YhgF",
          "mean": 271.94350715809645,
          "std": 97.85027251575431,
          "noise": 0.3598183811716023
         },
         {
          "complex_annotation": "putative acetyltransferase YiiD",
          "mean": 170.98146373816832,
          "std": 34.44278997988348,
          "noise": 0.2014416605570022
         },
         {
          "complex_annotation": "putative acetyltransferase YjgM",
          "mean": 179.78585603915343,
          "std": 101.58811954747328,
          "noise": 0.5650506763187735
         },
         {
          "complex_annotation": "putative acid&mdash;amine ligase YgiC",
          "mean": 217.70497794403278,
          "std": 109.34667398407383,
          "noise": 0.5022699757108194
         },
         {
          "complex_annotation": "putative adhesin-related protein YdhQ",
          "mean": 97.63369949135901,
          "std": 11.432261217879207,
          "noise": 0.11709339375069988
         },
         {
          "complex_annotation": "putative aldose 1-epimerase YeaD",
          "mean": 1153.3076174592768,
          "std": 651.2289253503465,
          "noise": 0.5646619475079825
         },
         {
          "complex_annotation": "putative bifunctional phosphoribosyl-AMP cyclohydrolase/phosphoribosyl-ATP pyrophosphatase",
          "mean": 641.4184215162933,
          "std": 483.20098923108026,
          "noise": 0.7533319484164612
         },
         {
          "complex_annotation": "putative cation transport regulator ChaB",
          "mean": 149.9644232537265,
          "std": 128.15481373847348,
          "noise": 0.8545681099419621
         },
         {
          "complex_annotation": "putative dienelactone hydrolase",
          "mean": 768.7093222560892,
          "std": 413.91349271349424,
          "noise": 0.5384525473148905
         },
         {
          "complex_annotation": "putative epimerase YeeZ",
          "mean": 348.3994003756552,
          "std": 227.45560231698178,
          "noise": 0.6528587651750606
         },
         {
          "complex_annotation": "putative flavodoxin YqcA",
          "mean": 457.093690659498,
          "std": 543.5653781065915,
          "noise": 1.189177162612618
         },
         {
          "complex_annotation": "putative glycosyltransferase WbbK",
          "mean": 130.57423206243612,
          "std": 112.32767928967391,
          "noise": 0.8602591607505121
         },
         {
          "complex_annotation": "putative heavy metal binding protein YbjQ",
          "mean": 179.5757692708769,
          "std": 119.00232717454085,
          "noise": 0.6626858827208172
         },
         {
          "complex_annotation": "putative heme-binding protein GlcG",
          "mean": 624.1805370034318,
          "std": 300.0177478581083,
          "noise": 0.48065860768173674
         },
         {
          "complex_annotation": "putative hydrolase",
          "mean": 252.90495158933632,
          "std": 156.15839792219188,
          "noise": 0.6174588395396853
         },
         {
          "complex_annotation": "putative inner membrane protein",
          "mean": 71.81373824359105,
          "std": 35.67020061615648,
          "noise": 0.49670441183779807
         },
         {
          "complex_annotation": "putative iron ABC exporter ATP-binding subunit FetA",
          "mean": 58.86086126343851,
          "std": 23.238945415802693,
          "noise": 0.39481150830930145
         },
         {
          "complex_annotation": "putative iron siderophore outer membrane transporter",
          "mean": 249.76008781894478,
          "std": 283.2168077632724,
          "noise": 1.1339554299347498
         },
         {
          "complex_annotation": "putative isomerase/hydrolase",
          "mean": 150.30968725716764,
          "std": 79.64529316425312,
          "noise": 0.529874651578421
         },
         {
          "complex_annotation": "putative kinase YniA",
          "mean": 232.44656895443688,
          "std": 74.3320481346205,
          "noise": 0.31978122313859897
         },
         {
          "complex_annotation": "putative kinase inhibitor",
          "mean": 280.7651531477601,
          "std": 44.33960804313019,
          "noise": 0.1579241851989919
         },
         {
          "complex_annotation": "putative lipid-binding lipoprotein YceB",
          "mean": 247.94452877034712,
          "std": 152.54199859130824,
          "noise": 0.6152263143204775
         },
         {
          "complex_annotation": "putative lipoprotein YajG",
          "mean": 2490.9729387732636,
          "std": 821.5933513594905,
          "noise": 0.32982829262051433
         },
         {
          "complex_annotation": "putative lipoprotein YifL",
          "mean": 1573.196819243492,
          "std": 1508.6071043566237,
          "noise": 0.9589436527605442
         },
         {
          "complex_annotation": "putative mannosyl-3-phosphoglycerate phosphatase",
          "mean": 153.33847670725254,
          "std": 129.62605378574432,
          "noise": 0.8453589507949855
         },
         {
          "complex_annotation": "putative membrane fusion protein YhiI",
          "mean": 212.3581342155262,
          "std": 148.99906983060916,
          "noise": 0.7016405111159398
         },
         {
          "complex_annotation": "putative methyltransferase YfiF",
          "mean": 787.9796011308191,
          "std": 404.48747956369846,
          "noise": 0.5133222725350045
         },
         {
          "complex_annotation": "putative monooxygenase YdhR",
          "mean": 1493.4535395523617,
          "std": 482.64681820203106,
          "noise": 0.3231749802854239
         },
         {
          "complex_annotation": "putative nucleoid-associated protein YbaB",
          "mean": 2237.2168930508856,
          "std": 573.6787991344881,
          "noise": 0.25642520442091077
         },
         {
          "complex_annotation": "putative oxidoreductase",
          "mean": 127.41874712020422,
          "std": 23.908104906117206,
          "noise": 0.1876341232861346
         },
         {
          "complex_annotation": "putative oxidoreductase YdgJ",
          "mean": 108.20111968030025,
          "std": 42.070265378518506,
          "noise": 0.3888154346537513
         },
         {
          "complex_annotation": "putative oxidoreductase YdhF",
          "mean": 454.6871649085403,
          "std": 306.53091479258256,
          "noise": 0.6741578352101513
         },
         {
          "complex_annotation": "putative oxidoreductase YdjA",
          "mean": 1012.7430440249891,
          "std": 328.4853295067325,
          "noise": 0.32435209646192076
         },
         {
          "complex_annotation": "putative oxidoreductase YfgD",
          "mean": 1703.711409976171,
          "std": 881.2972442695783,
          "noise": 0.5172808253258717
         },
         {
          "complex_annotation": "putative oxidoreductase YgjR",
          "mean": 204.68181784733304,
          "std": 10.095271757363552,
          "noise": 0.049321780818330226
         },
         {
          "complex_annotation": "putative oxidoreductase YhhX",
          "mean": 364.3478623916238,
          "std": 160.14148791296333,
          "noise": 0.43952909964058823
         },
         {
          "complex_annotation": "putative oxidoreductase YohF",
          "mean": 120.16216031575605,
          "std": 100.06926590879299,
          "noise": 0.8327851766798802
         },
         {
          "complex_annotation": "putative periplasmic binding protein SapA",
          "mean": 32.80597842617981,
          "std": 17.5947804473253,
          "noise": 0.5363284770462544
         },
         {
          "complex_annotation": "putative phosphatase",
          "mean": 356.35568913394053,
          "std": 134.93330580711682,
          "noise": 0.3786478227274787
         },
         {
          "complex_annotation": "putative phosphatidylethanolamine synthesis regulator GnsA",
          "mean": 301.34329588583176,
          "std": 289.4026948111682,
          "noise": 0.960375421528583
         },
         {
          "complex_annotation": "putative pyruvate-flavodoxin oxidoreductase",
          "mean": 61.290622034264864,
          "std": 33.51088861985146,
          "noise": 0.5467539324550664
         },
         {
          "complex_annotation": "putative quinol monooxygenase YgiN",
          "mean": 762.6140977478627,
          "std": 631.2933860529358,
          "noise": 0.8278018829146475
         },
         {
          "complex_annotation": "putative quinone oxidoreductase 1",
          "mean": 381.50931932489675,
          "std": 241.479191330225,
          "noise": 0.6329575166277371
         },
         {
          "complex_annotation": "putative signal transduction protein (SH3 domain)",
          "mean": 131.19578712778838,
          "std": 55.251729397475366,
          "noise": 0.4211395091799604
         },
         {
          "complex_annotation": "putative stress response protein YjbJ",
          "mean": 627.950819001059,
          "std": 218.508521132369,
          "noise": 0.3479707558626506
         },
         {
          "complex_annotation": "putative sulfatase YdeN",
          "mean": 138.87392602165622,
          "std": 106.88809785126587,
          "noise": 0.7696772238915286
         },
         {
          "complex_annotation": "putative sulfurtransferase YedF",
          "mean": 3226.1553337504947,
          "std": 1309.9633979750333,
          "noise": 0.4060447382278288
         },
         {
          "complex_annotation": "putative sulfurtransferase YibN",
          "mean": 1821.0533510067314,
          "std": 833.353619324227,
          "noise": 0.45762174889797974
         },
         {
          "complex_annotation": "putative thioesterase YigI",
          "mean": 274.6481159100668,
          "std": 123.03428981056847,
          "noise": 0.4479706310851078
         },
         {
          "complex_annotation": "putative transcriptional regulator YebC",
          "mean": 1852.0608852566254,
          "std": 1015.9752907962153,
          "noise": 0.5485647361185103
         },
         {
          "complex_annotation": "putative transcriptional regulator YeeN",
          "mean": 739.0852780023214,
          "std": 594.8369680864811,
          "noise": 0.8048285979857019
         },
         {
          "complex_annotation": "putative transport complex, ABC superfamily",
          "mean": 140.1130472174791,
          "std": 128.7560622585022,
          "noise": 0.9189441298685842
         },
         {
          "complex_annotation": "putative transporter YhjE",
          "mean": 206.9010596504826,
          "std": 203.02749485423672,
          "noise": 0.9812781780683507
         },
         {
          "complex_annotation": "putrescine ABC transporter",
          "mean": 1782.1135817848644,
          "std": 1262.5587327909575,
          "noise": 0.708461427877369
         },
         {
          "complex_annotation": "pyridine nucleotide transhydrogenase",
          "mean": 1290.7443039278653,
          "std": 689.5704682968532,
          "noise": 0.5342425034907538
         },
         {
          "complex_annotation": "pyridoxal kinase I / hydroxymethylpyrimidine kinase",
          "mean": 84.14191367590306,
          "std": 1.1160344773318454,
          "noise": 0.013263716364124725
         },
         {
          "complex_annotation": "pyridoxal phosphate/fructose-1,6-bisphosphate phosphatase",
          "mean": 194.24990354041662,
          "std": 40.499332141141075,
          "noise": 0.20849087388460183
         },
         {
          "complex_annotation": "pyridoxine 4-dehydrogenase",
          "mean": 681.5243630351408,
          "std": 158.33528091314056,
          "noise": 0.232325195548404
         },
         {
          "complex_annotation": "pyridoxine 5'-phosphate oxidase",
          "mean": 296.49928869462093,
          "std": 186.2057515341535,
          "noise": 0.6280141593389652
         },
         {
          "complex_annotation": "pyridoxine 5'-phosphate synthase",
          "mean": 216.61577207006405,
          "std": 177.57541076935428,
          "noise": 0.8197713817067659
         },
         {
          "complex_annotation": "pyrimidine-specific ribonucleoside hydrolase RihA",
          "mean": 38.56904794792209,
          "std": 14.482680104607448,
          "noise": 0.37550006741578656
         },
         {
          "complex_annotation": "pyrroline-5-carboxylate reductase",
          "mean": 82.36335811939661,
          "std": 30.574927072975726,
          "noise": 0.3712200154424655
         },
         {
          "complex_annotation": "pyruvate dehydrogenase",
          "mean": 2312.683807611064,
          "std": 2055.324906682369,
          "noise": 0.8887185096026857
         },
         {
          "complex_annotation": "pyruvate formate-lyase (inactive)",
          "mean": 3775.609861285262,
          "std": 783.7668572888019,
          "noise": 0.2075868233435534
         },
         {
          "complex_annotation": "pyruvate formate-lyase activating enzyme",
          "mean": 266.55882987158753,
          "std": 182.97985992447914,
          "noise": 0.6864520676828757
         },
         {
          "complex_annotation": "pyruvate kinase I",
          "mean": 2012.4634510316694,
          "std": 642.1229067493266,
          "noise": 0.31907307753596653
         },
         {
          "complex_annotation": "pyruvate kinase II",
          "mean": 653.5338500538443,
          "std": 157.73744510509545,
          "noise": 0.2413607881092916
         },
         {
          "complex_annotation": "pyruvate oxidase",
          "mean": 175.43486416526017,
          "std": 174.58503473284463,
          "noise": 0.9951558691799425
         },
         {
          "complex_annotation": "quercetin 2,3-dioxygenase",
          "mean": 404.6469947231256,
          "std": 426.6022843161317,
          "noise": 1.0542578837340155
         },
         {
          "complex_annotation": "quinolinate phosphoribosyltransferase (decarboxylating)",
          "mean": 215.1853672710494,
          "std": 117.35255637416444,
          "noise": 0.5453556524888894
         },
         {
          "complex_annotation": "quinolinate synthase",
          "mean": 147.4964876700959,
          "std": 44.88320569746419,
          "noise": 0.3043001661019486
         },
         {
          "complex_annotation": "quinone-dependent D-lactate dehydrogenase",
          "mean": 858.3778845237066,
          "std": 277.5680412248495,
          "noise": 0.3233634582499354
         },
         {
          "complex_annotation": "quinoprotein glucose dehydrogenase",
          "mean": 204.19387902778422,
          "std": 237.4663065352326,
          "noise": 1.162945273706863
         },
         {
          "complex_annotation": "radiation resistance protein YbgI",
          "mean": 362.90337289427026,
          "std": 368.87105307735925,
          "noise": 1.0164442676172856
         },
         {
          "complex_annotation": "rare lipoprotein RlpA",
          "mean": 193.35818595545695,
          "std": 94.36226664225849,
          "noise": 0.48801795577455565
         },
         {
          "complex_annotation": "redox-responsive ATPase YchF",
          "mean": 951.348268964856,
          "std": 104.62857472057922,
          "noise": 0.10997925589797267
         },
         {
          "complex_annotation": "regulator of sigma D",
          "mean": 460.6890309865086,
          "std": 268.1414700295003,
          "noise": 0.5820443987027616
         },
         {
          "complex_annotation": "replicative DNA helicase",
          "mean": 16.152848366310053,
          "std": 8.114513746802608,
          "noise": 0.5023580710215187
         },
         {
          "complex_annotation": "riboflavin synthase",
          "mean": 1382.4885533215659,
          "std": 718.9270569182519,
          "noise": 0.5200238766469049
         },
         {
          "complex_annotation": "ribokinase",
          "mean": 60.19521600987017,
          "std": 19.172317999670817,
          "noise": 0.31850235401642457
         },
         {
          "complex_annotation": "ribonuclease E",
          "mean": 291.8663508339211,
          "std": 147.8448642017944,
          "noise": 0.5065498772961383
         },
         {
          "complex_annotation": "ribonuclease E inhibitor protein A",
          "mean": 400.37141425117517,
          "std": 165.9465151114262,
          "noise": 0.41448142700647145
         },
         {
          "complex_annotation": "ribonuclease E inhibitor protein B",
          "mean": 1836.6918417441864,
          "std": 2065.7614876071066,
          "noise": 1.12471860584157
         },
         {
          "complex_annotation": "ribonucleoside hydrolase RihC",
          "mean": 103.81844120589805,
          "std": 59.850904947794206,
          "noise": 0.5764958927585401
         },
         {
          "complex_annotation": "ribonucleoside-diphosphate reductase 1",
          "mean": 522.0237607278692,
          "std": 354.3657710032779,
          "noise": 0.6788307308256963
         },
         {
          "complex_annotation": "ribonucleoside-diphosphate reductase 1 subunit &beta;",
          "mean": 770.2773818256752,
          "std": 425.13086905393885,
          "noise": 0.5519191905211
         },
         {
          "complex_annotation": "ribonucleoside-diphosphate reductase 1, &alpha; subunit dimer",
          "mean": 576.2436757181957,
          "std": 278.51877240854617,
          "noise": 0.48333506144152816
         },
         {
          "complex_annotation": "ribonucleoside-diphosphate reductase 2",
          "mean": 61.89686331221566,
          "std": 56.05067706815517,
          "noise": 0.9055495556443373
         },
         {
          "complex_annotation": "ribonucleoside-diphosphate reductase 2, &beta; subunit dimer",
          "mean": 67.56854453425512,
          "std": 48.029708562490136,
          "noise": 0.7108294087663911
         },
         {
          "complex_annotation": "ribose ABC transporter",
          "mean": 6289.60257930719,
          "std": 2007.477237905355,
          "noise": 0.31917394025974877
         },
         {
          "complex_annotation": "ribose-5-phosphate isomerase A",
          "mean": 1593.411073368555,
          "std": 893.4758588743199,
          "noise": 0.5607315486928711
         },
         {
          "complex_annotation": "ribose-phosphate diphosphokinase",
          "mean": 939.5058208770257,
          "std": 236.9165897568009,
          "noise": 0.2521714974960347
         },
         {
          "complex_annotation": "ribosomal protein S12 methylthiotransferase RimO",
          "mean": 161.66307157877515,
          "std": 31.543090151422685,
          "noise": 0.19511623677181203
         },
         {
          "complex_annotation": "ribosomal protein S12 methylthiotransferase accessory factor YcaO",
          "mean": 137.21884285918276,
          "std": 29.923710548795704,
          "noise": 0.21807289673404495
         },
         {
          "complex_annotation": "ribosomal protein-arginine oxygenase",
          "mean": 337.9322415500765,
          "std": 241.3424722787171,
          "noise": 0.7141741526990515
         },
         {
          "complex_annotation": "ribosomal silencing factor RsfS",
          "mean": 170.60426268995906,
          "std": 207.56687070137312,
          "noise": 1.2166570015814118
         },
         {
          "complex_annotation": "ribosomal-protein-L12-serine N-acetyltransferase",
          "mean": 97.35358129934961,
          "std": 15.271613915641224,
          "noise": 0.15686751028380758
         },
         {
          "complex_annotation": "ribosome",
          "mean": 21548.26348422404,
          "std": 5545.201660922498,
          "noise": 0.25733867905329183
         },
         {
          "complex_annotation": "ribosome assembly factor YhbY",
          "mean": 1659.9871401535154,
          "std": 1486.8213881213555,
          "noise": 0.8956824737713658
         },
         {
          "complex_annotation": "ribosome hibernation-promoting factor",
          "mean": 2850.568727684575,
          "std": 1736.858554120338,
          "noise": 0.6093024655929388
         },
         {
          "complex_annotation": "ribosome maturation factor RimM",
          "mean": 1258.9187907116436,
          "std": 1412.383957461562,
          "noise": 1.121902356118751
         },
         {
          "complex_annotation": "ribosome maturation factor RimP",
          "mean": 632.5402143271886,
          "std": 133.96624533593751,
          "noise": 0.21179087479589395
         },
         {
          "complex_annotation": "ribosome modulation factor",
          "mean": 933.3618458235047,
          "std": 1188.488652969299,
          "noise": 1.2733418001682895
         },
         {
          "complex_annotation": "ribosome rescue factor HflX",
          "mean": 158.66344065471947,
          "std": 102.35358879831391,
          "noise": 0.6450987598400437
         },
         {
          "complex_annotation": "ribosome- and membrane-associated DUF883 domain-containing protein YqjD",
          "mean": 10831.910445377898,
          "std": 2627.8704052424728,
          "noise": 0.24260451731890154
         },
         {
          "complex_annotation": "ribosome-dependent GTPase, ribosome assembly factor",
          "mean": 2303.0623149936455,
          "std": 1645.5621245258005,
          "noise": 0.7145104645291983
         },
         {
          "complex_annotation": "ribosome-recycling factor",
          "mean": 5409.215547999957,
          "std": 2110.416376855066,
          "noise": 0.39015202077413735
         },
         {
          "complex_annotation": "scaffold protein for iron-sulfur cluster assembly",
          "mean": 7419.998371505331,
          "std": 2090.273105827572,
          "noise": 0.2817080275724519
         },
         {
          "complex_annotation": "secreted protein YebF",
          "mean": 2479.8541909269643,
          "std": 2651.7017708373637,
          "noise": 1.069297453269284
         },
         {
          "complex_annotation": "selenide, water dikinase",
          "mean": 408.47657703426177,
          "std": 104.55347194376023,
          "noise": 0.2559595282130231
         },
         {
          "complex_annotation": "selenocysteyl-tRNA-specific translation elongation factor",
          "mean": 51.86557414566278,
          "std": 22.29995142639467,
          "noise": 0.42995670622995485
         },
         {
          "complex_annotation": "sensor histidine kinase ArcB",
          "mean": 37.340292945233074,
          "std": 25.686492325252186,
          "noise": 0.68790280683996
         },
         {
          "complex_annotation": "sensor lipoprotein NlpE",
          "mean": 26.137551351699017,
          "std": 3.496897803715628,
          "noise": 0.13378827100757928
         },
         {
          "complex_annotation": "sensor lipoprotein RcsF",
          "mean": 459.10664285086403,
          "std": 363.9882476455068,
          "noise": 0.7928185168162435
         },
         {
          "complex_annotation": "sensory histidine kinase NarX",
          "mean": 505.0879139100852,
          "std": 236.30140031320164,
          "noise": 0.46784211976861434
         },
         {
          "complex_annotation": "sensory histidine kinase NarX - phosphorylated",
          "mean": 505.0879139100852,
          "std": 236.30140031320164,
          "noise": 0.46784211976861434
         },
         {
          "complex_annotation": "sensory histidine kinase NtrB",
          "mean": 21.1257207978632,
          "std": 16.517120517203107,
          "noise": 0.7818488502827209
         },
         {
          "complex_annotation": "sensory histidine kinase NtrB - phosphorylated",
          "mean": 21.1257207978632,
          "std": 16.517120517203107,
          "noise": 0.7818488502827209
         },
         {
          "complex_annotation": "serine acetyltransferase",
          "mean": 64.95885740730544,
          "std": 22.041519571135243,
          "noise": 0.33931507497015173
         },
         {
          "complex_annotation": "serine hydroxymethyltransferase",
          "mean": 7445.7827792980215,
          "std": 1928.6643490634367,
          "noise": 0.2590277484894971
         },
         {
          "complex_annotation": "serine protease inhibitor ecotin",
          "mean": 96.04721456311758,
          "std": 13.319554101691331,
          "noise": 0.13867715125604568
         },
         {
          "complex_annotation": "serine&mdash;tRNA ligase",
          "mean": 1387.8685639054554,
          "std": 531.4720387370439,
          "noise": 0.382941189503914
         },
         {
          "complex_annotation": "shikimate kinase 1",
          "mean": 1112.4826500159095,
          "std": 423.87474678835395,
          "noise": 0.3810169504956254
         },
         {
          "complex_annotation": "shikimate kinase 2",
          "mean": 310.24651704430084,
          "std": 177.5193893376358,
          "noise": 0.5721881780619229
         },
         {
          "complex_annotation": "signal peptidase I",
          "mean": 129.53910241650127,
          "std": 67.20302080055689,
          "noise": 0.5187855986872754
         },
         {
          "complex_annotation": "signal recognition particle receptor",
          "mean": 808.2176513291806,
          "std": 419.84393173026825,
          "noise": 0.5194688968247604
         },
         {
          "complex_annotation": "small conductance mechanosensitive channel MscS",
          "mean": 448.32037610212524,
          "std": 372.45578816389946,
          "noise": 0.830780415117817
         },
         {
          "complex_annotation": "small heat shock protein IbpA",
          "mean": 148.84304356885957,
          "std": 15.088556328473754,
          "noise": 0.10137226414275319
         },
         {
          "complex_annotation": "soluble Cu+ chaperone // \"Cu+ exporting P-type ATPase\"",
          "mean": 1214.4600766694248,
          "std": 1498.338394620864,
          "noise": 1.2337485796403915
         },
         {
          "complex_annotation": "soluble pyridine nucleotide transhydrogenase",
          "mean": 193.78758926463888,
          "std": 112.1648716696991,
          "noise": 0.5788031735950091
         },
         {
          "complex_annotation": "spermidine <i>N</i>-acetyltransferase",
          "mean": 48.89671704861561,
          "std": 45.38323677733473,
          "noise": 0.928144863635986
         },
         {
          "complex_annotation": "spermidine preferential ABC transporter",
          "mean": 1845.01653857331,
          "std": 1125.8467940132068,
          "noise": 0.6102095945892099
         },
         {
          "complex_annotation": "spermidine synthase",
          "mean": 282.6866279606513,
          "std": 109.82035828692804,
          "noise": 0.38848798430682946
         },
         {
          "complex_annotation": "ssDNA-binding protein",
          "mean": 669.0385361076752,
          "std": 182.63929652914956,
          "noise": 0.272987707990195
         },
         {
          "complex_annotation": "starvation lipoprotein",
          "mean": 980.4177633144664,
          "std": 68.16902510821689,
          "noise": 0.06953058957006254
         },
         {
          "complex_annotation": "stationary phase mismatch/uracil DNA glycosylase",
          "mean": 221.60885231439406,
          "std": 27.26740843201415,
          "noise": 0.12304295675576252
         },
         {
          "complex_annotation": "stationary phase nucleoid component that sequesters iron and protects DNA from damage",
          "mean": 743.2936813413643,
          "std": 273.1329033179508,
          "noise": 0.3674629694484273
         },
         {
          "complex_annotation": "stationary phase translation inhibitor and ribosome stability factor",
          "mean": 2215.677042419498,
          "std": 578.4062476790523,
          "noise": 0.261051695082528
         },
         {
          "complex_annotation": "stress protein, member of the CspA family",
          "mean": 49167.22531468087,
          "std": 5698.567991363249,
          "noise": 0.11590176087609545
         },
         {
          "complex_annotation": "stress-induced alternate pyruvate formate-lyase subunit",
          "mean": 2391.837924535957,
          "std": 1541.5115069067044,
          "noise": 0.644488278697134
         },
         {
          "complex_annotation": "stringent starvation protein A",
          "mean": 4020.3135823221237,
          "std": 1425.6831889003904,
          "noise": 0.35461989710686176
         },
         {
          "complex_annotation": "succinate-semialdehyde dehydrogenase (NADP<sup>+</sup>) GabD",
          "mean": 320.9775654489691,
          "std": 23.808370802509714,
          "noise": 0.07417456347519999
         },
         {
          "complex_annotation": "succinate:quinone oxidoreductase",
          "mean": 1372.0449645172396,
          "std": 886.3410755934882,
          "noise": 0.6460000207831027
         },
         {
          "complex_annotation": "succinate:quinone oxidoreductase subcomplex",
          "mean": 4116.134893551718,
          "std": 2659.023226780464,
          "noise": 0.6460000207831027
         },
         {
          "complex_annotation": "succinyl-CoA synthetase",
          "mean": 8644.759678523224,
          "std": 5232.511614614988,
          "noise": 0.6052813275555223
         },
         {
          "complex_annotation": "succinyl-diaminopimelate desuccinylase",
          "mean": 40.88916759168024,
          "std": 24.633047620752084,
          "noise": 0.6024345583832378
         },
         {
          "complex_annotation": "succinylornithine transaminase",
          "mean": 44.69990643064722,
          "std": 6.592387764112993,
          "noise": 0.14748101932475433
         },
         {
          "complex_annotation": "sugar phosphatase YbiV",
          "mean": 88.29770736809056,
          "std": 24.088829799673725,
          "noise": 0.2728137628676309
         },
         {
          "complex_annotation": "sugar phosphatase YidA",
          "mean": 252.15081719473318,
          "std": 104.60509004146286,
          "noise": 0.4148512830742783
         },
         {
          "complex_annotation": "sulfate adenylyltransferase",
          "mean": 529.5151675441026,
          "std": 488.13136205549904,
          "noise": 0.9218458544246388
         },
         {
          "complex_annotation": "sulfate/thiosulfate ABC transporter",
          "mean": 283.5877518823392,
          "std": 81.74788562037237,
          "noise": 0.28826310402252364
         },
         {
          "complex_annotation": "sulfite reductase, flavoprotein subunit complex",
          "mean": 339.30817335493003,
          "std": 210.93441749859252,
          "noise": 0.6216602901514743
         },
         {
          "complex_annotation": "sulfur acceptor protein CsdE",
          "mean": 63.766676699809686,
          "std": 44.839670446391494,
          "noise": 0.7031834300771287
         },
         {
          "complex_annotation": "sulfurtransferase complex TusBCD",
          "mean": 37.097647228382336,
          "std": 34.93621497735942,
          "noise": 0.9417366757056963
         },
         {
          "complex_annotation": "superoxide dismutase (Cu-Zn)",
          "mean": 566.5752236911997,
          "std": 269.39421709474783,
          "noise": 0.47547828748963383
         },
         {
          "complex_annotation": "superoxide dismutase (Fe)",
          "mean": 4013.2134026909293,
          "std": 1664.1025734396426,
          "noise": 0.41465588954821914
         },
         {
          "complex_annotation": "superoxide dismutase (Mn)",
          "mean": 17056.564578196954,
          "std": 3776.3988008043943,
          "noise": 0.22140442077249747
         },
         {
          "complex_annotation": "tRNA Cm32/Um32 methyltransferase",
          "mean": 113.32775028871792,
          "std": 40.39241710860964,
          "noise": 0.35642123844958046
         },
         {
          "complex_annotation": "tRNA cytosine<sup>32</sup> 2-sulfurtransferase TtcA",
          "mean": 90.31285649477468,
          "std": 112.48106925616013,
          "noise": 1.2454602104481995
         },
         {
          "complex_annotation": "tRNA m5U54 methyltransferase",
          "mean": 112.17502613133914,
          "std": 81.27238476802845,
          "noise": 0.7245140702964614
         },
         {
          "complex_annotation": "tRNA m7G46 methyltransferase",
          "mean": 448.7828136440726,
          "std": 344.975143616532,
          "noise": 0.7686906296953923
         },
         {
          "complex_annotation": "tRNA pseudouridine13 synthase",
          "mean": 102.71660577720863,
          "std": 59.80625578691734,
          "noise": 0.5822452497762296
         },
         {
          "complex_annotation": "tRNA uridine 4-sulfurtransferase",
          "mean": 164.4876272122159,
          "std": 14.08995162310933,
          "noise": 0.08565964420491635
         },
         {
          "complex_annotation": "tRNA wobble base hydroxylation protein TrhP",
          "mean": 213.2368674587552,
          "std": 24.948513130244447,
          "noise": 0.11699906037622715
         },
         {
          "complex_annotation": "tRNA-dihydrouridine synthase A",
          "mean": 105.45013500124765,
          "std": 35.78938269274623,
          "noise": 0.33939627191869204
         },
         {
          "complex_annotation": "tRNA-guanine transglycosylase",
          "mean": 120.21665713406132,
          "std": 20.377174082648033,
          "noise": 0.16950374905138257
         },
         {
          "complex_annotation": "tRNA-specific 2-thiouridylase",
          "mean": 275.8053002348679,
          "std": 26.760125214819638,
          "noise": 0.09702542043982287
         },
         {
          "complex_annotation": "tagatose-1,6-bisphosphate aldolase 2",
          "mean": 17561.880285045685,
          "std": 13482.953700137523,
          "noise": 0.7677397568652455
         },
         {
          "complex_annotation": "tail-anchored inner membrane protein ElaB",
          "mean": 5028.675593149042,
          "std": 3845.210244486746,
          "noise": 0.7646566522854202
         },
         {
          "complex_annotation": "tail-specific protease",
          "mean": 578.7198842937029,
          "std": 398.91806955032604,
          "noise": 0.6893111510021546
         },
         {
          "complex_annotation": "tellurite methyltransferase",
          "mean": 156.48371085979633,
          "std": 42.38381822130542,
          "noise": 0.27085131090276715
         },
         {
          "complex_annotation": "tetrahydrodipicolinate succinylase",
          "mean": 3387.4224603508796,
          "std": 926.1830351078277,
          "noise": 0.27341822460842125
         },
         {
          "complex_annotation": "thiamin(e) ABC transporter",
          "mean": 823.8376595809605,
          "std": 969.0321561454739,
          "noise": 1.1762416355649068
         },
         {
          "complex_annotation": "thiamine monophosphate kinase",
          "mean": 128.3584728108394,
          "std": 113.27577246762198,
          "noise": 0.8824954830566998
         },
         {
          "complex_annotation": "thiamine phosphate synthase",
          "mean": 1200.035975980183,
          "std": 995.1314842952709,
          "noise": 0.8292513759701686
         },
         {
          "complex_annotation": "thiazole synthase",
          "mean": 137.30627659682676,
          "std": 161.50535935757898,
          "noise": 1.1762416355649068
         },
         {
          "complex_annotation": "thioesterase III",
          "mean": 59.276914389650756,
          "std": 9.81286675581673,
          "noise": 0.16554280628227122
         },
         {
          "complex_annotation": "thiol:disulfide oxidoreductase - DsbAreduced // \"thiol:disulfide oxidoreductase - DsbAoxidized\" // \"thiol:disulfide oxidoreductase DsbA\"",
          "mean": 2852.7522470286917,
          "std": 1546.7814665497547,
          "noise": 0.5422067297154242
         },
         {
          "complex_annotation": "thioredoxin reductase",
          "mean": 1561.3448485944475,
          "std": 637.2523939908497,
          "noise": 0.40814327120912236
         },
         {
          "complex_annotation": "thioredoxin/glutathione peroxidase",
          "mean": 1591.425267754782,
          "std": 929.3904407566886,
          "noise": 0.5839987962915112
         },
         {
          "complex_annotation": "thiosulfate/sulfate ABC transporter",
          "mean": 1655.3226055092164,
          "std": 1408.3892310202698,
          "noise": 0.8508246225436014
         },
         {
          "complex_annotation": "threonine deaminase",
          "mean": 33.82646375634517,
          "std": 6.280212460935829,
          "noise": 0.1856597398466692
         },
         {
          "complex_annotation": "threonine dehydrogenase",
          "mean": 46.82196747396133,
          "std": 15.86987312537076,
          "noise": 0.3389407575449777
         },
         {
          "complex_annotation": "threonine&mdash;tRNA ligase",
          "mean": 618.2574647768989,
          "std": 149.12702165465714,
          "noise": 0.24120537179194484
         },
         {
          "complex_annotation": "threonylcarbamoyl-AMP synthase",
          "mean": 354.76419202888405,
          "std": 28.81476255406803,
          "noise": 0.08122229695527444
         },
         {
          "complex_annotation": "thymidine kinase",
          "mean": 82.85803978835382,
          "std": 46.28460539808894,
          "noise": 0.5586012596522288
         },
         {
          "complex_annotation": "thymidine phosphorylase",
          "mean": 76.33443146237273,
          "std": 29.542122953700762,
          "noise": 0.387009143681942
         },
         {
          "complex_annotation": "thymidylate synthase",
          "mean": 145.14320988667768,
          "std": 63.14348610225201,
          "noise": 0.4350426461668586
         },
         {
          "complex_annotation": "trans-aconitate 2-methyltransferase",
          "mean": 121.28336469882456,
          "std": 18.570210312546788,
          "noise": 0.15311424084136382
         },
         {
          "complex_annotation": "transaldolase A",
          "mean": 1370.6623471405155,
          "std": 821.1784677899947,
          "noise": 0.5991106923620849
         },
         {
          "complex_annotation": "transaldolase B",
          "mean": 7207.096877773004,
          "std": 1962.6684555040597,
          "noise": 0.2723244170002784
         },
         {
          "complex_annotation": "transcription antiterminator and regulator of RNA stability",
          "mean": 12727.596765257496,
          "std": 6073.937715618517,
          "noise": 0.4772258131400373
         },
         {
          "complex_annotation": "transcription elongation factor GreA",
          "mean": 2711.443115215198,
          "std": 655.1194015510122,
          "noise": 0.24161281417811253
         },
         {
          "complex_annotation": "transcription termination factor NusG",
          "mean": 4293.122176291906,
          "std": 1168.7801978311004,
          "noise": 0.2722448022293672
         },
         {
          "complex_annotation": "transcription termination factor Rho",
          "mean": 645.0920576575992,
          "std": 225.34484325300343,
          "noise": 0.34932199300554956
         },
         {
          "complex_annotation": "transcription termination/antitermination protein NusA",
          "mean": 4004.1076670284615,
          "std": 1355.7948373103754,
          "noise": 0.3386009942925789
         },
         {
          "complex_annotation": "transcription-repair coupling factor",
          "mean": 88.49638539502708,
          "std": 12.429296180037326,
          "noise": 0.14044976102194306
         },
         {
          "complex_annotation": "transketolase 1",
          "mean": 2000.8571617249215,
          "std": 541.0777810407957,
          "noise": 0.27042299240108536
         },
         {
          "complex_annotation": "transketolase 2",
          "mean": 1297.9688310097138,
          "std": 1125.7214265594282,
          "noise": 0.867294652741167
         },
         {
          "complex_annotation": "translation elongation factor Tu 1",
          "mean": 137559.6237642969,
          "std": 44147.565522425,
          "noise": 0.3209340380144551
         },
         {
          "complex_annotation": "translation initiation factor IF-1",
          "mean": 4677.632974561975,
          "std": 2485.5972003533066,
          "noise": 0.5313792710694801
         },
         {
          "complex_annotation": "translation initiation factor IF-2",
          "mean": 2934.5209163386135,
          "std": 473.9785005448722,
          "noise": 0.16151818782612484
         },
         {
          "complex_annotation": "translation initiation factor IF-3",
          "mean": 6361.472733158982,
          "std": 1620.5638468419547,
          "noise": 0.25474664669940583
         },
         {
          "complex_annotation": "transmembrane component of cytoskeleton",
          "mean": 902.2812607761999,
          "std": 471.3601296010364,
          "noise": 0.5224093085957946
         },
         {
          "complex_annotation": "trehalose-specific PTS enzyme II",
          "mean": 20094.277985458586,
          "std": 7390.438863344666,
          "noise": 0.36778822651367854
         },
         {
          "complex_annotation": "trigger factor",
          "mean": 17034.400343133704,
          "std": 433.1752267449704,
          "noise": 0.025429437961963626
         },
         {
          "complex_annotation": "triose-phosphate isomerase",
          "mean": 3822.6442495988426,
          "std": 852.3061211201002,
          "noise": 0.2229624483653019
         },
         {
          "complex_annotation": "tripartite efflux pump EmrKY-TolC",
          "mean": 841.7499290865027,
          "std": 692.9373214947958,
          "noise": 0.823210430497804
         },
         {
          "complex_annotation": "tryptophan synthase",
          "mean": 1561.5871463768092,
          "std": 367.8184152828562,
          "noise": 0.2355413952633176
         },
         {
          "complex_annotation": "tryptophan synthase, &beta; subunit dimer",
          "mean": 1531.1571107707139,
          "std": 478.1572111637425,
          "noise": 0.31228487775696656
         },
         {
          "complex_annotation": "tryptophan&mdash;tRNA ligase",
          "mean": 916.9812029934996,
          "std": 402.7790945323557,
          "noise": 0.43924465759764436
         },
         {
          "complex_annotation": "tryptophanase",
          "mean": 796.9894449341596,
          "std": 730.4667429943029,
          "noise": 0.9165325182627077
         },
         {
          "complex_annotation": "twin arginine protein translocation system",
          "mean": 505.34544888472624,
          "std": 164.93266052867565,
          "noise": 0.32637606788123713
         },
         {
          "complex_annotation": "tyrosine aminotransferase",
          "mean": 868.1607687906657,
          "std": 410.4043094376981,
          "noise": 0.4727284671125889
         },
         {
          "complex_annotation": "tyrosine&mdash;tRNA ligase",
          "mean": 773.6115264233786,
          "std": 251.28713626027988,
          "noise": 0.3248234128853409
         },
         {
          "complex_annotation": "ubiquinone biosynthesis protein UbiB",
          "mean": 89.23172671101125,
          "std": 123.52216994809086,
          "noise": 1.3842853265423603
         },
         {
          "complex_annotation": "uncharacterized protein YggE",
          "mean": 1617.1964124962678,
          "std": 876.7766542684352,
          "noise": 0.5421584215086543
         },
         {
          "complex_annotation": "uncharacterized protein YpfJ",
          "mean": 139.80894891776632,
          "std": 96.06475171418082,
          "noise": 0.6871144691223219
         },
         {
          "complex_annotation": "universal stress global stress response regulator",
          "mean": 26544.612956359324,
          "std": 11082.376923788355,
          "noise": 0.4175000382189915
         },
         {
          "complex_annotation": "universal stress protein D",
          "mean": 378.5029617027849,
          "std": 171.88154699778048,
          "noise": 0.45410885617520874
         },
         {
          "complex_annotation": "universal stress protein G",
          "mean": 1194.724055591418,
          "std": 720.9770424596609,
          "noise": 0.6034674191797029
         },
         {
          "complex_annotation": "universal stress protein with a role cellular motility",
          "mean": 1127.7416686542786,
          "std": 814.8535499694497,
          "noise": 0.7225533760243206
         },
         {
          "complex_annotation": "uracil phosphoribosyltransferase",
          "mean": 5350.996396634725,
          "std": 1476.4105051002505,
          "noise": 0.2759131936677764
         },
         {
          "complex_annotation": "uracil-DNA glycosylase",
          "mean": 101.41967769728262,
          "std": 34.96404741455254,
          "noise": 0.3447461893826285
         },
         {
          "complex_annotation": "uridine phosphorylase",
          "mean": 565.208952658271,
          "std": 214.9802810029974,
          "noise": 0.38035540660123957
         },
         {
          "complex_annotation": "uridine/cytidine kinase",
          "mean": 193.9844412562306,
          "std": 9.470548727646966,
          "noise": 0.04882117692695512
         },
         {
          "complex_annotation": "uroporphyrinogen decarboxylase",
          "mean": 318.3699537820726,
          "std": 361.9779934422451,
          "noise": 1.1369728491716358
         },
         {
          "complex_annotation": "valine&mdash;pyruvate aminotransferase",
          "mean": 223.42089786712788,
          "std": 187.15280027808507,
          "noise": 0.8376691798516894
         },
         {
          "complex_annotation": "valine&mdash;tRNA ligase",
          "mean": 1274.248517297028,
          "std": 332.53219132792003,
          "noise": 0.2609633731678156
         },
         {
          "complex_annotation": "vitamin B12 outer membrane transport complex",
          "mean": 373.8377127216477,
          "std": 123.94707231003166,
          "noise": 0.33155315285785586
         },
         {
          "complex_annotation": "xanthine-guanine phosphoribosyltransferase",
          "mean": 616.989199597549,
          "std": 290.5138906443333,
          "noise": 0.47085733564514626
         },
         {
          "complex_annotation": "zinc ribbon domain-containing protein YjdM",
          "mean": 523.0606864151695,
          "std": 466.33585137757,
          "noise": 0.8915520961317762
         },
         {
          "complex_annotation": "zinc-binding phosphatase YcdX",
          "mean": 72.68393158027139,
          "std": 2.928768807496608,
          "noise": 0.040294584288717315
         }
        ]
       }
      },
      "text/plain": "<VegaLite 3 object>\n\nIf you see this message, it means the renderer has not been properly enabled\nfor the frontend that you are using. For more information, see\nhttps://altair-viz.github.io/user_guide/troubleshooting.html\n"
     },
     "metadata": {},
     "execution_count": 5
    }
   ],
   "source": [
    "chart = alt.Chart(glucose)\n",
    "point = chart.mark_point(size=10).encode(\n",
    "        x=alt.X('mean:Q',  scale={'type':'log'}),\n",
    "        y=alt.Y('noise:Q', scale={'type': 'log'}))\n",
    "point"
   ]
  },
  {
   "cell_type": "code",
   "execution_count": 17,
   "metadata": {},
   "outputs": [
    {
     "output_type": "execute_result",
     "data": {
      "text/plain": "                               complex_annotation        mean           var\n4              &alpha;-ketoglutarate:H+ symporter  203.628955   1949.179002\n5                          &alpha;2-macroglobulin   37.223410    330.299000\n7                            &beta; sliding clamp  234.218480  12431.164990\n8     &beta;-1,6-galactofuranosyltransferase WbbI  567.138646  52692.867296\n9  &beta;-D-glucoside glucohydrolase, periplasmic  216.717565  12721.086701",
      "text/html": "<div>\n<style scoped>\n    .dataframe tbody tr th:only-of-type {\n        vertical-align: middle;\n    }\n\n    .dataframe tbody tr th {\n        vertical-align: top;\n    }\n\n    .dataframe thead th {\n        text-align: right;\n    }\n</style>\n<table border=\"1\" class=\"dataframe\">\n  <thead>\n    <tr style=\"text-align: right;\">\n      <th></th>\n      <th>complex_annotation</th>\n      <th>mean</th>\n      <th>var</th>\n    </tr>\n  </thead>\n  <tbody>\n    <tr>\n      <td>4</td>\n      <td>&amp;alpha;-ketoglutarate:H+ symporter</td>\n      <td>203.628955</td>\n      <td>1949.179002</td>\n    </tr>\n    <tr>\n      <td>5</td>\n      <td>&amp;alpha;2-macroglobulin</td>\n      <td>37.223410</td>\n      <td>330.299000</td>\n    </tr>\n    <tr>\n      <td>7</td>\n      <td>&amp;beta; sliding clamp</td>\n      <td>234.218480</td>\n      <td>12431.164990</td>\n    </tr>\n    <tr>\n      <td>8</td>\n      <td>&amp;beta;-1,6-galactofuranosyltransferase WbbI</td>\n      <td>567.138646</td>\n      <td>52692.867296</td>\n    </tr>\n    <tr>\n      <td>9</td>\n      <td>&amp;beta;-D-glucoside glucohydrolase, periplasmic</td>\n      <td>216.717565</td>\n      <td>12721.086701</td>\n    </tr>\n  </tbody>\n</table>\n</div>"
     },
     "metadata": {},
     "execution_count": 17
    }
   ],
   "source": [
    "glucose.head()"
   ]
  },
  {
   "cell_type": "code",
   "execution_count": 15,
   "metadata": {},
   "outputs": [
    {
     "output_type": "execute_result",
     "data": {
      "text/plain": "                                     complex_annotation  ...            var\n0        &alpha;-D-glucose-1-phosphate phosphatase YihX  ...            NaN\n1                      &alpha;-D-xyloside xylohydrolase  ...            NaN\n2     &alpha;-dehydro-&beta;-deoxy-<i>D</i>-glucarat...  ...            NaN\n3                                 &alpha;-galactosidase  ...            NaN\n4                    &alpha;-ketoglutarate:H+ symporter  ...    1949.179002\n...                                                 ...  ...            ...\n1949         zinc finger domain-containing protein YbiI  ...            NaN\n1950         zinc ribbon domain-containing protein YfgJ  ...            NaN\n1951         zinc ribbon domain-containing protein YjdM  ...  217469.126280\n1952                           zinc-binding GTPase YeiR  ...            NaN\n1953                      zinc-binding phosphatase YcdX  ...       8.577687\n\n[1954 rows x 3 columns]",
      "text/html": "<div>\n<style scoped>\n    .dataframe tbody tr th:only-of-type {\n        vertical-align: middle;\n    }\n\n    .dataframe tbody tr th {\n        vertical-align: top;\n    }\n\n    .dataframe thead th {\n        text-align: right;\n    }\n</style>\n<table border=\"1\" class=\"dataframe\">\n  <thead>\n    <tr style=\"text-align: right;\">\n      <th></th>\n      <th>complex_annotation</th>\n      <th>mean</th>\n      <th>var</th>\n    </tr>\n  </thead>\n  <tbody>\n    <tr>\n      <td>0</td>\n      <td>&amp;alpha;-D-glucose-1-phosphate phosphatase YihX</td>\n      <td>186.346878</td>\n      <td>NaN</td>\n    </tr>\n    <tr>\n      <td>1</td>\n      <td>&amp;alpha;-D-xyloside xylohydrolase</td>\n      <td>1.773231</td>\n      <td>NaN</td>\n    </tr>\n    <tr>\n      <td>2</td>\n      <td>&amp;alpha;-dehydro-&amp;beta;-deoxy-&lt;i&gt;D&lt;/i&gt;-glucarat...</td>\n      <td>0.968906</td>\n      <td>NaN</td>\n    </tr>\n    <tr>\n      <td>3</td>\n      <td>&amp;alpha;-galactosidase</td>\n      <td>6.910469</td>\n      <td>NaN</td>\n    </tr>\n    <tr>\n      <td>4</td>\n      <td>&amp;alpha;-ketoglutarate:H+ symporter</td>\n      <td>203.628955</td>\n      <td>1949.179002</td>\n    </tr>\n    <tr>\n      <td>...</td>\n      <td>...</td>\n      <td>...</td>\n      <td>...</td>\n    </tr>\n    <tr>\n      <td>1949</td>\n      <td>zinc finger domain-containing protein YbiI</td>\n      <td>15.556368</td>\n      <td>NaN</td>\n    </tr>\n    <tr>\n      <td>1950</td>\n      <td>zinc ribbon domain-containing protein YfgJ</td>\n      <td>25.652723</td>\n      <td>NaN</td>\n    </tr>\n    <tr>\n      <td>1951</td>\n      <td>zinc ribbon domain-containing protein YjdM</td>\n      <td>523.060686</td>\n      <td>217469.126280</td>\n    </tr>\n    <tr>\n      <td>1952</td>\n      <td>zinc-binding GTPase YeiR</td>\n      <td>26.970511</td>\n      <td>NaN</td>\n    </tr>\n    <tr>\n      <td>1953</td>\n      <td>zinc-binding phosphatase YcdX</td>\n      <td>72.683932</td>\n      <td>8.577687</td>\n    </tr>\n  </tbody>\n</table>\n<p>1954 rows × 3 columns</p>\n</div>"
     },
     "metadata": {},
     "execution_count": 15
    }
   ],
   "source": [
    "glucose"
   ]
  },
  {
   "cell_type": "code",
   "execution_count": null,
   "metadata": {},
   "outputs": [],
   "source": []
  }
 ],
 "metadata": {
  "language_info": {
   "codemirror_mode": {
    "name": "ipython",
    "version": 3
   },
   "file_extension": ".py",
   "mimetype": "text/x-python",
   "name": "python",
   "nbconvert_exporter": "python",
   "pygments_lexer": "ipython3",
   "version": 3
  },
  "orig_nbformat": 2,
  "kernelspec": {
   "name": "python_defaultSpec_1594656463864",
   "display_name": "Python 3.7.5 64-bit ('anaconda3': virtualenv)"
  }
 },
 "nbformat": 4,
 "nbformat_minor": 2
}