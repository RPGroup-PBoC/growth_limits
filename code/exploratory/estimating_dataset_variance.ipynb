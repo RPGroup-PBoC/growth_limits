{
 "cells": [
  {
   "cell_type": "markdown",
   "metadata": {},
   "source": [
    "# Exploring Variance in Measurement Between Data Sets"
   ]
  },
  {
   "cell_type": "code",
   "execution_count": 1,
   "metadata": {},
   "outputs": [],
   "source": [
    "import numpy as np\n",
    "import pandas as pd \n",
    "import altair as alt\n",
    "import prot.viz\n",
    "colors = prot.viz.plotting_style()\n",
    "prot.viz.altair_theme()\n"
   ]
  },
  {
   "cell_type": "markdown",
   "metadata": {},
   "source": [
    "In this notebook, I will compare and contrast the variance in observed copy numbers across the different data sets to assess a measure of uncertainty in the direct protein abundance measurements. "
   ]
  },
  {
   "cell_type": "markdown",
   "metadata": {},
   "source": []
  },
  {
   "cell_type": "code",
   "execution_count": 30,
   "metadata": {},
   "outputs": [],
   "source": [
    "# Load the compiled complex number data sets and restrict to moderate growth rates. \n",
    "data = pd.read_csv('../../data/compiled_annotated_complexes.csv', comment='#')\n",
    "glucose = data[(data['growth_rate_hr'] >= 0.45) & (data['growth_rate_hr'] <= 0.55)]\n",
    "# Group by complex and compute mean for each dataset.\n",
    "glucose = glucose.groupby(['complex', 'dataset', 'complex_annotation'])['n_units'].mean().reset_index()\n",
    "\n",
    "# Summarize\n",
    "glucose = glucose.groupby(['complex_annotation'])['n_units'].agg(('mean', 'var')).reset_index()\n",
    "glucose.dropna(inplace=True)\n",
    "glucose['noise'] = glucose['var'].values / glucose['mean'].values"
   ]
  },
  {
   "cell_type": "code",
   "execution_count": 31,
   "metadata": {},
   "outputs": [
    {
     "output_type": "execute_result",
     "data": {
      "application/vnd.vegalite.v3+json": {
       "config": {
        "background": "white",
        "group": {
         "fill": "#E3DCD0"
        },
        "view": {
         "strokeWidth": 0,
         "height": 300,
         "width": 400,
         "fill": "#E3DCD0"
        },
        "mark": {
         "strokeWidth": 0.5,
         "stroke": "black"
        },
        "axis": {
         "domainColor": null,
         "labelFont": "Lucida Sans",
         "titleFont": "Lucida Sans",
         "titleFontWeight": 400,
         "grid": false,
         "ticks": true,
         "tickColor": "white",
         "tickOffset": 8,
         "tickWidth": 1.5
        },
        "range": {
         "category": [
          "#D56C55",
          "#738FC1",
          "#7AA974",
          "#AB85AC",
          "#7E9D90",
          "#905426",
          "#EAC264"
         ]
        },
        "legend": {
         "labelFont": "Lucida Sans",
         "titleFont": "Lucida Sans",
         "titleFontWeight": 400
        },
        "title": {
         "font": "Lucida Sans",
         "fontWeight": 400,
         "anchor": "middle"
        }
       },
       "data": {
        "name": "data-3b0bcfc98e1f56edbe3a932a831abc04"
       },
       "mark": {
        "type": "point",
        "size": 10
       },
       "encoding": {
        "x": {
         "type": "quantitative",
         "field": "mean",
         "scale": {
          "type": "log"
         }
        },
        "y": {
         "type": "quantitative",
         "field": "noise",
         "scale": {
          "type": "log"
         }
        }
       },
       "$schema": "https://vega.github.io/schema/vega-lite/v3.4.0.json",
       "datasets": {
        "data-3b0bcfc98e1f56edbe3a932a831abc04": [
         {
          "complex_annotation": "&alpha;-ketoglutarate:H+ symporter",
          "mean": 203.6289547529925,
          "var": 1949.1790023021338,
          "noise": 9.572209436848219
         },
         {
          "complex_annotation": "&alpha;2-macroglobulin",
          "mean": 37.22341034626715,
          "var": 330.29899959565,
          "noise": 8.873421229357431
         },
         {
          "complex_annotation": "&beta; sliding clamp",
          "mean": 234.21847982461,
          "var": 12431.164990114867,
          "noise": 53.075081861276296
         },
         {
          "complex_annotation": "&beta;-1,6-galactofuranosyltransferase WbbI",
          "mean": 567.1386463607463,
          "var": 52692.867296296725,
          "noise": 92.91002761744397
         },
         {
          "complex_annotation": "&beta;-D-glucoside glucohydrolase, periplasmic",
          "mean": 216.7175653848088,
          "var": 12721.08670119935,
          "noise": 58.69891846842913
         },
         {
          "complex_annotation": "&beta;-N-acetylhexosaminidase",
          "mean": 115.76736713925101,
          "var": 5361.2930192454005,
          "noise": 46.31091776317724
         },
         {
          "complex_annotation": "&beta;-barrel assembly-enhancing protease",
          "mean": 208.4390383122571,
          "var": 6268.893762979591,
          "noise": 30.07543027323089
         },
         {
          "complex_annotation": "&beta;-hydroxyacyl-acyl carrier protein dehydratase/isomerase",
          "mean": 4506.321093015192,
          "var": 13686566.192917787,
          "noise": 3037.192847649493
         },
         {
          "complex_annotation": "&beta;-ketoacyl-[acyl carrier protein] synthase I",
          "mean": 4779.9629260625115,
          "var": 5392590.903099881,
          "noise": 1128.1658428137684
         },
         {
          "complex_annotation": "&beta;-ketoacyl-[acyl carrier protein] synthase II",
          "mean": 769.2555911587712,
          "var": 107236.15586138511,
          "noise": 139.4025043091978
         },
         {
          "complex_annotation": "&beta;-ketoacyl-[acyl carrier protein] synthase III",
          "mean": 900.1907429100196,
          "var": 250384.92684366865,
          "noise": 278.1465248512297
         },
         {
          "complex_annotation": "&gamma;-aminobutyraldehyde dehydrogenase",
          "mean": 149.24753457491244,
          "var": 6681.524710654257,
          "noise": 44.768074257873735
         },
         {
          "complex_annotation": "&gamma;-glutamyl-&gamma;-aminobutyraldehyde dehydrogenase",
          "mean": 177.22676558988252,
          "var": 64.08840477934426,
          "noise": 0.36161809174834325
         },
         {
          "complex_annotation": "&gamma;-glutamylamine cyclotransferase family protein YtfP",
          "mean": 601.1474498569148,
          "var": 50311.80816651348,
          "noise": 83.69295782339043
         },
         {
          "complex_annotation": "(<em>E</em>)-4-hydroxy-3-methylbut-2-enyl-diphosphate synthase (flavodoxin)",
          "mean": 507.5022017323541,
          "var": 23701.16639856589,
          "noise": 46.70160310174454
         },
         {
          "complex_annotation": "1,4-dihydroxy-2-naphthoyl-CoA hydrolase",
          "mean": 105.77194736878494,
          "var": 8764.386245981832,
          "noise": 82.86115992006732
         },
         {
          "complex_annotation": "1,4-dihydroxy-2-naphthoyl-CoA synthase",
          "mean": 150.5960832622423,
          "var": 16461.43288580338,
          "noise": 109.30850609931247
         },
         {
          "complex_annotation": "1-deoxy-D-xylulose 5-phosphate:thiol sulfurtransferase",
          "mean": 1448.6616690857318,
          "var": 253066.3780674916,
          "noise": 174.68977295934454
         },
         {
          "complex_annotation": "1-deoxy-D-xylulose-5-phosphate synthase",
          "mean": 87.83154764067392,
          "var": 1141.2388986241795,
          "noise": 12.993496406246667
         },
         {
          "complex_annotation": "1-deoxyxylulose-5-phosphate synthase YajO",
          "mean": 424.47782523390725,
          "var": 85548.55558990841,
          "noise": 201.5383384108867
         },
         {
          "complex_annotation": "1-hydroxy-2-methyl-2-(E)-butenyl 4-diphosphate reductase",
          "mean": 108.24914506504008,
          "var": 3206.054342739393,
          "noise": 29.617364098470038
         },
         {
          "complex_annotation": "1-phosphofructokinase",
          "mean": 73.97804585457267,
          "var": 2147.9473151463967,
          "noise": 29.03492908381047
         },
         {
          "complex_annotation": "10-formyltetrahydrofolate:L-methionyl-tRNAfMet N-formyltransferase",
          "mean": 540.1746068269644,
          "var": 34408.71622449498,
          "noise": 63.699247964681206
         },
         {
          "complex_annotation": "16S rRNA 2'-<i>O</i>-ribose C1402 methyltransferase",
          "mean": 84.51529548558625,
          "var": 2480.073065355306,
          "noise": 29.34466537809446
         },
         {
          "complex_annotation": "16S rRNA m2G1207 methyltransferase",
          "mean": 322.18941153397543,
          "var": 10209.728499067314,
          "noise": 31.688591038599917
         },
         {
          "complex_annotation": "16S rRNA m5C967 methyltransferase",
          "mean": 107.06109829587776,
          "var": 7365.396192351032,
          "noise": 68.79619497266663
         },
         {
          "complex_annotation": "16S rRNA m62A1518,m62A1519 dimethyltransferase",
          "mean": 315.9568399309634,
          "var": 64320.24524438694,
          "noise": 203.57288438016067
         },
         {
          "complex_annotation": "16S rRNA m7G527 methyltransferase",
          "mean": 219.6043470769768,
          "var": 10256.811925399128,
          "noise": 46.70586926862545
         },
         {
          "complex_annotation": "16S rRNA m<sup>4</sup>C1402 methyltransferase",
          "mean": 129.80613600071672,
          "var": 2721.8040649415684,
          "noise": 20.96822345075074
         },
         {
          "complex_annotation": "16S rRNA pseudouridine516 synthase",
          "mean": 731.507416081139,
          "var": 199134.40456889325,
          "noise": 272.22472416712344
         },
         {
          "complex_annotation": "2'-<i>O</i>-acetyl-ADP-ribose deacetylase, regulator of RNase III activity",
          "mean": 104.64170979062578,
          "var": 6133.770545145134,
          "noise": 58.616879993818884
         },
         {
          "complex_annotation": "2'3' cyclic nucleotide phosphodiesterase/3' nucleotidase",
          "mean": 219.95613898140573,
          "var": 1433.7799009629973,
          "noise": 6.518480946259034
         },
         {
          "complex_annotation": "2,3-bisphosphoglycerate-dependent phosphoglycerate mutase",
          "mean": 5029.409306575239,
          "var": 2799445.0846491167,
          "noise": 556.615084198703
         },
         {
          "complex_annotation": "2,3-bisphosphoglycerate-independent phosphoglycerate mutase",
          "mean": 2547.4931339681402,
          "var": 6076448.199584197,
          "noise": 2385.265780920527
         },
         {
          "complex_annotation": "2-<i>C</i>-methyl-D-erythritol 2,4-cyclodiphosphate synthase",
          "mean": 402.6085432162148,
          "var": 13879.532383982865,
          "noise": 34.47401357434453
         },
         {
          "complex_annotation": "2-amino-3-ketobutyrate CoA ligase",
          "mean": 34.53626295940024,
          "var": 591.9156902926007,
          "noise": 17.13896176284152
         },
         {
          "complex_annotation": "2-amino-6-<i>N</i>-hydroxylaminopurine resistance protein",
          "mean": 147.85929051069652,
          "var": 28234.506623153204,
          "noise": 190.95524214699682
         },
         {
          "complex_annotation": "2-dehydro-3-deoxygluconokinase",
          "mean": 238.1056665232048,
          "var": 49849.2905437937,
          "noise": 209.3578505362265
         },
         {
          "complex_annotation": "2-hydroxycyclohepta-1,4,6-triene-1-carboxyl-CoA thioesterase",
          "mean": 12.00624689577346,
          "var": 101.4663164172456,
          "noise": 8.451126925681049
         },
         {
          "complex_annotation": "2-isopropylmalate synthase",
          "mean": 3879.9496249712597,
          "var": 944437.3056232565,
          "noise": 243.41483702388334
         },
         {
          "complex_annotation": "2-methylcitrate synthase",
          "mean": 116.67779934540334,
          "var": 8124.139544753984,
          "noise": 69.62883762234794
         },
         {
          "complex_annotation": "2-oxoglutarate decarboxylase, thiamine-requiring",
          "mean": 339.6330862771078,
          "var": 12496.972526754354,
          "noise": 36.79550971826706
         },
         {
          "complex_annotation": "2-oxoglutarate dehydrogenase complex",
          "mean": 2768.16616258188,
          "var": 285824.24031850375,
          "noise": 103.25400410642773
         },
         {
          "complex_annotation": "23S rRNA 2'-<i>O</i>-ribose G2251 methyltransferase",
          "mean": 93.68499241595323,
          "var": 6007.890717754643,
          "noise": 64.12863536435088
         },
         {
          "complex_annotation": "23S rRNA 2'-O-ribose C2498 methyltransferase",
          "mean": 78.38167253777377,
          "var": 293.4525153912012,
          "noise": 3.743891982526659
         },
         {
          "complex_annotation": "23S rRNA 2'-O-ribose U2552 methyltransferase",
          "mean": 220.45628580087003,
          "var": 2616.465864990121,
          "noise": 11.868411261148967
         },
         {
          "complex_annotation": "23S rRNA m2A2503 methyltransferase/tRNA m2A37 methyltransferase",
          "mean": 220.34384607673428,
          "var": 4510.011226620914,
          "noise": 20.46806074652211
         },
         {
          "complex_annotation": "23S rRNA m6A1618 methyltransferase",
          "mean": 20.51049890965642,
          "var": 16.48466703237015,
          "noise": 0.8037184812022836
         },
         {
          "complex_annotation": "23S rRNA m<sup>5</sup>C1962 methyltransferase",
          "mean": 71.5171106305108,
          "var": 337.22862636999605,
          "noise": 4.7153558553598325
         },
         {
          "complex_annotation": "23S rRNA pseudouridine1911/1915/1917 synthase",
          "mean": 302.58233499553677,
          "var": 14420.189791852888,
          "noise": 47.657077509384656
         },
         {
          "complex_annotation": "23S rRNA pseudouridine2605 synthase",
          "mean": 246.26811660262976,
          "var": 18879.58485665229,
          "noise": 76.66272482651814
         },
         {
          "complex_annotation": "23S rRNA pseudouridine955/2504/2580 synthase",
          "mean": 97.51426460348375,
          "var": 412.31473123211356,
          "noise": 4.228250429910778
         },
         {
          "complex_annotation": "3,4-dihydroxy-2-butanone-4-phosphate synthase",
          "mean": 135.45572307295774,
          "var": 6329.88271204487,
          "noise": 46.73027147502313
         },
         {
          "complex_annotation": "3-dehydroquinate dehydratase",
          "mean": 201.56666149106061,
          "var": 10938.025901698706,
          "noise": 54.26505465133083
         },
         {
          "complex_annotation": "3-deoxy-7-phosphoheptulonate synthase",
          "mean": 784.6527953907498,
          "var": 357570.9872396239,
          "noise": 455.7060005904355
         },
         {
          "complex_annotation": "3-deoxy-7-phosphoheptulonate synthase, Trp-sensitive",
          "mean": 180.61250056092638,
          "var": 60.704164888258695,
          "noise": 0.3361016801147783
         },
         {
          "complex_annotation": "3-deoxy-D-<i>manno</i>-octulosonate 8-phosphate phosphatase KdsC",
          "mean": 78.65479945070082,
          "var": 1768.6775707302327,
          "noise": 22.486581659124344
         },
         {
          "complex_annotation": "3-deoxy-D-<i>manno</i>-octulosonate 8-phosphate synthase",
          "mean": 906.0417894691712,
          "var": 52506.1474964443,
          "noise": 57.95113217372283
         },
         {
          "complex_annotation": "3-deoxy-manno-octulosonate cytidylyltransferase",
          "mean": 536.773957645015,
          "var": 72725.47634727323,
          "noise": 135.4862234120695
         },
         {
          "complex_annotation": "3-hydroxy acid dehydrogenase",
          "mean": 686.7552459764498,
          "var": 147403.1007772103,
          "noise": 214.63702190964412
         },
         {
          "complex_annotation": "3-hydroxy-2,4-pentadione 5-phosphate thiolase",
          "mean": 9.706288309497598,
          "var": 0.5972271810813707,
          "noise": 0.06152992390479317
         },
         {
          "complex_annotation": "3-hydroxy-acyl-[acyl-carrier-protein] dehydratase",
          "mean": 829.6716490579784,
          "var": 174153.4930438383,
          "noise": 209.90652536045408
         },
         {
          "complex_annotation": "3-isopropylmalate dehydratase",
          "mean": 5619.931150281623,
          "var": 10911381.828828381,
          "noise": 1941.5508014331451
         },
         {
          "complex_annotation": "3-isopropylmalate dehydrogenase",
          "mean": 2485.668587277625,
          "var": 866479.9031561431,
          "noise": 348.5902777188557
         },
         {
          "complex_annotation": "3-mercaptopyruvate sulfurtransferase",
          "mean": 789.907680448904,
          "var": 187492.91021952723,
          "noise": 237.36053574384178
         },
         {
          "complex_annotation": "3-methyl-2-oxobutanoate hydroxymethyltransferase",
          "mean": 244.3775070562207,
          "var": 13877.82184640532,
          "noise": 56.78845820786867
         },
         {
          "complex_annotation": "3-octaprenyl-4-hydroxybenzoate decarboxylase",
          "mean": 36.94435935177728,
          "var": 265.2154540012249,
          "noise": 7.1787807030538255
         },
         {
          "complex_annotation": "3-oxoacyl-[acyl-carrier-protein] reductase FabG",
          "mean": 881.1036780366067,
          "var": 108044.97066261519,
          "noise": 122.62458250472348
         },
         {
          "complex_annotation": "30S ribosomal subunit",
          "mean": 22964.040365810546,
          "var": 28035585.03322906,
          "noise": 1220.8472283897027
         },
         {
          "complex_annotation": "30S ribosomal subunit biogenesis factor LepA",
          "mean": 870.8569468790912,
          "var": 232383.94575360353,
          "noise": 266.84514211708694
         },
         {
          "complex_annotation": "30S ribosomal subunit maturation GTPase Era",
          "mean": 87.98741201421755,
          "var": 3567.880590594271,
          "noise": 40.549898092442476
         },
         {
          "complex_annotation": "30S ribosome binding factor",
          "mean": 1727.146190048983,
          "var": 299080.02082874917,
          "noise": 173.16427674270415
         },
         {
          "complex_annotation": "4-&alpha;-glucanotransferase",
          "mean": 57.83806984986293,
          "var": 17.50489239035743,
          "noise": 0.30265346744448657
         },
         {
          "complex_annotation": "4-aminobutyrate aminotransferase GabT",
          "mean": 579.3137006058187,
          "var": 39890.84998828965,
          "noise": 68.85880645766483
         },
         {
          "complex_annotation": "4-hydroxy-tetrahydrodipicolinate reductase",
          "mean": 363.5858016720255,
          "var": 38544.182342763,
          "noise": 106.01124181832596
         },
         {
          "complex_annotation": "4-hydroxy-tetrahydrodipicolinate synthase",
          "mean": 569.6651797470178,
          "var": 105226.88824107424,
          "noise": 184.7170794040885
         },
         {
          "complex_annotation": "5'-methylthioadenosine/<i>S</i>-adenosylhomocysteine nucleosidase",
          "mean": 718.6451564161598,
          "var": 267232.66560470284,
          "noise": 371.85621195497384
         },
         {
          "complex_annotation": "5'-nucleotidase / UDP-sugar hydrolase",
          "mean": 437.4056507754028,
          "var": 81450.20653156332,
          "noise": 186.21205827399342
         },
         {
          "complex_annotation": "5,10-methylenetetrahydrofolate reductase",
          "mean": 629.4634266644385,
          "var": 82908.27744146615,
          "noise": 131.71262051045872
         },
         {
          "complex_annotation": "5-(carboxyamino)imidazole ribonucleotide synthase",
          "mean": 68.86665099776262,
          "var": 2114.701674927447,
          "noise": 30.70719490913172
         },
         {
          "complex_annotation": "5-amino-6-(5-phospho-D-ribitylamino)uracil phosphatase",
          "mean": 73.77678849941579,
          "var": 2126.324995025869,
          "noise": 28.82105657177944
         },
         {
          "complex_annotation": "5-carboxymethylaminomethyluridine-tRNA synthase",
          "mean": 58.21785640310575,
          "var": 1011.2044163722976,
          "noise": 17.369317230964775
         },
         {
          "complex_annotation": "5-carboxymethylaminomethyluridine-tRNA synthase GTPase subunit",
          "mean": 71.28791920359245,
          "var": 2594.712026526887,
          "noise": 36.3976400982697
         },
         {
          "complex_annotation": "5-carboxymethylaminomethyluridine-tRNA synthase subunit MnmG",
          "mean": 31.560719862513675,
          "var": 144.19271265331565,
          "noise": 4.568739663780005
         },
         {
          "complex_annotation": "5-oxoprolinase",
          "mean": 87.87375989578331,
          "var": 3048.1786361028717,
          "noise": 34.68815536876943
         },
         {
          "complex_annotation": "50S ribosomal protein complex L8",
          "mean": 21427.12411455058,
          "var": 10286699.01864463,
          "noise": 480.0783793313267
         },
         {
          "complex_annotation": "50S ribosomal subunit",
          "mean": 20587.962057160064,
          "var": 32642083.211697366,
          "noise": 1585.4936550334826
         },
         {
          "complex_annotation": "50S ribosomal subunit protein L3 N5-glutamine methyltransferase",
          "mean": 685.0085691510085,
          "var": 111965.3350337708,
          "noise": 163.45099912040416
         },
         {
          "complex_annotation": "50S ribosomal subunit protein L7/L12 dimer",
          "mean": 27038.79870176545,
          "var": 40937232.668690175,
          "noise": 1514.0181751498174
         },
         {
          "complex_annotation": "50S ribosomal subunit stability factor",
          "mean": 471.516550331764,
          "var": 130217.97339040227,
          "noise": 276.1684044786541
         },
         {
          "complex_annotation": "6-N-hydroxylaminopurine resistance protein",
          "mean": 137.66676865230303,
          "var": 7546.576800631704,
          "noise": 54.81770854730857
         },
         {
          "complex_annotation": "6-carboxy-5,6,7,8-tetrahydropterin synthase",
          "mean": 19.756270299100557,
          "var": 126.27532453951298,
          "noise": 6.391658072488607
         },
         {
          "complex_annotation": "6-phospho-&beta;-glucosidase A",
          "mean": 619.8061403035855,
          "var": 297391.8822023807,
          "noise": 479.81435301159814
         },
         {
          "complex_annotation": "6-phosphofructokinase 1",
          "mean": 566.238141097455,
          "var": 87963.18787208766,
          "noise": 155.34663154552203
         },
         {
          "complex_annotation": "6-phosphofructokinase 2",
          "mean": 420.8043869849514,
          "var": 77849.47319748654,
          "noise": 185.0015722394799
         },
         {
          "complex_annotation": "6-phosphogluconate dehydrogenase, decarboxylating",
          "mean": 6609.62140318349,
          "var": 7538194.223538883,
          "noise": 1140.4880497252311
         },
         {
          "complex_annotation": "6PGLUCONOLACT-MONOMER",
          "mean": 2142.9373559881055,
          "var": 1693202.0734260338,
          "noise": 790.1313907728771
         },
         {
          "complex_annotation": "7-&alpha;-hydroxysteroid dehydrogenase",
          "mean": 207.1064324623354,
          "var": 29463.27151083693,
          "noise": 142.26149888509693
         },
         {
          "complex_annotation": "7-cyano-7-deazaguanine reductase",
          "mean": 48.05043874854916,
          "var": 427.2390000887294,
          "noise": 8.891469281362795
         },
         {
          "complex_annotation": "7-cyano-7-deazaguanine synthase",
          "mean": 324.80448034447255,
          "var": 61115.92421600733,
          "noise": 188.1621957652512
         },
         {
          "complex_annotation": "<I>Eco</I>KI restriction-modification system",
          "mean": 44.66852269720951,
          "var": 314.6061347061087,
          "noise": 7.043128263692555
         },
         {
          "complex_annotation": "<I>N,N'</I>-diacetylchitobiose-specific PTS enzyme II",
          "mean": 416.8004545372266,
          "var": 87696.0662922356,
          "noise": 210.40300061477743
         },
         {
          "complex_annotation": "<i>N</i>-acetyl-&beta;-neuraminate lyase",
          "mean": 25.902281579504542,
          "var": 25.64140952989472,
          "noise": 0.9899286073001291
         },
         {
          "complex_annotation": "<i>N</i>-acetylglucosamine-6-phosphate deacetylase",
          "mean": 65.71798652984432,
          "var": 4521.7473025027675,
          "noise": 68.80532318879428
         },
         {
          "complex_annotation": "<i>N</i>-acetylmuramic acid 6-phosphate etherase",
          "mean": 38.17814738927883,
          "var": 0.02169171857479813,
          "noise": 0.000568171062718711
         },
         {
          "complex_annotation": "<i>N</i>-acetylornithine aminotransferase / <i>N</i>-succinyldiaminopimelate aminotransferase",
          "mean": 1302.337086374409,
          "var": 535867.2864971745,
          "noise": 411.46588859646283
         },
         {
          "complex_annotation": "<i>O</i>-succinylhomoserine(thiol)-lyase",
          "mean": 228.85014752387497,
          "var": 17189.484866666688,
          "noise": 75.11240456977805
         },
         {
          "complex_annotation": "<i>S</i>-(hydroxymethyl)glutathione dehydrogenase",
          "mean": 3777.326349084167,
          "var": 2783802.4225842236,
          "noise": 736.9769422383034
         },
         {
          "complex_annotation": "<i>S</i>-formylglutathione hydrolase",
          "mean": 74.73836671658312,
          "var": 3209.9083459603935,
          "noise": 42.94860172865099
         },
         {
          "complex_annotation": "<i>all-trans</i>-octaprenyl-diphosphate synthase",
          "mean": 121.43827974350806,
          "var": 22852.207341581438,
          "noise": 188.17960358009014
         },
         {
          "complex_annotation": "<i>sn</i>-glycerol 3-phosphate / glycerophosphodiester ABC transporter",
          "mean": 283.4314753452599,
          "var": 46322.85585066298,
          "noise": 163.43582093073869
         },
         {
          "complex_annotation": "ABC family protein ModF",
          "mean": 113.78748551476876,
          "var": 3740.0858089264525,
          "noise": 32.869043480541784
         },
         {
          "complex_annotation": "ABC-type tripartite efflux pump",
          "mean": 546.6805573498159,
          "var": 158829.16451822076,
          "noise": 290.53377220545167
         },
         {
          "complex_annotation": "ADP-L-glycero-D-mannoheptose 6-epimerase",
          "mean": 607.4722758093725,
          "var": 57276.19010682562,
          "noise": 94.28609730462686
         },
         {
          "complex_annotation": "ADP-sugar pyrophosphatase",
          "mean": 93.6558809254221,
          "var": 2515.4833886585907,
          "noise": 26.85878733724861
         },
         {
          "complex_annotation": "ALPHA-AMYL-CYTO-MONOMER",
          "mean": 138.66725229514873,
          "var": 1353.2383895193598,
          "noise": 9.758889479103804
         },
         {
          "complex_annotation": "AMP nucleosidase",
          "mean": 52.52455151472697,
          "var": 614.8605693721767,
          "noise": 11.706155533756064
         },
         {
          "complex_annotation": "ARGSUCCINLYA-MONOMER",
          "mean": 1421.890339931081,
          "var": 271214.9453192435,
          "noise": 190.74251909777323
         },
         {
          "complex_annotation": "AROA-MONOMER",
          "mean": 982.6072173902448,
          "var": 241624.07524902571,
          "noise": 245.90097749410702
         },
         {
          "complex_annotation": "AROB-MONOMER",
          "mean": 422.48118948085215,
          "var": 40382.33195251271,
          "noise": 95.58373948467339
         },
         {
          "complex_annotation": "AROE-MONOMER",
          "mean": 154.35460606376077,
          "var": 8145.58720280707,
          "noise": 52.77190885668998
         },
         {
          "complex_annotation": "ATP phosphoribosyltransferase",
          "mean": 1423.456264579612,
          "var": 510094.4928530406,
          "noise": 358.34925564340136
         },
         {
          "complex_annotation": "ATP synthase",
          "mean": 4994.232171959219,
          "var": 156149.73272669566,
          "noise": 31.266013943728748
         },
         {
          "complex_annotation": "ATP synthase F<sub>0</sub> complex",
          "mean": 2107.654109157615,
          "var": 22276.551016328252,
          "noise": 10.569358093217545
         },
         {
          "complex_annotation": "ATP synthase F<sub>0</sub> complex - subunit b",
          "mean": 3842.78889491934,
          "var": 2883568.236055184,
          "noise": 750.3842430344356
         },
         {
          "complex_annotation": "ATP synthase F<sub>0</sub> complex - subunit c",
          "mean": 324.849957450008,
          "var": 174068.86302694186,
          "noise": 535.8438843376784
         },
         {
          "complex_annotation": "ATP synthase F<sub>1</sub> complex",
          "mean": 6268.984408455833,
          "var": 33933.321781757986,
          "noise": 5.412889803328829
         },
         {
          "complex_annotation": "ATP synthase F<sub>1</sub> complex subunit &alpha;",
          "mean": 5866.177708515312,
          "var": 3466664.7446243567,
          "noise": 590.9580167665506
         },
         {
          "complex_annotation": "ATP synthase F<sub>1</sub> complex subunit &beta;",
          "mean": 7582.17120882239,
          "var": 477902.8786605913,
          "noise": 63.0298189659075
         },
         {
          "complex_annotation": "ATP-binding protein Uup",
          "mean": 75.65307462804225,
          "var": 3149.3675039735986,
          "noise": 41.629074818939685
         },
         {
          "complex_annotation": "ATP-dependent Lipid A-core flippase",
          "mean": 47.781757359828106,
          "var": 178.90066355962085,
          "noise": 3.7441206319052065
         },
         {
          "complex_annotation": "ATP-dependent RNA helicase DeaD",
          "mean": 406.5030650320766,
          "var": 23800.597725820873,
          "noise": 58.54961443880577
         },
         {
          "complex_annotation": "ATP-dependent RNA helicase HrpA",
          "mean": 35.587870511959004,
          "var": 216.11912218712223,
          "noise": 6.072830969599522
         },
         {
          "complex_annotation": "ATP-dependent RNA helicase RhlB",
          "mean": 463.94310013289004,
          "var": 178186.89360751104,
          "noise": 384.0705758022307
         },
         {
          "complex_annotation": "ATP-dependent RNA helicase RhlE",
          "mean": 6.35583743603456,
          "var": 42.82606681961485,
          "noise": 6.738068311315127
         },
         {
          "complex_annotation": "ATP-dependent RNA helicase SrmB",
          "mean": 289.2095844444269,
          "var": 25677.172060132576,
          "noise": 88.78395959614738
         },
         {
          "complex_annotation": "ATP-independent periplasmic chaperone",
          "mean": 157.0314601172625,
          "var": 18192.88880727416,
          "noise": 115.85505728399079
         },
         {
          "complex_annotation": "AcnB",
          "mean": 12089.75818855181,
          "var": 20279191.454657495,
          "noise": 1677.3860269480433
         },
         {
          "complex_annotation": "AsmA family protein YhjG",
          "mean": 52.40787406520985,
          "var": 1346.5270832522247,
          "noise": 25.693220861750156
         },
         {
          "complex_annotation": "AsmA famly protein YicH",
          "mean": 53.29488924693677,
          "var": 812.2760541143246,
          "noise": 15.241162250112223
         },
         {
          "complex_annotation": "Autoinducer-2 ABC transporter",
          "mean": 89.1714341132411,
          "var": 4337.654025186186,
          "noise": 48.64398636538342
         },
         {
          "complex_annotation": "BOF family protein YdeI",
          "mean": 325.34751343103306,
          "var": 99581.90354184079,
          "noise": 306.07857577171893
         },
         {
          "complex_annotation": "BOF family protein YgiW",
          "mean": 1679.3715312465035,
          "var": 958733.4796741058,
          "noise": 570.8882530374274
         },
         {
          "complex_annotation": "C4-dicarboxylate transporter DcuA",
          "mean": 212.4264010002446,
          "var": 1440.770206342427,
          "noise": 6.782444176233857
         },
         {
          "complex_annotation": "CODB-MONOMER",
          "mean": 113.21066954596648,
          "var": 10358.818875222581,
          "noise": 91.50037639355742
         },
         {
          "complex_annotation": "CP4-44 prophage; self recognizing antigen 43 (Ag43) autotransporter",
          "mean": 45.21599847167411,
          "var": 2039.4676998404748,
          "noise": 45.10500196336732
         },
         {
          "complex_annotation": "CP4-6 prophage; IS5 transposase and trans-activator",
          "mean": 51.78942776825359,
          "var": 109.85823303824753,
          "noise": 2.1212482503154737
         },
         {
          "complex_annotation": "CPS-53 (KpLE1) prophage; bactoprenol glucosyl transferase",
          "mean": 53.12453594878101,
          "var": 5315.997873628435,
          "noise": 100.06671641807377
         },
         {
          "complex_annotation": "CPS-53 (KpLE1) prophage; serotype-specific glucosyl transferase YfdI",
          "mean": 54.918348064177955,
          "var": 920.3281738730705,
          "noise": 16.758118303150138
         },
         {
          "complex_annotation": "CPZ-55 prophage; uncharacterized protein YffS",
          "mean": 158.75183387703225,
          "var": 22040.981921502058,
          "noise": 138.83922713343145
         },
         {
          "complex_annotation": "CTP synthetase",
          "mean": 297.1864232679256,
          "var": 14545.976728745924,
          "noise": 48.94563004862486
         },
         {
          "complex_annotation": "CheA(L) - phosphorylated",
          "mean": 41.50923952031109,
          "var": 2992.3778641045124,
          "noise": 72.08944077716232
         },
         {
          "complex_annotation": "CheY-acetylated // \"CheY-Pasp\" // \"chemotaxis protein CheY\"",
          "mean": 222.74219186113908,
          "var": 50584.1146229416,
          "noise": 227.09713952386943
         },
         {
          "complex_annotation": "ClpA ATP-dependent protease specificity component and chaperone",
          "mean": 182.92231142290328,
          "var": 43076.33827389483,
          "noise": 235.48979858616272
         },
         {
          "complex_annotation": "ClpAP",
          "mean": 236.23637281549293,
          "var": 22156.5931000216,
          "noise": 93.78993097445881
         },
         {
          "complex_annotation": "ClpAXP",
          "mean": 312.28713194479025,
          "var": 23128.814494799095,
          "noise": 74.06265621885463
         },
         {
          "complex_annotation": "ClpB80 // \"chaperone protein ClpB\"",
          "mean": 1343.0777686466133,
          "var": 1156760.8679787717,
          "noise": 861.2761635868721
         },
         {
          "complex_annotation": "ClpP serine protease",
          "mean": 381.0115899195343,
          "var": 50027.71704708729,
          "noise": 131.30234977275265
         },
         {
          "complex_annotation": "ClpX ATP-dependent protease specificity component and chaperone",
          "mean": 372.92749449193303,
          "var": 5406.352306712501,
          "noise": 14.497060116412113
         },
         {
          "complex_annotation": "ClpXP",
          "mean": 283.73766858275036,
          "var": 16919.566103597877,
          "noise": 59.63101828569297
         },
         {
          "complex_annotation": "ClpXP protease specificity-enhancing factor",
          "mean": 253.676545723034,
          "var": 27183.87162454259,
          "noise": 107.15957814335012
         },
         {
          "complex_annotation": "CorC-HlyC family protein YbeX",
          "mean": 292.78817925351274,
          "var": 3997.072956874288,
          "noise": 13.65175659435825
         },
         {
          "complex_annotation": "CpxR-P<sup>asp</sup> DNA-binding transcriptional dual regulator",
          "mean": 654.4269017931227,
          "var": 180391.4736173622,
          "noise": 275.6480106839916
         },
         {
          "complex_annotation": "CsrA complex with CsrB RNA",
          "mean": 230.67368427563937,
          "var": 35356.33275291436,
          "noise": 153.27423613118322
         },
         {
          "complex_annotation": "CsrA complex with CsrC RNA",
          "mean": 461.34736855127875,
          "var": 141425.33101165743,
          "noise": 306.54847226236643
         },
         {
          "complex_annotation": "CsrA complex with McaS RNA",
          "mean": 2076.0631584807543,
          "var": 2863862.952986062,
          "noise": 1379.4681251806487
         },
         {
          "complex_annotation": "Cys-tRNAPro and Cys-tRNACys deacylase",
          "mean": 603.9922340013719,
          "var": 113107.4903565765,
          "noise": 187.26646468159652
         },
         {
          "complex_annotation": "D-alanine&mdash;D-alanine ligase A",
          "mean": 130.65957378958527,
          "var": 2992.7421180764736,
          "noise": 22.904881986650274
         },
         {
          "complex_annotation": "D-alanine&mdash;D-alanine ligase B",
          "mean": 177.66900842239315,
          "var": 7636.404932827698,
          "noise": 42.981074756002386
         },
         {
          "complex_annotation": "D-alanyl-D-alanine carboxypeptidase DacA",
          "mean": 731.4890215011588,
          "var": 51373.934753383655,
          "noise": 70.23199698603032
         },
         {
          "complex_annotation": "D-alanyl-D-alanine carboxypeptidase DacC",
          "mean": 605.3852602658811,
          "var": 58506.15706824097,
          "noise": 96.64285027776438
         },
         {
          "complex_annotation": "D-allose ABC transporter",
          "mean": 46.55763749953924,
          "var": 35.409496741504356,
          "noise": 0.760551837318953
         },
         {
          "complex_annotation": "D-amino acid dehydrogenase",
          "mean": 154.9742849535423,
          "var": 4554.340204256569,
          "noise": 29.38771555307937
         },
         {
          "complex_annotation": "D-aminoacyl-tRNA deacylase",
          "mean": 80.50515159025923,
          "var": 9655.564256677339,
          "noise": 119.9372222267279
         },
         {
          "complex_annotation": "D-arabinose 5-phosphate isomerase GutQ",
          "mean": 13.044064719081707,
          "var": 0.011806157309177608,
          "noise": 0.0009050980322036269
         },
         {
          "complex_annotation": "D-arabinose 5-phosphate isomerase KdsD",
          "mean": 34.793966784179474,
          "var": 251.38611939203543,
          "noise": 7.224991647297272
         },
         {
          "complex_annotation": "D-cysteine desulfhydrase, PLP-dependent",
          "mean": 478.5147707634057,
          "var": 101028.71895816535,
          "noise": 211.12978142135023
         },
         {
          "complex_annotation": "D-galactose / methyl-&beta;-D-galactoside ABC transporter",
          "mean": 6465.13305204169,
          "var": 47666943.81722236,
          "noise": 7372.925419093909
         },
         {
          "complex_annotation": "D-glucoronate/D-galacturonate isomerase",
          "mean": 116.74026552419225,
          "var": 10563.346634467176,
          "noise": 90.48588836966555
         },
         {
          "complex_annotation": "D-glycero-&beta;-D-manno-heptose-1,7-bisphosphate 7-phosphatase",
          "mean": 234.14003495495504,
          "var": 11428.805634362207,
          "noise": 48.81183876375919
         },
         {
          "complex_annotation": "D-lactate dehydrogenase",
          "mean": 164.21079382238017,
          "var": 9646.333800448607,
          "noise": 58.74360372974407
         },
         {
          "complex_annotation": "D-ribose pyranase",
          "mean": 309.4370017420441,
          "var": 52538.11471857309,
          "noise": 169.7861420024048
         },
         {
          "complex_annotation": "D-sedoheptulose 7-phosphate isomerase",
          "mean": 821.9251149113447,
          "var": 16206.072842179252,
          "noise": 19.717213342394686
         },
         {
          "complex_annotation": "D-serine/alanine/glycine/:H+symporter",
          "mean": 395.694581677581,
          "var": 1561.0105296205745,
          "noise": 3.9449883872620566
         },
         {
          "complex_annotation": "DEOXYRIBOSE-P-ALD-MONOMER",
          "mean": 1054.269881829305,
          "var": 194320.01018928637,
          "noise": 184.3171407420974
         },
         {
          "complex_annotation": "DIENOYLCOAREDUCT-MONOMER",
          "mean": 60.25218044985524,
          "var": 2133.6546256765546,
          "noise": 35.41207321869927
         },
         {
          "complex_annotation": "DLP12 prophage; prophage lipoprotein BorD",
          "mean": 1565.0613847788723,
          "var": 411514.0454677566,
          "noise": 262.93795851713475
         },
         {
          "complex_annotation": "DNA gyrase",
          "mean": 550.2809427528092,
          "var": 53690.03200511799,
          "noise": 97.56840158143729
         },
         {
          "complex_annotation": "DNA helicase II",
          "mean": 17.86484061465306,
          "var": 67.9161225692441,
          "noise": 3.8016640637441843
         },
         {
          "complex_annotation": "DNA helicase IV",
          "mean": 226.8479639358104,
          "var": 46646.72598353133,
          "noise": 205.629908129705
         },
         {
          "complex_annotation": "DNA ligase",
          "mean": 179.78889991611481,
          "var": 14303.27901512765,
          "noise": 79.55596269737018
         },
         {
          "complex_annotation": "DNA polymerase I",
          "mean": 677.04529292425,
          "var": 409667.77087385574,
          "noise": 605.0817798384586
         },
         {
          "complex_annotation": "DNA polymerase III, &tau; subunit dimer",
          "mean": 16.477140182937767,
          "var": 223.06608706818085,
          "noise": 13.537912804745563
         },
         {
          "complex_annotation": "DNA polymerase III, holoenzyme",
          "mean": 56.01132225113893,
          "var": 1169.4543218218287,
          "noise": 20.878891531578674
         },
         {
          "complex_annotation": "DNA polymerase III, preinitiation complex",
          "mean": 12.363541515151315,
          "var": 64.11269062022241,
          "noise": 5.185625052631835
         },
         {
          "complex_annotation": "DNA recombination protein",
          "mean": 205.09550759435842,
          "var": 54459.70816522397,
          "noise": 265.53340345677077
         },
         {
          "complex_annotation": "DNA recombination/repair protein RecA",
          "mean": 2005.75229440754,
          "var": 74729.48144283434,
          "noise": 37.2575824298922
         },
         {
          "complex_annotation": "DNA replication inhibitor",
          "mean": 882.8853099924778,
          "var": 323154.7135922502,
          "noise": 366.02116938043
         },
         {
          "complex_annotation": "DNA topoisomerase 1",
          "mean": 428.8928268518651,
          "var": 57942.591093827585,
          "noise": 135.0980652186107
         },
         {
          "complex_annotation": "DNA topoisomerase IV",
          "mean": 29.55324924299095,
          "var": 11.376799455405141,
          "noise": 0.3849593444654259
         },
         {
          "complex_annotation": "DNA-binding transcriptional  repressor CRP-Sxy",
          "mean": 5079.610372458825,
          "var": 6434432.20267785,
          "noise": 1266.717667474014
         },
         {
          "complex_annotation": "DNA-binding transcriptional activator MalT",
          "mean": 178.7160165341243,
          "var": 25781.669003758852,
          "noise": 144.260539730842
         },
         {
          "complex_annotation": "DNA-binding transcriptional activator MhpR",
          "mean": 43.97578231535224,
          "var": 616.2431236534302,
          "noise": 14.013238450980225
         },
         {
          "complex_annotation": "DNA-binding transcriptional dual regulator ArgP",
          "mean": 220.34082623602885,
          "var": 13688.268497647026,
          "noise": 62.123160430487665
         },
         {
          "complex_annotation": "DNA-binding transcriptional dual regulator ArgR",
          "mean": 79.69825146566926,
          "var": 652.8174913083955,
          "noise": 8.19111435072829
         },
         {
          "complex_annotation": "DNA-binding transcriptional dual regulator CRP",
          "mean": 2539.8051862294124,
          "var": 1608608.0506694624,
          "noise": 633.358833737007
         },
         {
          "complex_annotation": "DNA-binding transcriptional dual regulator Cra",
          "mean": 56.11567006305315,
          "var": 602.5203761496136,
          "noise": 10.737114525632586
         },
         {
          "complex_annotation": "DNA-binding transcriptional dual regulator CysB",
          "mean": 78.11266489490987,
          "var": 176.49349916253712,
          "noise": 2.2594735360774783
         },
         {
          "complex_annotation": "DNA-binding transcriptional dual regulator FNR",
          "mean": 521.368366732404,
          "var": 209662.68980458725,
          "noise": 402.1392611880462
         },
         {
          "complex_annotation": "DNA-binding transcriptional dual regulator FadR",
          "mean": 234.756937724601,
          "var": 20496.421849314134,
          "noise": 87.30912086337989
         },
         {
          "complex_annotation": "DNA-binding transcriptional dual regulator Fis",
          "mean": 838.5974973259221,
          "var": 341.8750708645003,
          "noise": 0.40767480460489625
         },
         {
          "complex_annotation": "DNA-binding transcriptional dual regulator Fur",
          "mean": 4452.497109462158,
          "var": 1866676.6103926043,
          "noise": 419.24263272976964
         },
         {
          "complex_annotation": "DNA-binding transcriptional dual regulator H-NS",
          "mean": 32099.600475302268,
          "var": 27939115.663709935,
          "noise": 870.3882680784938
         },
         {
          "complex_annotation": "DNA-binding transcriptional dual regulator HU",
          "mean": 53085.33970224584,
          "var": 419525601.3797366,
          "noise": 7902.852345541043
         },
         {
          "complex_annotation": "DNA-binding transcriptional dual regulator IHF",
          "mean": 6838.307151337886,
          "var": 5029521.881243294,
          "noise": 735.4922453664997
         },
         {
          "complex_annotation": "DNA-binding transcriptional dual regulator IscR",
          "mean": 3930.045138179424,
          "var": 6659834.671568535,
          "noise": 1694.5949569051702
         },
         {
          "complex_annotation": "DNA-binding transcriptional dual regulator LrhA",
          "mean": 21.714394788930242,
          "var": 53.261108384052434,
          "noise": 2.4528018810454877
         },
         {
          "complex_annotation": "DNA-binding transcriptional dual regulator Lrp",
          "mean": 7475.301316191836,
          "var": 424399.9882637617,
          "noise": 56.77362962540284
         },
         {
          "complex_annotation": "DNA-binding transcriptional dual regulator NagC",
          "mean": 76.22041365438864,
          "var": 2228.7369777072827,
          "noise": 29.240683313701172
         },
         {
          "complex_annotation": "DNA-binding transcriptional dual regulator NtrC",
          "mean": 23.36721679666226,
          "var": 72.6138307250231,
          "noise": 3.10750875283509
         },
         {
          "complex_annotation": "DNA-binding transcriptional dual regulator OxyR",
          "mean": 249.9200548373374,
          "var": 9100.360081634848,
          "noise": 36.413084526401434
         },
         {
          "complex_annotation": "DNA-binding transcriptional dual regulator PdhR",
          "mean": 199.1034884215579,
          "var": 39032.16148962318,
          "noise": 196.03956615255856
         },
         {
          "complex_annotation": "DNA-binding transcriptional dual regulator Rob",
          "mean": 238.2949421529955,
          "var": 50469.69492299206,
          "noise": 211.7950740666093
         },
         {
          "complex_annotation": "DNA-binding transcriptional dual regulator SlyA",
          "mean": 983.8764036024689,
          "var": 22057.04060141208,
          "noise": 22.41850756929438
         },
         {
          "complex_annotation": "DNA-binding transcriptional dual regulator TyrR",
          "mean": 97.7843101339666,
          "var": 2213.1006730997583,
          "noise": 22.632472122242955
         },
         {
          "complex_annotation": "DNA-binding transcriptional regulator YheO",
          "mean": 376.64249667353397,
          "var": 18738.092241192564,
          "noise": 49.75033992893893
         },
         {
          "complex_annotation": "DNA-binding transcriptional regulator YieP",
          "mean": 103.90187537949348,
          "var": 117.68202436147008,
          "noise": 1.13262656647578
         },
         {
          "complex_annotation": "DNA-binding transcriptional repressor AllR",
          "mean": 139.93422025529983,
          "var": 610.2208895987322,
          "noise": 4.360769570769955
         },
         {
          "complex_annotation": "DNA-binding transcriptional repressor ExuR",
          "mean": 101.25694931925868,
          "var": 5209.972601345917,
          "noise": 51.45298803066942
         },
         {
          "complex_annotation": "DNA-binding transcriptional repressor FrmR",
          "mean": 81.52391431047981,
          "var": 16.832193047622777,
          "noise": 0.20646939232478706
         },
         {
          "complex_annotation": "DNA-binding transcriptional repressor GlpR",
          "mean": 208.3570866126688,
          "var": 64837.02807279909,
          "noise": 311.18225507409636
         },
         {
          "complex_annotation": "DNA-binding transcriptional repressor GntR",
          "mean": 484.87929355764237,
          "var": 28603.33273236969,
          "noise": 58.990625321411734
         },
         {
          "complex_annotation": "DNA-binding transcriptional repressor KdgR",
          "mean": 568.3467105669364,
          "var": 41737.83636496486,
          "noise": 73.43727972548763
         },
         {
          "complex_annotation": "DNA-binding transcriptional repressor LexA",
          "mean": 184.1210576125776,
          "var": 22949.00328018233,
          "noise": 124.64083998730325
         },
         {
          "complex_annotation": "DNA-binding transcriptional repressor MprA",
          "mean": 317.9262288144434,
          "var": 13863.328582222508,
          "noise": 43.60548871327567
         },
         {
          "complex_annotation": "DNA-binding transcriptional repressor PurR",
          "mean": 575.1732288502832,
          "var": 119697.88359136357,
          "noise": 208.10753628194468
         },
         {
          "complex_annotation": "DNA-binding transcriptional repressor RcnR",
          "mean": 558.56506589558,
          "var": 32240.914691294263,
          "noise": 57.72096512981978
         },
         {
          "complex_annotation": "DNA-binding transcriptional repressor StpA with RNA chaperone activity",
          "mean": 4814.293018203182,
          "var": 6260036.100237421,
          "noise": 1300.3022617376594
         },
         {
          "complex_annotation": "DNA-binding transcriptional repressor TrpR",
          "mean": 233.02600803293353,
          "var": 25639.141370459958,
          "noise": 110.02695187069583
         },
         {
          "complex_annotation": "DNA-binding transcriptional repressor YdcI",
          "mean": 228.56360756416134,
          "var": 29497.593581163437,
          "noise": 129.05638782798354
         },
         {
          "complex_annotation": "DNA-binding transcriptional repressor Zur",
          "mean": 64.4363662231496,
          "var": 485.1127664852869,
          "noise": 7.528555611054985
         },
         {
          "complex_annotation": "DNA-binding transcriptional repressor/NMN adenylyltransferase NadR",
          "mean": 8.372811309552752,
          "var": 37.29928759157077,
          "noise": 4.454810482712666
         },
         {
          "complex_annotation": "DTDPDEHYDRHAMEPIM-MONOMER",
          "mean": 446.01773318001347,
          "var": 3064.510558750145,
          "noise": 6.870826720051742
         },
         {
          "complex_annotation": "DUF1040 domain-containing protein YihD",
          "mean": 2407.8904885225975,
          "var": 3005114.4701778,
          "noise": 1248.0278835361983
         },
         {
          "complex_annotation": "DUF1043 domain-containing protein YhcB",
          "mean": 3355.3015803454705,
          "var": 990612.9939035571,
          "noise": 295.2381388624867
         },
         {
          "complex_annotation": "DUF1131 domain-containing lipoprotein YfeY",
          "mean": 18.882588141467174,
          "var": 331.79794902403677,
          "noise": 17.57163512428631
         },
         {
          "complex_annotation": "DUF1190 domain-containing protein YgiB",
          "mean": 160.3046835974638,
          "var": 340.19090384805446,
          "noise": 2.1221519934021233
         },
         {
          "complex_annotation": "DUF1283 domain-containing protein YnfB",
          "mean": 354.03658923797275,
          "var": 42422.33384396829,
          "noise": 119.82471623986095
         },
         {
          "complex_annotation": "DUF1338 domain-containing protein YdcJ",
          "mean": 38.01351460600447,
          "var": 581.0792259040038,
          "noise": 15.286122104905784
         },
         {
          "complex_annotation": "DUF1414 domain-containing protein YejL",
          "mean": 400.84493923419757,
          "var": 38264.79228768136,
          "noise": 95.46033526277049
         },
         {
          "complex_annotation": "DUF1451 domain-containing protein YbeL",
          "mean": 621.6426919327247,
          "var": 99097.36270773674,
          "noise": 159.41209314250452
         },
         {
          "complex_annotation": "DUF1471 domain-containing protein YahO",
          "mean": 3822.3980194997034,
          "var": 11531794.479145594,
          "noise": 3016.900495531059
         },
         {
          "complex_annotation": "DUF1471 domain-containing protein YdgH",
          "mean": 3082.2493260643314,
          "var": 1926708.6942095845,
          "noise": 625.0982611681723
         },
         {
          "complex_annotation": "DUF1479 domain-containing protein YbiU",
          "mean": 32.18984688545518,
          "var": 75.98943647172378,
          "noise": 2.3606647382364288
         },
         {
          "complex_annotation": "DUF1480 domain-containing protein YebV",
          "mean": 2210.890199230395,
          "var": 330.3657689547523,
          "noise": 0.14942658349553123
         },
         {
          "complex_annotation": "DUF1508 domain-containing protein YegP",
          "mean": 598.5555083466652,
          "var": 24654.729176614932,
          "noise": 41.19038056255872
         },
         {
          "complex_annotation": "DUF177 domain-containing protein YceD",
          "mean": 746.7307219304731,
          "var": 8616.223650404854,
          "noise": 11.538595369599776
         },
         {
          "complex_annotation": "DUF179 domain-containing protein YqgE",
          "mean": 366.89311480799034,
          "var": 46098.44110543986,
          "noise": 125.64542436171088
         },
         {
          "complex_annotation": "DUF2058 domain-containing protein YaiL",
          "mean": 223.13062936966608,
          "var": 38203.30006480437,
          "noise": 171.2149523027249
         },
         {
          "complex_annotation": "DUF218 domain-containing protein YdcF",
          "mean": 365.02943895543785,
          "var": 148666.94758357955,
          "noise": 407.2738571688968
         },
         {
          "complex_annotation": "DUF2501 domain-containing protein YjjA",
          "mean": 157.056880218271,
          "var": 2726.095863159729,
          "noise": 17.357379437125687
         },
         {
          "complex_annotation": "DUF2526 domain-containing protein YdcY",
          "mean": 289.44661419948943,
          "var": 6046.690231335297,
          "noise": 20.890519821965714
         },
         {
          "complex_annotation": "DUF2756 domain-containing protein YhhA",
          "mean": 138.441485382112,
          "var": 6516.0555186337,
          "noise": 47.067217609293564
         },
         {
          "complex_annotation": "DUF2766 domain-containing protein YecJ",
          "mean": 373.00835194778637,
          "var": 7115.613903877977,
          "noise": 19.076285736556425
         },
         {
          "complex_annotation": "DUF2810 domain-containing protein YibL",
          "mean": 1559.35106046745,
          "var": 887192.6410853523,
          "noise": 568.9499071616347
         },
         {
          "complex_annotation": "DUF3053 domain-containing protein YiaF",
          "mean": 946.9888563335074,
          "var": 115324.00171284589,
          "noise": 121.77968192714556
         },
         {
          "complex_annotation": "DUF3313 domain-containing lipoprotein YdcL",
          "mean": 1266.248274749215,
          "var": 168868.54387583627,
          "noise": 133.3613219803054
         },
         {
          "complex_annotation": "DUF3461 domain-containing protein YaeH",
          "mean": 3169.0310701302983,
          "var": 489767.9538516016,
          "noise": 154.54817040700843
         },
         {
          "complex_annotation": "DUF3828 domain-containing lipoprotein YbjP",
          "mean": 1336.158328232197,
          "var": 792314.0286553534,
          "noise": 592.979149187824
         },
         {
          "complex_annotation": "DUF386 domain-containing toxin-antitoxin biofilm protein TabA",
          "mean": 15603.881915954058,
          "var": 60988.77462304131,
          "noise": 3.9085642246935905
         },
         {
          "complex_annotation": "DUF406 domain-containing protein YiiS",
          "mean": 424.338734730517,
          "var": 1233.811953040004,
          "noise": 2.9076109533661962
         },
         {
          "complex_annotation": "DUF4156 domain-containing lipoprotein YjeI",
          "mean": 1228.0463945055792,
          "var": 729194.308887179,
          "noise": 593.784006980256
         },
         {
          "complex_annotation": "DUF416 domain-containing protein YjaG",
          "mean": 182.6639690433311,
          "var": 6181.676094148281,
          "noise": 33.84179226217229
         },
         {
          "complex_annotation": "DUF463 domain-containing protein YcjX",
          "mean": 380.24322637549784,
          "var": 261179.66823886323,
          "noise": 686.8752685707096
         },
         {
          "complex_annotation": "DUF480 domain-containing protein YceH",
          "mean": 690.3028275168621,
          "var": 77893.99479456067,
          "noise": 112.8403241150826
         },
         {
          "complex_annotation": "DUF488 domain-containing protein YeaO",
          "mean": 342.07197930830745,
          "var": 23412.1005250002,
          "noise": 68.44202957617588
         },
         {
          "complex_annotation": "DUF493 domain-containing protein YbeD",
          "mean": 3259.353072802831,
          "var": 1639555.488165619,
          "noise": 503.03095477646684
         },
         {
          "complex_annotation": "DUF496 domain-containing protein YeeX",
          "mean": 9883.961245801296,
          "var": 40362855.98216082,
          "noise": 4083.67201958698
         },
         {
          "complex_annotation": "DUF533 domain-containing inner membrane protein YebE",
          "mean": 237.957371531003,
          "var": 74274.29169732501,
          "noise": 312.13276234919226
         },
         {
          "complex_annotation": "DUF615 domain-containing protein YjgA",
          "mean": 492.48912149573465,
          "var": 297037.2225678481,
          "noise": 603.1345863350622
         },
         {
          "complex_annotation": "DUF853 domain-containing protein YjgR",
          "mean": 189.11941766398877,
          "var": 14074.721692648562,
          "noise": 74.42240393133679
         },
         {
          "complex_annotation": "DUF883 domain-containing protein YgaM",
          "mean": 556.1923898628579,
          "var": 62248.03104714071,
          "noise": 111.91816389736903
         },
         {
          "complex_annotation": "DUF892 domain-containing protein YciE",
          "mean": 308.0187778313948,
          "var": 115.79975217089628,
          "noise": 0.3759503007777125
         },
         {
          "complex_annotation": "DUF892 domain-containing protein YciF",
          "mean": 281.56312586042594,
          "var": 12825.965649667552,
          "noise": 45.55271792239418
         },
         {
          "complex_annotation": "DUF903 domain-containing lipoprotein YgdI",
          "mean": 1312.5965680972809,
          "var": 111588.84301184119,
          "noise": 85.01381591573
         },
         {
          "complex_annotation": "DUF937 domain-containing protein YidB",
          "mean": 475.8419765972988,
          "var": 26564.949493837383,
          "noise": 55.82725106305424
         },
         {
          "complex_annotation": "DUF945 domain-containing protein YdgA",
          "mean": 838.1692268065522,
          "var": 127586.62008747821,
          "noise": 152.22059699517573
         },
         {
          "complex_annotation": "DcuS-DctA sensor complex",
          "mean": 455.5000833551446,
          "var": 210734.4927232624,
          "noise": 462.64424623377465
         },
         {
          "complex_annotation": "Der GTPase-activating protein YihI",
          "mean": 319.6642633407495,
          "var": 20037.40986971997,
          "noise": 62.68267106342406
         },
         {
          "complex_annotation": "DosC-DosP complex",
          "mean": 35.3780132424168,
          "var": 1068.3739770295635,
          "noise": 30.19881217491961
         },
         {
          "complex_annotation": "DsrE/F sulfur relay family protein YchN",
          "mean": 1268.2138474825613,
          "var": 123560.11313569087,
          "noise": 97.42845292295226
         },
         {
          "complex_annotation": "EG10043-MONOMER",
          "mean": 696.2420489538846,
          "var": 114940.1627245436,
          "noise": 165.0864995833606
         },
         {
          "complex_annotation": "EG10108-MONOMER",
          "mean": 5228.549814294113,
          "var": 1179044.719066021,
          "noise": 225.5012883003773
         },
         {
          "complex_annotation": "EG10155-MONOMER",
          "mean": 843.4952884918376,
          "var": 1086265.8069846537,
          "noise": 1287.8149075697715
         },
         {
          "complex_annotation": "EG10812-MONOMER",
          "mean": 125.67167351110255,
          "var": 1801.2154086883427,
          "noise": 14.332708066700592
         },
         {
          "complex_annotation": "EG12069-MONOMER",
          "mean": 67.03319018276335,
          "var": 706.2747472293775,
          "noise": 10.536194761188408
         },
         {
          "complex_annotation": "Enterobacterial Common Antigen Biosynthesis Protein Complex",
          "mean": 1155.317208393323,
          "var": 343507.26484941505,
          "noise": 297.32722957284074
         },
         {
          "complex_annotation": "FAD/NAD(P) binding domain-containing protein YdhS",
          "mean": 81.09257679184506,
          "var": 2268.850800773318,
          "noise": 27.97852640195645
         },
         {
          "complex_annotation": "FKBP-type peptidyl-prolyl <i>cis-trans</I> isomerase SlyD",
          "mean": 3426.973860139146,
          "var": 9917024.816096129,
          "noise": 2893.8139655647874
         },
         {
          "complex_annotation": "FKBP-type peptidyl-prolyl <i>cis-trans</i> isomerase FklB",
          "mean": 1639.4678148506803,
          "var": 162318.4587687134,
          "noise": 99.0067979977375
         },
         {
          "complex_annotation": "FMN dependent NADH:quinone oxidoreductase",
          "mean": 438.40790630956434,
          "var": 29415.97931091531,
          "noise": 67.09728289011372
         },
         {
          "complex_annotation": "FicT-FicA complex",
          "mean": 97.91893084813032,
          "var": 10377.965453530851,
          "noise": 105.98528153485256
         },
         {
          "complex_annotation": "FtsH/HflKC protease complex",
          "mean": 219.74825361858265,
          "var": 474.2324716400843,
          "noise": 2.1580716289250255
         },
         {
          "complex_annotation": "G7166-MONOMER",
          "mean": 153.63706535281466,
          "var": 40235.209223713675,
          "noise": 261.88478106710045
         },
         {
          "complex_annotation": "GALACTOKIN-MONOMER",
          "mean": 509.67516561181816,
          "var": 6798.386759555808,
          "noise": 13.338665915564023
         },
         {
          "complex_annotation": "GALPMUT-MONOMER",
          "mean": 1194.1265025699786,
          "var": 534866.0818867391,
          "noise": 447.91408677021195
         },
         {
          "complex_annotation": "GDP/GTP pyrophosphokinase",
          "mean": 88.55925336293156,
          "var": 2640.343341424401,
          "noise": 29.81442639995851
         },
         {
          "complex_annotation": "GLU6PDEHYDROG-MONOMER",
          "mean": 1427.4431486340718,
          "var": 256634.88034318946,
          "noise": 179.7864108204693
         },
         {
          "complex_annotation": "GLYCOGEN-BRANCH-MONOMER",
          "mean": 190.44897950492566,
          "var": 49866.92682677826,
          "noise": 261.83877149884404
         },
         {
          "complex_annotation": "GLYCRIBONUCSYN-MONOMER",
          "mean": 1440.6004046191972,
          "var": 528634.3488160808,
          "noise": 366.95418599151236
         },
         {
          "complex_annotation": "GMP reductase",
          "mean": 252.54631525495202,
          "var": 179.54864612138056,
          "noise": 0.7109533391533414
         },
         {
          "complex_annotation": "GMP synthetase",
          "mean": 1872.0489644880702,
          "var": 1009243.613250228,
          "noise": 539.1117606404143
         },
         {
          "complex_annotation": "GPH-MONOMER",
          "mean": 358.79265889874875,
          "var": 56821.52487174016,
          "noise": 158.36869418160305
         },
         {
          "complex_annotation": "GTP cyclohydrolase 1",
          "mean": 442.6087718184604,
          "var": 49411.199466843056,
          "noise": 111.63628606779953
         },
         {
          "complex_annotation": "GTP cyclohydrolase 2",
          "mean": 91.00328197983679,
          "var": 2227.244661948195,
          "noise": 24.47433338109362
         },
         {
          "complex_annotation": "GTP-binding protein YihA",
          "mean": 880.5125052182851,
          "var": 2762.6283923179108,
          "noise": 3.13752317649712
         },
         {
          "complex_annotation": "GTPase ObgE",
          "mean": 638.5876007686746,
          "var": 361116.47727345594,
          "noise": 565.4924662470368
         },
         {
          "complex_annotation": "GadE-RcsB DNA-binding transcriptional activator",
          "mean": 2164.578278576106,
          "var": 750413.3945313615,
          "noise": 346.6787974168323
         },
         {
          "complex_annotation": "GroEL-GroES chaperonin complex",
          "mean": 1555.9800950830343,
          "var": 192305.53601844143,
          "noise": 123.59125712863256
         },
         {
          "complex_annotation": "Grx4-BolA complex",
          "mean": 3335.6129455923638,
          "var": 3568541.0102207395,
          "noise": 1069.8306633376526
         },
         {
          "complex_annotation": "Grx4-IbaG complex",
          "mean": 3746.9118520977645,
          "var": 2233610.4388939836,
          "noise": 596.1203591281346
         },
         {
          "complex_annotation": "HNH nuclease family protein YajD",
          "mean": 274.9376882855891,
          "var": 48205.25275346509,
          "noise": 175.33155623026954
         },
         {
          "complex_annotation": "HOMOCYSMET-MONOMER",
          "mean": 32799.193822477544,
          "var": 94118734.29362866,
          "noise": 2869.544135841789
         },
         {
          "complex_annotation": "HU&alpha;&alpha;",
          "mean": 36940.23678211961,
          "var": 314258444.99872845,
          "noise": 8507.212524172037
         },
         {
          "complex_annotation": "HflK-HflC complex; regulator of FtsH protease",
          "mean": 1114.4497614274187,
          "var": 247.1769784545929,
          "noise": 0.22179284074501632
         },
         {
          "complex_annotation": "HlyD_D23 family protein YbhG",
          "mean": 45.01386652041567,
          "var": 1183.9801351645026,
          "noise": 26.302564669211833
         },
         {
          "complex_annotation": "HslU hexamer",
          "mean": 240.59855681005806,
          "var": 1058.0089758463919,
          "noise": 4.397403666397065
         },
         {
          "complex_annotation": "HslV hexamer",
          "mean": 128.87004553431382,
          "var": 8613.150317879365,
          "noise": 66.83593756926211
         },
         {
          "complex_annotation": "HslVU protease",
          "mean": 94.15922082109262,
          "var": 626.5852095111865,
          "noise": 6.654528404623598
         },
         {
          "complex_annotation": "K+ binding protein",
          "mean": 3783.0089355367454,
          "var": 392714.2004132446,
          "noise": 103.81001131775679
         },
         {
          "complex_annotation": "KHG/KDPG aldolase",
          "mean": 1248.9232922885747,
          "var": 309328.3482237216,
          "noise": 247.67601832206728
         },
         {
          "complex_annotation": "KpLE2 phage-like element; putative DNA-binding transcriptional regulator YjhU",
          "mean": 81.92521103295827,
          "var": 6428.870715926445,
          "noise": 78.47243400252127
         },
         {
          "complex_annotation": "KpLE2 phage-like element; putative nucleoside triphosphatase",
          "mean": 764.7888805455942,
          "var": 1163073.7596178309,
          "noise": 1520.7775494697353
         },
         {
          "complex_annotation": "L,D-transpeptidase LdtA",
          "mean": 92.3688379574345,
          "var": 7.024531376919899,
          "noise": 0.07604871439604936
         },
         {
          "complex_annotation": "L,D-transpeptidase LdtB",
          "mean": 2679.506329660288,
          "var": 2370851.954271521,
          "noise": 884.8092381898203
         },
         {
          "complex_annotation": "L,D-transpeptidase LdtE",
          "mean": 406.880559374317,
          "var": 76961.39202960848,
          "noise": 189.14983834065782
         },
         {
          "complex_annotation": "L-1,2-propanediol oxidoreductase",
          "mean": 42.66031388368774,
          "var": 129.99887186562336,
          "noise": 3.0473022823990927
         },
         {
          "complex_annotation": "L-arginine ABC transporter",
          "mean": 3498.0892269155215,
          "var": 8039344.865699893,
          "noise": 2298.210349765341
         },
         {
          "complex_annotation": "L-asparaginase 1",
          "mean": 77.52393466912427,
          "var": 2948.155264972243,
          "noise": 38.028968441231804
         },
         {
          "complex_annotation": "L-cysteine desulfurase",
          "mean": 210.0483264790365,
          "var": 27644.985046105292,
          "noise": 131.6124984640825
         },
         {
          "complex_annotation": "L-fucose mutarotase",
          "mean": 58.77606953778891,
          "var": 0.04389500119300747,
          "noise": 0.0007468175660297605
         },
         {
          "complex_annotation": "L-glutamine ABC transporter",
          "mean": 4088.615496221462,
          "var": 1328712.5873774814,
          "noise": 324.9786116120299
         },
         {
          "complex_annotation": "L-glutamine&mdash;D-fructose-6-phosphate aminotransferase",
          "mean": 1224.1684912793028,
          "var": 229112.10196594917,
          "noise": 187.15732646126048
         },
         {
          "complex_annotation": "L-glyceraldehyde 3-phosphate reductase",
          "mean": 480.3649158675132,
          "var": 47174.609405774514,
          "noise": 98.20577616618755
         },
         {
          "complex_annotation": "L-lactate dehydrogenase",
          "mean": 159.00126295876126,
          "var": 9735.435203290028,
          "noise": 61.228665874276864
         },
         {
          "complex_annotation": "L-leucine/L-phenylalanine ABC transporter periplasmic binding protein",
          "mean": 3037.0245726066546,
          "var": 2954153.3891682555,
          "noise": 972.7130349270532
         },
         {
          "complex_annotation": "L-methionine/D-methionine ABC transporter",
          "mean": 9691.571535236419,
          "var": 12480545.826637456,
          "noise": 1287.7731729328873
         },
         {
          "complex_annotation": "Lon protease",
          "mean": 265.95343114002054,
          "var": 19513.622052114657,
          "noise": 73.3723267583678
         },
         {
          "complex_annotation": "LysR family transcriptional regulator YafC",
          "mean": 22.22824865347794,
          "var": 467.8103100756546,
          "noise": 21.04575656717151
         },
         {
          "complex_annotation": "MALATE-SYNTHASE",
          "mean": 8318.4491874512,
          "var": 1042062.6263643685,
          "noise": 125.27126185207364
         },
         {
          "complex_annotation": "MALSYNG-MONOMER",
          "mean": 1065.2699440226236,
          "var": 91985.69638928027,
          "noise": 86.34965898120443
         },
         {
          "complex_annotation": "MANNONDEHYDRAT-MONOMER",
          "mean": 328.80917892595585,
          "var": 3033.6484264951223,
          "noise": 9.226167093036858
         },
         {
          "complex_annotation": "MANNONOXIDOREDUCT-MONOMER",
          "mean": 41.780471389324646,
          "var": 64.39046389118069,
          "noise": 1.541161737769027
         },
         {
          "complex_annotation": "MANNPISOM-MONOMER",
          "mean": 1278.004485248042,
          "var": 171521.50425221058,
          "noise": 134.21040867389502
         },
         {
          "complex_annotation": "MMUM-MONOMER",
          "mean": 85.78813546640185,
          "var": 33.98434040531967,
          "noise": 0.3961426626252919
         },
         {
          "complex_annotation": "MetJ-S-adenosylmethionine DNA-binding transcriptional repressor",
          "mean": 912.2562237626057,
          "var": 268247.47984118585,
          "noise": 294.04839655113307
         },
         {
          "complex_annotation": "Mg2+ importing P-type ATPase",
          "mean": 36.20497239437689,
          "var": 1594.211525365702,
          "noise": 44.032944093980426
         },
         {
          "complex_annotation": "Mlc titration factor",
          "mean": 278.92494697171395,
          "var": 74389.56204048095,
          "noise": 266.7009991330208
         },
         {
          "complex_annotation": "Mlc-PtsG",
          "mean": 3297.0268405465827,
          "var": 5708502.587289574,
          "noise": 1731.4091948196622
         },
         {
          "complex_annotation": "MltA-interacting protein",
          "mean": 1521.701806593348,
          "var": 1007792.2054859439,
          "noise": 662.279693116814
         },
         {
          "complex_annotation": "MukEF complex",
          "mean": 55.69852367273401,
          "var": 696.1240795313174,
          "noise": 12.498070570442959
         },
         {
          "complex_annotation": "MutHLS complex, methyl-directed mismatch repair",
          "mean": 15.601606148022302,
          "var": 1.8137833616277381,
          "noise": 0.11625619467760105
         },
         {
          "complex_annotation": "N-ACETYLGLUTPREDUCT-MONOMER",
          "mean": 735.9508745138095,
          "var": 122379.0581391259,
          "noise": 166.28699329961808
         },
         {
          "complex_annotation": "N-acetylglucosamine-specific PTS enzyme II",
          "mean": 340.81231639486145,
          "var": 12492.784044618113,
          "noise": 36.65590544604646
         },
         {
          "complex_annotation": "N-acetylglutamate synthase",
          "mean": 50.609253816504555,
          "var": 2667.702252228486,
          "noise": 52.71174836722256
         },
         {
          "complex_annotation": "N-acetylmuramic acid-specific PTS enzyme II",
          "mean": 24385.469169928638,
          "var": 17025842.43427884,
          "noise": 698.1962215135295
         },
         {
          "complex_annotation": "N5-carboxyaminoimidazole ribonucleotide mutase",
          "mean": 3077.7327066813837,
          "var": 6450542.9012716245,
          "noise": 2095.8749560246997
         },
         {
          "complex_annotation": "N<sup>6</sup>-L-threonylcarbamoyladenine synthase",
          "mean": 275.274527323249,
          "var": 35017.73097350948,
          "noise": 127.21021198008964
         },
         {
          "complex_annotation": "N<sup>6</sup>-L-threonylcarbamoyladenine synthase, TsaB-TsaD dimer subunit",
          "mean": 70.02776818655141,
          "var": 5.818993521122355,
          "noise": 0.0830955158476673
         },
         {
          "complex_annotation": "NACGLCTRANS-MONOMER",
          "mean": 71.50188267250866,
          "var": 163.61249490934054,
          "noise": 2.2882263906072917
         },
         {
          "complex_annotation": "NAD kinase",
          "mean": 10.220932208108579,
          "var": 165.32777652198914,
          "noise": 16.175410731208014
         },
         {
          "complex_annotation": "NAD synthetase, NH<sub>3</sub>-dependent",
          "mean": 1150.0498096211095,
          "var": 283182.5679775947,
          "noise": 246.2350461767311
         },
         {
          "complex_annotation": "NAD(P)H nitroreductase NfsB",
          "mean": 1263.9573338337332,
          "var": 526282.9821841652,
          "noise": 416.37717357743884
         },
         {
          "complex_annotation": "NAD(P)H:quinone oxidoreductase",
          "mean": 761.0240515283209,
          "var": 670695.8358169197,
          "noise": 881.3070158163855
         },
         {
          "complex_annotation": "NAD-binding component of Trk potassium transporters",
          "mean": 72.87571022470243,
          "var": 2488.8675375850175,
          "noise": 34.15222342136948
         },
         {
          "complex_annotation": "NAD<sup>+</sup>-dependent malate dehydrogenase",
          "mean": 270.6577623399603,
          "var": 36207.61733214517,
          "noise": 133.7763861605658
         },
         {
          "complex_annotation": "NADH:quinone oxidoreductase I",
          "mean": 1057.957164992598,
          "var": 215313.92688816908,
          "noise": 203.51856768196802
         },
         {
          "complex_annotation": "NADH:quinone oxidoreductase I, peripheral arm",
          "mean": 1283.3471355289605,
          "var": 190214.23010912797,
          "noise": 148.21728653387837
         },
         {
          "complex_annotation": "NADH:quinone oxidoreductase II",
          "mean": 565.1008610154882,
          "var": 88172.4493294041,
          "noise": 156.02957880998076
         },
         {
          "complex_annotation": "NADP+-dependent aldehyde reductase",
          "mean": 135.24502550856013,
          "var": 18764.17152899867,
          "noise": 138.74204584190804
         },
         {
          "complex_annotation": "NADP<sup>+</sup>-dependent malate dehydrogenase",
          "mean": 428.5347008499695,
          "var": 82992.38912502513,
          "noise": 193.66550470805598
         },
         {
          "complex_annotation": "NADPH-dependent aldehyde reductase YqhD",
          "mean": 353.56454930635664,
          "var": 35167.17171100681,
          "noise": 99.4646431040663
         },
         {
          "complex_annotation": "NADPH-dependent curcumin/dihydrocurcumin reductase",
          "mean": 212.85326779462875,
          "var": 19572.98330684184,
          "noise": 91.95528689616742
         },
         {
          "complex_annotation": "NADPH-dependent ferric-chelate reductase",
          "mean": 266.0595394697837,
          "var": 71363.30886477226,
          "noise": 268.223078965665
         },
         {
          "complex_annotation": "NADPH-dependent nitroreductase NfsA",
          "mean": 107.2101362534835,
          "var": 2429.838860722298,
          "noise": 22.66426427233784
         },
         {
          "complex_annotation": "NADPH:quinone oxidoreductase MdaB",
          "mean": 284.2847401301328,
          "var": 7340.7932483905315,
          "noise": 25.821974281947902
         },
         {
          "complex_annotation": "NICOTINATEPRIBOSYLTRANS-MONOMER",
          "mean": 561.3910117877613,
          "var": 55438.00682305081,
          "noise": 98.75114787910005
         },
         {
          "complex_annotation": "Na+:H+ antiporter NhaB",
          "mean": 40.59135109702086,
          "var": 2458.3539258496257,
          "noise": 60.5634909755456
         },
         {
          "complex_annotation": "Ni2+/Co2+/Mg2+ transporter",
          "mean": 230.39473250022283,
          "var": 7006.605906047361,
          "noise": 30.411311187596635
         },
         {
          "complex_annotation": "NikR-Ni DNA-binding transcriptional repressor",
          "mean": 129.5679218803432,
          "var": 7165.451109193482,
          "noise": 55.30266292154336
         },
         {
          "complex_annotation": "NrdR transcriptional repressor",
          "mean": 297.45536631558963,
          "var": 6037.059879142312,
          "noise": 20.29568319415426
         },
         {
          "complex_annotation": "NusB-S10 complex",
          "mean": 17233.29618293139,
          "var": 12990907.919794831,
          "noise": 753.8260691336342
         },
         {
          "complex_annotation": "OmpR dimer",
          "mean": 588.6056112548094,
          "var": 33232.56822823787,
          "noise": 56.45982232040152
         },
         {
          "complex_annotation": "OsmC family protein YhfA",
          "mean": 385.8591977667959,
          "var": 31555.807130211328,
          "noise": 81.78062700810078
         },
         {
          "complex_annotation": "Outer Membrane Protein Assembly Complex",
          "mean": 1317.777345698971,
          "var": 39069.146487871905,
          "noise": 29.64776000694486
         },
         {
          "complex_annotation": "P-loop NTPase family protein Mrp",
          "mean": 934.5456090239971,
          "var": 180175.68401647834,
          "noise": 192.79496075600503
         },
         {
          "complex_annotation": "P-loop guanosine triphosphatase YjiA",
          "mean": 146.00298657563786,
          "var": 7675.284519840933,
          "noise": 52.5693665578868
         },
         {
          "complex_annotation": "PBP1B&gamma; // \"peptidoglycan glycosyltransferase / peptidoglycan DD-transpeptidase MrcB\"",
          "mean": 260.60832447614047,
          "var": 21714.493983099906,
          "noise": 83.322334490846
         },
         {
          "complex_annotation": "PEPCARBOXYKIN-MONOMER",
          "mean": 4373.8031995665,
          "var": 4139657.9895010022,
          "noise": 946.4664505049737
         },
         {
          "complex_annotation": "PF04237 family protein YjbR",
          "mean": 489.5810226232995,
          "var": 27869.750416655024,
          "noise": 56.925716334595286
         },
         {
          "complex_annotation": "PF04293 family protein YcgB",
          "mean": 40.67005189122855,
          "var": 2213.887919160552,
          "noise": 54.43533549161831
         },
         {
          "complex_annotation": "PF04375 family protein HemX",
          "mean": 454.95626733053905,
          "var": 8542.075788252527,
          "noise": 18.775597571989174
         },
         {
          "complex_annotation": "PF05166 family protein YcgL",
          "mean": 531.0133276961684,
          "var": 171783.68222398654,
          "noise": 323.501639722076
         },
         {
          "complex_annotation": "PF05981 family protein CreA",
          "mean": 335.27905907409655,
          "var": 13960.467179953015,
          "noise": 41.63835110521399
         },
         {
          "complex_annotation": "PF06983 family protein YjdN",
          "mean": 152.8035288866954,
          "var": 28696.541430264675,
          "noise": 187.80025330137047
         },
         {
          "complex_annotation": "PF08891 family protein YfcL",
          "mean": 675.2466164468536,
          "var": 421818.0780713768,
          "noise": 624.6874368523054
         },
         {
          "complex_annotation": "PF09619 family lipoprotein YbaY",
          "mean": 3012.911081752927,
          "var": 2731857.29571802,
          "noise": 906.7168667083965
         },
         {
          "complex_annotation": "PF13993 family protein YccJ",
          "mean": 2044.7072330536885,
          "var": 2076966.6644397366,
          "noise": 1015.7770417517769
         },
         {
          "complex_annotation": "PGK",
          "mean": 23761.247079653254,
          "var": 61026674.8898925,
          "noise": 2568.327945301727
         },
         {
          "complex_annotation": "PHOSPHOGLUCMUT-MONOMER",
          "mean": 1673.9451874522813,
          "var": 226810.62880450045,
          "noise": 135.49465687684955
         },
         {
          "complex_annotation": "PII uridylyltransferase / uridylyl removing enzyme",
          "mean": 53.749354028298825,
          "var": 4743.890163540884,
          "noise": 88.2594823566297
         },
         {
          "complex_annotation": "PLP homeostasis protein",
          "mean": 224.36740201666294,
          "var": 12755.074567346162,
          "noise": 56.84905406356174
         },
         {
          "complex_annotation": "PQQ-like domain-containing protein YncE",
          "mean": 2710.003682813473,
          "var": 4210473.792687725,
          "noise": 1553.6782549005593
         },
         {
          "complex_annotation": "PRIBFAICARPISOM-MONOMER",
          "mean": 675.5775142254286,
          "var": 300654.6327963633,
          "noise": 445.03351053812617
         },
         {
          "complex_annotation": "PSERPHOSPHA-MONOMER",
          "mean": 117.10656106572264,
          "var": 6509.4610631773985,
          "noise": 55.58579300714119
         },
         {
          "complex_annotation": "PTS enzyme I",
          "mean": 6574.920552012452,
          "var": 2929922.998331132,
          "noise": 445.6210497379076
         },
         {
          "complex_annotation": "PUA-like domain-containing protein YqfB",
          "mean": 578.3022019956876,
          "var": 83754.13866838855,
          "noise": 144.82763229909526
         },
         {
          "complex_annotation": "Pasp DNA-binding transcriptional activator CusR // \"DNA-binding transcriptional activator CusR\"",
          "mean": 378.11222300280974,
          "var": 58233.62440872925,
          "noise": 154.01148353856976
         },
         {
          "complex_annotation": "PhoH-like protein",
          "mean": 950.0420992096251,
          "var": 168768.38606170754,
          "noise": 177.64306045186012
         },
         {
          "complex_annotation": "Phosphorylated DNA-binding transcriptional activator BaeR // \"DNA-binding transcriptional activator BaeR\"",
          "mean": 159.68767313033115,
          "var": 4235.212971194135,
          "noise": 26.521852865483936
         },
         {
          "complex_annotation": "Phosphorylated DNA-binding transcriptional activator BtsR // \"DNA-binding transcriptional activator BtsR\"",
          "mean": 352.0353542674967,
          "var": 238652.41119631974,
          "noise": 677.9217152575475
         },
         {
          "complex_annotation": "Phosphorylated DNA-binding transcriptional activator EvgA // \"DNA-binding transcriptional activator EvgA\"",
          "mean": 112.79799049463016,
          "var": 8582.458200524312,
          "noise": 76.08697781662065
         },
         {
          "complex_annotation": "Phosphorylated DNA-binding transcriptional activator UvrY // \"DNA-binding transcriptional activator UvrY\"",
          "mean": 120.26116147951922,
          "var": 1181.9224484234778,
          "noise": 9.827964688539636
         },
         {
          "complex_annotation": "Phosphorylated DNA-binding transcriptional dual regulator ArcA // \"DNA-binding transcriptional dual regulator ArcA\"",
          "mean": 3888.850500419551,
          "var": 1086951.494824997,
          "noise": 279.5045720342632
         },
         {
          "complex_annotation": "Phosphorylated DNA-binding transcriptional dual regulator BasR // \"DNA-binding transcriptional dual regulator BasR\"",
          "mean": 427.46449072365687,
          "var": 331058.4226845473,
          "noise": 774.4699966167875
         },
         {
          "complex_annotation": "Phosphorylated DNA-binding transcriptional dual regulator NarP // \"DNA-binding transcriptional dual regulator NarP\"",
          "mean": 255.03766805974976,
          "var": 2967.3373959718865,
          "noise": 11.63489855654069
         },
         {
          "complex_annotation": "Phosphorylated DNA-binding transcriptional dual regulator PhoP // \"DNA-binding transcriptional dual regulator PhoP\"",
          "mean": 2095.766165956616,
          "var": 936008.7212191804,
          "noise": 446.6188720972779
         },
         {
          "complex_annotation": "Phosphorylated DNA-binding transcriptional regulator RstA // \"DNA-binding transcriptional regulator RstA\"",
          "mean": 122.4798573311997,
          "var": 2189.7264727904562,
          "noise": 17.87825786626435
         },
         {
          "complex_annotation": "PsiF family protein",
          "mean": 185.10416399402217,
          "var": 41635.813574104905,
          "noise": 224.93180421078753
         },
         {
          "complex_annotation": "Qin prophage; protein GnsB",
          "mean": 3767.677737454904,
          "var": 4494381.69340392,
          "noise": 1192.878480217342
         },
         {
          "complex_annotation": "RIBULP3EPIM-MONOMER",
          "mean": 2015.9108032396653,
          "var": 3741257.855007425,
          "noise": 1855.864777843863
         },
         {
          "complex_annotation": "RNA chaperone ProQ",
          "mean": 1779.539685658263,
          "var": 255833.46271760276,
          "noise": 143.76384228990563
         },
         {
          "complex_annotation": "RNA polymerase holoenzyme assembly factor Crl",
          "mean": 2681.547916040799,
          "var": 1063222.2216285164,
          "noise": 396.4957013329535
         },
         {
          "complex_annotation": "RNA polymerase sigma 19",
          "mean": 5246.693637731533,
          "var": 908034.2633742683,
          "noise": 173.06790258233318
         },
         {
          "complex_annotation": "RNA polymerase sigma 24",
          "mean": 4200.191437431524,
          "var": 441578.2136602421,
          "noise": 105.13287792669598
         },
         {
          "complex_annotation": "RNA polymerase sigma 28",
          "mean": 4864.2025601557325,
          "var": 2096267.3619340253,
          "noise": 430.95807298512483
         },
         {
          "complex_annotation": "RNA polymerase sigma 32",
          "mean": 5246.693637731533,
          "var": 908034.2633742683,
          "noise": 173.06790258233318
         },
         {
          "complex_annotation": "RNA polymerase sigma 54",
          "mean": 4368.018476945985,
          "var": 564867.6728509833,
          "noise": 129.31897514452032
         },
         {
          "complex_annotation": "RNA polymerase sigma 70",
          "mean": 4189.247357278085,
          "var": 799334.5883881651,
          "noise": 190.80625234493758
         },
         {
          "complex_annotation": "RNA polymerase sigma S",
          "mean": 4014.5835138277853,
          "var": 628997.4204889548,
          "noise": 156.67812571900504
         },
         {
          "complex_annotation": "RNA polymerase subunit &omega;",
          "mean": 6166.227892625056,
          "var": 4215064.858405983,
          "noise": 683.5726690295202
         },
         {
          "complex_annotation": "RNA polymerase, core enzyme",
          "mean": 5246.693637731533,
          "var": 908034.2633742683,
          "noise": 173.06790258233318
         },
         {
          "complex_annotation": "RNA polymerase-binding ATPase and RNAP recycling factor",
          "mean": 122.78103897056805,
          "var": 5247.1247749865925,
          "noise": 42.73562774008115
         },
         {
          "complex_annotation": "RNA polymerase-binding transcription factor DksA",
          "mean": 5262.368590288527,
          "var": 6984865.025087175,
          "noise": 1327.3234105983074
         },
         {
          "complex_annotation": "RNA-binding protein Hfq",
          "mean": 1017.8189195524502,
          "var": 1178538.65990657,
          "noise": 1157.9060255873321
         },
         {
          "complex_annotation": "RNase G",
          "mean": 23.302653300065323,
          "var": 181.4984321514575,
          "noise": 7.788745333603222
         },
         {
          "complex_annotation": "RNase II",
          "mean": 785.8503762307913,
          "var": 24172.047129005892,
          "noise": 30.759095955318294
         },
         {
          "complex_annotation": "RNase III",
          "mean": 228.70374380541224,
          "var": 2256.032334149183,
          "noise": 9.864431148397292
         },
         {
          "complex_annotation": "RNase P",
          "mean": 159.1187269427861,
          "var": 13195.660733709548,
          "noise": 82.92965251320969
         },
         {
          "complex_annotation": "RNase R",
          "mean": 236.88721769597342,
          "var": 16571.064368589476,
          "noise": 69.95339187046034
         },
         {
          "complex_annotation": "RNase adaptor protein",
          "mean": 40.17035928744488,
          "var": 302.8064993961968,
          "noise": 7.538058030037037
         },
         {
          "complex_annotation": "RcsAB DNA-binding transcriptional dual regulator",
          "mean": 2164.578278576106,
          "var": 750413.3945313615,
          "noise": 346.6787974168323
         },
         {
          "complex_annotation": "RcsB-BglJ DNA-binding transcriptional activator",
          "mean": 2164.578278576106,
          "var": 750413.3945313615,
          "noise": 346.6787974168323
         },
         {
          "complex_annotation": "RcsD-N-phospho-L-histidine // \"RcsD phosphotransferase\"",
          "mean": 41.2312142218746,
          "var": 346.126776816506,
          "noise": 8.394775253377661
         },
         {
          "complex_annotation": "RutC family protein YoaB",
          "mean": 1670.1143100958527,
          "var": 189007.80524149243,
          "noise": 113.17058006086106
         },
         {
          "complex_annotation": "S-(hydroxymethyl)glutathione dehydrogenase",
          "mean": 559.1260260596063,
          "var": 65609.52589461497,
          "noise": 117.34300110655302
         },
         {
          "complex_annotation": "S-adenosylmethionine decarboxylase proenzyme // \"&beta; cleavage product of SpeD\" // \"&alpha; cleavage product of SpeD\"",
          "mean": 639.346020226199,
          "var": 97261.90713946508,
          "noise": 152.1271800597962
         },
         {
          "complex_annotation": "S-ribosylhomocysteine lyase",
          "mean": 6626.827824224968,
          "var": 6201062.288888003,
          "noise": 935.7512302069264
         },
         {
          "complex_annotation": "S49 peptidase family protein",
          "mean": 282.0466491900492,
          "var": 19641.429176245736,
          "noise": 69.63893821341203
         },
         {
          "complex_annotation": "S6:S18 ribosomal subunit complex",
          "mean": 21631.395931938485,
          "var": 32413092.41945098,
          "noise": 1498.4281421983246
         },
         {
          "complex_annotation": "SARCOX-MONOMER",
          "mean": 430.9029846060492,
          "var": 28773.172689123552,
          "noise": 66.77413180470141
         },
         {
          "complex_annotation": "Sec Holo-Translocon",
          "mean": 1409.149340715896,
          "var": 142112.4831470572,
          "noise": 100.84983829666997
         },
         {
          "complex_annotation": "Sec translocon accessory complex",
          "mean": 1725.2454903990113,
          "var": 359725.3735492318,
          "noise": 208.50677515234963
         },
         {
          "complex_annotation": "SecB chaperone",
          "mean": 2622.744704913598,
          "var": 1039153.1798829811,
          "noise": 396.20828437330283
         },
         {
          "complex_annotation": "SecYEG translocon",
          "mean": 856.696100621576,
          "var": 5113.150695677959,
          "noise": 5.968453331313301
         },
         {
          "complex_annotation": "Signal Recognition Particle",
          "mean": 876.6345718452527,
          "var": 163192.86174788975,
          "noise": 186.15836859408878
         },
         {
          "complex_annotation": "Slp family lipoprotein YeaY",
          "mean": 48.66583109554092,
          "var": 685.1461915696793,
          "noise": 14.078588121193246
         },
         {
          "complex_annotation": "SsrA-binding protein",
          "mean": 453.0595092486184,
          "var": 31225.31956870516,
          "noise": 68.92101132694718
         },
         {
          "complex_annotation": "SufBC<sub>2</sub>D Fe-S cluster scaffold complex",
          "mean": 178.760384305455,
          "var": 32807.8987956154,
          "noise": 183.53003056625363
         },
         {
          "complex_annotation": "THRESYN-MONOMER",
          "mean": 9422.593663664718,
          "var": 6933347.90933209,
          "noise": 735.821596135295
         },
         {
          "complex_annotation": "TREHALOSE6PSYN-MONOMER",
          "mean": 268.595907399149,
          "var": 48153.56335091148,
          "noise": 179.27884239633073
         },
         {
          "complex_annotation": "TREHALOSEPHOSPHASYN-MONOMER",
          "mean": 103.00640878742625,
          "var": 6.734826698160878,
          "noise": 0.06538259878625127
         },
         {
          "complex_annotation": "TSA-REDUCT-MONOMER",
          "mean": 46.091017508965926,
          "var": 723.600472383818,
          "noise": 15.699381603868009
         },
         {
          "complex_annotation": "Tap<SUP>gln</SUP>",
          "mean": 48.90953694215916,
          "var": 3721.8402185518366,
          "noise": 76.09641086877018
         },
         {
          "complex_annotation": "Tap<SUP>glu-Me</SUP>",
          "mean": 48.90953694215916,
          "var": 3721.8402185518366,
          "noise": 76.09641086877018
         },
         {
          "complex_annotation": "Tap<SUP>glu</SUP>",
          "mean": 48.90953694215916,
          "var": 3721.8402185518366,
          "noise": 76.09641086877018
         },
         {
          "complex_annotation": "Tar<SUP>gln</SUP>",
          "mean": 49.82605762705724,
          "var": 4180.74083576044,
          "noise": 83.90671537878518
         },
         {
          "complex_annotation": "Tar<SUP>glu-Me</SUP>",
          "mean": 49.82605762705724,
          "var": 4180.74083576044,
          "noise": 83.90671537878518
         },
         {
          "complex_annotation": "Tar<SUP>glu</SUP>",
          "mean": 49.82605762705724,
          "var": 4180.74083576044,
          "noise": 83.90671537878518
         },
         {
          "complex_annotation": "The Tol-Pal Cell Envelope Complex",
          "mean": 4076.6504302780245,
          "var": 5723877.801199334,
          "noise": 1404.0639243156716
         },
         {
          "complex_annotation": "ThiS adenylyltransferase",
          "mean": 795.3360590364873,
          "var": 94841.90468418584,
          "noise": 119.24758547862447
         },
         {
          "complex_annotation": "Trg<SUP>gln</SUP>",
          "mean": 60.30256842869476,
          "var": 6372.394726515828,
          "noise": 105.67368675267812
         },
         {
          "complex_annotation": "Trg<SUP>glu-Me</SUP>",
          "mean": 60.30256842869476,
          "var": 6372.394726515828,
          "noise": 105.67368675267812
         },
         {
          "complex_annotation": "Trg<SUP>glu</SUP>",
          "mean": 60.30256842869476,
          "var": 6372.394726515828,
          "noise": 105.67368675267812
         },
         {
          "complex_annotation": "Tsr<SUP>gln</SUP>",
          "mean": 48.899007521812976,
          "var": 4048.255338815633,
          "noise": 82.78808802018688
         },
         {
          "complex_annotation": "Tsr<SUP>glu-Me</SUP>",
          "mean": 48.899007521812976,
          "var": 4048.255338815633,
          "noise": 82.78808802018688
         },
         {
          "complex_annotation": "Tsr<SUP>glu</SUP>",
          "mean": 48.899007521812976,
          "var": 4048.255338815633,
          "noise": 82.78808802018688
         },
         {
          "complex_annotation": "UDP-3-<i>O</i>-(3-hydroxymyristoyl)glucosamine <i>N</i>-acyltransferase",
          "mean": 187.33521639760045,
          "var": 57202.66220216223,
          "noise": 305.34921998197734
         },
         {
          "complex_annotation": "UDP-4-amino-4-deoxy-L-arabinose formyltransferase/UDP-glucuronate dehydrogenase",
          "mean": 2.6846893843047757,
          "var": 9.803302191266654,
          "noise": 3.651559189148173
         },
         {
          "complex_annotation": "UDP-<i>N</i>-acetylmuramate&mdash;L-alanine ligase",
          "mean": 112.3082414563886,
          "var": 5259.2700913217195,
          "noise": 46.82888827320827
         },
         {
          "complex_annotation": "UDP-N-acetylenolpyruvoylglucosamine reductase",
          "mean": 31.470712948290622,
          "var": 620.6657080024103,
          "noise": 19.722009762607637
         },
         {
          "complex_annotation": "UDP-N-acetylmuramate&mdash;L-alanyl-&gamma;-D-glutamyl-meso-2,6-diaminoheptanedioate ligase",
          "mean": 319.06214094548915,
          "var": 12705.402201821451,
          "noise": 39.82108991110961
         },
         {
          "complex_annotation": "UDP-N-acetylmuramoyl-L-alanine&mdash;D-glutamate ligase",
          "mean": 135.90368471469654,
          "var": 5054.0598164902185,
          "noise": 37.18854148141927
         },
         {
          "complex_annotation": "UDP-NACMURALGLDAPAALIG-MONOMER",
          "mean": 239.24325303112064,
          "var": 30680.112416887572,
          "noise": 128.23815103741595
         },
         {
          "complex_annotation": "UDP-NACMURALGLDAPLIG-MONOMER",
          "mean": 243.90180924195138,
          "var": 18744.62552967151,
          "noise": 76.85316311482045
         },
         {
          "complex_annotation": "UDP-glucose 4-epimerase",
          "mean": 324.80010227736943,
          "var": 1218.6453908519306,
          "noise": 3.751985859324775
         },
         {
          "complex_annotation": "UDPACYLGLCNACDEACETYL-MONOMER",
          "mean": 90.01378693932583,
          "var": 1086.7247318475925,
          "noise": 12.072869821376406
         },
         {
          "complex_annotation": "UDPNACETYLGLUCOSAMENOLPYRTRANS-MONOMER",
          "mean": 583.1202455430034,
          "var": 52923.72053531515,
          "noise": 90.75953191443801
         },
         {
          "complex_annotation": "UMP kinase",
          "mean": 198.91865346429208,
          "var": 20929.447870737153,
          "noise": 105.21611475966583
         },
         {
          "complex_annotation": "UMP phosphatase",
          "mean": 680.5211524405169,
          "var": 172363.54278853675,
          "noise": 253.2816829725256
         },
         {
          "complex_annotation": "UPF0149 family protein YecA",
          "mean": 708.7522306253386,
          "var": 489273.285928357,
          "noise": 690.3305059042518
         },
         {
          "complex_annotation": "UPF0149 family protein YgfB",
          "mean": 753.3635717289611,
          "var": 400229.5829549013,
          "noise": 531.2568830961376
         },
         {
          "complex_annotation": "UPF0227 protein YcfP",
          "mean": 1080.909406848768,
          "var": 205926.2173647398,
          "noise": 190.51200411428312
         },
         {
          "complex_annotation": "UPF0253 family protein YaeP",
          "mean": 1096.2688888464174,
          "var": 492094.7461797699,
          "noise": 448.88142971711227
         },
         {
          "complex_annotation": "UPF0304 family protein YfbU",
          "mean": 2023.3589982389683,
          "var": 506389.8213643868,
          "noise": 250.2718607054524
         },
         {
          "complex_annotation": "UPF0434 family protein YcaR",
          "mean": 1361.9913414980608,
          "var": 81791.91976724961,
          "noise": 60.05318629800266
         },
         {
          "complex_annotation": "UPF0701 family protein YicC",
          "mean": 691.1067719903168,
          "var": 32006.485837287102,
          "noise": 46.31192622394901
         },
         {
          "complex_annotation": "UROGENIIISYN-MONOMER",
          "mean": 19.224724104041343,
          "var": 139.95092762331336,
          "noise": 7.279736596786502
         },
         {
          "complex_annotation": "UTP&mdash;glucose-1-phosphate uridylyltransferase",
          "mean": 525.5395729532025,
          "var": 26027.820625225602,
          "noise": 49.52590055010622
         },
         {
          "complex_annotation": "UTP:glucose-1-phosphate uridylyltransferase, low activity",
          "mean": 3624.6505028365195,
          "var": 2702676.5045932555,
          "noise": 745.6378214887861
         },
         {
          "complex_annotation": "Ubi complex",
          "mean": 669.7727190141017,
          "var": 27662.7631526692,
          "noise": 41.301716787432746
         },
         {
          "complex_annotation": "VOC domain-containing protein YaeR",
          "mean": 310.2222151124353,
          "var": 32157.055365343345,
          "noise": 103.65813213501977
         },
         {
          "complex_annotation": "XASA-MONOMER",
          "mean": 163.21898755179188,
          "var": 27421.995127732473,
          "noise": 168.00738406143498
         },
         {
          "complex_annotation": "Xaa-Pro aminopeptidase",
          "mean": 187.77124824965563,
          "var": 16839.25930046208,
          "noise": 89.67964721666573
         },
         {
          "complex_annotation": "Xaa-Pro dipeptidase",
          "mean": 692.4234493355007,
          "var": 31792.91143292719,
          "noise": 45.91541702326511
         },
         {
          "complex_annotation": "YGJU-MONOMER",
          "mean": 208.6664374720868,
          "var": 4341.094368527993,
          "noise": 20.803989472953447
         },
         {
          "complex_annotation": "Z-ring inhibitor complex MinCD",
          "mean": 78.26044112895275,
          "var": 799.5628086136654,
          "noise": 10.216691818746522
         },
         {
          "complex_annotation": "Z-ring positioning protein MinC",
          "mean": 78.26044112895275,
          "var": 799.5628086136654,
          "noise": 10.216691818746522
         },
         {
          "complex_annotation": "Z-ring positioning protein MinD",
          "mean": 3014.6562663615573,
          "var": 58019.67407414687,
          "noise": 19.24586717283422
         },
         {
          "complex_annotation": "Z-ring positioning protein MinE",
          "mean": 2179.8106733103505,
          "var": 671225.137133208,
          "noise": 307.9281817231667
         },
         {
          "complex_annotation": "Zn2+/Cd2+/Pb2+ exporting P-type ATPase",
          "mean": 266.6084337854293,
          "var": 128860.15322470343,
          "noise": 483.3311212068112
         },
         {
          "complex_annotation": "Zn<sup>2+</sup> ABC transporter",
          "mean": 99.24677848974467,
          "var": 4316.827222693694,
          "noise": 43.4958926464274
         },
         {
          "complex_annotation": "[Fe-S] cluster biosynthesis co-chaperone HscB",
          "mean": 547.3826344250753,
          "var": 124133.67059097224,
          "noise": 226.77677877258898
         },
         {
          "complex_annotation": "[acyl-carrier-protein] S-malonyltransferase",
          "mean": 3965.5672534787955,
          "var": 4847701.299377857,
          "noise": 1222.448388720481
         },
         {
          "complex_annotation": "acetate kinase",
          "mean": 1980.5742698272197,
          "var": 840722.941829957,
          "noise": 424.48443092381456
         },
         {
          "complex_annotation": "acetohydroxybutanoate synthase",
          "mean": 1266.4203584432437,
          "var": 121644.87532842986,
          "noise": 96.05410598260019
         },
         {
          "complex_annotation": "acetolactate synthase",
          "mean": 541.2345491696433,
          "var": 55611.790051058764,
          "noise": 102.7498893712122
         },
         {
          "complex_annotation": "acetyl-CoA carboxylase complex",
          "mean": 1189.1061918403639,
          "var": 116602.16842825404,
          "noise": 98.05866728167516
         },
         {
          "complex_annotation": "acetyl-CoA carboxyltransferase",
          "mean": 807.0387490184645,
          "var": 20570.76264523461,
          "noise": 25.489188307566586
         },
         {
          "complex_annotation": "acetyl-CoA synthetase (AMP-forming)",
          "mean": 4877.697684994231,
          "var": 9874399.715869302,
          "noise": 2024.3976469158688
         },
         {
          "complex_annotation": "acetylglutamate kinase",
          "mean": 1047.056979398843,
          "var": 246962.884728504,
          "noise": 235.86384464988257
         },
         {
          "complex_annotation": "acetylornithine deacetylase",
          "mean": 460.4232419277774,
          "var": 94224.9611346087,
          "noise": 204.64857668803123
         },
         {
          "complex_annotation": "acidic protein that suppresses heat sensitivity of a secY mutant",
          "mean": 2195.8199743072587,
          "var": 9199589.642552974,
          "noise": 4189.591929299795
         },
         {
          "complex_annotation": "aconitate hydratase A",
          "mean": 521.9847664321569,
          "var": 38165.17513369618,
          "noise": 73.11549606047089
         },
         {
          "complex_annotation": "acrylyl-CoA reductase",
          "mean": 423.9042202761214,
          "var": 39722.197809120444,
          "noise": 93.70559647470913
         },
         {
          "complex_annotation": "activated pyruvate-formate lyase",
          "mean": 3775.609861285262,
          "var": 614290.4865843651,
          "noise": 162.69967214654255
         },
         {
          "complex_annotation": "acyl-CoA dehydrogenase",
          "mean": 162.0693048743861,
          "var": 2585.955814648013,
          "noise": 15.955864169666745
         },
         {
          "complex_annotation": "acyl-CoA thioesterase II",
          "mean": 50.22727482504572,
          "var": 569.2452554881345,
          "noise": 11.333389228680224
         },
         {
          "complex_annotation": "acyl-CoA thioesterase YciA",
          "mean": 87.2442926995233,
          "var": 2469.506459741676,
          "noise": 28.305650528302916
         },
         {
          "complex_annotation": "acyl-[acyl-carrier-protein]&mdash;UDP-<i>N</i>-acetylglucosamine <i>O</i>-acyltransferase",
          "mean": 283.96786793868114,
          "var": 7573.667643707948,
          "noise": 26.670861385427504
         },
         {
          "complex_annotation": "acylphosphatase",
          "mean": 225.7093670823414,
          "var": 15018.692143730075,
          "noise": 66.53995949690064
         },
         {
          "complex_annotation": "adenine phosphoribosyltransferase",
          "mean": 760.2353925865282,
          "var": 117743.09005239757,
          "noise": 154.87714884176
         },
         {
          "complex_annotation": "adenine:H+ symporter",
          "mean": 153.91397862517545,
          "var": 13431.88117043553,
          "noise": 87.26875421202647
         },
         {
          "complex_annotation": "adenosine deaminase",
          "mean": 265.89409763935106,
          "var": 709.3815660754772,
          "noise": 2.667910165639164
         },
         {
          "complex_annotation": "adenosylmethionine-8-amino-7-oxononanoate aminotransferase",
          "mean": 46.408256076455515,
          "var": 929.1045579892426,
          "noise": 20.020242873565095
         },
         {
          "complex_annotation": "adenylate kinase",
          "mean": 5604.431423320927,
          "var": 2800668.606827547,
          "noise": 499.7239497254835
         },
         {
          "complex_annotation": "adenylosuccinate lyase",
          "mean": 2126.388206343988,
          "var": 3126127.683093076,
          "noise": 1470.1584939976663
         },
         {
          "complex_annotation": "adenylosuccinate synthetase",
          "mean": 4323.35549263655,
          "var": 1351156.573760353,
          "noise": 312.52497650531285
         },
         {
          "complex_annotation": "adenylyl-sulfate kinase",
          "mean": 177.91862586309674,
          "var": 4624.450895942522,
          "noise": 25.99194364001498
         },
         {
          "complex_annotation": "aerobic fatty acid oxidation complex",
          "mean": 357.7506270143394,
          "var": 75258.71683885888,
          "noise": 210.36641491572382
         },
         {
          "complex_annotation": "agmatinase",
          "mean": 566.0303793056241,
          "var": 173591.828770785,
          "noise": 306.6828833175672
         },
         {
          "complex_annotation": "alanine racemase 2",
          "mean": 21.005955639538794,
          "var": 51.89626045366412,
          "noise": 2.4705498452058787
         },
         {
          "complex_annotation": "alanine&mdash;tRNA ligase/DNA-binding transcriptional repressor",
          "mean": 1035.640167721134,
          "var": 152773.26156263036,
          "noise": 147.5157746138787
         },
         {
          "complex_annotation": "alcohol dehydrogenase/aldehyde-dehydrogenase",
          "mean": 188.86631745420834,
          "var": 6959.506056460563,
          "noise": 36.84884711191519
         },
         {
          "complex_annotation": "aldehyde dehydrogenase A, NAD-linked",
          "mean": 3526.088295453446,
          "var": 3963.8615645995014,
          "noise": 1.1241526679041254
         },
         {
          "complex_annotation": "aldehyde dehydrogenase B",
          "mean": 141.39157380065313,
          "var": 23093.60474218388,
          "noise": 163.33084158709042
         },
         {
          "complex_annotation": "aldehyde reductase, NADPH-dependent",
          "mean": 1016.5863893846035,
          "var": 93596.32838069709,
          "noise": 92.06923224435079
         },
         {
          "complex_annotation": "alkyl hydroperoxide reductase",
          "mean": 2537.8767235489604,
          "var": 512915.7325847469,
          "noise": 202.104273948928
         },
         {
          "complex_annotation": "amidophosphoribosyltransferase",
          "mean": 378.0765869398971,
          "var": 69241.95074503572,
          "noise": 183.14265716761543
         },
         {
          "complex_annotation": "aminopeptidase A/I and DNA-binding transcriptional repressor",
          "mean": 165.1584292876743,
          "var": 3487.8581432890132,
          "noise": 21.118256926589158
         },
         {
          "complex_annotation": "aminopeptidase B",
          "mean": 500.07455907622915,
          "var": 18702.2052019209,
          "noise": 37.398833558877406
         },
         {
          "complex_annotation": "aminopeptidase N",
          "mean": 1260.0790413401633,
          "var": 245890.9366466953,
          "noise": 195.13929569463895
         },
         {
          "complex_annotation": "anaerobic fatty acid &beta;-oxidation complex",
          "mean": 59.01604657454817,
          "var": 1021.288057252596,
          "noise": 17.30526045933152
         },
         {
          "complex_annotation": "ancillary SecYEG translocon subunit",
          "mean": 943.0274869258919,
          "var": 135742.7928200623,
          "noise": 143.94362274906808
         },
         {
          "complex_annotation": "anhydro-N-acetylmuramic acid kinase",
          "mean": 105.3871151073887,
          "var": 2120.590417428336,
          "noise": 20.121913530581704
         },
         {
          "complex_annotation": "anthranilate synthase",
          "mean": 272.065021536629,
          "var": 28139.841880494074,
          "noise": 103.43057597613854
         },
         {
          "complex_annotation": "anti-adaptor protein for &sigma;S stabilization",
          "mean": 2069.833719962322,
          "var": 1850350.7717984854,
          "noise": 893.9610723088268
         },
         {
          "complex_annotation": "anti-sigma factor stabilizing protein RseB",
          "mean": 104.017225812092,
          "var": 8406.55919162798,
          "noise": 80.81891365584487
         },
         {
          "complex_annotation": "apolipoprotein N-acyltransferase",
          "mean": 28.826624476431682,
          "var": 15.842946879071278,
          "noise": 0.5495942437528296
         },
         {
          "complex_annotation": "arabinose ABC transporter",
          "mean": 100.69132568246562,
          "var": 25.561618840725743,
          "noise": 0.2538611808661195
         },
         {
          "complex_annotation": "arginine decarboxylase, biosynthetic",
          "mean": 283.5906610259653,
          "var": 22275.096690786188,
          "noise": 78.54665104344427
         },
         {
          "complex_annotation": "arginine&mdash;tRNA ligase",
          "mean": 722.4663556934273,
          "var": 86279.9808864504,
          "noise": 119.4242198360066
         },
         {
          "complex_annotation": "argininosuccinate synthetase",
          "mean": 1805.9529992408413,
          "var": 930970.1185334643,
          "noise": 515.500746101815
         },
         {
          "complex_annotation": "aromatic amino acid:H+ symporter AroP",
          "mean": 336.65123500295726,
          "var": 133328.53434309954,
          "noise": 396.04350283143424
         },
         {
          "complex_annotation": "asparagine synthetase A",
          "mean": 318.293806926547,
          "var": 18639.142896607435,
          "noise": 58.55955249832683
         },
         {
          "complex_annotation": "asparagine synthetase B",
          "mean": 459.0848678258298,
          "var": 66068.89078489835,
          "noise": 143.91432916922878
         },
         {
          "complex_annotation": "asparagine&mdash;tRNA ligase",
          "mean": 2014.775481342375,
          "var": 538506.5867979636,
          "noise": 267.27870762015397
         },
         {
          "complex_annotation": "aspartate 1-decarboxylase",
          "mean": 145.21854369326095,
          "var": 6341.127284767021,
          "noise": 43.66609885691402
         },
         {
          "complex_annotation": "aspartate aminotransferase",
          "mean": 4913.808638425072,
          "var": 504219.59181968507,
          "noise": 102.6127855034446
         },
         {
          "complex_annotation": "aspartate ammonia-lyase",
          "mean": 217.30667974476128,
          "var": 34727.06265666162,
          "noise": 159.8066966807025
         },
         {
          "complex_annotation": "aspartate carbamoyltransferase",
          "mean": 3269.7300922511326,
          "var": 654920.1137247155,
          "noise": 200.29791305306745
         },
         {
          "complex_annotation": "aspartate carbamoyltransferase catalytic subunit",
          "mean": 5979.839100530509,
          "var": 4916624.598258251,
          "noise": 822.2001488003359
         },
         {
          "complex_annotation": "aspartate carbamoyltransferase, regulatory subunit",
          "mean": 10648.621902711033,
          "var": 2380744.289226187,
          "noise": 223.57299479476055
         },
         {
          "complex_annotation": "aspartate kinase III",
          "mean": 674.2485074120692,
          "var": 159548.6262141261,
          "noise": 236.6317825849
         },
         {
          "complex_annotation": "aspartate&mdash;tRNA ligase",
          "mean": 1141.4268687644087,
          "var": 135369.8857539065,
          "noise": 118.59707306561306
         },
         {
          "complex_annotation": "aspartate-semialdehyde dehydrogenase",
          "mean": 5828.838780603531,
          "var": 17861391.382707037,
          "noise": 3064.3138462061956
         },
         {
          "complex_annotation": "assimilatory sulfite reductase (NADPH)",
          "mean": 439.06119174135443,
          "var": 50095.1639822738,
          "noise": 114.09608711622194
         },
         {
          "complex_annotation": "bacterial condensin MukBEF",
          "mean": 64.32657574489387,
          "var": 503.10981918607104,
          "noise": 7.82118142245442
         },
         {
          "complex_annotation": "bacterioferritin",
          "mean": 245.67511448247248,
          "var": 22530.49497173557,
          "noise": 91.70849485181778
         },
         {
          "complex_annotation": "bifunctional 5,10-methylene-tetrahydrofolate dehydrogenase/ 5,10-methylene-tetrahydrofolate cyclohydrolase",
          "mean": 505.94122703549834,
          "var": 102874.68273434308,
          "noise": 203.33326725937098
         },
         {
          "complex_annotation": "bifunctional AICAR transformylase/IMP cyclohydrolase",
          "mean": 2336.5511043678384,
          "var": 86024.14241891241,
          "noise": 36.81671770760885
         },
         {
          "complex_annotation": "bifunctional folylpolyglutamate synthetase / dihydrofolate synthetase",
          "mean": 167.1929814442408,
          "var": 8657.16105863675,
          "noise": 51.77945260533518
         },
         {
          "complex_annotation": "bifunctional hydroxymethylpyrimidine kinase/phosphomethylpyrimidine kinase",
          "mean": 1210.6338228883503,
          "var": 1142985.061272244,
          "noise": 944.1212030118993
         },
         {
          "complex_annotation": "bifunctional riboflavin kinase / FMN adenylyltransferase",
          "mean": 418.40197277051226,
          "var": 162231.053116504,
          "noise": 387.73969453888185
         },
         {
          "complex_annotation": "biotin carboxyl carrier protein",
          "mean": 2724.1366878087697,
          "var": 2403996.2048683856,
          "noise": 882.4800222495819
         },
         {
          "complex_annotation": "biotin carboxylase",
          "mean": 1762.2073560732133,
          "var": 432179.88265046076,
          "noise": 245.24916500944695
         },
         {
          "complex_annotation": "biotin synthase",
          "mean": 63.53369901562284,
          "var": 65.1441698956943,
          "noise": 1.0253482939766416
         },
         {
          "complex_annotation": "branched chain amino acid / phenylalanine ABC transporter",
          "mean": 7086.653138127022,
          "var": 8625382.351124244,
          "noise": 1217.1305950786102
         },
         {
          "complex_annotation": "branched-chain-amino-acid aminotransferase",
          "mean": 450.08442637161676,
          "var": 25384.572002952038,
          "noise": 56.3995786470359
         },
         {
          "complex_annotation": "cAMP phosphodiesterase",
          "mean": 151.2744338721593,
          "var": 9085.861259048601,
          "noise": 60.062107168267325
         },
         {
          "complex_annotation": "carbamoyl phosphate synthetase",
          "mean": 1732.6721846857351,
          "var": 131005.02260704475,
          "noise": 75.60866029069769
         },
         {
          "complex_annotation": "carbon starvation protein A",
          "mean": 983.0153631961899,
          "var": 778336.1377596208,
          "noise": 791.7843066347689
         },
         {
          "complex_annotation": "carbon storage regulator",
          "mean": 2076.0631584807543,
          "var": 2863862.952986062,
          "noise": 1379.4681251806487
         },
         {
          "complex_annotation": "carbonic anhydrase 2",
          "mean": 854.3546533526975,
          "var": 135933.98384955505,
          "noise": 159.10720836612373
         },
         {
          "complex_annotation": "carboxy-<i>S</i>-adenosyl-L-methionine synthase",
          "mean": 164.48277244591262,
          "var": 9936.186581975548,
          "noise": 60.40867644812404
         },
         {
          "complex_annotation": "catalase HPII",
          "mean": 561.121355615735,
          "var": 316836.38836953987,
          "noise": 564.6486008750567
         },
         {
          "complex_annotation": "catalase/hydroperoxidase HPI",
          "mean": 817.8440590355425,
          "var": 308618.05801541713,
          "noise": 377.3556274032981
         },
         {
          "complex_annotation": "cell division coordinator CpoB",
          "mean": 948.7146811899347,
          "var": 135389.7684322801,
          "noise": 142.7086258035621
         },
         {
          "complex_annotation": "cell division factor ZapB",
          "mean": 3804.955711536602,
          "var": 22018.934077146965,
          "noise": 5.786909427194039
         },
         {
          "complex_annotation": "cell division factor ZapD",
          "mean": 106.15597841018409,
          "var": 2838.2915652411457,
          "noise": 26.736992185913984
         },
         {
          "complex_annotation": "cell division protein DamX",
          "mean": 465.0852668864054,
          "var": 65439.63567031093,
          "noise": 140.7045983382961
         },
         {
          "complex_annotation": "cell division protein DedD",
          "mean": 67.09504501229465,
          "var": 2717.470877522438,
          "noise": 40.50181167662206
         },
         {
          "complex_annotation": "cell division protein FtsA",
          "mean": 448.17516969690513,
          "var": 47195.37803795212,
          "noise": 105.3056510691338
         },
         {
          "complex_annotation": "cell division protein FtsN",
          "mean": 95.50826183976513,
          "var": 6332.992825075545,
          "noise": 66.3083245688258
         },
         {
          "complex_annotation": "cell division protein FtsZ",
          "mean": 3726.261315926798,
          "var": 906061.2252455812,
          "noise": 243.1555783199883
         },
         {
          "complex_annotation": "cell division protein YtfB",
          "mean": 154.48777609389242,
          "var": 2650.383637292954,
          "noise": 17.155944012567964
         },
         {
          "complex_annotation": "cell division protein ZapA",
          "mean": 140.20151171046493,
          "var": 4503.748947009021,
          "noise": 32.123397901085916
         },
         {
          "complex_annotation": "cell division protein ZapE",
          "mean": 27.716082323575073,
          "var": 4.172640831772163,
          "noise": 0.15054944573544396
         },
         {
          "complex_annotation": "cell division protein ZipA",
          "mean": 783.6537267534733,
          "var": 250221.64144182863,
          "noise": 319.3012843548244
         },
         {
          "complex_annotation": "cell division protein required during stress conditions",
          "mean": 206.46627152164436,
          "var": 63858.90638825117,
          "noise": 309.294617070453
         },
         {
          "complex_annotation": "chaperedoxin",
          "mean": 1997.8654015904401,
          "var": 1163304.5942578868,
          "noise": 582.273757447231
         },
         {
          "complex_annotation": "chaperone protein DnaJ",
          "mean": 328.81476414187745,
          "var": 220.74500630186947,
          "noise": 0.6713354458944615
         },
         {
          "complex_annotation": "chaperone protein DnaK",
          "mean": 14905.865165843117,
          "var": 4843683.357092961,
          "noise": 324.9515075577291
         },
         {
          "complex_annotation": "chaperone protein HtpG",
          "mean": 1112.3622214375523,
          "var": 21788.424803485676,
          "noise": 19.587526781813555
         },
         {
          "complex_annotation": "chaperone protein YcdY",
          "mean": 662.7050836763984,
          "var": 231100.3063566754,
          "noise": 348.7227004124245
         },
         {
          "complex_annotation": "chemotaxis protein CheA(L)",
          "mean": 41.50923952031109,
          "var": 2992.3778641045124,
          "noise": 72.08944077716232
         },
         {
          "complex_annotation": "chemotaxis signaling complex - aspartate sensing",
          "mean": 49.82605762705724,
          "var": 4180.74083576044,
          "noise": 83.90671537878518
         },
         {
          "complex_annotation": "chemotaxis signaling complex - dipeptide sensing",
          "mean": 48.90953694215916,
          "var": 3721.8402185518366,
          "noise": 76.09641086877018
         },
         {
          "complex_annotation": "chemotaxis signaling complex - ribose/galactose/glucose sensing",
          "mean": 60.30256842869476,
          "var": 6372.394726515828,
          "noise": 105.67368675267812
         },
         {
          "complex_annotation": "chemotaxis signaling complex - serine sensing",
          "mean": 48.899007521812976,
          "var": 4048.255338815633,
          "noise": 82.78808802018688
         },
         {
          "complex_annotation": "chorismate synthase",
          "mean": 144.50684336948908,
          "var": 4581.5629375516255,
          "noise": 31.704816399850642
         },
         {
          "complex_annotation": "chromate reductase",
          "mean": 681.0289001941486,
          "var": 224991.45936708405,
          "noise": 330.3699142619986
         },
         {
          "complex_annotation": "chromosomal replication initiator protein DnaA",
          "mean": 55.152271562838756,
          "var": 268.6216149236271,
          "noise": 4.87054489890898
         },
         {
          "complex_annotation": "chromosome partitioning protein MukB",
          "mean": 77.69801589681913,
          "var": 2344.829719468023,
          "noise": 30.178759295242415
         },
         {
          "complex_annotation": "citrate synthase",
          "mean": 2925.996680525897,
          "var": 1746253.1378687478,
          "noise": 596.8062607490345
         },
         {
          "complex_annotation": "cobalamin-dependent methionine synthase",
          "mean": 389.8402148879791,
          "var": 51766.733212745254,
          "noise": 132.78961799161863
         },
         {
          "complex_annotation": "cold shock protein CspA",
          "mean": 1038.3914469522092,
          "var": 196.87074529724225,
          "noise": 0.18959203282642506
         },
         {
          "complex_annotation": "copper/silver export system",
          "mean": 1696.5584319721493,
          "var": 4919087.989239911,
          "noise": 2899.4509688191292
         },
         {
          "complex_annotation": "coproporphyrinogen III dehydrogenase",
          "mean": 53.24007940564159,
          "var": 301.5241832423204,
          "noise": 5.6634810956042525
         },
         {
          "complex_annotation": "curved DNA-binding protein",
          "mean": 198.98132416143824,
          "var": 39100.45671020405,
          "noise": 196.50314859941795
         },
         {
          "complex_annotation": "cyclic pyranopterin monophosphate synthase",
          "mean": 52.61710120946004,
          "var": 414.51142820372985,
          "noise": 7.87788416077176
         },
         {
          "complex_annotation": "cyclopropane fatty acyl phospholipid synthase",
          "mean": 85.0749001907649,
          "var": 8028.608025139508,
          "noise": 94.37105429611817
         },
         {
          "complex_annotation": "cystathionine &beta;-lyase",
          "mean": 285.45325809219315,
          "var": 46078.181896536604,
          "noise": 161.42111042801508
         },
         {
          "complex_annotation": "cysteine desulfurase",
          "mean": 4165.648475494641,
          "var": 2361436.649477797,
          "noise": 566.8833228174379
         },
         {
          "complex_annotation": "cysteine synthase A",
          "mean": 23785.998781783437,
          "var": 59058104.50105285,
          "noise": 2482.8936149733026
         },
         {
          "complex_annotation": "cysteine synthase B",
          "mean": 561.9448662075816,
          "var": 75031.49617169634,
          "noise": 133.52109910366156
         },
         {
          "complex_annotation": "cysteine synthase complex",
          "mean": 11925.478819595373,
          "var": 14823059.321396263,
          "noise": 1242.9739338465577
         },
         {
          "complex_annotation": "cysteine&mdash;tRNA ligase",
          "mean": 647.9509062162325,
          "var": 81177.67022595459,
          "noise": 125.28367419068657
         },
         {
          "complex_annotation": "cystine ABC transporter",
          "mean": 5131.664325100778,
          "var": 17103574.048167247,
          "noise": 3332.948720848252
         },
         {
          "complex_annotation": "cystine/sulfocysteine:cation symporter",
          "mean": 1686.4107275180656,
          "var": 15054.835336068983,
          "noise": 8.927146329426861
         },
         {
          "complex_annotation": "cytidine/deoxycytidine deaminase",
          "mean": 204.42827053970765,
          "var": 29605.266985161557,
          "noise": 144.81982803553143
         },
         {
          "complex_annotation": "cytidylate kinase",
          "mean": 529.7151975762946,
          "var": 63846.80999112173,
          "noise": 120.53044783923895
         },
         {
          "complex_annotation": "cytochrome <i>bd</i>-I ubiquinol oxidase",
          "mean": 633.8940234966122,
          "var": 105518.90611353656,
          "noise": 166.46143077905276
         },
         {
          "complex_annotation": "cytochrome <i>bo<sub>3</sub></i> ubiquinol oxidase",
          "mean": 2115.43643009975,
          "var": 1812854.6072929485,
          "noise": 856.9648236640542
         },
         {
          "complex_annotation": "cytosine/isoguanine deaminase",
          "mean": 384.5168520994237,
          "var": 16143.902728573124,
          "noise": 41.98490297740924
         },
         {
          "complex_annotation": "dCMP phosphohydrolase",
          "mean": 30.65212588551382,
          "var": 364.049066294914,
          "noise": 11.876796658562707
         },
         {
          "complex_annotation": "dCTP deaminase",
          "mean": 110.40555497269543,
          "var": 9767.971873125092,
          "noise": 88.47355439262839
         },
         {
          "complex_annotation": "dITP/XTP pyrophosphatase",
          "mean": 206.4871904970539,
          "var": 1758.3891530019969,
          "noise": 8.515729952880951
         },
         {
          "complex_annotation": "dTDP-4-dehydro-6-deoxy-D-glucose transaminase",
          "mean": 97.87261864423527,
          "var": 5001.8041274881225,
          "noise": 51.10524472293488
         },
         {
          "complex_annotation": "dTDP-glucose 4,6-dehydratase 1",
          "mean": 469.23241454747176,
          "var": 29989.22215269528,
          "noise": 63.9112329475723
         },
         {
          "complex_annotation": "dTDP-glucose pyrophosphorylase",
          "mean": 333.44632038733573,
          "var": 48916.375839938664,
          "noise": 146.69940212000765
         },
         {
          "complex_annotation": "dTMP kinase",
          "mean": 55.757095404370205,
          "var": 5.312555247051074,
          "noise": 0.09528034429560116
         },
         {
          "complex_annotation": "dUTP diphosphatase",
          "mean": 383.57062775694015,
          "var": 113145.46358059315,
          "noise": 294.9794780748718
         },
         {
          "complex_annotation": "degradosome",
          "mean": 4051.11203848261,
          "var": 791983.1665088681,
          "noise": 195.49771988175237
         },
         {
          "complex_annotation": "dethiobiotin synthetase",
          "mean": 107.952535412413,
          "var": 1428.2118104714666,
          "noise": 13.229997841322055
         },
         {
          "complex_annotation": "diadenosine tetraphosphatase",
          "mean": 88.8324776496345,
          "var": 2019.524447681824,
          "noise": 22.734077683243967
         },
         {
          "complex_annotation": "diaminopimelate decarboxylase",
          "mean": 261.7258718437062,
          "var": 4432.445903372653,
          "noise": 16.93545186094388
         },
         {
          "complex_annotation": "diguanylate cyclase DgcM",
          "mean": 5.772375149583428,
          "var": 7.62673905063442,
          "noise": 1.321247987699624
         },
         {
          "complex_annotation": "diguanylate cyclase DosC",
          "mean": 17.6890066212084,
          "var": 267.09349425739094,
          "noise": 15.099406087459807
         },
         {
          "complex_annotation": "dihydrofolate reductase",
          "mean": 260.6261443152186,
          "var": 30119.86006282641,
          "noise": 115.56730097805325
         },
         {
          "complex_annotation": "dihydrolipoyltranssuccinylase",
          "mean": 357.59455062031134,
          "var": 16973.021939661976,
          "noise": 47.46443118391836
         },
         {
          "complex_annotation": "dihydroneopterin triphosphate 2'-epimerase",
          "mean": 174.2103794834388,
          "var": 935.7061454450379,
          "noise": 5.371127416285723
         },
         {
          "complex_annotation": "dihydroorotase",
          "mean": 1512.5401718318399,
          "var": 88797.67275851642,
          "noise": 58.70764586105069
         },
         {
          "complex_annotation": "dihydroorotate dehydrogenase, type 2",
          "mean": 873.4578107038064,
          "var": 19653.33428817167,
          "noise": 22.500610844999596
         },
         {
          "complex_annotation": "dihydropteroate synthase",
          "mean": 74.58610802049462,
          "var": 437.10097004197326,
          "noise": 5.860353645505508
         },
         {
          "complex_annotation": "dihydroxy-acid dehydratase",
          "mean": 250.50968817592477,
          "var": 63200.32857483712,
          "noise": 252.28696357026158
         },
         {
          "complex_annotation": "dihydroxyacetone kinase",
          "mean": 240.58783345705675,
          "var": 13811.17791309211,
          "noise": 57.405969847420856
         },
         {
          "complex_annotation": "dihydroxyacetone kinase, phosphotransferase component",
          "mean": 96.3115232211102,
          "var": 4390.147361945289,
          "noise": 45.582784023324706
         },
         {
          "complex_annotation": "dimer of DNA topoisomerase IV subunit A",
          "mean": 40.302800328194394,
          "var": 70.00789246282041,
          "noise": 1.7370478451306373
         },
         {
          "complex_annotation": "dipeptide ABC transporter",
          "mean": 3630.042376942107,
          "var": 2266425.385209879,
          "noise": 624.3523215062525
         },
         {
          "complex_annotation": "disulfide reductase",
          "mean": 19.38793241707254,
          "var": 100.77261134186067,
          "noise": 5.197697679878581
         },
         {
          "complex_annotation": "disulfide reductase / organic hydroperoxide reductase",
          "mean": 455.97299854194506,
          "var": 22760.092558903398,
          "noise": 49.9154393608456
         },
         {
          "complex_annotation": "divisome protein complex FtsEX",
          "mean": 164.91307355319873,
          "var": 4461.168065556816,
          "noise": 27.051633745202764
         },
         {
          "complex_annotation": "divisome-associated lipoprotein YraP",
          "mean": 620.2227869983395,
          "var": 24317.50955293682,
          "noise": 39.207700946663095
         },
         {
          "complex_annotation": "dynamic cytoskeletal protein MreB",
          "mean": 3383.744158142051,
          "var": 462771.1692894102,
          "noise": 136.76304935048898
         },
         {
          "complex_annotation": "elongation factor G",
          "mean": 23887.403780927718,
          "var": 14254170.543573216,
          "noise": 596.723305483457
         },
         {
          "complex_annotation": "elongation factor P family protein",
          "mean": 1526.8131584677,
          "var": 284925.29211672454,
          "noise": 186.61438076855046
         },
         {
          "complex_annotation": "enamine/imine deaminase, redox-regulated chaperone",
          "mean": 3387.4789739976427,
          "var": 306560.3866807928,
          "noise": 90.49809283952949
         },
         {
          "complex_annotation": "endonuclease IV",
          "mean": 170.6182974172035,
          "var": 21217.610023625763,
          "noise": 124.35717824415697
         },
         {
          "complex_annotation": "energy transducing Ton complex",
          "mean": 359.25572751404513,
          "var": 20048.28911505429,
          "noise": 55.80506469244948
         },
         {
          "complex_annotation": "energy-dependent translational throttle protein EttA",
          "mean": 3010.9039968409234,
          "var": 438514.65461196646,
          "noise": 145.64219087425613
         },
         {
          "complex_annotation": "enolase",
          "mean": 15095.988528572443,
          "var": 9616045.788877103,
          "noise": 636.993448337394
         },
         {
          "complex_annotation": "enoyl-[acyl-carrier-protein] reductase",
          "mean": 2423.7149661248686,
          "var": 2810636.2476460226,
          "noise": 1159.6397624840263
         },
         {
          "complex_annotation": "enterobacterial common antigen polysaccharide co-polymerase",
          "mean": 131.71920727786403,
          "var": 465.35135339104806,
          "noise": 3.5329042970125157
         },
         {
          "complex_annotation": "erythronate-4-phosphate dehydrogenase",
          "mean": 359.05507763356553,
          "var": 24049.258046879702,
          "noise": 66.97930079524798
         },
         {
          "complex_annotation": "esterase",
          "mean": 414.1547876732532,
          "var": 204565.9590056951,
          "noise": 493.9359995207567
         },
         {
          "complex_annotation": "esterase YpfH",
          "mean": 103.89647364471256,
          "var": 11215.767789874488,
          "noise": 107.95138079689073
         },
         {
          "complex_annotation": "excision nuclease UvrABC",
          "mean": 106.39926658773862,
          "var": 2809.765255254372,
          "noise": 26.407750216373834
         },
         {
          "complex_annotation": "exodeoxyribonuclease III",
          "mean": 602.8850397254388,
          "var": 100884.67586684207,
          "noise": 167.33650566745888
         },
         {
          "complex_annotation": "exodeoxyribonuclease VII",
          "mean": 132.1992852874999,
          "var": 441.32169549235164,
          "noise": 3.3383062134760335
         },
         {
          "complex_annotation": "exopolyphosphatase",
          "mean": 20.401286843988327,
          "var": 93.72863043525354,
          "noise": 4.594250899563852
         },
         {
          "complex_annotation": "fatty acid oxidation complex, &alpha; component",
          "mean": 312.8991827752863,
          "var": 36695.5114107783,
          "noise": 117.27583014217007
         },
         {
          "complex_annotation": "fatty acid oxidation complex, &beta; component",
          "mean": 414.3624211954771,
          "var": 142499.4054321616,
          "noise": 343.90040733191137
         },
         {
          "complex_annotation": "fermentation-respiration switch protein",
          "mean": 165.2665097093047,
          "var": 216.2589649168667,
          "noise": 1.3085468150640749
         },
         {
          "complex_annotation": "ferric citrate outer membrane transport complex",
          "mean": 302.38758783929825,
          "var": 3741.5592998266907,
          "noise": 12.373389154501659
         },
         {
          "complex_annotation": "ferric coprogen outer membrane transport complex",
          "mean": 307.24970693507703,
          "var": 4630.0351297081825,
          "noise": 15.069290629743467
         },
         {
          "complex_annotation": "ferric enterobactin ABC transporter",
          "mean": 105.00253642660154,
          "var": 10829.962562911098,
          "noise": 103.14000910331738
         },
         {
          "complex_annotation": "ferric enterobactin outer membrane transport complex",
          "mean": 334.3590267863689,
          "var": 48752.90210177362,
          "noise": 145.81003710398758
         },
         {
          "complex_annotation": "ferrichrome outer membrane transport complex",
          "mean": 462.08965183632847,
          "var": 21744.97310233127,
          "noise": 47.0579096846629
         },
         {
          "complex_annotation": "ferritin iron-storage complex",
          "mean": 41.19622524390703,
          "var": 541.0006868151833,
          "noise": 13.132287815500716
         },
         {
          "complex_annotation": "ferrous iron transport system protein EfeO",
          "mean": 1011.0493185800309,
          "var": 210171.78655455512,
          "noise": 207.87491044426108
         },
         {
          "complex_annotation": "flagellar export apparatus",
          "mean": 4.367057950533515,
          "var": 22.52138544065135,
          "noise": 5.157107072027738
         },
         {
          "complex_annotation": "flagellar motor complex",
          "mean": 20.961257894268275,
          "var": 707.045034909766,
          "noise": 33.73104030665559
         },
         {
          "complex_annotation": "flagellar motor switch complex",
          "mean": 17.478344808632105,
          "var": 586.3171850215705,
          "noise": 33.54534948480954
         },
         {
          "complex_annotation": "flagellum",
          "mean": 207.59753253890358,
          "var": 73690.16045583291,
          "noise": 354.96645627049276
         },
         {
          "complex_annotation": "flavin reductase",
          "mean": 483.4579933236468,
          "var": 65681.27214791375,
          "noise": 135.85724727886335
         },
         {
          "complex_annotation": "flavodoxin/ferredoxin-NADP+ reductase",
          "mean": 199.66709144276822,
          "var": 26852.7832184101,
          "noise": 134.48777675066736
         },
         {
          "complex_annotation": "flavoprotein MioC",
          "mean": 2154.4056923700946,
          "var": 2278537.325438239,
          "noise": 1057.6175756997677
         },
         {
          "complex_annotation": "folate-binding protein",
          "mean": 1759.683261858753,
          "var": 145219.16908337368,
          "noise": 82.5257432578967
         },
         {
          "complex_annotation": "formate dehydrogenase formation protein",
          "mean": 112.43898075804613,
          "var": 2143.9047681275297,
          "noise": 19.067273232767292
         },
         {
          "complex_annotation": "formyltetrahydrofolate deformylase",
          "mean": 226.55115169309695,
          "var": 5658.480602410607,
          "noise": 24.9766137144869
         },
         {
          "complex_annotation": "frataxin CyaY",
          "mean": 318.6045857360877,
          "var": 95787.00915422163,
          "noise": 300.6454189380866
         },
         {
          "complex_annotation": "free methionine-(<i>R</i>)-sulfoxide reductase",
          "mean": 473.8026347779282,
          "var": 56536.66862234748,
          "noise": 119.32535716870018
         },
         {
          "complex_annotation": "fructokinase",
          "mean": 195.17173042132018,
          "var": 11169.46395580221,
          "noise": 57.22890262688412
         },
         {
          "complex_annotation": "fructose-1,6-bisphosphatase 1",
          "mean": 279.5793637070428,
          "var": 2572.8448114157454,
          "noise": 9.202556216243845
         },
         {
          "complex_annotation": "fructose-1,6-bisphosphatase 2",
          "mean": 49.93108048639449,
          "var": 779.337708730492,
          "noise": 15.608268460019614
         },
         {
          "complex_annotation": "fructose-bisphosphate aldolase class I",
          "mean": 401.5165024933335,
          "var": 57602.75072264264,
          "noise": 143.46297192006207
         },
         {
          "complex_annotation": "fructose-bisphosphate aldolase class II",
          "mean": 7907.49507248674,
          "var": 8955887.037306497,
          "noise": 1132.5820573025105
         },
         {
          "complex_annotation": "fructose-specific PTS enzyme II",
          "mean": 172.92434461245966,
          "var": 5803.366414529062,
          "noise": 33.56014693902685
         },
         {
          "complex_annotation": "fumarase A",
          "mean": 2332.2395100678746,
          "var": 3497655.5151213827,
          "noise": 1499.6982514114047
         },
         {
          "complex_annotation": "fumarase C",
          "mean": 299.6086297775516,
          "var": 10214.992482585416,
          "noise": 34.0944534547275
         },
         {
          "complex_annotation": "fumarase D",
          "mean": 306.82104025664574,
          "var": 134496.67517913863,
          "noise": 438.3554500259714
         },
         {
          "complex_annotation": "fumarate reductase",
          "mean": 181.74097965095825,
          "var": 5073.804421988387,
          "noise": 27.917778542477635
         },
         {
          "complex_annotation": "fused 23S rRNA m2G2445 methyltransferase and 23S rRNA m7G2069 methyltransferase",
          "mean": 50.32522419585109,
          "var": 1244.2620905324948,
          "noise": 24.724422204065892
         },
         {
          "complex_annotation": "fused 4'-phosphopantothenoylcysteine decarboxylase and phosphopantothenoylcysteine synthetase",
          "mean": 16.189998781106798,
          "var": 86.29445784420832,
          "noise": 5.330108977210743
         },
         {
          "complex_annotation": "fused CCA tRNA nucleotidyltransferase/phosphohydrolase",
          "mean": 39.898345912917264,
          "var": 3.2387406403736243,
          "noise": 0.08117480978892079
         },
         {
          "complex_annotation": "fused DNA-binding transcriptional repressor / proline dehydrogenase / 1-pyrroline-5-carboxylate dehydrogenase PutA",
          "mean": 38.525738021462416,
          "var": 2204.6823763861753,
          "noise": 57.226220433673774
         },
         {
          "complex_annotation": "fused N-acetylglucosamine-1-phosphate uridyltransferase and glucosamine-1-phosphate acetyltransferase",
          "mean": 128.68988039378624,
          "var": 4751.765813831746,
          "noise": 36.924160620023265
         },
         {
          "complex_annotation": "fused aspartate kinase/homoserine dehydrogenase 1",
          "mean": 1333.4170531406303,
          "var": 44466.00538206396,
          "noise": 33.34741015748379
         },
         {
          "complex_annotation": "fused aspartate kinase/homoserine dehydrogenase 2",
          "mean": 109.22554590516904,
          "var": 2294.0340676920855,
          "noise": 21.002724671056292
         },
         {
          "complex_annotation": "fused chorismate mutase/prephenate dehydratase",
          "mean": 576.7618352852522,
          "var": 16084.28907361005,
          "noise": 27.88722847040522
         },
         {
          "complex_annotation": "fused chorismate mutase/prephenate dehydrogenase",
          "mean": 249.50500771518523,
          "var": 10537.838590532228,
          "noise": 42.23497831579146
         },
         {
          "complex_annotation": "fused diaminohydroxyphosphoribosylaminopyrimidine deaminase / 5-amino-6-(5-phosphoribosylamino)uracil reductase",
          "mean": 55.761769367654665,
          "var": 836.1392713973355,
          "noise": 14.994848278296365
         },
         {
          "complex_annotation": "fused glutamine synthetase deadenylase/glutamine synthetase adenylyltransferase",
          "mean": 69.76806504994128,
          "var": 1835.3728806887107,
          "noise": 26.306776307683414
         },
         {
          "complex_annotation": "fused glutathionylspermidine amidase / glutathionylspermidine synthetase",
          "mean": 56.50979608370277,
          "var": 0.0006917445414097838,
          "noise": 0.00001224114382549118
         },
         {
          "complex_annotation": "fused heptose 7-phosphate kinase/heptose 1-phosphate adenyltransferase",
          "mean": 423.14705827220496,
          "var": 23897.306717615083,
          "noise": 56.475181028535616
         },
         {
          "complex_annotation": "fused indole-3-glycerol phosphate synthase/phosphoribosylanthranilate isomerase",
          "mean": 798.1523603333599,
          "var": 265483.6079812855,
          "noise": 332.62271863783303
         },
         {
          "complex_annotation": "galactitol-1-phosphate 5-dehydrogenase",
          "mean": 819.8955019768355,
          "var": 633726.4668175052,
          "noise": 772.9356549579045
         },
         {
          "complex_annotation": "galactitol-specific PTS enzyme II",
          "mean": 17285.346469814816,
          "var": 110239485.074287,
          "noise": 6377.626579067814
         },
         {
          "complex_annotation": "galactitol-specific PTS enzyme IIC component",
          "mean": 3032.509270321158,
          "var": 1345319.4408190115,
          "noise": 443.6324247993265
         },
         {
          "complex_annotation": "galactofuranose ABC transporter",
          "mean": 968.7020497981093,
          "var": 2049828.5934349557,
          "noise": 2116.0568348773163
         },
         {
          "complex_annotation": "galactose-1-epimerase",
          "mean": 1142.0197074386822,
          "var": 129360.15942133994,
          "noise": 113.2731410664256
         },
         {
          "complex_annotation": "galactose-1-phosphate uridylyltransferase",
          "mean": 47.0315656532745,
          "var": 572.9204548928649,
          "noise": 12.181615622081171
         },
         {
          "complex_annotation": "geranyl diphosphate/farnesyl diphosphate synthase",
          "mean": 106.88301968093594,
          "var": 15969.633038577509,
          "noise": 149.41225543823134
         },
         {
          "complex_annotation": "glucan biosynthesis protein D",
          "mean": 93.49043900961699,
          "var": 6082.5061486938885,
          "noise": 65.06019453035411
         },
         {
          "complex_annotation": "glucokinase",
          "mean": 890.2730187277144,
          "var": 38171.38139153457,
          "noise": 42.87603980864784
         },
         {
          "complex_annotation": "glucosamine-6-phosphate deaminase",
          "mean": 153.68442130691207,
          "var": 5911.175715656331,
          "noise": 38.463076903881806
         },
         {
          "complex_annotation": "glucose-1-phosphatase",
          "mean": 403.16001782994164,
          "var": 506.79821338795784,
          "noise": 1.2570646665705134
         },
         {
          "complex_annotation": "glucose-1-phosphate adenylyltransferase",
          "mean": 132.53796841452186,
          "var": 17573.287748482497,
          "noise": 132.59059240685505
         },
         {
          "complex_annotation": "glucose-6-phosphate isomerase",
          "mean": 2230.7223515996543,
          "var": 748561.4939415607,
          "noise": 335.56910092588
         },
         {
          "complex_annotation": "glucose-specific PTS enzyme II",
          "mean": 13123.256276348047,
          "var": 2562546.349366459,
          "noise": 195.2675689177021
         },
         {
          "complex_annotation": "glutamate / aspartate ABC transporter",
          "mean": 2366.5735022045646,
          "var": 1403204.4038966715,
          "noise": 592.9266099656429
         },
         {
          "complex_annotation": "glutamate 5-kinase",
          "mean": 131.27667024586228,
          "var": 464.9743469831592,
          "noise": 3.5419419620586754
         },
         {
          "complex_annotation": "glutamate decarboxylase A",
          "mean": 221.67784389586495,
          "var": 96427.19606580317,
          "noise": 434.98797340838746
         },
         {
          "complex_annotation": "glutamate decarboxylase B",
          "mean": 91.28466152369238,
          "var": 16284.542284157673,
          "noise": 178.39297437643583
         },
         {
          "complex_annotation": "glutamate dehydrogenase",
          "mean": 955.5380486556093,
          "var": 141259.56501502116,
          "noise": 147.8324858060501
         },
         {
          "complex_annotation": "glutamate synthase",
          "mean": 1644.8216521730567,
          "var": 2964866.9876694204,
          "noise": 1802.5461810722065
         },
         {
          "complex_annotation": "glutamate synthase subunit GltD",
          "mean": 2305.666647567794,
          "var": 2258507.9555390794,
          "noise": 979.5466130897711
         },
         {
          "complex_annotation": "glutamate&mdash;cysteine ligase",
          "mean": 237.11421069462085,
          "var": 17135.55809498071,
          "noise": 72.2671072509002
         },
         {
          "complex_annotation": "glutamate&mdash;pyruvate aminotransferase AlaA",
          "mean": 67.29034379039416,
          "var": 1102.5596925333364,
          "noise": 16.385110112793466
         },
         {
          "complex_annotation": "glutamate&mdash;pyruvate aminotransferase AlaC",
          "mean": 33.28762660502099,
          "var": 184.12591462745732,
          "noise": 5.531362052699919
         },
         {
          "complex_annotation": "glutamate&mdash;tRNA ligase",
          "mean": 2556.3399534847413,
          "var": 1377232.6396144175,
          "noise": 538.7517562900846
         },
         {
          "complex_annotation": "glutamate-1-semialdehyde aminotransferase",
          "mean": 1033.0423157637922,
          "var": 196832.26025449578,
          "noise": 190.53649327904392
         },
         {
          "complex_annotation": "glutamate-5-semialdehyde dehydrogenase",
          "mean": 185.0571707667965,
          "var": 1492.9718385171016,
          "noise": 8.067624898461784
         },
         {
          "complex_annotation": "glutamine synthetase",
          "mean": 749.0385415310125,
          "var": 111.46995010985754,
          "noise": 0.14881737578151355
         },
         {
          "complex_annotation": "glutamine&mdash;tRNA ligase",
          "mean": 1545.4387580622897,
          "var": 1035894.0564137759,
          "noise": 670.2912367181772
         },
         {
          "complex_annotation": "glutaredoxin 4",
          "mean": 2746.0376477722457,
          "var": 1650481.0307160534,
          "noise": 601.0409333080429
         },
         {
          "complex_annotation": "glutathione / L-cysteine ABC exporter CydDC",
          "mean": 53.77128363570063,
          "var": 424.8685858768282,
          "noise": 7.9014030752046835
         },
         {
          "complex_annotation": "glutathione <i>S</i>-transferase GstA",
          "mean": 740.7312351779951,
          "var": 228633.40634530058,
          "noise": 308.659059436532
         },
         {
          "complex_annotation": "glutathione ABC transporter",
          "mean": 447.97729685583164,
          "var": 302105.51242655865,
          "noise": 674.3768368328327
         },
         {
          "complex_annotation": "glutathione S-transferase GstB",
          "mean": 1183.5270837250114,
          "var": 730820.9637199641,
          "noise": 617.4940766203606
         },
         {
          "complex_annotation": "glutathione S-transferase YfcF",
          "mean": 206.59049534900254,
          "var": 14744.565619683355,
          "noise": 71.37097761818472
         },
         {
          "complex_annotation": "glutathione hydrolase, small subunit // \"glutathione hydrolase, large subunit\" // \"glutathione hydrolase proenzyme\"",
          "mean": 222.0164256015336,
          "var": 31203.215997420783,
          "noise": 140.5446282313503
         },
         {
          "complex_annotation": "glutathione reductase",
          "mean": 401.0194993100186,
          "var": 25251.40857446153,
          "noise": 62.96803177378731
         },
         {
          "complex_annotation": "glutathione synthetase",
          "mean": 242.790143531278,
          "var": 15712.853457694946,
          "noise": 64.71783915589927
         },
         {
          "complex_annotation": "glutathione transferase-like protein YibF",
          "mean": 581.5226939498344,
          "var": 128617.51276842935,
          "noise": 221.17367749628127
         },
         {
          "complex_annotation": "glutathionyl-hydroquinone reductase YqjG",
          "mean": 136.3538367554106,
          "var": 16758.553574017533,
          "noise": 122.90489195458991
         },
         {
          "complex_annotation": "glyceraldehyde-3-phosphate dehydrogenase",
          "mean": 8867.198844286802,
          "var": 2410329.8773838566,
          "noise": 271.8254005250879
         },
         {
          "complex_annotation": "glycerol kinase",
          "mean": 451.5861349325917,
          "var": 424303.6347021753,
          "noise": 939.5851685426771
         },
         {
          "complex_annotation": "glycerol-3-phosphate 1-O-acyltransferase",
          "mean": 273.72824918700024,
          "var": 21653.82878501505,
          "noise": 79.10702987115522
         },
         {
          "complex_annotation": "glycerol-3-phosphate dehydrogenase, biosynthetic",
          "mean": 167.05282384315387,
          "var": 425.4903651527028,
          "noise": 2.5470408423158193
         },
         {
          "complex_annotation": "glycerophosphodiester phosphodiesterase UgpQ",
          "mean": 240.51261965871723,
          "var": 473.0505972070566,
          "noise": 1.9668431447726373
         },
         {
          "complex_annotation": "glycine betaine ABC transporter periplasmic binding protein ProX",
          "mean": 330.6139573094223,
          "var": 123913.1155463364,
          "noise": 374.7969884718625
         },
         {
          "complex_annotation": "glycine betaine ABC transporter, non-osmoregulatory",
          "mean": 581.5006018383714,
          "var": 448687.25415544293,
          "noise": 771.6023899836925
         },
         {
          "complex_annotation": "glycine cleavage system",
          "mean": 2509.9790816946042,
          "var": 437549.43287581886,
          "noise": 174.32393603073726
         },
         {
          "complex_annotation": "glycine decarboxylase",
          "mean": 373.2809686919425,
          "var": 35930.236116028405,
          "noise": 96.25520487137543
         },
         {
          "complex_annotation": "glycine&mdash;tRNA ligase",
          "mean": 1183.5254254600077,
          "var": 242697.5205294978,
          "noise": 205.06320802966033
         },
         {
          "complex_annotation": "glycogen phosphorylase",
          "mean": 146.33095870888224,
          "var": 23288.286753313212,
          "noise": 159.1480501377978
         },
         {
          "complex_annotation": "glycogen synthase",
          "mean": 536.178136035851,
          "var": 149963.0974030158,
          "noise": 279.6889453787587
         },
         {
          "complex_annotation": "glyoxalase I",
          "mean": 599.2777796462559,
          "var": 126177.98604848307,
          "noise": 210.55008267278643
         },
         {
          "complex_annotation": "glyoxylate reductase",
          "mean": 827.6266110704537,
          "var": 433711.57726125966,
          "noise": 524.0425712028476
         },
         {
          "complex_annotation": "glyoxylate/hydroxypyruvate reductase A",
          "mean": 671.3698273614813,
          "var": 58850.64823343836,
          "noise": 87.65757088715843
         },
         {
          "complex_annotation": "guanine/hypoxanthine transporter GhxP",
          "mean": 130.5056166319336,
          "var": 4308.845504932738,
          "noise": 33.01655220774919
         },
         {
          "complex_annotation": "guanylate kinase",
          "mean": 146.15528326058794,
          "var": 3870.4510112526777,
          "noise": 26.481772843967928
         },
         {
          "complex_annotation": "hexapeptide repeats-containing protein YrdA",
          "mean": 419.21263494478166,
          "var": 41862.30127429098,
          "noise": 99.8593500880646
         },
         {
          "complex_annotation": "hexitol phosphatase A",
          "mean": 656.7981061112603,
          "var": 162321.0019089827,
          "noise": 247.1398750980653
         },
         {
          "complex_annotation": "hexitol phosphatase B",
          "mean": 477.435478225935,
          "var": 28491.156937113057,
          "noise": 59.67540795874891
         },
         {
          "complex_annotation": "histidinal dehydrogenase",
          "mean": 734.7651652027079,
          "var": 60551.12639433117,
          "noise": 82.40881476413794
         },
         {
          "complex_annotation": "histidine ABC transporter",
          "mean": 3202.9424429032783,
          "var": 2421392.869628791,
          "noise": 755.9901286998905
         },
         {
          "complex_annotation": "histidine&mdash;tRNA ligase",
          "mean": 702.7783834318321,
          "var": 64022.31008741716,
          "noise": 91.0988607458032
         },
         {
          "complex_annotation": "histidinol-phosphate aminotransferase",
          "mean": 858.5377321975926,
          "var": 83125.22030850429,
          "noise": 96.82186022940341
         },
         {
          "complex_annotation": "holo EntB // \"enterobactin synthase component B\"",
          "mean": 372.5533049296961,
          "var": 174974.09862016558,
          "noise": 469.66191496592586
         },
         {
          "complex_annotation": "homoserine <i>O</i>-succinyltransferase",
          "mean": 476.2735873096014,
          "var": 62772.142340003076,
          "noise": 131.79849568100883
         },
         {
          "complex_annotation": "homoserine kinase",
          "mean": 370.0582770301699,
          "var": 756.0520089655787,
          "noise": 2.0430620145376177
         },
         {
          "complex_annotation": "hydroxyacylglutathione hydrolase GloB",
          "mean": 289.17603314046164,
          "var": 34452.825984360476,
          "noise": 119.14136040321739
         },
         {
          "complex_annotation": "hydroxyacylglutathione hydrolase GloC",
          "mean": 611.3892371120347,
          "var": 221182.9143729113,
          "noise": 361.77103054298675
         },
         {
          "complex_annotation": "hydroxycarboxylate dehydrogenase A",
          "mean": 277.190428545813,
          "var": 38883.67293241182,
          "noise": 140.27783403778415
         },
         {
          "complex_annotation": "hydroxycarboxylate dehydrogenase B",
          "mean": 1472.2701831984216,
          "var": 1384232.0435162282,
          "noise": 940.2024569356314
         },
         {
          "complex_annotation": "hydroxyethylthiazole kinase",
          "mean": 619.3448690879084,
          "var": 368201.6698232548,
          "noise": 594.5018489706631
         },
         {
          "complex_annotation": "hydroxymethylpyrimidine kinase",
          "mean": 42.07095683795153,
          "var": 0.31138323864834133,
          "noise": 0.007401382379956891
         },
         {
          "complex_annotation": "hypoxanthine phosphoribosyltransferase",
          "mean": 300.41585152626,
          "var": 27725.771394864063,
          "noise": 92.2913063808169
         },
         {
          "complex_annotation": "imidazole glycerol phosphate synthase",
          "mean": 810.2276437473635,
          "var": 116595.29938436818,
          "noise": 143.90437093099686
         },
         {
          "complex_annotation": "imidazoleglycerol-phosphate dehydratase",
          "mean": 852.546850986098,
          "var": 118485.69142689976,
          "noise": 138.97851043594065
         },
         {
          "complex_annotation": "inner membrane protein IgaA",
          "mean": 39.16627624425655,
          "var": 1.2960032849537708,
          "noise": 0.033089775419837625
         },
         {
          "complex_annotation": "inner membrane protein YqjE",
          "mean": 23.928200842381983,
          "var": 210.26720455318303,
          "noise": 8.787422252857166
         },
         {
          "complex_annotation": "inner membrane protein that contributes to acid resistance",
          "mean": 496.1360837021903,
          "var": 177461.12385291705,
          "noise": 357.68638823585246
         },
         {
          "complex_annotation": "inorganic pyrophosphatase",
          "mean": 2172.9691661974925,
          "var": 582578.294135376,
          "noise": 268.10242096294326
         },
         {
          "complex_annotation": "inorganic triphosphatase",
          "mean": 196.37193895246438,
          "var": 9498.072421254199,
          "noise": 48.36776818480868
         },
         {
          "complex_annotation": "inosine 5'-monophosphate dehydrogenase",
          "mean": 1819.7639196075597,
          "var": 547859.1024273025,
          "noise": 301.0605367675664
         },
         {
          "complex_annotation": "inositol-phosphate phosphatase",
          "mean": 1129.0991213828331,
          "var": 87025.1463556169,
          "noise": 77.07485083243644
         },
         {
          "complex_annotation": "intermembrane phospholipid transport system",
          "mean": 109.75212529935227,
          "var": 1735.7769403517914,
          "noise": 15.815428955178835
         },
         {
          "complex_annotation": "intermembrane phospholipid transport system - outer membrane lipoprotein MlaA",
          "mean": 321.51486264306055,
          "var": 10008.390694561602,
          "noise": 31.128858592371575
         },
         {
          "complex_annotation": "intermembrane phospholipid transport system - periplasmic binding protein",
          "mean": 1940.1479318856152,
          "var": 1932185.5604853127,
          "noise": 995.8959977899397
         },
         {
          "complex_annotation": "intramembrane zinc metalloprotease RseP",
          "mean": 12.11699347951961,
          "var": 75.14805201032127,
          "noise": 6.201872777874977
         },
         {
          "complex_annotation": "iron-sulfur cluster biosynthesis chaperone HscA",
          "mean": 309.3572359968477,
          "var": 10342.130923254626,
          "noise": 33.4310296312578
         },
         {
          "complex_annotation": "iron-sulfur cluster carrier protein NfuA",
          "mean": 2087.2328543297044,
          "var": 795637.8792290166,
          "noise": 381.1926769830999
         },
         {
          "complex_annotation": "iron-sulfur cluster insertion protein ErpA",
          "mean": 1090.5593320915302,
          "var": 136019.18814299523,
          "noise": 124.72424391814677
         },
         {
          "complex_annotation": "iron-sulfur cluster insertion protein IscA",
          "mean": 209.74106632453837,
          "var": 9162.038146703102,
          "noise": 43.68261450776844
         },
         {
          "complex_annotation": "isochorismatase family protein YecD",
          "mean": 213.33436890497737,
          "var": 48902.98321003719,
          "noise": 229.23162105126804
         },
         {
          "complex_annotation": "isocitrate dehydrogenase",
          "mean": 14409.801796007914,
          "var": 1877651.3134537144,
          "noise": 130.3037571255073
         },
         {
          "complex_annotation": "isocitrate dehydrogenase kinase",
          "mean": 13.421509651948874,
          "var": 69.41697333790844,
          "noise": 5.172068950367945
         },
         {
          "complex_annotation": "isocitrate dehydrogenase-P",
          "mean": 14409.801796007914,
          "var": 1877651.3134537144,
          "noise": 130.3037571255073
         },
         {
          "complex_annotation": "isocitrate lyase",
          "mean": 12433.778473271164,
          "var": 60071260.58153848,
          "noise": 4831.295708756063
         },
         {
          "complex_annotation": "isoleucine&mdash;tRNA ligase",
          "mean": 2031.0405254749896,
          "var": 162216.12256352286,
          "noise": 79.8684814649802
         },
         {
          "complex_annotation": "isopentenyl-adenosine A37 tRNA methylthiolase",
          "mean": 373.356844399642,
          "var": 6414.268261491372,
          "noise": 17.17999377192487
         },
         {
          "complex_annotation": "ketol-acid reductoisomerase (NADP<sup>+</sup>)",
          "mean": 5768.040039772506,
          "var": 3121165.495276638,
          "noise": 541.1137013188518
         },
         {
          "complex_annotation": "large conductance mechanosensitive channel",
          "mean": 204.97386489005325,
          "var": 14564.864882771379,
          "noise": 71.05718034142491
         },
         {
          "complex_annotation": "leucine / L-phenylalanine ABC transporter",
          "mean": 372.2814661141817,
          "var": 39844.49311131325,
          "noise": 107.02787202168325
         },
         {
          "complex_annotation": "leucine&mdash;tRNA ligase",
          "mean": 2178.3746433537676,
          "var": 1023972.9220297168,
          "noise": 470.0628173183449
         },
         {
          "complex_annotation": "lipid A disaccharide synthase",
          "mean": 151.10759686827552,
          "var": 38718.60384396817,
          "noise": 256.2320137863102
         },
         {
          "complex_annotation": "lipoamide dehydrogenase",
          "mean": 7607.270850848224,
          "var": 2165855.120109773,
          "noise": 284.70855876891466
         },
         {
          "complex_annotation": "lipopolysaccharide transport system",
          "mean": 349.71741400023376,
          "var": 18625.496897979196,
          "noise": 53.2587058932294
         },
         {
          "complex_annotation": "lipopolysaccharide transport system - outer membrane assembly complex",
          "mean": 239.72588869263276,
          "var": 24647.60809504498,
          "noise": 102.81579611389901
         },
         {
          "complex_annotation": "lipoprotein NlpI",
          "mean": 70.52131531752217,
          "var": 1600.1963590659204,
          "noise": 22.690960199211226
         },
         {
          "complex_annotation": "lipoprotein YedD",
          "mean": 842.8755378579964,
          "var": 391346.04732049594,
          "noise": 464.2987365786241
         },
         {
          "complex_annotation": "lipoprotein release complex",
          "mean": 87.55407835168735,
          "var": 808.0197994711103,
          "noise": 9.228808236955624
         },
         {
          "complex_annotation": "lipoprotein-28",
          "mean": 1783.4775265629369,
          "var": 591983.2602802212,
          "noise": 331.92639181782863
         },
         {
          "complex_annotation": "lipoyl synthase",
          "mean": 309.93459099303595,
          "var": 7850.913250381947,
          "noise": 25.33087134684606
         },
         {
          "complex_annotation": "long-chain fatty acid outer membrane channel / bacteriophage T2 receptor",
          "mean": 622.2420878702488,
          "var": 397611.9935338158,
          "noise": 638.9988740471163
         },
         {
          "complex_annotation": "long-chain-fatty-acid&mdash;CoA ligase",
          "mean": 56.074302955262986,
          "var": 1480.8061340225563,
          "noise": 26.407927624244714
         },
         {
          "complex_annotation": "low activity glyoxalase ElbB",
          "mean": 1666.0570622730563,
          "var": 26149.666014449882,
          "noise": 15.695540450921312
         },
         {
          "complex_annotation": "low-specificity L-threonine aldolase",
          "mean": 135.52822808175682,
          "var": 15837.24109205216,
          "noise": 116.85566406504195
         },
         {
          "complex_annotation": "lysine / arginine / ornithine ABC transporter",
          "mean": 3029.961665552389,
          "var": 702451.6076518579,
          "noise": 231.83514683965305
         },
         {
          "complex_annotation": "lysine&mdash;tRNA ligase",
          "mean": 126.30429155216663,
          "var": 6958.46946755226,
          "noise": 55.09289812752125
         },
         {
          "complex_annotation": "lysine&mdash;tRNA ligase, constitutive",
          "mean": 1937.6987155761763,
          "var": 912494.3623010436,
          "noise": 470.91653360038106
         },
         {
          "complex_annotation": "lysogenization regulator",
          "mean": 85.30984072166146,
          "var": 6084.321380714546,
          "noise": 71.32027594056503
         },
         {
          "complex_annotation": "lytic murein transglycosylase E",
          "mean": 164.22063650399483,
          "var": 4291.6689003861475,
          "noise": 26.133554172905356
         },
         {
          "complex_annotation": "m7GTP pyrophosphatase",
          "mean": 1258.4532438550284,
          "var": 2013900.864238879,
          "noise": 1600.2985204835124
         },
         {
          "complex_annotation": "macrodomain Ori protein",
          "mean": 6045.442906579781,
          "var": 344648.6353171713,
          "noise": 57.00965845563775
         },
         {
          "complex_annotation": "macrodomain Ter protein",
          "mean": 66.32021738298748,
          "var": 2086.2075804904375,
          "noise": 31.456585379432024
         },
         {
          "complex_annotation": "malate dehydrogenase",
          "mean": 31470.9004657272,
          "var": 172621883.55504116,
          "noise": 5485.12692679486
         },
         {
          "complex_annotation": "maltodextrin phosphorylase",
          "mean": 364.2809203683528,
          "var": 34735.39441484849,
          "noise": 95.35331792761704
         },
         {
          "complex_annotation": "maltose ABC transporter",
          "mean": 3428.7767217452197,
          "var": 16683608.297703832,
          "noise": 4865.76107213304
         },
         {
          "complex_annotation": "maltose outer membrane channel / phage lambda receptor protein",
          "mean": 1593.339241595578,
          "var": 5100478.877004301,
          "noise": 3201.125500365293
         },
         {
          "complex_annotation": "maltose regulon periplasmic protein",
          "mean": 2337.359480827078,
          "var": 2345589.406157375,
          "noise": 1003.5210353382975
         },
         {
          "complex_annotation": "mannitol-1-phosphate 5-dehydrogenase",
          "mean": 649.749566713244,
          "var": 79220.19476607494,
          "noise": 121.92419791337458
         },
         {
          "complex_annotation": "mannitol-specific PTS enzyme II",
          "mean": 331.1589683148104,
          "var": 36380.308967373145,
          "noise": 109.8575380654914
         },
         {
          "complex_annotation": "mannose-specific PTS enzyme II",
          "mean": 2265.910271599601,
          "var": 3859262.218550629,
          "noise": 1703.1840434820988
         },
         {
          "complex_annotation": "mannose-specific PTS enzyme IIAB component",
          "mean": 4912.378101882073,
          "var": 7959668.513442401,
          "noise": 1620.328962543177
         },
         {
          "complex_annotation": "membrane-bound lytic murein transglycosylase B",
          "mean": 117.00487185810216,
          "var": 9661.213834458018,
          "noise": 82.57103897498106
         },
         {
          "complex_annotation": "membrane-bound lytic murein transglycosylase C",
          "mean": 17.61243478320731,
          "var": 0.2524230888979628,
          "noise": 0.014332095022923078
         },
         {
          "complex_annotation": "metal phosphate:H+ symporter PitA",
          "mean": 152.13839159766155,
          "var": 118.58279735660247,
          "noise": 0.7794403247682629
         },
         {
          "complex_annotation": "metalloprotease LoiP",
          "mean": 288.4392797442823,
          "var": 39142.415938277016,
          "noise": 135.70418000273395
         },
         {
          "complex_annotation": "metalloprotease PmbA",
          "mean": 936.4158752599293,
          "var": 202748.13250217657,
          "noise": 216.51505261580274
         },
         {
          "complex_annotation": "metalloprotease TldD",
          "mean": 276.1177989335461,
          "var": 56460.36536031505,
          "noise": 204.4792678283789
         },
         {
          "complex_annotation": "methionine adenosyltransferase",
          "mean": 1778.6691242488396,
          "var": 138106.7738305283,
          "noise": 77.64612987750209
         },
         {
          "complex_annotation": "methionine aminopeptidase",
          "mean": 1554.9429643682186,
          "var": 763607.8036827437,
          "noise": 491.0841241003341
         },
         {
          "complex_annotation": "methionine sulfoxide reductase A",
          "mean": 726.5102597489108,
          "var": 441174.3826776532,
          "noise": 607.2514142197076
         },
         {
          "complex_annotation": "methionine sulfoxide reductase B",
          "mean": 1455.3670735188853,
          "var": 151095.7052919723,
          "noise": 103.81965350270214
         },
         {
          "complex_annotation": "methionine&mdash;tRNA ligase",
          "mean": 787.7012007576072,
          "var": 95427.11859254116,
          "noise": 121.14634140554796
         },
         {
          "complex_annotation": "methyl-accepting chemotaxis protein - serine-sensing",
          "mean": 75.14823047625244,
          "var": 10965.4586637704,
          "noise": 145.9177228030085
         },
         {
          "complex_annotation": "methyl-accepting chemotaxis protein Tar",
          "mean": 91.83513237064905,
          "var": 15204.254658308711,
          "noise": 165.5603282297665
         },
         {
          "complex_annotation": "methyl-accepting chemotaxis protein Trg - ribose/galactose/glucose-sensing",
          "mean": 0.7599123820258236,
          "var": 0.7270509094701514,
          "noise": 0.9567562348858326
         },
         {
          "complex_annotation": "methylglyoxal reductase DkgA",
          "mean": 582.4216954276704,
          "var": 194733.94301230783,
          "noise": 334.3521447450808
         },
         {
          "complex_annotation": "methylglyoxal reductase DkgB",
          "mean": 165.96294637785385,
          "var": 4706.135682393037,
          "noise": 28.356544548675387
         },
         {
          "complex_annotation": "methylglyoxal synthase",
          "mean": 144.42196455587896,
          "var": 3836.9133207829746,
          "noise": 26.56738074836544
         },
         {
          "complex_annotation": "methyltransferase for 50S ribosomal subunit protein L11",
          "mean": 279.7115656624487,
          "var": 4618.747981220229,
          "noise": 16.51253844395572
         },
         {
          "complex_annotation": "mischarged aminoacyl-tRNA deacylase",
          "mean": 352.09782393608685,
          "var": 13789.86662464456,
          "noise": 39.164873189184235
         },
         {
          "complex_annotation": "modulator of Rho-dependent transcription termination",
          "mean": 1120.2837320167341,
          "var": 344144.5660330702,
          "noise": 307.19411181089043
         },
         {
          "complex_annotation": "molecular chaperone Hsp33",
          "mean": 1134.565306881677,
          "var": 512453.4878285956,
          "noise": 451.67385669235784
         },
         {
          "complex_annotation": "molybdate ABC transporter",
          "mean": 574.3063927984143,
          "var": 303778.93917951745,
          "noise": 528.9492559873803
         },
         {
          "complex_annotation": "molybdenum cofactor guanylyltransferase",
          "mean": 62.35963145016489,
          "var": 3609.411532224588,
          "noise": 57.880578321074154
         },
         {
          "complex_annotation": "molybdopterin adenylyltransferase",
          "mean": 37.60674555484942,
          "var": 1138.9385607747765,
          "noise": 30.285485860871297
         },
         {
          "complex_annotation": "molybdopterin molybdotransferase",
          "mean": 174.5827072997602,
          "var": 4155.677673649405,
          "noise": 23.803489692218292
         },
         {
          "complex_annotation": "molybdopterin synthase",
          "mean": 261.2179511158091,
          "var": 20607.266234740106,
          "noise": 78.88916572048305
         },
         {
          "complex_annotation": "multicopper oxidase CueO",
          "mean": 666.5164889067773,
          "var": 121021.31973281819,
          "noise": 181.57288191222062
         },
         {
          "complex_annotation": "multidrug efflux pump AcrAB-TolC",
          "mean": 413.3334354272383,
          "var": 56478.34241068426,
          "noise": 136.641117243046
         },
         {
          "complex_annotation": "multidrug efflux pump AcrAD-TolC",
          "mean": 475.25381138904817,
          "var": 68304.05615565449,
          "noise": 143.72121699775283
         },
         {
          "complex_annotation": "multidrug efflux pump AcrEF-TolC",
          "mean": 546.5421203469749,
          "var": 158715.50527997766,
          "noise": 290.3994026649151
         },
         {
          "complex_annotation": "multidrug efflux pump EmrAB-TolC",
          "mean": 493.7031437971354,
          "var": 124873.6664256979,
          "noise": 252.93269446347497
         },
         {
          "complex_annotation": "multidrug efflux pump MdtABC-TolC",
          "mean": 529.9505772464008,
          "var": 199319.4068571222,
          "noise": 376.1094249444482
         },
         {
          "complex_annotation": "multidrug efflux pump MdtEF-TolC",
          "mean": 519.8090335867352,
          "var": 199979.68721993192,
          "noise": 384.71760646415044
         },
         {
          "complex_annotation": "multifunctional acyl-CoA thioesterase I and protease I and lysophospholipase L1",
          "mean": 58.72423502395483,
          "var": 221.6063355127014,
          "noise": 3.7736776889865586
         },
         {
          "complex_annotation": "murein L,D-carboxypeptidase",
          "mean": 105.91060029663029,
          "var": 157.11293563218115,
          "noise": 1.4834486367950455
         },
         {
          "complex_annotation": "murein hydrolase activator NlpD",
          "mean": 184.16790224260228,
          "var": 21932.806815971817,
          "noise": 119.0913647215245
         },
         {
          "complex_annotation": "murein lipoprotein",
          "mean": 32255.29727323379,
          "var": 1377964183.352231,
          "noise": 42720.55444659313
         },
         {
          "complex_annotation": "murein tripeptide ABC transporter",
          "mean": 212.34418209746968,
          "var": 18654.348115631237,
          "noise": 87.84958425217681
         },
         {
          "complex_annotation": "murein tripeptide amidase A",
          "mean": 30.21257606603232,
          "var": 274.90472609708127,
          "noise": 9.099016432635604
         },
         {
          "complex_annotation": "negative modulator of initiation of replication",
          "mean": 805.9018024651342,
          "var": 70562.08469464809,
          "noise": 87.55667809503481
         },
         {
          "complex_annotation": "nicotinamidase",
          "mean": 166.11632302860892,
          "var": 36539.11416663968,
          "noise": 219.9610098542022
         },
         {
          "complex_annotation": "nitric oxide dioxygenase",
          "mean": 146.55949641012276,
          "var": 27157.04621408843,
          "noise": 185.29707647257385
         },
         {
          "complex_annotation": "nitrogen regulator GlnK",
          "mean": 16.996971650514595,
          "var": 186.91691211604015,
          "noise": 10.997071475987378
         },
         {
          "complex_annotation": "nitrogen regulatory protein PII-1",
          "mean": 604.3257996163221,
          "var": 27567.51345069666,
          "noise": 45.616972613446066
         },
         {
          "complex_annotation": "nonspecific DNA-binding protein YbiB",
          "mean": 499.29775447826995,
          "var": 187378.83062438434,
          "noise": 375.284745312307
         },
         {
          "complex_annotation": "nucleoid-associated protein RdgC",
          "mean": 482.6431687804675,
          "var": 35433.89686963534,
          "noise": 73.41634391960619
         },
         {
          "complex_annotation": "nucleoid-associated protein YejK",
          "mean": 543.0558166973623,
          "var": 5384.6184993465195,
          "noise": 9.915405256302218
         },
         {
          "complex_annotation": "nucleoside diphosphate kinase",
          "mean": 5081.174050914974,
          "var": 5182968.236475017,
          "noise": 1020.0335954919144
         },
         {
          "complex_annotation": "nucleoside diphosphate kinase regulator",
          "mean": 491.45621900835727,
          "var": 2243.9500471156375,
          "noise": 4.565920544546978
         },
         {
          "complex_annotation": "nucleoside phosphorylase PpnP",
          "mean": 912.5909990852726,
          "var": 508210.5968227073,
          "noise": 556.8875841774766
         },
         {
          "complex_annotation": "nucleoside-specific channel-forming protein Tsx",
          "mean": 948.0795841735775,
          "var": 390476.8715176438,
          "noise": 411.860858556526
         },
         {
          "complex_annotation": "nucleoside:H+ symporter NupC",
          "mean": 90.88941716838988,
          "var": 2.3808799802857843,
          "noise": 0.026195348748631015
         },
         {
          "complex_annotation": "nucleotide 5'-monophosphate nucleosidase",
          "mean": 27.68584470866736,
          "var": 492.6079049361763,
          "noise": 17.792771364565226
         },
         {
          "complex_annotation": "nucleotide binding filament protein",
          "mean": 2413.732461483188,
          "var": 928086.112997161,
          "noise": 384.502478135821
         },
         {
          "complex_annotation": "nucleotide binding protein",
          "mean": 7472.968765445509,
          "var": 1067648.2662922665,
          "noise": 142.86802204085186
         },
         {
          "complex_annotation": "nucleotide exchange factor GrpE",
          "mean": 2501.735592840116,
          "var": 68415.25132058418,
          "noise": 27.34711514533604
         },
         {
          "complex_annotation": "octanoyl-ACP // \"lipoyl-ACP\" // \"cis-&Delta;5-dodecenoyl-ACP\" // \"trans-&Delta;2-cis-&Delta;5-dodecenoyl-ACP\" // \"succinyl-ACP\" // \"cis-&Delta;3-decenoyl-ACP\" // \"3-oxo-cis-&Delta;5-dodecenoyl-ACP\" // \"(3R)-hydroxy cis &Delta;5-dodecenoyl-ACP\" // \"(3R)-3-hydroxypalmitoyl-ACP\" // \"(3R)-3-hydroxybutanoyl-ACP\" // \"trans oct-2-enoyl-ACP\" // \"trans-but-2-enoyl-ACP\" // \"(3R)-3-hydroxyoctanoyl-ACP\" // \"trans-hexadec-2-enoyl-ACP\" // \"holo-[acyl-carrier protein]\" // \"acyl carrier protein\"",
          "mean": 26774.55816023344,
          "var": 86465580.46186396,
          "noise": 3229.393364566734
         },
         {
          "complex_annotation": "oligopeptidase A",
          "mean": 1012.8854421116372,
          "var": 226107.01542757748,
          "noise": 223.2305905751745
         },
         {
          "complex_annotation": "oligopeptide ABC transporter",
          "mean": 8160.491995314788,
          "var": 70673955.55561644,
          "noise": 8660.50179280768
         },
         {
          "complex_annotation": "oligoribonuclease",
          "mean": 332.4892143495179,
          "var": 32036.218960986735,
          "noise": 96.35265620168285
         },
         {
          "complex_annotation": "ornithine carbamoyltransferase",
          "mean": 331.0529561738948,
          "var": 148775.1007776396,
          "noise": 449.39970479977023
         },
         {
          "complex_annotation": "ornithine decarboxylase, biosynthetic",
          "mean": 21.488451687316836,
          "var": 43.25975733253403,
          "noise": 2.0131630683315964
         },
         {
          "complex_annotation": "orotidine-5'-phosphate decarboxylase",
          "mean": 399.91873948864463,
          "var": 33746.33772363026,
          "noise": 84.38298682072252
         },
         {
          "complex_annotation": "osmolyte:H<sup>+</sup> symporter ProP",
          "mean": 70.60177876838321,
          "var": 3487.460429394189,
          "noise": 49.39621196847151
         },
         {
          "complex_annotation": "osmoregulated periplasmic glucans (OPGs) biosynthesis protein G",
          "mean": 1548.360299707659,
          "var": 947409.1811991779,
          "noise": 611.8790189712661
         },
         {
          "complex_annotation": "osmoregulated periplasmic glucans (OPGs) biosynthesis protein H",
          "mean": 71.47198117030062,
          "var": 43.71228265285665,
          "noise": 0.6116002654061141
         },
         {
          "complex_annotation": "osmotically inducible peroxiredoxin OsmC",
          "mean": 3689.2228222380472,
          "var": 3020627.9520903355,
          "noise": 818.7708082803977
         },
         {
          "complex_annotation": "osmotically-inducible lipoprotein OsmE",
          "mean": 6617.465907207338,
          "var": 3576861.132588808,
          "noise": 540.5182561942797
         },
         {
          "complex_annotation": "outer membrane channel TolC",
          "mean": 841.7499290865027,
          "var": 480162.131520382,
          "noise": 570.433230735726
         },
         {
          "complex_annotation": "outer membrane lipoprotein - activator of MrcA activity",
          "mean": 323.4021140121681,
          "var": 11637.233949143105,
          "noise": 35.98379059669737
         },
         {
          "complex_annotation": "outer membrane lipoprotein - activator of MrcB activity",
          "mean": 458.0764099504673,
          "var": 30159.45160259695,
          "noise": 65.83934677155314
         },
         {
          "complex_annotation": "outer membrane lipoprotein Blc",
          "mean": 63.20082824424966,
          "var": 166.52054526473162,
          "noise": 2.6347842249975977
         },
         {
          "complex_annotation": "outer membrane lipoprotein LolB",
          "mean": 280.32801667270536,
          "var": 11672.475273219512,
          "noise": 41.63863252686446
         },
         {
          "complex_annotation": "outer membrane lipoprotein SlyB",
          "mean": 5634.313108264497,
          "var": 27657710.76878397,
          "noise": 4908.799038558084
         },
         {
          "complex_annotation": "outer membrane lipoprotein YhbC",
          "mean": 540.2086307824337,
          "var": 195151.17075740272,
          "noise": 361.2514862540189
         },
         {
          "complex_annotation": "outer membrane lipoprotein carrier protein",
          "mean": 823.7467205466097,
          "var": 1211511.3922984728,
          "noise": 1470.7328867962667
         },
         {
          "complex_annotation": "outer membrane porin C",
          "mean": 7964.827193605895,
          "var": 57508224.71690627,
          "noise": 7220.2727465416265
         },
         {
          "complex_annotation": "outer membrane porin F",
          "mean": 10715.961308183267,
          "var": 114564734.73556711,
          "noise": 10691.036617319578
         },
         {
          "complex_annotation": "outer membrane protein A",
          "mean": 71323.07078895874,
          "var": 2961739430.898918,
          "noise": 41525.68584241909
         },
         {
          "complex_annotation": "outer membrane protein W",
          "mean": 327.68694163194834,
          "var": 139859.6502740505,
          "noise": 426.8087387844041
         },
         {
          "complex_annotation": "outer membrane protein X",
          "mean": 8631.578133053836,
          "var": 40184154.44957493,
          "noise": 4655.481747386773
         },
         {
          "complex_annotation": "oxidized ferredoxin // \"reduced ferredoxin\"",
          "mean": 1314.759386931063,
          "var": 894788.1659800422,
          "noise": 680.5718026236527
         },
         {
          "complex_annotation": "oxidized flavodoxin 1 // \"flavodoxin 1\"",
          "mean": 3614.7265837119794,
          "var": 18373902.992083084,
          "noise": 5083.068543794214
         },
         {
          "complex_annotation": "oxidized glutaredoxin 2 // \"reduced glutaredoxin 2\"",
          "mean": 2614.160589435887,
          "var": 427768.20440711535,
          "noise": 163.63501390686332
         },
         {
          "complex_annotation": "oxidized glutaredoxin 3 // \"glutaredoxin 3\"",
          "mean": 4208.569286563606,
          "var": 3517015.140176036,
          "noise": 835.6795149849512
         },
         {
          "complex_annotation": "oxidized thioredoxin // \"thioredoxin 1\"",
          "mean": 14295.073217874295,
          "var": 40052064.88663779,
          "noise": 2801.809006235619
         },
         {
          "complex_annotation": "oxidized thioredoxin 2 // \"reduced thioredoxin 2\"",
          "mean": 218.24144665456524,
          "var": 276.81994141776096,
          "noise": 1.2684114115863352
         },
         {
          "complex_annotation": "oxidoreductase UcpA",
          "mean": 304.6862744815288,
          "var": 3905.54534022187,
          "noise": 12.818251648741855
         },
         {
          "complex_annotation": "pantothenate kinase",
          "mean": 65.0277046807775,
          "var": 946.4492528348334,
          "noise": 14.55455420856348
         },
         {
          "complex_annotation": "pantothenate synthetase",
          "mean": 704.9942158660424,
          "var": 11905.129227365273,
          "noise": 16.88684667113268
         },
         {
          "complex_annotation": "peptidase D",
          "mean": 1540.7735261410114,
          "var": 110499.82019620165,
          "noise": 71.71710723311631
         },
         {
          "complex_annotation": "peptidase E",
          "mean": 197.2561602510526,
          "var": 5187.532769538858,
          "noise": 26.298457614386095
         },
         {
          "complex_annotation": "peptidase M16 family protein YhjJ",
          "mean": 153.3984694274448,
          "var": 12980.963366053837,
          "noise": 84.62250904135415
         },
         {
          "complex_annotation": "peptidase T",
          "mean": 143.71469206717893,
          "var": 7276.835459653134,
          "noise": 50.63390078623001
         },
         {
          "complex_annotation": "peptide chain release factor RF1",
          "mean": 76.48618635432996,
          "var": 3085.077164967526,
          "noise": 40.33508940654455
         },
         {
          "complex_annotation": "peptide chain release factor RF2",
          "mean": 1455.0656788324454,
          "var": 1545.9492420652011,
          "noise": 1.0624601106017986
         },
         {
          "complex_annotation": "peptide chain release factor RF3",
          "mean": 615.1406621582056,
          "var": 39920.15979772386,
          "noise": 64.8959859971945
         },
         {
          "complex_annotation": "peptide deformylase",
          "mean": 798.2806906800109,
          "var": 564002.7048097968,
          "noise": 706.5217928913628
         },
         {
          "complex_annotation": "peptidoglycan DD-endopeptidase PbpG",
          "mean": 17.871134768299363,
          "var": 638.7549158134367,
          "noise": 35.74226953659873
         },
         {
          "complex_annotation": "peptidoglycan glycosyltransferase / peptidoglycan DD-transpeptidase MrcA",
          "mean": 19.955410632267196,
          "var": 18.29339332453541,
          "noise": 0.9167134498828923
         },
         {
          "complex_annotation": "peptidyl-dipeptidase Dcp",
          "mean": 631.9001655855185,
          "var": 119040.78752962076,
          "noise": 188.3854349354658
         },
         {
          "complex_annotation": "peptidyl-lysine <i>N</i>-acetyltransferase",
          "mean": 7.302842315445819,
          "var": 0.04287723676741975,
          "noise": 0.005871308035329284
         },
         {
          "complex_annotation": "peptidyl-prolyl cis-trans isomerase A",
          "mean": 1880.259547606803,
          "var": 1606600.773457955,
          "noise": 854.4569155374527
         },
         {
          "complex_annotation": "peptidyl-prolyl cis-trans isomerase B",
          "mean": 4923.2391146683585,
          "var": 8263764.307225028,
          "noise": 1678.521825723205
         },
         {
          "complex_annotation": "peptidyl-prolyl cis-trans isomerase C",
          "mean": 1767.7093156541287,
          "var": 1307824.6718575796,
          "noise": 739.8414774850174
         },
         {
          "complex_annotation": "peptidyl-prolyl cis-trans isomerase FkpA",
          "mean": 3572.6196077949735,
          "var": 400526.2467724514,
          "noise": 112.10996152474705
         },
         {
          "complex_annotation": "peptidyl-prolyl cis-trans isomerase FkpB",
          "mean": 1381.818696885086,
          "var": 814386.8446652021,
          "noise": 589.3586810635894
         },
         {
          "complex_annotation": "peptidyl-prolyl cis-trans isomerase SurA",
          "mean": 1708.520603328524,
          "var": 714933.9193341588,
          "noise": 418.4520326774703
         },
         {
          "complex_annotation": "peptidyl-tRNA hydrolase",
          "mean": 333.30958717716857,
          "var": 26083.70386497787,
          "noise": 78.25668648142799
         },
         {
          "complex_annotation": "periplasmic acid stress chaperone HdeA",
          "mean": 2518.0480172412226,
          "var": 3056683.1025956552,
          "noise": 1213.909775217298
         },
         {
          "complex_annotation": "periplasmic acid stress chaperone HdeB",
          "mean": 1148.116111366343,
          "var": 2622326.252803069,
          "noise": 2284.0253061881585
         },
         {
          "complex_annotation": "periplasmic bacteriophage sensitivity protein DcrB",
          "mean": 1813.6107300914225,
          "var": 41926.56558565206,
          "noise": 23.117731324592782
         },
         {
          "complex_annotation": "periplasmic chaperone OsmY",
          "mean": 10399.868233863523,
          "var": 80921503.66755353,
          "noise": 7781.012398220685
         },
         {
          "complex_annotation": "periplasmic chaperone Skp",
          "mean": 5237.620477154534,
          "var": 34861155.55940102,
          "noise": 6655.9147825732125
         },
         {
          "complex_annotation": "periplasmic chaperone, inhibitor of vertebrate C-type lysozyme",
          "mean": 784.5725157189617,
          "var": 155291.1949778748,
          "noise": 197.93096478222927
         },
         {
          "complex_annotation": "periplasmic folding chaperone",
          "mean": 1364.3402100442202,
          "var": 16117.371664583326,
          "noise": 11.813308400593822
         },
         {
          "complex_annotation": "periplasmic protein involved in nickel/cobalt export",
          "mean": 406.55001120671795,
          "var": 42718.869490050594,
          "noise": 105.07654239942792
         },
         {
          "complex_annotation": "periplasmic serine endoprotease",
          "mean": 72.01307537371285,
          "var": 1401.1195393836126,
          "noise": 19.456460262424336
         },
         {
          "complex_annotation": "periplasmic serine endoprotease DegP",
          "mean": 162.01197518775268,
          "var": 1882.0721739271348,
          "noise": 11.616870739005781
         },
         {
          "complex_annotation": "periplasmic trehalase",
          "mean": 206.08723672334995,
          "var": 41034.46493052272,
          "noise": 199.11211185585015
         },
         {
          "complex_annotation": "peroxide stress resistance protein YaaA",
          "mean": 314.0124912721239,
          "var": 56337.23508572834,
          "noise": 179.41080896971823
         },
         {
          "complex_annotation": "phage shock protein A",
          "mean": 1633.41070444999,
          "var": 467166.33709058794,
          "noise": 286.00665822616514
         },
         {
          "complex_annotation": "phage shock protein B",
          "mean": 153.44577091968375,
          "var": 13716.891806736685,
          "noise": 89.392439586467
         },
         {
          "complex_annotation": "phenylalanine&mdash;tRNA ligase",
          "mean": 1616.3301723121742,
          "var": 152770.74002562466,
          "noise": 94.51703781974496
         },
         {
          "complex_annotation": "phosphate ABC transporter",
          "mean": 624.7110629256076,
          "var": 502946.6378572332,
          "noise": 805.08681165636
         },
         {
          "complex_annotation": "phosphate acetyltransferase",
          "mean": 215.06252269854613,
          "var": 1311.6514097476108,
          "noise": 6.0989306425376455
         },
         {
          "complex_annotation": "phosphate signaling protein PhoU",
          "mean": 115.04414582117947,
          "var": 5041.670759893847,
          "noise": 43.823792370369205
         },
         {
          "complex_annotation": "phosphatidylserine decarboxylase proenzyme // \"phosphatidylserine decarboxylase, &beta; subunit\" // \"phosphatidylserine decarboxylase, &alpha; subunit\"",
          "mean": 905.3187357329656,
          "var": 274064.71159072366,
          "noise": 302.7273166602864
         },
         {
          "complex_annotation": "phosphatidylserine synthase",
          "mean": 467.5935529892112,
          "var": 76999.08002807751,
          "noise": 164.67096164145383
         },
         {
          "complex_annotation": "phosphoadenosine phosphosulfate reductase",
          "mean": 530.1863521155509,
          "var": 54348.589962102225,
          "noise": 102.50846658960637
         },
         {
          "complex_annotation": "phosphodiesterase YfcE",
          "mean": 141.2409900294448,
          "var": 5827.474290546218,
          "noise": 41.25908696428249
         },
         {
          "complex_annotation": "phosphoenolpyruvate carboxylase",
          "mean": 1242.6356707311315,
          "var": 732114.5648365525,
          "noise": 589.1626822572999
         },
         {
          "complex_annotation": "phosphoenolpyruvate synthetase",
          "mean": 724.3207308772024,
          "var": 17447.878167171253,
          "noise": 24.088608020428556
         },
         {
          "complex_annotation": "phosphoenolpyruvate synthetase regulatory protein",
          "mean": 53.85773167443974,
          "var": 554.3565532323612,
          "noise": 10.292979967729543
         },
         {
          "complex_annotation": "phosphoethanolamine transferase EptC",
          "mean": 136.66720429108767,
          "var": 19913.371484903033,
          "noise": 145.70702304328634
         },
         {
          "complex_annotation": "phosphoglucosamine mutase",
          "mean": 1314.043365296406,
          "var": 77217.46502798882,
          "noise": 58.763254750402425
         },
         {
          "complex_annotation": "phosphoglycerate dehydrogenase",
          "mean": 2837.9313655271812,
          "var": 1622333.9449146683,
          "noise": 571.6607401508808
         },
         {
          "complex_annotation": "phosphoglycerol transferase II // \"phosphoglycerol transferase I\"",
          "mean": 43.30664541834317,
          "var": 1762.2248341696168,
          "noise": 40.691787995733335
         },
         {
          "complex_annotation": "phosphomethylpyrimidine synthase",
          "mean": 1579.953305849822,
          "var": 721798.8767459235,
          "noise": 456.8482334721176
         },
         {
          "complex_annotation": "phosphopentomutase",
          "mean": 1359.8148925092025,
          "var": 53179.943677073556,
          "noise": 39.108222722096464
         },
         {
          "complex_annotation": "phosphoribosylaminoimidazole-succinocarboxamide synthase",
          "mean": 5640.070568901102,
          "var": 14857269.536510402,
          "noise": 2634.234688202697
         },
         {
          "complex_annotation": "phosphoribosylformylglycinamide cyclo-ligase",
          "mean": 1604.187846414904,
          "var": 672386.0148171878,
          "noise": 419.1441895784586
         },
         {
          "complex_annotation": "phosphoribosylglycinamide formyltransferase 1",
          "mean": 270.3028583661401,
          "var": 16244.40392278185,
          "noise": 60.09704825532371
         },
         {
          "complex_annotation": "phosphoribosylglycinamide formyltransferase 2",
          "mean": 1048.0338394432877,
          "var": 159218.74962850983,
          "noise": 151.9213823411335
         },
         {
          "complex_annotation": "phosphoserine/phosphohydroxythreonine aminotransferase",
          "mean": 5469.138035493081,
          "var": 4240587.309745386,
          "noise": 775.366663306948
         },
         {
          "complex_annotation": "phosphosugar phosphatase YigL",
          "mean": 367.89446926229357,
          "var": 108814.82277192778,
          "noise": 295.77727273292413
         },
         {
          "complex_annotation": "poly(A) polymerase I",
          "mean": 53.635036134164466,
          "var": 488.35674817868414,
          "noise": 9.105181675595263
         },
         {
          "complex_annotation": "polynucleotide phosphorylase",
          "mean": 1422.0203154655649,
          "var": 168776.9307814458,
          "noise": 118.68812909764145
         },
         {
          "complex_annotation": "polyphenol oxidase YfiH",
          "mean": 56.840148236179004,
          "var": 4958.257767963224,
          "noise": 87.23161219356693
         },
         {
          "complex_annotation": "polyphosphate kinase",
          "mean": 38.40666370255959,
          "var": 528.2320038344567,
          "noise": 13.753655040837431
         },
         {
          "complex_annotation": "porphobilinogen synthase",
          "mean": 156.9205515072249,
          "var": 33049.08646902734,
          "noise": 210.61031299973286
         },
         {
          "complex_annotation": "porphyrinogen peroxidase",
          "mean": 524.9439778132104,
          "var": 20022.39049901172,
          "noise": 38.141956752071245
         },
         {
          "complex_annotation": "potassium dependent, small conductance mechanosensitive channel",
          "mean": 9.93965114926858,
          "var": 39.095173452972894,
          "noise": 3.933254081643475
         },
         {
          "complex_annotation": "predicted structural protein, ethanolamine utilization microcompartment",
          "mean": 46.7287375994012,
          "var": 243.14674802887734,
          "noise": 5.2033665046408855
         },
         {
          "complex_annotation": "primosome",
          "mean": 11.787107477533882,
          "var": 3.7652444152864524,
          "noise": 0.31943752294300987
         },
         {
          "complex_annotation": "proline&mdash;tRNA ligase",
          "mean": 1910.4350529960473,
          "var": 621837.372653284,
          "noise": 325.49516492491335
         },
         {
          "complex_annotation": "proline:Na+ symporter",
          "mean": 123.73715650024752,
          "var": 3104.913641353121,
          "noise": 25.092815522610703
         },
         {
          "complex_annotation": "protease 7",
          "mean": 6549.0941250389105,
          "var": 25756264.80848112,
          "noise": 3932.798081189296
         },
         {
          "complex_annotation": "protease HtpX",
          "mean": 337.6055872562705,
          "var": 326.9497796973058,
          "noise": 0.968437111347698
         },
         {
          "complex_annotation": "protease IV, a signal peptide peptidase",
          "mean": 10.078266735403565,
          "var": 48.901075353316855,
          "noise": 4.852131486214202
         },
         {
          "complex_annotation": "protein HemY",
          "mean": 289.9437886095688,
          "var": 46273.05428228461,
          "noise": 159.59319047387757
         },
         {
          "complex_annotation": "protein MoaB",
          "mean": 493.66663045827045,
          "var": 68794.47011159317,
          "noise": 139.354102276938
         },
         {
          "complex_annotation": "protein SlyX",
          "mean": 391.49466595484955,
          "var": 99643.05877057888,
          "noise": 254.51958209328592
         },
         {
          "complex_annotation": "protein YaiA",
          "mean": 902.2698465828953,
          "var": 269177.82825119444,
          "noise": 298.33406188917115
         },
         {
          "complex_annotation": "protein YceI",
          "mean": 862.8238846159016,
          "var": 318493.9686613949,
          "noise": 369.1297544494576
         },
         {
          "complex_annotation": "protein YciI",
          "mean": 3021.2250400547964,
          "var": 6409837.479698212,
          "noise": 2121.6021298373576
         },
         {
          "complex_annotation": "protein YciN",
          "mean": 791.6743215065338,
          "var": 136951.18123202032,
          "noise": 172.98929308633643
         },
         {
          "complex_annotation": "protein YdcH",
          "mean": 34.20532272978994,
          "var": 1523.073908254469,
          "noise": 44.52739476502587
         },
         {
          "complex_annotation": "protein YggL",
          "mean": 2259.914169865366,
          "var": 1141981.5353852517,
          "noise": 505.3207553689019
         },
         {
          "complex_annotation": "protein YibT",
          "mean": 444.6478059251406,
          "var": 12902.310141413445,
          "noise": 29.016920739255003
         },
         {
          "complex_annotation": "protein YtfJ",
          "mean": 384.335971610424,
          "var": 181197.30346809118,
          "noise": 471.4554890838033
         },
         {
          "complex_annotation": "protein chain elongation factor EF-P, &beta;-lysyl-Lys34 // \"protein chain elongation factor EF-P\"",
          "mean": 7947.27960301236,
          "var": 22686688.511935238,
          "noise": 2854.648338198144
         },
         {
          "complex_annotation": "protein chain elongation factor EF-Ts",
          "mean": 20804.707393621295,
          "var": 29998365.39333877,
          "noise": 1441.9027783364184
         },
         {
          "complex_annotation": "protein disulfide isomerase DsbC",
          "mean": 245.5587520558165,
          "var": 10881.894074356336,
          "noise": 44.314828867850075
         },
         {
          "complex_annotation": "protein kinase YeaG",
          "mean": 946.4139249873407,
          "var": 815105.8747779411,
          "noise": 861.2572715356487
         },
         {
          "complex_annotation": "protein sulfenic acid reductase DsbG<sub>oxidized</sub>",
          "mean": 43.29985575911318,
          "var": 609.386878228703,
          "noise": 14.073646841201022
         },
         {
          "complex_annotation": "protein sulfenic acid reductase DsbG<sub>reduced</sub>",
          "mean": 43.29985575911318,
          "var": 609.386878228703,
          "noise": 14.073646841201022
         },
         {
          "complex_annotation": "protein sulfenic acid reductase and chaperone DsbG",
          "mean": 43.29985575911318,
          "var": 609.386878228703,
          "noise": 14.073646841201022
         },
         {
          "complex_annotation": "protein translocation ATPase",
          "mean": 437.6904404931609,
          "var": 20369.670064208814,
          "noise": 46.53898778611113
         },
         {
          "complex_annotation": "protein-lysine deacetylase/desuccinylase",
          "mean": 501.4392950594658,
          "var": 41649.44865595484,
          "noise": 83.05980218605649
         },
         {
          "complex_annotation": "protein/nucleic acid deglycase 1",
          "mean": 625.9629534361596,
          "var": 270484.2739607555,
          "noise": 432.1090768646287
         },
         {
          "complex_annotation": "protein/nucleic acid deglycase 2",
          "mean": 400.09652308189203,
          "var": 218.0107037726581,
          "noise": 0.5448952720042396
         },
         {
          "complex_annotation": "protein/nucleic acid deglycase 3",
          "mean": 257.3238475782037,
          "var": 28464.556997319753,
          "noise": 110.617641020112
         },
         {
          "complex_annotation": "protoporphyrinogen oxidase",
          "mean": 32.72921270383036,
          "var": 16.01109230822415,
          "noise": 0.48919882226040656
         },
         {
          "complex_annotation": "purine nucleoside phosphoramidase",
          "mean": 1675.746919081098,
          "var": 1698426.9484940334,
          "noise": 1013.534280836018
         },
         {
          "complex_annotation": "purine nucleoside phosphorylase",
          "mean": 579.6160287052529,
          "var": 36302.08356569134,
          "noise": 62.63126236654115
         },
         {
          "complex_annotation": "putative ABC transporter ArtPQMI",
          "mean": 1778.5946118778504,
          "var": 607610.6822565937,
          "noise": 341.62404304996454
         },
         {
          "complex_annotation": "putative ADP-heptose:LPS heptosyltransferase 4",
          "mean": 16.23591120623631,
          "var": 310.380657219789,
          "noise": 19.116922559946616
         },
         {
          "complex_annotation": "putative ATP-binding protein YbiT",
          "mean": 308.0921431318866,
          "var": 31746.753783305256,
          "noise": 103.04304894174227
         },
         {
          "complex_annotation": "putative ATP-binding protein YheS",
          "mean": 37.33516530383615,
          "var": 202.22964266160392,
          "noise": 5.416599632433528
         },
         {
          "complex_annotation": "putative CoA-binding protein with NAD(P)-binding Rossmann-fold domain",
          "mean": 1650.9248769857068,
          "var": 864653.3599827044,
          "noise": 523.7387673032141
         },
         {
          "complex_annotation": "putative DNA-binding transcriptional regulator YciT",
          "mean": 146.03065289177025,
          "var": 23633.37462995976,
          "noise": 161.83845077701253
         },
         {
          "complex_annotation": "putative DNA-binding transcriptional regulator YjdC",
          "mean": 408.95792661610085,
          "var": 35813.05509986663,
          "noise": 87.57149029045536
         },
         {
          "complex_annotation": "putative EcfF",
          "mean": 289.8560829901014,
          "var": 83601.29248128709,
          "noise": 288.423453525183
         },
         {
          "complex_annotation": "putative FAD-linked oxidoreductase",
          "mean": 346.175838374599,
          "var": 49463.74077569924,
          "noise": 142.88617313081863
         },
         {
          "complex_annotation": "putative Fe2+-trafficking protein",
          "mean": 3060.3072001684363,
          "var": 1679449.6002366976,
          "noise": 548.7846449350778
         },
         {
          "complex_annotation": "putative N-acetyltransferase YhbS",
          "mean": 645.4128777709332,
          "var": 204413.48049288703,
          "noise": 316.7173874789596
         },
         {
          "complex_annotation": "putative NAD-dependent epimerase YfcH",
          "mean": 134.4929855976858,
          "var": 5911.226368822486,
          "noise": 43.95193059736938
         },
         {
          "complex_annotation": "putative NADP(H)-dependent aldo-keto reductase Tas",
          "mean": 495.40365354220563,
          "var": 326069.53289646946,
          "noise": 658.189600672152
         },
         {
          "complex_annotation": "putative Nudix hydrolase YfcD",
          "mean": 733.7874833515784,
          "var": 313628.0266963821,
          "noise": 427.4098888466785
         },
         {
          "complex_annotation": "putative RNA-binding protein YbcJ",
          "mean": 1193.0228358066556,
          "var": 747484.9189518586,
          "noise": 626.5470337342293
         },
         {
          "complex_annotation": "putative RNA-binding protein YciO",
          "mean": 618.7708388846493,
          "var": 73173.75081105345,
          "noise": 118.25662460588974
         },
         {
          "complex_annotation": "putative RNA-binding protein YhgF",
          "mean": 271.94350715809645,
          "var": 9574.675831407383,
          "noise": 35.208326653818844
         },
         {
          "complex_annotation": "putative acetyltransferase YiiD",
          "mean": 170.98146373816832,
          "var": 1186.3057815983616,
          "noise": 6.938212807763803
         },
         {
          "complex_annotation": "putative acetyltransferase YjgM",
          "mean": 179.78585603915343,
          "var": 10320.146033191724,
          "noise": 57.402435656252194
         },
         {
          "complex_annotation": "putative acid&mdash;amine ligase YgiC",
          "mean": 217.70497794403278,
          "var": 11956.695111379327,
          "noise": 54.92155128603965
         },
         {
          "complex_annotation": "putative adhesin-related protein YdhQ",
          "mean": 97.63369949135901,
          "var": 130.69659655382497,
          "noise": 1.3386422642459859
         },
         {
          "complex_annotation": "putative aldose 1-epimerase YeaD",
          "mean": 1153.3076174592768,
          "var": 424099.11321296706,
          "noise": 367.7241932618571
         },
         {
          "complex_annotation": "putative bifunctional phosphoribosyl-AMP cyclohydrolase/phosphoribosyl-ATP pyrophosphatase",
          "mean": 641.4184215162933,
          "var": 233483.19599389454,
          "noise": 364.0107426942112
         },
         {
          "complex_annotation": "putative cation transport regulator ChaB",
          "mean": 149.9644232537265,
          "var": 16423.656284342833,
          "noise": 109.51701695645149
         },
         {
          "complex_annotation": "putative dienelactone hydrolase",
          "mean": 768.7093222560892,
          "var": 171324.37945028386,
          "noise": 222.87277451958434
         },
         {
          "complex_annotation": "putative epimerase YeeZ",
          "mean": 348.3994003756552,
          "var": 51736.05102538097,
          "noise": 148.49638366081436
         },
         {
          "complex_annotation": "putative flavodoxin YqcA",
          "mean": 457.093690659498,
          "var": 295463.3202761618,
          "noise": 646.3955340312513
         },
         {
          "complex_annotation": "putative glycosyltransferase WbbK",
          "mean": 130.57423206243612,
          "var": 12617.507534603837,
          "noise": 96.63091511478756
         },
         {
          "complex_annotation": "putative heavy metal binding protein YbjQ",
          "mean": 179.5757692708769,
          "var": 14161.553872956463,
          "noise": 78.8611622294921
         },
         {
          "complex_annotation": "putative heme-binding protein GlcG",
          "mean": 624.1805370034318,
          "var": 90010.64902985144,
          "noise": 144.20611296528867
         },
         {
          "complex_annotation": "putative hydrolase",
          "mean": 252.90495158933632,
          "var": 24385.445241625617,
          "noise": 96.42138316541298
         },
         {
          "complex_annotation": "putative inner membrane protein",
          "mean": 71.81373824359105,
          "var": 1272.36321199685,
          "noise": 17.717546017184265
         },
         {
          "complex_annotation": "putative iron ABC exporter ATP-binding subunit FetA",
          "mean": 58.86086126343851,
          "var": 540.0485840386569,
          "noise": 9.175003091130588
         },
         {
          "complex_annotation": "putative iron siderophore outer membrane transporter",
          "mean": 249.76008781894478,
          "var": 80211.76019961841,
          "noise": 321.155237011949
         },
         {
          "complex_annotation": "putative isomerase/hydrolase",
          "mean": 150.30968725716764,
          "var": 6343.372723219825,
          "noise": 42.202021965269815
         },
         {
          "complex_annotation": "putative kinase YniA",
          "mean": 232.44656895443688,
          "var": 5525.25337988754,
          "noise": 23.769993270886157
         },
         {
          "complex_annotation": "putative kinase inhibitor",
          "mean": 280.7651531477601,
          "var": 1966.0008414184153,
          "noise": 7.002296472254003
         },
         {
          "complex_annotation": "putative lipid-binding lipoprotein YceB",
          "mean": 247.94452877034712,
          "var": 23269.061334230682,
          "noise": 93.84785157241002
         },
         {
          "complex_annotation": "putative lipoprotein YajG",
          "mean": 2490.9729387732636,
          "var": 675015.6349981192,
          "noise": 270.98473230726705
         },
         {
          "complex_annotation": "putative lipoprotein YifL",
          "mean": 1573.196819243492,
          "var": 2275895.395315277,
          "noise": 1446.6692072322483
         },
         {
          "complex_annotation": "putative mannosyl-3-phosphoglycerate phosphatase",
          "mean": 153.33847670725254,
          "var": 16802.91382006468,
          "noise": 109.58054482401118
         },
         {
          "complex_annotation": "putative membrane fusion protein YhiI",
          "mean": 212.3581342155262,
          "var": 22200.722810386746,
          "noise": 104.54378351174823
         },
         {
          "complex_annotation": "putative methyltransferase YfiF",
          "mean": 787.9796011308191,
          "var": 163610.1211237934,
          "noise": 207.6324322215939
         },
         {
          "complex_annotation": "putative monooxygenase YdhR",
          "mean": 1493.4535395523617,
          "var": 232947.95112054443,
          "noise": 155.97937595726398
         },
         {
          "complex_annotation": "putative nucleoid-associated protein YbaB",
          "mean": 2237.2168930508856,
          "var": 329107.36457638844,
          "noise": 147.10570334000374
         },
         {
          "complex_annotation": "putative oxidoreductase",
          "mean": 127.41874712020422,
          "var": 571.5974802019057,
          "noise": 4.485976303492236
         },
         {
          "complex_annotation": "putative oxidoreductase YdgJ",
          "mean": 108.20111968030025,
          "var": 1769.907229018973,
          "noise": 16.35756851914734
         },
         {
          "complex_annotation": "putative oxidoreductase YdhF",
          "mean": 454.6871649085403,
          "var": 93961.20172357751,
          "noise": 206.65021794155479
         },
         {
          "complex_annotation": "putative oxidoreductase YdjA",
          "mean": 1012.7430440249891,
          "var": 107902.61170114663,
          "noise": 106.54490528249352
         },
         {
          "complex_annotation": "putative oxidoreductase YfgD",
          "mean": 1703.711409976171,
          "var": 776684.8327571528,
          "noise": 455.8781658731839
         },
         {
          "complex_annotation": "putative oxidoreductase YgjR",
          "mean": 204.68181784733304,
          "var": 101.91451185502218,
          "noise": 0.49791678091816455
         },
         {
          "complex_annotation": "putative oxidoreductase YhhX",
          "mean": 364.3478623916238,
          "var": 25645.29615097778,
          "noise": 70.38684399748891
         },
         {
          "complex_annotation": "putative oxidoreductase YohF",
          "mean": 120.16216031575605,
          "var": 10013.857979524719,
          "noise": 83.33620129008008
         },
         {
          "complex_annotation": "putative periplasmic binding protein SapA",
          "mean": 32.80597842617981,
          "var": 309.5762989895806,
          "noise": 9.436581801277192
         },
         {
          "complex_annotation": "putative phosphatase",
          "mean": 356.35568913394053,
          "var": 18206.997016036905,
          "noise": 51.092202457285836
         },
         {
          "complex_annotation": "putative phosphatidylethanolamine synthesis regulator GnsA",
          "mean": 301.34329588583176,
          "var": 83753.91976396616,
          "noise": 277.9352350207835
         },
         {
          "complex_annotation": "putative pyruvate-flavodoxin oxidoreductase",
          "mean": 61.290622034264864,
          "var": 1122.97965609209,
          "noise": 18.32221013296752
         },
         {
          "complex_annotation": "putative quinol monooxygenase YgiN",
          "mean": 762.6140977478627,
          "var": 398531.33927418105,
          "noise": 522.5858536461838
         },
         {
          "complex_annotation": "putative quinone oxidoreductase 1",
          "mean": 381.50931932489675,
          "var": 58312.19984549941,
          "noise": 152.84606926165338
         },
         {
          "complex_annotation": "putative signal transduction protein (SH3 domain)",
          "mean": 131.19578712778838,
          "var": 3052.753601411843,
          "noise": 23.26868619979676
         },
         {
          "complex_annotation": "putative stress response protein YjbJ",
          "mean": 627.950819001059,
          "var": 47745.973807454946,
          "noise": 76.0345752608604
         },
         {
          "complex_annotation": "putative sulfatase YdeN",
          "mean": 138.87392602165622,
          "var": 11425.065462261788,
          "noise": 82.26933442120838
         },
         {
          "complex_annotation": "putative sulfurtransferase YedF",
          "mean": 3226.1553337504947,
          "var": 1716004.1040342958,
          "noise": 531.9037450188096
         },
         {
          "complex_annotation": "putative sulfurtransferase YibN",
          "mean": 1821.0533510067314,
          "var": 694478.2548407887,
          "noise": 381.360740725614
         },
         {
          "complex_annotation": "putative thioesterase YigI",
          "mean": 274.6481159100668,
          "var": 15137.43646919095,
          "noise": 55.115748451548406
         },
         {
          "complex_annotation": "putative transcriptional regulator YebC",
          "mean": 1852.0608852566254,
          "var": 1032205.7915084541,
          "noise": 557.3282172985525
         },
         {
          "complex_annotation": "putative transcriptional regulator YeeN",
          "mean": 739.0852780023214,
          "var": 353831.0186023173,
          "noise": 478.7418030551083
         },
         {
          "complex_annotation": "putative transport complex, ABC superfamily",
          "mean": 140.1130472174791,
          "var": 16578.123568315295,
          "noise": 118.31962759744458
         },
         {
          "complex_annotation": "putative transporter YhjE",
          "mean": 206.9010596504826,
          "var": 41220.16366678712,
          "noise": 199.22645024834688
         },
         {
          "complex_annotation": "putrescine ABC transporter",
          "mean": 1782.1135817848644,
          "var": 1594054.5537467087,
          "noise": 894.4741626121235
         },
         {
          "complex_annotation": "pyridine nucleotide transhydrogenase",
          "mean": 1290.7443039278653,
          "var": 475507.4307471414,
          "noise": 368.3978533162024
         },
         {
          "complex_annotation": "pyridoxal kinase I / hydroxymethylpyrimidine kinase",
          "mean": 84.14191367590306,
          "var": 1.2455329545933653,
          "noise": 0.014802764759913782
         },
         {
          "complex_annotation": "pyridoxal phosphate/fructose-1,6-bisphosphate phosphatase",
          "mean": 194.24990354041662,
          "var": 1640.1959038784628,
          "noise": 8.443741149849247
         },
         {
          "complex_annotation": "pyridoxine 4-dehydrogenase",
          "mean": 681.5243630351408,
          "var": 25070.06118184313,
          "noise": 36.785275100356856
         },
         {
          "complex_annotation": "pyridoxine 5'-phosphate oxidase",
          "mean": 296.49928869462093,
          "var": 34672.58190439891,
          "noise": 116.93984851380164
         },
         {
          "complex_annotation": "pyridoxine 5'-phosphate synthase",
          "mean": 216.61577207006405,
          "var": 31533.026509904907,
          "noise": 145.5712398435401
         },
         {
          "complex_annotation": "pyrimidine-specific ribonucleoside hydrolase RihA",
          "mean": 38.56904794792209,
          "var": 209.7480230123924,
          "noise": 5.4382473556413675
         },
         {
          "complex_annotation": "pyrroline-5-carboxylate reductase",
          "mean": 82.36335811939661,
          "var": 934.8261655177839,
          "noise": 11.350024900182305
         },
         {
          "complex_annotation": "pyruvate dehydrogenase",
          "mean": 2312.683807611064,
          "var": 4224360.47202889,
          "noise": 1826.6052878160344
         },
         {
          "complex_annotation": "pyruvate formate-lyase (inactive)",
          "mean": 3775.609861285262,
          "var": 614290.4865843651,
          "noise": 162.69967214654255
         },
         {
          "complex_annotation": "pyruvate formate-lyase activating enzyme",
          "mean": 266.55882987158753,
          "var": 33481.62913798201,
          "noise": 125.60690318948167
         },
         {
          "complex_annotation": "pyruvate kinase I",
          "mean": 2012.4634510316694,
          "var": 412321.82737220445,
          "noise": 204.8841320128481
         },
         {
          "complex_annotation": "pyruvate kinase II",
          "mean": 653.5338500538443,
          "var": 24881.101588283,
          "noise": 38.071634064911954
         },
         {
          "complex_annotation": "pyruvate oxidase",
          "mean": 175.43486416526017,
          "var": 30479.934352668562,
          "noise": 173.73932198537443
         },
         {
          "complex_annotation": "quercetin 2,3-dioxygenase",
          "mean": 404.6469947231256,
          "var": 181989.5089837417,
          "noise": 449.7488214592218
         },
         {
          "complex_annotation": "quinolinate phosphoribosyltransferase (decarboxylating)",
          "mean": 215.1853672710494,
          "var": 13771.622487551442,
          "noise": 63.998879952671615
         },
         {
          "complex_annotation": "quinolinate synthase",
          "mean": 147.4964876700959,
          "var": 2014.5021536808817,
          "noise": 13.657966948926276
         },
         {
          "complex_annotation": "quinone-dependent D-lactate dehydrogenase",
          "mean": 858.3778845237066,
          "var": 77044.01750939974,
          "noise": 89.75536171012797
         },
         {
          "complex_annotation": "quinoprotein glucose dehydrogenase",
          "mean": 204.19387902778422,
          "var": 56390.246739485054,
          "noise": 276.16031884977394
         },
         {
          "complex_annotation": "radiation resistance protein YbgI",
          "mean": 362.90337289427026,
          "var": 136065.85379839997,
          "noise": 374.9368673904333
         },
         {
          "complex_annotation": "rare lipoprotein RlpA",
          "mean": 193.35818595545695,
          "var": 8904.237365864688,
          "noise": 46.05048046900853
         },
         {
          "complex_annotation": "redox-responsive ATPase YchF",
          "mean": 951.348268964856,
          "var": 10947.13864805983,
          "noise": 11.506972793434738
         },
         {
          "complex_annotation": "regulator of sigma D",
          "mean": 460.6890309865086,
          "var": 71899.84794958141,
          "noise": 156.07024069059506
         },
         {
          "complex_annotation": "replicative DNA helicase",
          "mean": 16.152848366310053,
          "var": 65.8453333470485,
          "noise": 4.076391473121354
         },
         {
          "complex_annotation": "riboflavin synthase",
          "mean": 1382.4885533215659,
          "var": 516856.1131691393,
          "noise": 373.8592351649793
         },
         {
          "complex_annotation": "ribokinase",
          "mean": 60.19521600987017,
          "var": 367.57777748050154,
          "noise": 6.106428414846622
         },
         {
          "complex_annotation": "ribonuclease E",
          "mean": 291.8663508339211,
          "var": 21858.103870847022,
          "noise": 74.89079782028317
         },
         {
          "complex_annotation": "ribonuclease E inhibitor protein A",
          "mean": 400.37141425117517,
          "var": 27538.245877626803,
          "noise": 68.78174839013491
         },
         {
          "complex_annotation": "ribonuclease E inhibitor protein B",
          "mean": 1836.6918417441864,
          "var": 4267370.523680726,
          "noise": 2323.400380342672
         },
         {
          "complex_annotation": "ribonucleoside hydrolase RihC",
          "mean": 103.81844120589805,
          "var": 3582.130823069897,
          "noise": 34.50380088028515
         },
         {
          "complex_annotation": "ribonucleoside-diphosphate reductase 1",
          "mean": 522.0237607278692,
          "var": 125575.0996587476,
          "noise": 240.5543753097665
         },
         {
          "complex_annotation": "ribonucleoside-diphosphate reductase 1 subunit &beta;",
          "mean": 770.2773818256752,
          "var": 180736.25582255732,
          "noise": 234.63788511378166
         },
         {
          "complex_annotation": "ribonucleoside-diphosphate reductase 1, &alpha; subunit dimer",
          "mean": 576.2436757181957,
          "var": 77572.70658396355,
          "noise": 134.61788797470368
         },
         {
          "complex_annotation": "ribonucleoside-diphosphate reductase 2",
          "mean": 61.89686331221566,
          "var": 3141.6783997986154,
          "noise": 50.75666571263215
         },
         {
          "complex_annotation": "ribonucleoside-diphosphate reductase 2, &beta; subunit dimer",
          "mean": 67.56854453425512,
          "var": 2306.8529045977384,
          "noise": 34.140929340696935
         },
         {
          "complex_annotation": "ribose ABC transporter",
          "mean": 6289.60257930719,
          "var": 4029964.8607081133,
          "noise": 640.7344200040093
         },
         {
          "complex_annotation": "ribose-5-phosphate isomerase A",
          "mean": 1593.411073368555,
          "var": 798299.1103912035,
          "noise": 501.0001020662905
         },
         {
          "complex_annotation": "ribose-phosphate diphosphokinase",
          "mean": 939.5058208770257,
          "var": 56129.4705019923,
          "noise": 59.7436112206262
         },
         {
          "complex_annotation": "ribosomal protein S12 methylthiotransferase RimO",
          "mean": 161.66307157877515,
          "var": 994.9665363007789,
          "noise": 6.154569046499601
         },
         {
          "complex_annotation": "ribosomal protein S12 methylthiotransferase accessory factor YcaO",
          "mean": 137.21884285918276,
          "var": 895.4284530081073,
          "noise": 6.525550240406978
         },
         {
          "complex_annotation": "ribosomal protein-arginine oxygenase",
          "mean": 337.9322415500765,
          "var": 58246.18892560333,
          "noise": 172.36055564994712
         },
         {
          "complex_annotation": "ribosomal silencing factor RsfS",
          "mean": 170.60426268995906,
          "var": 43084.00581276055,
          "noise": 252.53768653516926
         },
         {
          "complex_annotation": "ribosomal-protein-L12-serine N-acetyltransferase",
          "mean": 97.35358129934961,
          "var": 233.22219158840664,
          "noise": 2.3956200529621885
         },
         {
          "complex_annotation": "ribosome",
          "mean": 21548.26348422404,
          "var": 30749261.460297637,
          "noise": 1426.9948705059157
         },
         {
          "complex_annotation": "ribosome assembly factor YhbY",
          "mean": 1659.9871401535154,
          "var": 2210637.8401751146,
          "noise": 1331.7198589687116
         },
         {
          "complex_annotation": "ribosome hibernation-promoting factor",
          "mean": 2850.568727684575,
          "var": 3016677.637020991,
          "noise": 1058.2721994117087
         },
         {
          "complex_annotation": "ribosome maturation factor RimM",
          "mean": 1258.9187907116436,
          "var": 1994828.4432947836,
          "noise": 1584.5568896204527
         },
         {
          "complex_annotation": "ribosome maturation factor RimP",
          "mean": 632.5402143271886,
          "var": 17946.9548894086,
          "noise": 28.372828292819555
         },
         {
          "complex_annotation": "ribosome modulation factor",
          "mean": 933.3618458235047,
          "var": 1412505.2782367787,
          "noise": 1513.3522808515127
         },
         {
          "complex_annotation": "ribosome rescue factor HflX",
          "mean": 158.66344065471947,
          "var": 10476.257139894331,
          "noise": 66.0281731989701
         },
         {
          "complex_annotation": "ribosome- and membrane-associated DUF883 domain-containing protein YqjD",
          "mean": 10831.910445377898,
          "var": 6905702.866749237,
          "noise": 637.5332312404762
         },
         {
          "complex_annotation": "ribosome-dependent GTPase, ribosome assembly factor",
          "mean": 2303.0623149936455,
          "var": 2707874.705673866,
          "noise": 1175.771358006584
         },
         {
          "complex_annotation": "ribosome-recycling factor",
          "mean": 5409.215547999957,
          "var": 4453857.283698064,
          "noise": 823.3832141048374
         },
         {
          "complex_annotation": "scaffold protein for iron-sulfur cluster assembly",
          "mean": 7419.998371505331,
          "var": 4369241.656946044,
          "noise": 588.8467137304284
         },
         {
          "complex_annotation": "secreted protein YebF",
          "mean": 2479.8541909269643,
          "var": 7031522.28146201,
          "noise": 2835.457950386043
         },
         {
          "complex_annotation": "selenide, water dikinase",
          "mean": 408.47657703426177,
          "var": 10931.428495494658,
          "noise": 26.761457351758416
         },
         {
          "complex_annotation": "selenocysteyl-tRNA-specific translation elongation factor",
          "mean": 51.86557414566278,
          "var": 497.2878336195617,
          "noise": 9.588013664380636
         },
         {
          "complex_annotation": "sensor histidine kinase ArcB",
          "mean": 37.340292945233074,
          "var": 659.7958879752395,
          "noise": 17.669810168414067
         },
         {
          "complex_annotation": "sensor lipoprotein NlpE",
          "mean": 26.137551351699017,
          "var": 12.228294249631182,
          "noise": 0.46784391104931516
         },
         {
          "complex_annotation": "sensor lipoprotein RcsF",
          "mean": 459.10664285086403,
          "var": 132487.4444240468,
          "noise": 288.5766226368542
         },
         {
          "complex_annotation": "sensory histidine kinase NarX",
          "mean": 505.0879139100852,
          "var": 55838.35178997998,
          "noise": 110.55174802682016
         },
         {
          "complex_annotation": "sensory histidine kinase NarX - phosphorylated",
          "mean": 505.0879139100852,
          "var": 55838.35178997998,
          "noise": 110.55174802682016
         },
         {
          "complex_annotation": "sensory histidine kinase NtrB",
          "mean": 21.1257207978632,
          "var": 272.8152701798118,
          "noise": 12.913891686356388
         },
         {
          "complex_annotation": "sensory histidine kinase NtrB - phosphorylated",
          "mean": 21.1257207978632,
          "var": 272.8152701798118,
          "noise": 12.913891686356388
         },
         {
          "complex_annotation": "serine acetyltransferase",
          "mean": 64.95885740730544,
          "var": 485.82858500473793,
          "noise": 7.479019865735822
         },
         {
          "complex_annotation": "serine hydroxymethyltransferase",
          "mean": 7445.7827792980215,
          "var": 3719746.1713482896,
          "noise": 499.57758392986347
         },
         {
          "complex_annotation": "serine protease inhibitor ecotin",
          "mean": 96.04721456311758,
          "var": 177.41052146788238,
          "noise": 1.8471178188233326
         },
         {
          "complex_annotation": "serine&mdash;tRNA ligase",
          "mean": 1387.8685639054554,
          "var": 282462.5279593099,
          "noise": 203.52253470203385
         },
         {
          "complex_annotation": "shikimate kinase 1",
          "mean": 1112.4826500159095,
          "var": 179669.80096489115,
          "noise": 161.50346341340398
         },
         {
          "complex_annotation": "shikimate kinase 2",
          "mean": 310.24651704430084,
          "var": 31513.13359080712,
          "noise": 101.57449595576695
         },
         {
          "complex_annotation": "signal peptidase I",
          "mean": 129.53910241650127,
          "var": 4516.246004720081,
          "noise": 34.86395937961032
         },
         {
          "complex_annotation": "signal recognition particle receptor",
          "mean": 808.2176513291806,
          "var": 176268.92701073014,
          "noise": 218.09586405449244
         },
         {
          "complex_annotation": "small conductance mechanosensitive channel MscS",
          "mean": 448.32037610212524,
          "var": 138723.31413679154,
          "noise": 309.42897430383806
         },
         {
          "complex_annotation": "small heat shock protein IbpA",
          "mean": 148.84304356885957,
          "var": 227.66453207752534,
          "noise": 1.5295611176628514
         },
         {
          "complex_annotation": "soluble Cu+ chaperone // \"Cu+ exporting P-type ATPase\"",
          "mean": 1214.4600766694248,
          "var": 2245017.944795028,
          "noise": 1848.5728661841556
         },
         {
          "complex_annotation": "soluble pyridine nucleotide transhydrogenase",
          "mean": 193.78758926463888,
          "var": 12580.958436680068,
          "noise": 64.92138368829877
         },
         {
          "complex_annotation": "spermidine <i>N</i>-acetyltransferase",
          "mean": 48.89671704861561,
          "var": 2059.6381803876275,
          "noise": 42.122218110059
         },
         {
          "complex_annotation": "spermidine preferential ABC transporter",
          "mean": 1845.01653857331,
          "var": 1267531.003589816,
          "noise": 687.0025157443605
         },
         {
          "complex_annotation": "spermidine synthase",
          "mean": 282.6866279606513,
          "var": 12060.511094269244,
          "noise": 42.66388962674249
         },
         {
          "complex_annotation": "ssDNA-binding protein",
          "mean": 669.0385361076752,
          "var": 33357.11263666263,
          "noise": 49.858282948434116
         },
         {
          "complex_annotation": "starvation lipoprotein",
          "mean": 980.4177633144664,
          "var": 4647.015984204704,
          "noise": 4.739832506190717
         },
         {
          "complex_annotation": "stationary phase mismatch/uracil DNA glycosylase",
          "mean": 221.60885231439406,
          "var": 743.5115625982764,
          "noise": 3.355062556542032
         },
         {
          "complex_annotation": "stationary phase nucleoid component that sequesters iron and protects DNA from damage",
          "mean": 743.2936813413643,
          "var": 74601.58287489308,
          "noise": 100.36622770728444
         },
         {
          "complex_annotation": "stationary phase translation inhibitor and ribosome stability factor",
          "mean": 2215.677042419498,
          "var": 334553.78735416115,
          "noise": 150.99393140294114
         },
         {
          "complex_annotation": "stress protein, member of the CspA family",
          "mean": 49167.22531468087,
          "var": 32473677.152189776,
          "noise": 660.4740646711548
         },
         {
          "complex_annotation": "stress-induced alternate pyruvate formate-lyase subunit",
          "mean": 2391.837924535957,
          "var": 2376257.725925779,
          "noise": 993.4860976781273
         },
         {
          "complex_annotation": "stringent starvation protein A",
          "mean": 4020.3135823221237,
          "var": 2032572.5551131864,
          "noise": 505.57562575483905
         },
         {
          "complex_annotation": "succinate-semialdehyde dehydrogenase (NADP<sup>+</sup>) GabD",
          "mean": 320.9775654489691,
          "var": 566.8385202697971,
          "noise": 1.765975511331855
         },
         {
          "complex_annotation": "succinate:quinone oxidoreductase",
          "mean": 1372.0449645172396,
          "var": 785600.5022842216,
          "noise": 572.576353254311
         },
         {
          "complex_annotation": "succinate:quinone oxidoreductase subcomplex",
          "mean": 4116.134893551718,
          "var": 7070404.520557992,
          "noise": 1717.7290597629328
         },
         {
          "complex_annotation": "succinyl-CoA synthetase",
          "mean": 8644.759678523224,
          "var": 27379177.797080748,
          "noise": 3167.14157654385
         },
         {
          "complex_annotation": "succinyl-diaminopimelate desuccinylase",
          "mean": 40.88916759168024,
          "var": 606.7870350862398,
          "noise": 14.839799165041045
         },
         {
          "complex_annotation": "succinylornithine transaminase",
          "mean": 44.69990643064722,
          "var": 43.4595764324267,
          "noise": 0.9722520672354222
         },
         {
          "complex_annotation": "sugar phosphatase YbiV",
          "mean": 88.29770736809056,
          "var": 580.2717211176489,
          "noise": 6.571764300726909
         },
         {
          "complex_annotation": "sugar phosphatase YidA",
          "mean": 252.15081719473318,
          "var": 10942.224862582552,
          "noise": 43.39555581980128
         },
         {
          "complex_annotation": "sulfate adenylyltransferase",
          "mean": 529.5151675441026,
          "var": 238272.22662215668,
          "noise": 449.98187252551423
         },
         {
          "complex_annotation": "sulfate/thiosulfate ABC transporter",
          "mean": 283.5877518823392,
          "var": 6682.716803401485,
          "noise": 23.56489925620677
         },
         {
          "complex_annotation": "sulfite reductase, flavoprotein subunit complex",
          "mean": 339.30817335493003,
          "var": 44493.328485470534,
          "noise": 131.12955118510723
         },
         {
          "complex_annotation": "sulfur acceptor protein CsdE",
          "mean": 63.766676699809686,
          "var": 2010.5960457409947,
          "noise": 31.530513268021625
         },
         {
          "complex_annotation": "sulfurtransferase complex TusBCD",
          "mean": 37.097647228382336,
          "var": 1220.5391169442728,
          "noise": 32.90071495451802
         },
         {
          "complex_annotation": "superoxide dismutase (Cu-Zn)",
          "mean": 566.5752236911997,
          "var": 72573.24420409213,
          "noise": 128.09110100382136
         },
         {
          "complex_annotation": "superoxide dismutase (Fe)",
          "mean": 4013.2134026909293,
          "var": 2769237.3749284414,
          "noise": 690.0299328890957
         },
         {
          "complex_annotation": "superoxide dismutase (Mn)",
          "mean": 17056.564578196954,
          "var": 14261187.902716868,
          "noise": 836.111389098051
         },
         {
          "complex_annotation": "tRNA Cm32/Um32 methyltransferase",
          "mean": 113.32775028871792,
          "var": 1631.547359875901,
          "noise": 14.396715329822673
         },
         {
          "complex_annotation": "tRNA cytosine<sup>32</sup> 2-sulfurtransferase TtcA",
          "mean": 90.31285649477468,
          "var": 12651.99094100909,
          "noise": 140.09069618721568
         },
         {
          "complex_annotation": "tRNA m5U54 methyltransferase",
          "mean": 112.17502613133914,
          "var": 6605.200525882462,
          "noise": 58.88298629098443
         },
         {
          "complex_annotation": "tRNA m7G46 methyltransferase",
          "mean": 448.7828136440726,
          "var": 119007.84971324689,
          "noise": 265.17916037585036
         },
         {
          "complex_annotation": "tRNA pseudouridine13 synthase",
          "mean": 102.71660577720863,
          "var": 3576.788231250184,
          "noise": 34.82190833883476
         },
         {
          "complex_annotation": "tRNA uridine 4-sulfurtransferase",
          "mean": 164.4876272122159,
          "var": 198.52673674156128,
          "noise": 1.206940242900029
         },
         {
          "complex_annotation": "tRNA wobble base hydroxylation protein TrhP",
          "mean": 213.2368674587552,
          "var": 622.4283074099795,
          "noise": 2.918952594022566
         },
         {
          "complex_annotation": "tRNA-dihydrouridine synthase A",
          "mean": 105.45013500124765,
          "var": 1280.8799135278432,
          "noise": 12.146783060189428
         },
         {
          "complex_annotation": "tRNA-guanine transglycosylase",
          "mean": 120.21665713406132,
          "var": 415.22922359454265,
          "noise": 3.454007402081509
         },
         {
          "complex_annotation": "tRNA-specific 2-thiouridylase",
          "mean": 275.8053002348679,
          "var": 716.1043015128258,
          "noise": 2.596412399990181
         },
         {
          "complex_annotation": "tagatose-1,6-bisphosphate aldolase 2",
          "mean": 17561.880285045685,
          "var": 181790040.48005214,
          "noise": 10351.399595568946
         },
         {
          "complex_annotation": "tail-anchored inner membrane protein ElaB",
          "mean": 5028.675593149042,
          "var": 14785641.824305821,
          "noise": 2940.2655928828376
         },
         {
          "complex_annotation": "tail-specific protease",
          "mean": 578.7198842937029,
          "var": 159135.62621375878,
          "noise": 274.9786736772928
         },
         {
          "complex_annotation": "tellurite methyltransferase",
          "mean": 156.48371085979633,
          "var": 1796.388047016661,
          "noise": 11.47971272630516
         },
         {
          "complex_annotation": "tetrahydrodipicolinate succinylase",
          "mean": 3387.4224603508796,
          "var": 857815.0145215476,
          "noise": 253.23532112162133
         },
         {
          "complex_annotation": "thiamin(e) ABC transporter",
          "mean": 823.8376595809605,
          "var": 939023.319643946,
          "noise": 1139.8159682595403
         },
         {
          "complex_annotation": "thiamine monophosphate kinase",
          "mean": 128.3584728108394,
          "var": 12831.400628136465,
          "noise": 99.96535754243487
         },
         {
          "complex_annotation": "thiamine phosphate synthase",
          "mean": 1200.035975980183,
          "var": 990286.6710357089,
          "noise": 825.2141526230895
         },
         {
          "complex_annotation": "thiazole synthase",
          "mean": 137.30627659682676,
          "var": 26083.98110122072,
          "noise": 189.9693280432567
         },
         {
          "complex_annotation": "thioesterase III",
          "mean": 59.276914389650756,
          "var": 96.29235396741313,
          "noise": 1.6244495004319077
         },
         {
          "complex_annotation": "thiol:disulfide oxidoreductase - DsbAreduced // \"thiol:disulfide oxidoreductase - DsbAoxidized\" // \"thiol:disulfide oxidoreductase DsbA\"",
          "mean": 2852.7522470286917,
          "var": 2392532.9052618095,
          "noise": 838.6753205623701
         },
         {
          "complex_annotation": "thioredoxin reductase",
          "mean": 1561.3448485944475,
          "var": 406090.61364706914,
          "noise": 260.0902766692699
         },
         {
          "complex_annotation": "thioredoxin/glutathione peroxidase",
          "mean": 1591.425267754782,
          "var": 863766.5913699118,
          "noise": 542.7628986867431
         },
         {
          "complex_annotation": "thiosulfate/sulfate ABC transporter",
          "mean": 1655.3226055092164,
          "var": 1983560.2260538666,
          "noise": 1198.292235877294
         },
         {
          "complex_annotation": "threonine deaminase",
          "mean": 33.82646375634517,
          "var": 39.441068554493654,
          "noise": 1.165982611679156
         },
         {
          "complex_annotation": "threonine dehydrogenase",
          "mean": 46.82196747396133,
          "var": 251.85287301536505,
          "noise": 5.378946819255848
         },
         {
          "complex_annotation": "threonine&mdash;tRNA ligase",
          "mean": 618.2574647768989,
          "var": 22238.86858758858,
          "noise": 35.97023870243698
         },
         {
          "complex_annotation": "threonylcarbamoyl-AMP synthase",
          "mean": 354.76419202888405,
          "var": 830.290541047321,
          "noise": 2.3404012008622357
         },
         {
          "complex_annotation": "thymidine kinase",
          "mean": 82.85803978835382,
          "var": 2142.264696856804,
          "noise": 25.854638877878838
         },
         {
          "complex_annotation": "thymidine phosphorylase",
          "mean": 76.33443146237273,
          "var": 872.7370286115734,
          "noise": 11.433071706858373
         },
         {
          "complex_annotation": "thymidylate synthase",
          "mean": 145.14320988667768,
          "var": 3987.099837145293,
          "noise": 27.470109282123975
         },
         {
          "complex_annotation": "trans-aconitate 2-methyltransferase",
          "mean": 121.28336469882456,
          "var": 344.8527110522191,
          "noise": 2.8433636542700675
         },
         {
          "complex_annotation": "transaldolase A",
          "mean": 1370.6623471405155,
          "var": 674334.0759619232,
          "noise": 491.9768003904997
         },
         {
          "complex_annotation": "transaldolase B",
          "mean": 7207.096877773004,
          "var": 3852067.466230691,
          "noise": 534.4825429099798
         },
         {
          "complex_annotation": "transcription antiterminator and regulator of RNA stability",
          "mean": 12727.596765257496,
          "var": 36892719.37321309,
          "noise": 2898.6398652979874
         },
         {
          "complex_annotation": "transcription elongation factor GreA",
          "mean": 2711.443115215198,
          "var": 429181.43028855626,
          "noise": 158.28524223142097
         },
         {
          "complex_annotation": "transcription termination factor NusG",
          "mean": 4293.122176291906,
          "var": 1366047.150842106,
          "noise": 318.19433380812853
         },
         {
          "complex_annotation": "transcription termination factor Rho",
          "mean": 645.0920576575992,
          "var": 50780.29838072069,
          "noise": 78.71790975866233
         },
         {
          "complex_annotation": "transcription termination/antitermination protein NusA",
          "mean": 4004.1076670284615,
          "var": 1838179.640877467,
          "noise": 459.07347997003825
         },
         {
          "complex_annotation": "transcription-repair coupling factor",
          "mean": 88.49638539502708,
          "var": 154.48740353109048,
          "noise": 1.7456916781571925
         },
         {
          "complex_annotation": "transketolase 1",
          "mean": 2000.8571617249215,
          "var": 292765.1651360313,
          "noise": 146.31987267079126
         },
         {
          "complex_annotation": "transketolase 2",
          "mean": 1297.9688310097138,
          "var": 1267248.7302149942,
          "noise": 976.3321737311505
         },
         {
          "complex_annotation": "translation elongation factor Tu 1",
          "mean": 137559.6237642969,
          "var": 1949007541.5568085,
          "noise": 14168.456471619591
         },
         {
          "complex_annotation": "translation initiation factor IF-1",
          "mean": 4677.632974561975,
          "var": 6178193.442404196,
          "noise": 1320.7948284960808
         },
         {
          "complex_annotation": "translation initiation factor IF-2",
          "mean": 2934.5209163386135,
          "var": 224655.6189787654,
          "noise": 76.55614847655168
         },
         {
          "complex_annotation": "translation initiation factor IF-3",
          "mean": 6361.472733158982,
          "var": 2626227.1816911944,
          "noise": 412.83320574527744
         },
         {
          "complex_annotation": "transmembrane component of cytoskeleton",
          "mean": 902.2812607761999,
          "var": 222180.37177750585,
          "noise": 246.24291940450155
         },
         {
          "complex_annotation": "trehalose-specific PTS enzyme II",
          "mean": 20094.277985458586,
          "var": 54618586.592835195,
          "noise": 2718.1164027073005
         },
         {
          "complex_annotation": "trigger factor",
          "mean": 17034.400343133704,
          "var": 187640.77706555655,
          "noise": 11.015402555170754
         },
         {
          "complex_annotation": "triose-phosphate isomerase",
          "mean": 3822.6442495988426,
          "var": 726425.7240987909,
          "noise": 190.03225952167108
         },
         {
          "complex_annotation": "tripartite efflux pump EmrKY-TolC",
          "mean": 841.7499290865027,
          "var": 480162.131520382,
          "noise": 570.433230735726
         },
         {
          "complex_annotation": "tryptophan synthase",
          "mean": 1561.5871463768092,
          "var": 135290.38662119166,
          "noise": 86.63646273926632
         },
         {
          "complex_annotation": "tryptophan synthase, &beta; subunit dimer",
          "mean": 1531.1571107707139,
          "var": 228634.3185878878,
          "noise": 149.32126623688134
         },
         {
          "complex_annotation": "tryptophan&mdash;tRNA ligase",
          "mean": 916.9812029934996,
          "var": 162230.99899230435,
          "noise": 176.91856546535382
         },
         {
          "complex_annotation": "tryptophanase",
          "mean": 796.9894449341596,
          "var": 533581.6626207049,
          "noise": 669.4965234637265
         },
         {
          "complex_annotation": "twin arginine protein translocation system",
          "mean": 505.34544888472624,
          "var": 27202.782509067365,
          "noise": 53.830073208540085
         },
         {
          "complex_annotation": "tyrosine aminotransferase",
          "mean": 868.1607687906657,
          "var": 168431.69720503382,
          "noise": 194.0098000968836
         },
         {
          "complex_annotation": "tyrosine&mdash;tRNA ligase",
          "mean": 773.6115264233786,
          "var": 63145.22484989246,
          "noise": 81.6239452142478
         },
         {
          "complex_annotation": "ubiquinone biosynthesis protein UbiB",
          "mean": 89.23172671101125,
          "var": 15257.726468685043,
          "noise": 170.9899273618139
         },
         {
          "complex_annotation": "uncharacterized protein YggE",
          "mean": 1617.1964124962678,
          "var": 768737.3014701512,
          "noise": 475.351846893814
         },
         {
          "complex_annotation": "uncharacterized protein YpfJ",
          "mean": 139.80894891776632,
          "var": 9228.436521907206,
          "noise": 66.007480875457
         },
         {
          "complex_annotation": "universal stress global stress response regulator",
          "mean": 26544.612956359324,
          "var": 122819078.28091665,
          "noise": 4626.892789238908
         },
         {
          "complex_annotation": "universal stress protein D",
          "mean": 378.5029617027849,
          "var": 29543.26619835022,
          "noise": 78.05293270478747
         },
         {
          "complex_annotation": "universal stress protein G",
          "mean": 1194.724055591418,
          "var": 519807.8957538797,
          "noise": 435.08615510094666
         },
         {
          "complex_annotation": "universal stress protein with a role cellular motility",
          "mean": 1127.7416686542786,
          "var": 663986.3078978143,
          "noise": 588.7751834958282
         },
         {
          "complex_annotation": "uracil phosphoribosyltransferase",
          "mean": 5350.996396634725,
          "var": 2179787.9795703767,
          "noise": 407.36113762686495
         },
         {
          "complex_annotation": "uracil-DNA glycosylase",
          "mean": 101.41967769728262,
          "var": 1222.4846116070783,
          "noise": 12.053722111560534
         },
         {
          "complex_annotation": "uridine phosphorylase",
          "mean": 565.208952658271,
          "var": 46216.521220127725,
          "noise": 81.7689121921438
         },
         {
          "complex_annotation": "uridine/cytidine kinase",
          "mean": 193.9844412562306,
          "var": 89.69129320273557,
          "noise": 0.4623633350278022
         },
         {
          "complex_annotation": "uroporphyrinogen decarboxylase",
          "mean": 318.3699537820726,
          "var": 131028.06773647404,
          "noise": 411.5591505414611
         },
         {
          "complex_annotation": "valine&mdash;pyruvate aminotransferase",
          "mean": 223.42089786712788,
          "var": 35026.1706519288,
          "noise": 156.77213271589054
         },
         {
          "complex_annotation": "valine&mdash;tRNA ligase",
          "mean": 1274.248517297028,
          "var": 110577.65826934842,
          "noise": 86.77872233581945
         },
         {
          "complex_annotation": "vitamin B12 outer membrane transport complex",
          "mean": 373.8377127216477,
          "var": 15362.876734228217,
          "noise": 41.09504261189164
         },
         {
          "complex_annotation": "xanthine-guanine phosphoribosyltransferase",
          "mean": 616.989199597549,
          "var": 84398.32065730763,
          "noise": 136.79059651669616
         },
         {
          "complex_annotation": "zinc ribbon domain-containing protein YjdM",
          "mean": 523.0606864151695,
          "var": 217469.12628004304,
          "noise": 415.7627057970689
         },
         {
          "complex_annotation": "zinc-binding phosphatase YcdX",
          "mean": 72.68393158027139,
          "var": 8.577686727765103,
          "noise": 0.11801352157583817
         }
        ]
       }
      },
      "text/plain": "<VegaLite 3 object>\n\nIf you see this message, it means the renderer has not been properly enabled\nfor the frontend that you are using. For more information, see\nhttps://altair-viz.github.io/user_guide/troubleshooting.html\n"
     },
     "metadata": {},
     "execution_count": 31
    }
   ],
   "source": [
    "chart = alt.Chart(glucose)\n",
    "point = chart.mark_point(size=10).encode(\n",
    "        x=alt.X('mean:Q',  scale={'type':'log'}),\n",
    "        y=alt.Y('noise:Q', scale={'type': 'log'}))\n",
    "point"
   ]
  },
  {
   "cell_type": "code",
   "execution_count": 17,
   "metadata": {},
   "outputs": [
    {
     "output_type": "execute_result",
     "data": {
      "text/plain": "                               complex_annotation        mean           var\n4              &alpha;-ketoglutarate:H+ symporter  203.628955   1949.179002\n5                          &alpha;2-macroglobulin   37.223410    330.299000\n7                            &beta; sliding clamp  234.218480  12431.164990\n8     &beta;-1,6-galactofuranosyltransferase WbbI  567.138646  52692.867296\n9  &beta;-D-glucoside glucohydrolase, periplasmic  216.717565  12721.086701",
      "text/html": "<div>\n<style scoped>\n    .dataframe tbody tr th:only-of-type {\n        vertical-align: middle;\n    }\n\n    .dataframe tbody tr th {\n        vertical-align: top;\n    }\n\n    .dataframe thead th {\n        text-align: right;\n    }\n</style>\n<table border=\"1\" class=\"dataframe\">\n  <thead>\n    <tr style=\"text-align: right;\">\n      <th></th>\n      <th>complex_annotation</th>\n      <th>mean</th>\n      <th>var</th>\n    </tr>\n  </thead>\n  <tbody>\n    <tr>\n      <td>4</td>\n      <td>&amp;alpha;-ketoglutarate:H+ symporter</td>\n      <td>203.628955</td>\n      <td>1949.179002</td>\n    </tr>\n    <tr>\n      <td>5</td>\n      <td>&amp;alpha;2-macroglobulin</td>\n      <td>37.223410</td>\n      <td>330.299000</td>\n    </tr>\n    <tr>\n      <td>7</td>\n      <td>&amp;beta; sliding clamp</td>\n      <td>234.218480</td>\n      <td>12431.164990</td>\n    </tr>\n    <tr>\n      <td>8</td>\n      <td>&amp;beta;-1,6-galactofuranosyltransferase WbbI</td>\n      <td>567.138646</td>\n      <td>52692.867296</td>\n    </tr>\n    <tr>\n      <td>9</td>\n      <td>&amp;beta;-D-glucoside glucohydrolase, periplasmic</td>\n      <td>216.717565</td>\n      <td>12721.086701</td>\n    </tr>\n  </tbody>\n</table>\n</div>"
     },
     "metadata": {},
     "execution_count": 17
    }
   ],
   "source": [
    "glucose.head()"
   ]
  },
  {
   "cell_type": "code",
   "execution_count": 15,
   "metadata": {},
   "outputs": [
    {
     "output_type": "execute_result",
     "data": {
      "text/plain": "                                     complex_annotation  ...            var\n0        &alpha;-D-glucose-1-phosphate phosphatase YihX  ...            NaN\n1                      &alpha;-D-xyloside xylohydrolase  ...            NaN\n2     &alpha;-dehydro-&beta;-deoxy-<i>D</i>-glucarat...  ...            NaN\n3                                 &alpha;-galactosidase  ...            NaN\n4                    &alpha;-ketoglutarate:H+ symporter  ...    1949.179002\n...                                                 ...  ...            ...\n1949         zinc finger domain-containing protein YbiI  ...            NaN\n1950         zinc ribbon domain-containing protein YfgJ  ...            NaN\n1951         zinc ribbon domain-containing protein YjdM  ...  217469.126280\n1952                           zinc-binding GTPase YeiR  ...            NaN\n1953                      zinc-binding phosphatase YcdX  ...       8.577687\n\n[1954 rows x 3 columns]",
      "text/html": "<div>\n<style scoped>\n    .dataframe tbody tr th:only-of-type {\n        vertical-align: middle;\n    }\n\n    .dataframe tbody tr th {\n        vertical-align: top;\n    }\n\n    .dataframe thead th {\n        text-align: right;\n    }\n</style>\n<table border=\"1\" class=\"dataframe\">\n  <thead>\n    <tr style=\"text-align: right;\">\n      <th></th>\n      <th>complex_annotation</th>\n      <th>mean</th>\n      <th>var</th>\n    </tr>\n  </thead>\n  <tbody>\n    <tr>\n      <td>0</td>\n      <td>&amp;alpha;-D-glucose-1-phosphate phosphatase YihX</td>\n      <td>186.346878</td>\n      <td>NaN</td>\n    </tr>\n    <tr>\n      <td>1</td>\n      <td>&amp;alpha;-D-xyloside xylohydrolase</td>\n      <td>1.773231</td>\n      <td>NaN</td>\n    </tr>\n    <tr>\n      <td>2</td>\n      <td>&amp;alpha;-dehydro-&amp;beta;-deoxy-&lt;i&gt;D&lt;/i&gt;-glucarat...</td>\n      <td>0.968906</td>\n      <td>NaN</td>\n    </tr>\n    <tr>\n      <td>3</td>\n      <td>&amp;alpha;-galactosidase</td>\n      <td>6.910469</td>\n      <td>NaN</td>\n    </tr>\n    <tr>\n      <td>4</td>\n      <td>&amp;alpha;-ketoglutarate:H+ symporter</td>\n      <td>203.628955</td>\n      <td>1949.179002</td>\n    </tr>\n    <tr>\n      <td>...</td>\n      <td>...</td>\n      <td>...</td>\n      <td>...</td>\n    </tr>\n    <tr>\n      <td>1949</td>\n      <td>zinc finger domain-containing protein YbiI</td>\n      <td>15.556368</td>\n      <td>NaN</td>\n    </tr>\n    <tr>\n      <td>1950</td>\n      <td>zinc ribbon domain-containing protein YfgJ</td>\n      <td>25.652723</td>\n      <td>NaN</td>\n    </tr>\n    <tr>\n      <td>1951</td>\n      <td>zinc ribbon domain-containing protein YjdM</td>\n      <td>523.060686</td>\n      <td>217469.126280</td>\n    </tr>\n    <tr>\n      <td>1952</td>\n      <td>zinc-binding GTPase YeiR</td>\n      <td>26.970511</td>\n      <td>NaN</td>\n    </tr>\n    <tr>\n      <td>1953</td>\n      <td>zinc-binding phosphatase YcdX</td>\n      <td>72.683932</td>\n      <td>8.577687</td>\n    </tr>\n  </tbody>\n</table>\n<p>1954 rows × 3 columns</p>\n</div>"
     },
     "metadata": {},
     "execution_count": 15
    }
   ],
   "source": [
    "glucose"
   ]
  },
  {
   "cell_type": "code",
   "execution_count": null,
   "metadata": {},
   "outputs": [],
   "source": []
  }
 ],
 "metadata": {
  "language_info": {
   "codemirror_mode": {
    "name": "ipython",
    "version": 3
   },
   "file_extension": ".py",
   "mimetype": "text/x-python",
   "name": "python",
   "nbconvert_exporter": "python",
   "pygments_lexer": "ipython3",
   "version": 3
  },
  "orig_nbformat": 2,
  "kernelspec": {
   "name": "python_defaultSpec_1594248804977",
   "display_name": "Python 3.7.5 64-bit ('anaconda3': virtualenv)"
  }
 },
 "nbformat": 4,
 "nbformat_minor": 2
}